{
 "cells": [
  {
   "cell_type": "markdown",
   "id": "e1de7bb9",
   "metadata": {},
   "source": [
    "# MoneyBall Project:"
   ]
  },
  {
   "cell_type": "markdown",
   "id": "506808ea",
   "metadata": {},
   "source": [
    "### The 2002 Oakland A's\n",
    "The Oakland Athletics' 2002 season was the team's 35th in Oakland, California. It was also the 102nd season in franchise history. The Athletics finished first in the American League West with a record of 103-59.\n",
    "\n",
    "The Athletics' 2002 campaign ranks among the most famous in franchise history. Following the 2001 season, Oakland saw the departure of three key players (the lost boys). Billy Beane, the team's general manager, responded with a series of under-the-radar free agent signings. The new-look Athletics, despite a comparative lack of star power, surprised the baseball world by besting the 2001 team's regular season record. The team is most famous, however, for winning 20 consecutive games between August 13 and September 4, 2002. The Athletics' season was the subject of Michael Lewis' 2003 book Moneyball: The Art of Winning an Unfair Game (as Lewis was given the opportunity to follow the team around throughout that season)\n",
    "\n",
    "This project is based off the book written by Michael Lewis (later turned into a movie)."
   ]
  },
  {
   "cell_type": "markdown",
   "id": "594d8626",
   "metadata": {},
   "source": [
    "### Moneyball Book\n",
    "The central premise of book Moneyball is that the collective wisdom of baseball insiders (including players, managers, coaches, scouts, and the front office) over the past century is subjective and often flawed. Statistics such as stolen bases, runs batted in, and batting average, typically used to gauge players, are relics of a 19th-century view of the game and the statistics available at that time. The book argues that the Oakland A's' front office took advantage of more analytical gauges of player performance to field a team that could better compete against richer competitors in Major League Baseball (MLB).\n",
    "\n",
    "Rigorous statistical analysis had demonstrated that on-base percentage and slugging percentage are better indicators of offensive success, and the A's became convinced that these qualities were cheaper to obtain on the open market than more historically valued qualities such as speed and contact. These observations often flew in the face of conventional baseball wisdom and the beliefs of many baseball scouts and executives.\n",
    "\n",
    "By re-evaluating the strategies that produce wins on the field, the 2002 Athletics, with approximately US 44 million dollars in salary, were competitive with larger market teams such as the New York Yankees, who spent over US$125 million in payroll that same season.\n",
    "Because of the team's smaller revenues, Oakland is forced to find players undervalued by the market, and their system for finding value in undervalued players has proven itself thus far. This approach brought the A's to the playoffs in 2002 and 2003.\n",
    "\n",
    "In this project we'll work with some data and with the goal of trying to find replacement players for the ones lost at the start of the off-season - During the 2001–02 offseason, the team lost three key free agents to larger market teams: 2000 AL MVP Jason Giambi to the New York Yankees, outfielder Johnny Damon to the Boston Red Sox, and closer Jason Isringhausen to the St. Louis Cardinals.\n",
    "\n",
    "The main goal of this project is for you to feel comfortable working with R on real data to try and derive actionable insights!"
   ]
  },
  {
   "cell_type": "markdown",
   "id": "3a03c0a2",
   "metadata": {},
   "source": [
    "## Let's get started!"
   ]
  },
  {
   "cell_type": "markdown",
   "id": "d47002e0",
   "metadata": {},
   "source": [
    "### Required Libraries"
   ]
  },
  {
   "cell_type": "code",
   "execution_count": 1,
   "id": "d23ff084",
   "metadata": {},
   "outputs": [
    {
     "name": "stderr",
     "output_type": "stream",
     "text": [
      "Warning message:\n",
      "\"package 'dplyr' was built under R version 3.6.3\"\n",
      "\n",
      "Attaching package: 'dplyr'\n",
      "\n",
      "\n",
      "The following objects are masked from 'package:stats':\n",
      "\n",
      "    filter, lag\n",
      "\n",
      "\n",
      "The following objects are masked from 'package:base':\n",
      "\n",
      "    intersect, setdiff, setequal, union\n",
      "\n",
      "\n",
      "Warning message:\n",
      "\"package 'tidyr' was built under R version 3.6.3\"\n",
      "Warning message:\n",
      "\"package 'Hmisc' was built under R version 3.6.3\"\n",
      "Loading required package: lattice\n",
      "\n",
      "Loading required package: survival\n",
      "\n",
      "Warning message:\n",
      "\"package 'survival' was built under R version 3.6.3\"\n",
      "Loading required package: Formula\n",
      "\n",
      "Warning message:\n",
      "\"package 'Formula' was built under R version 3.6.3\"\n",
      "\n",
      "Attaching package: 'Hmisc'\n",
      "\n",
      "\n",
      "The following objects are masked from 'package:dplyr':\n",
      "\n",
      "    src, summarize\n",
      "\n",
      "\n",
      "The following objects are masked from 'package:base':\n",
      "\n",
      "    format.pval, units\n",
      "\n",
      "\n",
      "\n",
      "Attaching package: 'plotly'\n",
      "\n",
      "\n",
      "The following object is masked from 'package:Hmisc':\n",
      "\n",
      "    subplot\n",
      "\n",
      "\n",
      "The following object is masked from 'package:ggplot2':\n",
      "\n",
      "    last_plot\n",
      "\n",
      "\n",
      "The following object is masked from 'package:stats':\n",
      "\n",
      "    filter\n",
      "\n",
      "\n",
      "The following object is masked from 'package:graphics':\n",
      "\n",
      "    layout\n",
      "\n",
      "\n"
     ]
    }
   ],
   "source": [
    "library(\"ggplot2\")\n",
    "library(\"dplyr\")\n",
    "library(\"tidyr\")\n",
    "library(\"Hmisc\")\n",
    "library(\"plotly\")\n"
   ]
  },
  {
   "cell_type": "markdown",
   "id": "99eaa970",
   "metadata": {},
   "source": [
    "### Data\n",
    "We'll be using data from Sean Lahaman's Website a very useful source for baseball statistics. The documentation for the csv files is located in the readme2013.txt file. You may need to reference this to understand what acronyms stand for.\n",
    "\n",
    "Use R to open the Batting.csv file and assign it to a dataframe called batting using read.csv"
   ]
  },
  {
   "cell_type": "markdown",
   "id": "f3a768a5",
   "metadata": {},
   "source": [
    "#### Use R to open the Batting.csv file and assign it to a dataframe called batting using read.csv"
   ]
  },
  {
   "cell_type": "code",
   "execution_count": 2,
   "id": "db2b6962",
   "metadata": {},
   "outputs": [],
   "source": [
    "bats=read.csv(\"Batting.csv\")\n"
   ]
  },
  {
   "cell_type": "markdown",
   "id": "0d44d701",
   "metadata": {},
   "source": [
    "#### Use head() to check out the batting"
   ]
  },
  {
   "cell_type": "code",
   "execution_count": 3,
   "id": "f1601710",
   "metadata": {},
   "outputs": [
    {
     "data": {
      "text/html": [
       "<table>\n",
       "<thead><tr><th scope=col>playerID</th><th scope=col>yearID</th><th scope=col>stint</th><th scope=col>teamID</th><th scope=col>lgID</th><th scope=col>G</th><th scope=col>G_batting</th><th scope=col>AB</th><th scope=col>R</th><th scope=col>H</th><th scope=col>...</th><th scope=col>SB</th><th scope=col>CS</th><th scope=col>BB</th><th scope=col>SO</th><th scope=col>IBB</th><th scope=col>HBP</th><th scope=col>SH</th><th scope=col>SF</th><th scope=col>GIDP</th><th scope=col>G_old</th></tr></thead>\n",
       "<tbody>\n",
       "\t<tr><td>aardsda01</td><td>2004     </td><td>1        </td><td>SFN      </td><td>NL       </td><td>11       </td><td>11       </td><td>0        </td><td>0        </td><td>0        </td><td>...      </td><td>0        </td><td>0        </td><td>0        </td><td>0        </td><td>0        </td><td>0        </td><td>0        </td><td>0        </td><td>0        </td><td>11       </td></tr>\n",
       "\t<tr><td>aardsda01</td><td>2006     </td><td>1        </td><td>CHN      </td><td>NL       </td><td>45       </td><td>43       </td><td>2        </td><td>0        </td><td>0        </td><td>...      </td><td>0        </td><td>0        </td><td>0        </td><td>0        </td><td>0        </td><td>0        </td><td>1        </td><td>0        </td><td>0        </td><td>45       </td></tr>\n",
       "\t<tr><td>aardsda01</td><td>2007     </td><td>1        </td><td>CHA      </td><td>AL       </td><td>25       </td><td> 2       </td><td>0        </td><td>0        </td><td>0        </td><td>...      </td><td>0        </td><td>0        </td><td>0        </td><td>0        </td><td>0        </td><td>0        </td><td>0        </td><td>0        </td><td>0        </td><td> 2       </td></tr>\n",
       "\t<tr><td>aardsda01</td><td>2008     </td><td>1        </td><td>BOS      </td><td>AL       </td><td>47       </td><td> 5       </td><td>1        </td><td>0        </td><td>0        </td><td>...      </td><td>0        </td><td>0        </td><td>0        </td><td>1        </td><td>0        </td><td>0        </td><td>0        </td><td>0        </td><td>0        </td><td> 5       </td></tr>\n",
       "\t<tr><td>aardsda01</td><td>2009     </td><td>1        </td><td>SEA      </td><td>AL       </td><td>73       </td><td> 3       </td><td>0        </td><td>0        </td><td>0        </td><td>...      </td><td>0        </td><td>0        </td><td>0        </td><td>0        </td><td>0        </td><td>0        </td><td>0        </td><td>0        </td><td>0        </td><td>NA       </td></tr>\n",
       "\t<tr><td>aardsda01</td><td>2010     </td><td>1        </td><td>SEA      </td><td>AL       </td><td>53       </td><td> 4       </td><td>0        </td><td>0        </td><td>0        </td><td>...      </td><td>0        </td><td>0        </td><td>0        </td><td>0        </td><td>0        </td><td>0        </td><td>0        </td><td>0        </td><td>0        </td><td>NA       </td></tr>\n",
       "</tbody>\n",
       "</table>\n"
      ],
      "text/latex": [
       "\\begin{tabular}{r|llllllllllllllllllllllll}\n",
       " playerID & yearID & stint & teamID & lgID & G & G\\_batting & AB & R & H & ... & SB & CS & BB & SO & IBB & HBP & SH & SF & GIDP & G\\_old\\\\\n",
       "\\hline\n",
       "\t aardsda01 & 2004      & 1         & SFN       & NL        & 11        & 11        & 0         & 0         & 0         & ...       & 0         & 0         & 0         & 0         & 0         & 0         & 0         & 0         & 0         & 11       \\\\\n",
       "\t aardsda01 & 2006      & 1         & CHN       & NL        & 45        & 43        & 2         & 0         & 0         & ...       & 0         & 0         & 0         & 0         & 0         & 0         & 1         & 0         & 0         & 45       \\\\\n",
       "\t aardsda01 & 2007      & 1         & CHA       & AL        & 25        &  2        & 0         & 0         & 0         & ...       & 0         & 0         & 0         & 0         & 0         & 0         & 0         & 0         & 0         &  2       \\\\\n",
       "\t aardsda01 & 2008      & 1         & BOS       & AL        & 47        &  5        & 1         & 0         & 0         & ...       & 0         & 0         & 0         & 1         & 0         & 0         & 0         & 0         & 0         &  5       \\\\\n",
       "\t aardsda01 & 2009      & 1         & SEA       & AL        & 73        &  3        & 0         & 0         & 0         & ...       & 0         & 0         & 0         & 0         & 0         & 0         & 0         & 0         & 0         & NA       \\\\\n",
       "\t aardsda01 & 2010      & 1         & SEA       & AL        & 53        &  4        & 0         & 0         & 0         & ...       & 0         & 0         & 0         & 0         & 0         & 0         & 0         & 0         & 0         & NA       \\\\\n",
       "\\end{tabular}\n"
      ],
      "text/markdown": [
       "\n",
       "| playerID | yearID | stint | teamID | lgID | G | G_batting | AB | R | H | ... | SB | CS | BB | SO | IBB | HBP | SH | SF | GIDP | G_old |\n",
       "|---|---|---|---|---|---|---|---|---|---|---|---|---|---|---|---|---|---|---|---|---|\n",
       "| aardsda01 | 2004      | 1         | SFN       | NL        | 11        | 11        | 0         | 0         | 0         | ...       | 0         | 0         | 0         | 0         | 0         | 0         | 0         | 0         | 0         | 11        |\n",
       "| aardsda01 | 2006      | 1         | CHN       | NL        | 45        | 43        | 2         | 0         | 0         | ...       | 0         | 0         | 0         | 0         | 0         | 0         | 1         | 0         | 0         | 45        |\n",
       "| aardsda01 | 2007      | 1         | CHA       | AL        | 25        |  2        | 0         | 0         | 0         | ...       | 0         | 0         | 0         | 0         | 0         | 0         | 0         | 0         | 0         |  2        |\n",
       "| aardsda01 | 2008      | 1         | BOS       | AL        | 47        |  5        | 1         | 0         | 0         | ...       | 0         | 0         | 0         | 1         | 0         | 0         | 0         | 0         | 0         |  5        |\n",
       "| aardsda01 | 2009      | 1         | SEA       | AL        | 73        |  3        | 0         | 0         | 0         | ...       | 0         | 0         | 0         | 0         | 0         | 0         | 0         | 0         | 0         | NA        |\n",
       "| aardsda01 | 2010      | 1         | SEA       | AL        | 53        |  4        | 0         | 0         | 0         | ...       | 0         | 0         | 0         | 0         | 0         | 0         | 0         | 0         | 0         | NA        |\n",
       "\n"
      ],
      "text/plain": [
       "  playerID  yearID stint teamID lgID G  G_batting AB R H ... SB CS BB SO IBB\n",
       "1 aardsda01 2004   1     SFN    NL   11 11        0  0 0 ... 0  0  0  0  0  \n",
       "2 aardsda01 2006   1     CHN    NL   45 43        2  0 0 ... 0  0  0  0  0  \n",
       "3 aardsda01 2007   1     CHA    AL   25  2        0  0 0 ... 0  0  0  0  0  \n",
       "4 aardsda01 2008   1     BOS    AL   47  5        1  0 0 ... 0  0  0  1  0  \n",
       "5 aardsda01 2009   1     SEA    AL   73  3        0  0 0 ... 0  0  0  0  0  \n",
       "6 aardsda01 2010   1     SEA    AL   53  4        0  0 0 ... 0  0  0  0  0  \n",
       "  HBP SH SF GIDP G_old\n",
       "1 0   0  0  0    11   \n",
       "2 0   1  0  0    45   \n",
       "3 0   0  0  0     2   \n",
       "4 0   0  0  0     5   \n",
       "5 0   0  0  0    NA   \n",
       "6 0   0  0  0    NA   "
      ]
     },
     "metadata": {},
     "output_type": "display_data"
    }
   ],
   "source": [
    "head(bats)"
   ]
  },
  {
   "cell_type": "markdown",
   "id": "5fbd11ae",
   "metadata": {},
   "source": [
    "#### Use colnames() to check out column"
   ]
  },
  {
   "cell_type": "code",
   "execution_count": 4,
   "id": "6d9ef025",
   "metadata": {},
   "outputs": [
    {
     "data": {
      "text/html": [
       "<ol class=list-inline>\n",
       "\t<li>'playerID'</li>\n",
       "\t<li>'yearID'</li>\n",
       "\t<li>'stint'</li>\n",
       "\t<li>'teamID'</li>\n",
       "\t<li>'lgID'</li>\n",
       "\t<li>'G'</li>\n",
       "\t<li>'G_batting'</li>\n",
       "\t<li>'AB'</li>\n",
       "\t<li>'R'</li>\n",
       "\t<li>'H'</li>\n",
       "\t<li>'X2B'</li>\n",
       "\t<li>'X3B'</li>\n",
       "\t<li>'HR'</li>\n",
       "\t<li>'RBI'</li>\n",
       "\t<li>'SB'</li>\n",
       "\t<li>'CS'</li>\n",
       "\t<li>'BB'</li>\n",
       "\t<li>'SO'</li>\n",
       "\t<li>'IBB'</li>\n",
       "\t<li>'HBP'</li>\n",
       "\t<li>'SH'</li>\n",
       "\t<li>'SF'</li>\n",
       "\t<li>'GIDP'</li>\n",
       "\t<li>'G_old'</li>\n",
       "</ol>\n"
      ],
      "text/latex": [
       "\\begin{enumerate*}\n",
       "\\item 'playerID'\n",
       "\\item 'yearID'\n",
       "\\item 'stint'\n",
       "\\item 'teamID'\n",
       "\\item 'lgID'\n",
       "\\item 'G'\n",
       "\\item 'G\\_batting'\n",
       "\\item 'AB'\n",
       "\\item 'R'\n",
       "\\item 'H'\n",
       "\\item 'X2B'\n",
       "\\item 'X3B'\n",
       "\\item 'HR'\n",
       "\\item 'RBI'\n",
       "\\item 'SB'\n",
       "\\item 'CS'\n",
       "\\item 'BB'\n",
       "\\item 'SO'\n",
       "\\item 'IBB'\n",
       "\\item 'HBP'\n",
       "\\item 'SH'\n",
       "\\item 'SF'\n",
       "\\item 'GIDP'\n",
       "\\item 'G\\_old'\n",
       "\\end{enumerate*}\n"
      ],
      "text/markdown": [
       "1. 'playerID'\n",
       "2. 'yearID'\n",
       "3. 'stint'\n",
       "4. 'teamID'\n",
       "5. 'lgID'\n",
       "6. 'G'\n",
       "7. 'G_batting'\n",
       "8. 'AB'\n",
       "9. 'R'\n",
       "10. 'H'\n",
       "11. 'X2B'\n",
       "12. 'X3B'\n",
       "13. 'HR'\n",
       "14. 'RBI'\n",
       "15. 'SB'\n",
       "16. 'CS'\n",
       "17. 'BB'\n",
       "18. 'SO'\n",
       "19. 'IBB'\n",
       "20. 'HBP'\n",
       "21. 'SH'\n",
       "22. 'SF'\n",
       "23. 'GIDP'\n",
       "24. 'G_old'\n",
       "\n",
       "\n"
      ],
      "text/plain": [
       " [1] \"playerID\"  \"yearID\"    \"stint\"     \"teamID\"    \"lgID\"      \"G\"        \n",
       " [7] \"G_batting\" \"AB\"        \"R\"         \"H\"         \"X2B\"       \"X3B\"      \n",
       "[13] \"HR\"        \"RBI\"       \"SB\"        \"CS\"        \"BB\"        \"SO\"       \n",
       "[19] \"IBB\"       \"HBP\"       \"SH\"        \"SF\"        \"GIDP\"      \"G_old\"    "
      ]
     },
     "metadata": {},
     "output_type": "display_data"
    }
   ],
   "source": [
    "colnames(bats)"
   ]
  },
  {
   "cell_type": "markdown",
   "id": "177fcbb3",
   "metadata": {},
   "source": [
    "#### Use str() to check the structure."
   ]
  },
  {
   "cell_type": "code",
   "execution_count": 5,
   "id": "200e9c4c",
   "metadata": {},
   "outputs": [
    {
     "name": "stdout",
     "output_type": "stream",
     "text": [
      "'data.frame':\t97889 obs. of  24 variables:\n",
      " $ playerID : Factor w/ 18107 levels \"aardsda01\",\"aaronha01\",..: 1 1 1 1 1 1 1 2 2 2 ...\n",
      " $ yearID   : int  2004 2006 2007 2008 2009 2010 2012 1954 1955 1956 ...\n",
      " $ stint    : int  1 1 1 1 1 1 1 1 1 1 ...\n",
      " $ teamID   : Factor w/ 149 levels \"ALT\",\"ANA\",\"ARI\",..: 117 35 33 16 116 116 93 80 80 80 ...\n",
      " $ lgID     : Factor w/ 6 levels \"AA\",\"AL\",\"FL\",..: 4 4 2 2 2 2 2 4 4 4 ...\n",
      " $ G        : int  11 45 25 47 73 53 1 122 153 153 ...\n",
      " $ G_batting: int  11 43 2 5 3 4 NA 122 153 153 ...\n",
      " $ AB       : int  0 2 0 1 0 0 NA 468 602 609 ...\n",
      " $ R        : int  0 0 0 0 0 0 NA 58 105 106 ...\n",
      " $ H        : int  0 0 0 0 0 0 NA 131 189 200 ...\n",
      " $ X2B      : int  0 0 0 0 0 0 NA 27 37 34 ...\n",
      " $ X3B      : int  0 0 0 0 0 0 NA 6 9 14 ...\n",
      " $ HR       : int  0 0 0 0 0 0 NA 13 27 26 ...\n",
      " $ RBI      : int  0 0 0 0 0 0 NA 69 106 92 ...\n",
      " $ SB       : int  0 0 0 0 0 0 NA 2 3 2 ...\n",
      " $ CS       : int  0 0 0 0 0 0 NA 2 1 4 ...\n",
      " $ BB       : int  0 0 0 0 0 0 NA 28 49 37 ...\n",
      " $ SO       : int  0 0 0 1 0 0 NA 39 61 54 ...\n",
      " $ IBB      : int  0 0 0 0 0 0 NA NA 5 6 ...\n",
      " $ HBP      : int  0 0 0 0 0 0 NA 3 3 2 ...\n",
      " $ SH       : int  0 1 0 0 0 0 NA 6 7 5 ...\n",
      " $ SF       : int  0 0 0 0 0 0 NA 4 4 7 ...\n",
      " $ GIDP     : int  0 0 0 0 0 0 NA 13 20 21 ...\n",
      " $ G_old    : int  11 45 2 5 NA NA NA 122 153 153 ...\n"
     ]
    }
   ],
   "source": [
    "str(bats)"
   ]
  },
  {
   "cell_type": "markdown",
   "id": "7256d9e4",
   "metadata": {},
   "source": [
    "#### Make sure you understand how to call the columns by using the $ symbol.\n",
    "\n",
    "#### Call the head() of the first sx rows of AB (At Bats) column"
   ]
  },
  {
   "cell_type": "code",
   "execution_count": 6,
   "id": "df5b22a6",
   "metadata": {},
   "outputs": [
    {
     "data": {
      "text/html": [
       "<ol class=list-inline>\n",
       "\t<li>0</li>\n",
       "\t<li>2</li>\n",
       "\t<li>0</li>\n",
       "\t<li>1</li>\n",
       "\t<li>0</li>\n",
       "\t<li>0</li>\n",
       "</ol>\n"
      ],
      "text/latex": [
       "\\begin{enumerate*}\n",
       "\\item 0\n",
       "\\item 2\n",
       "\\item 0\n",
       "\\item 1\n",
       "\\item 0\n",
       "\\item 0\n",
       "\\end{enumerate*}\n"
      ],
      "text/markdown": [
       "1. 0\n",
       "2. 2\n",
       "3. 0\n",
       "4. 1\n",
       "5. 0\n",
       "6. 0\n",
       "\n",
       "\n"
      ],
      "text/plain": [
       "[1] 0 2 0 1 0 0"
      ]
     },
     "metadata": {},
     "output_type": "display_data"
    }
   ],
   "source": [
    "head(bats$AB)"
   ]
  },
  {
   "cell_type": "markdown",
   "id": "dacaac63",
   "metadata": {},
   "source": [
    "#### Call the head of the doubles (X2B) column"
   ]
  },
  {
   "cell_type": "code",
   "execution_count": 7,
   "id": "5d613c94",
   "metadata": {},
   "outputs": [
    {
     "data": {
      "text/html": [
       "<ol class=list-inline>\n",
       "\t<li>0</li>\n",
       "\t<li>0</li>\n",
       "\t<li>0</li>\n",
       "\t<li>0</li>\n",
       "\t<li>0</li>\n",
       "\t<li>0</li>\n",
       "</ol>\n"
      ],
      "text/latex": [
       "\\begin{enumerate*}\n",
       "\\item 0\n",
       "\\item 0\n",
       "\\item 0\n",
       "\\item 0\n",
       "\\item 0\n",
       "\\item 0\n",
       "\\end{enumerate*}\n"
      ],
      "text/markdown": [
       "1. 0\n",
       "2. 0\n",
       "3. 0\n",
       "4. 0\n",
       "5. 0\n",
       "6. 0\n",
       "\n",
       "\n"
      ],
      "text/plain": [
       "[1] 0 0 0 0 0 0"
      ]
     },
     "metadata": {},
     "output_type": "display_data"
    }
   ],
   "source": [
    "head(bats$X2B)"
   ]
  },
  {
   "cell_type": "markdown",
   "id": "142058a5",
   "metadata": {},
   "source": [
    "#### Use Summary() function to displaying summary statistics of bats data:"
   ]
  },
  {
   "cell_type": "code",
   "execution_count": 8,
   "id": "b209ff6d",
   "metadata": {},
   "outputs": [
    {
     "data": {
      "text/plain": [
       "      playerID         yearID         stint           teamID        lgID      \n",
       " mcguide01:   31   Min.   :1871   Min.   :1.000   CHN    : 4720   AA  : 1890  \n",
       " henderi01:   29   1st Qu.:1931   1st Qu.:1.000   PHI    : 4621   AL  :44369  \n",
       " newsobo01:   29   Median :1970   Median :1.000   PIT    : 4575   FL  :  470  \n",
       " johnto01 :   28   Mean   :1962   Mean   :1.077   SLN    : 4535   NL  :49944  \n",
       " kaatji01 :   28   3rd Qu.:1995   3rd Qu.:1.000   CIN    : 4393   PL  :  147  \n",
       " ansonca01:   27   Max.   :2013   Max.   :5.000   CLE    : 4318   UA  :  332  \n",
       " (Other)  :97717                                  (Other):70727   NA's:  737  \n",
       "       G            G_batting            AB              R         \n",
       " Min.   :  1.00   Min.   :  0.00   Min.   :  0.0   Min.   :  0.00  \n",
       " 1st Qu.: 13.00   1st Qu.:  7.00   1st Qu.:  9.0   1st Qu.:  0.00  \n",
       " Median : 35.00   Median : 32.00   Median : 61.0   Median :  5.00  \n",
       " Mean   : 51.65   Mean   : 49.13   Mean   :154.1   Mean   : 20.47  \n",
       " 3rd Qu.: 81.00   3rd Qu.: 81.00   3rd Qu.:260.0   3rd Qu.: 31.00  \n",
       " Max.   :165.00   Max.   :165.00   Max.   :716.0   Max.   :192.00  \n",
       "                  NA's   :1406     NA's   :6413    NA's   :6413    \n",
       "       H               X2B            X3B               HR        \n",
       " Min.   :  0.00   Min.   : 0.0   Min.   : 0.000   Min.   : 0.000  \n",
       " 1st Qu.:  1.00   1st Qu.: 0.0   1st Qu.: 0.000   1st Qu.: 0.000  \n",
       " Median : 12.00   Median : 2.0   Median : 0.000   Median : 0.000  \n",
       " Mean   : 40.37   Mean   : 6.8   Mean   : 1.424   Mean   : 3.002  \n",
       " 3rd Qu.: 66.00   3rd Qu.:10.0   3rd Qu.: 2.000   3rd Qu.: 3.000  \n",
       " Max.   :262.00   Max.   :67.0   Max.   :36.000   Max.   :73.000  \n",
       " NA's   :6413     NA's   :6413   NA's   :6413     NA's   :6413    \n",
       "      RBI               SB                CS               BB        \n",
       " Min.   :  0.00   Min.   :  0.000   Min.   : 0.000   Min.   :  0.00  \n",
       " 1st Qu.:  0.00   1st Qu.:  0.000   1st Qu.: 0.000   1st Qu.:  0.00  \n",
       " Median :  5.00   Median :  0.000   Median : 0.000   Median :  4.00  \n",
       " Mean   : 18.47   Mean   :  3.265   Mean   : 1.385   Mean   : 14.21  \n",
       " 3rd Qu.: 28.00   3rd Qu.:  2.000   3rd Qu.: 1.000   3rd Qu.: 21.00  \n",
       " Max.   :191.00   Max.   :138.000   Max.   :42.000   Max.   :232.00  \n",
       " NA's   :6837     NA's   :7713      NA's   :29867    NA's   :6413    \n",
       "       SO              IBB              HBP               SH        \n",
       " Min.   :  0.00   Min.   :  0.00   Min.   : 0.000   Min.   : 0.000  \n",
       " 1st Qu.:  2.00   1st Qu.:  0.00   1st Qu.: 0.000   1st Qu.: 0.000  \n",
       " Median : 11.00   Median :  0.00   Median : 0.000   Median : 1.000  \n",
       " Mean   : 21.95   Mean   :  1.28   Mean   : 1.136   Mean   : 2.564  \n",
       " 3rd Qu.: 31.00   3rd Qu.:  1.00   3rd Qu.: 1.000   3rd Qu.: 3.000  \n",
       " Max.   :223.00   Max.   :120.00   Max.   :51.000   Max.   :67.000  \n",
       " NA's   :14251    NA's   :42977    NA's   :9233     NA's   :12751   \n",
       "       SF             GIDP           G_old       \n",
       " Min.   : 0.0    Min.   : 0.00   Min.   :  0.00  \n",
       " 1st Qu.: 0.0    1st Qu.: 0.00   1st Qu.: 11.00  \n",
       " Median : 0.0    Median : 1.00   Median : 34.00  \n",
       " Mean   : 1.2    Mean   : 3.33   Mean   : 50.99  \n",
       " 3rd Qu.: 2.0    3rd Qu.: 5.00   3rd Qu.: 82.00  \n",
       " Max.   :19.0    Max.   :36.00   Max.   :165.00  \n",
       " NA's   :42446   NA's   :32521   NA's   :5189    "
      ]
     },
     "metadata": {},
     "output_type": "display_data"
    }
   ],
   "source": [
    "summary(bats)"
   ]
  },
  {
   "cell_type": "markdown",
   "id": "9db335c0",
   "metadata": {},
   "source": [
    "# Feature Engg."
   ]
  },
  {
   "cell_type": "markdown",
   "id": "96454912",
   "metadata": {},
   "source": [
    "#### We need to add three more statistics that were used in Moneyball! These are:\n",
    "\n",
    "#### 1.Batting Average\n",
    "#### 2.On Base Percentage\n",
    "#### 3.Slugging Percentage\n",
    "\n",
    "Click on the links provided and search the wikipedia page for the formula for creating the new statistic! For example, for Batting Average, you'll need to scroll down until you see:\n",
    "\n",
    "####                                                                     AVG=H/AB\n",
    " \n",
    "Which means that the Batting Average is equal to H (Hits) divided by AB (At Base). So we'll do the following to create a new column called BA and add it to our data frame:"
   ]
  },
  {
   "cell_type": "markdown",
   "id": "39a7fa65",
   "metadata": {},
   "source": [
    "## Matrics\n",
    "\n",
    "Batting Average,  On Base Percentage, and Sluggish percentage."
   ]
  },
  {
   "cell_type": "code",
   "execution_count": 9,
   "id": "7fb13098",
   "metadata": {},
   "outputs": [],
   "source": [
    "# Batting Average ---> BA\n",
    "\n",
    "bats$BA<-bats$H/bats$AB\n"
   ]
  },
  {
   "cell_type": "markdown",
   "id": "426aa747",
   "metadata": {},
   "source": [
    "#### After doing this operation, check the first 6 entries of the BA column of your data frame and it should look like this:"
   ]
  },
  {
   "cell_type": "code",
   "execution_count": 10,
   "id": "03ce9df7",
   "metadata": {},
   "outputs": [
    {
     "data": {
      "text/html": [
       "<ol class=list-inline>\n",
       "\t<li>NaN</li>\n",
       "\t<li>0</li>\n",
       "\t<li>NaN</li>\n",
       "\t<li>0</li>\n",
       "\t<li>NaN</li>\n",
       "\t<li>NaN</li>\n",
       "</ol>\n"
      ],
      "text/latex": [
       "\\begin{enumerate*}\n",
       "\\item NaN\n",
       "\\item 0\n",
       "\\item NaN\n",
       "\\item 0\n",
       "\\item NaN\n",
       "\\item NaN\n",
       "\\end{enumerate*}\n"
      ],
      "text/markdown": [
       "1. NaN\n",
       "2. 0\n",
       "3. NaN\n",
       "4. 0\n",
       "5. NaN\n",
       "6. NaN\n",
       "\n",
       "\n"
      ],
      "text/plain": [
       "[1] NaN   0 NaN   0 NaN NaN"
      ]
     },
     "metadata": {},
     "output_type": "display_data"
    }
   ],
   "source": [
    "head(bats$BA)"
   ]
  },
  {
   "cell_type": "markdown",
   "id": "300b37c9",
   "metadata": {},
   "source": [
    "#### After doing this operation, check the last 6 entries of the BA column of your data frame and it should look like this:"
   ]
  },
  {
   "cell_type": "code",
   "execution_count": 11,
   "id": "11f4fd49",
   "metadata": {},
   "outputs": [
    {
     "data": {
      "text/html": [
       "<ol class=list-inline>\n",
       "\t<li>0.123076923076923</li>\n",
       "\t<li>0.274647887323944</li>\n",
       "\t<li>0.147058823529412</li>\n",
       "\t<li>0.274509803921569</li>\n",
       "\t<li>0.213872832369942</li>\n",
       "</ol>\n"
      ],
      "text/latex": [
       "\\begin{enumerate*}\n",
       "\\item 0.123076923076923\n",
       "\\item 0.274647887323944\n",
       "\\item 0.147058823529412\n",
       "\\item 0.274509803921569\n",
       "\\item 0.213872832369942\n",
       "\\end{enumerate*}\n"
      ],
      "text/markdown": [
       "1. 0.123076923076923\n",
       "2. 0.274647887323944\n",
       "3. 0.147058823529412\n",
       "4. 0.274509803921569\n",
       "5. 0.213872832369942\n",
       "\n",
       "\n"
      ],
      "text/plain": [
       "[1] 0.1230769 0.2746479 0.1470588 0.2745098 0.2138728"
      ]
     },
     "metadata": {},
     "output_type": "display_data"
    }
   ],
   "source": [
    "tail(bats$BA,5)"
   ]
  },
  {
   "cell_type": "markdown",
   "id": "fbcfee50",
   "metadata": {},
   "source": [
    "#### Now do the same for some new columns! On Base Percentage (OBP) and Slugging Percentage (SLG). Hint: For SLG, you need 1B (Singles), this isn't in your data frame. However you can calculate it by subtracting doubles,triples, and home runs from total hits (H): 1B = H-2B-3B-HR\n",
    "\n",
    "#### .Create an OBP Column\n",
    "#### .Create an SLG Column"
   ]
  },
  {
   "cell_type": "code",
   "execution_count": 12,
   "id": "d397f651",
   "metadata": {},
   "outputs": [
    {
     "data": {
      "text/html": [
       "<ol class=list-inline>\n",
       "\t<li>NaN</li>\n",
       "\t<li>0</li>\n",
       "\t<li>NaN</li>\n",
       "\t<li>0</li>\n",
       "\t<li>NaN</li>\n",
       "\t<li>NaN</li>\n",
       "</ol>\n"
      ],
      "text/latex": [
       "\\begin{enumerate*}\n",
       "\\item NaN\n",
       "\\item 0\n",
       "\\item NaN\n",
       "\\item 0\n",
       "\\item NaN\n",
       "\\item NaN\n",
       "\\end{enumerate*}\n"
      ],
      "text/markdown": [
       "1. NaN\n",
       "2. 0\n",
       "3. NaN\n",
       "4. 0\n",
       "5. NaN\n",
       "6. NaN\n",
       "\n",
       "\n"
      ],
      "text/plain": [
       "[1] NaN   0 NaN   0 NaN NaN"
      ]
     },
     "metadata": {},
     "output_type": "display_data"
    }
   ],
   "source": [
    "#  On Base Percentage-----OBP\n",
    "\n",
    "bats$OBP<-(bats$H + bats$BB+bats$HBP)/(bats$AB+bats$BB+bats$HBP+bats$SF)\n",
    "head(bats$OBP)"
   ]
  },
  {
   "cell_type": "code",
   "execution_count": 13,
   "id": "f4718e4c",
   "metadata": {},
   "outputs": [],
   "source": [
    "# Sluggish percent\n",
    "\n",
    "# creating X1B (single)\n",
    "bats$X1B<-bats$H-bats$X2B-bats$X3B-bats$HR\n",
    "\n",
    "#creating  Sluggish Average\n",
    "bats$SLG<-((1*bats$X1B)+(2*bats$X2B)+(3*bats$X3B)+(4*bats$HR))/bats$AB"
   ]
  },
  {
   "cell_type": "code",
   "execution_count": 14,
   "id": "a607c133",
   "metadata": {},
   "outputs": [
    {
     "data": {
      "text/html": [
       "<table>\n",
       "<thead><tr><th scope=col>playerID</th><th scope=col>yearID</th><th scope=col>stint</th><th scope=col>teamID</th><th scope=col>lgID</th><th scope=col>G</th><th scope=col>G_batting</th><th scope=col>AB</th><th scope=col>R</th><th scope=col>H</th><th scope=col>...</th><th scope=col>IBB</th><th scope=col>HBP</th><th scope=col>SH</th><th scope=col>SF</th><th scope=col>GIDP</th><th scope=col>G_old</th><th scope=col>BA</th><th scope=col>OBP</th><th scope=col>X1B</th><th scope=col>SLG</th></tr></thead>\n",
       "<tbody>\n",
       "\t<tr><td>aardsda01</td><td>2004     </td><td>1        </td><td>SFN      </td><td>NL       </td><td> 11      </td><td> 11      </td><td>  0      </td><td>  0      </td><td>  0      </td><td>...      </td><td> 0       </td><td> 0       </td><td> 0       </td><td> 0       </td><td> 0       </td><td> 11      </td><td>      NaN</td><td>      NaN</td><td>  0      </td><td>      NaN</td></tr>\n",
       "\t<tr><td>aardsda01</td><td>2006     </td><td>1        </td><td>CHN      </td><td>NL       </td><td> 45      </td><td> 43      </td><td>  2      </td><td>  0      </td><td>  0      </td><td>...      </td><td> 0       </td><td> 0       </td><td> 1       </td><td> 0       </td><td> 0       </td><td> 45      </td><td>0.0000000</td><td>0.0000000</td><td>  0      </td><td>0.0000000</td></tr>\n",
       "\t<tr><td>aardsda01</td><td>2007     </td><td>1        </td><td>CHA      </td><td>AL       </td><td> 25      </td><td>  2      </td><td>  0      </td><td>  0      </td><td>  0      </td><td>...      </td><td> 0       </td><td> 0       </td><td> 0       </td><td> 0       </td><td> 0       </td><td>  2      </td><td>      NaN</td><td>      NaN</td><td>  0      </td><td>      NaN</td></tr>\n",
       "\t<tr><td>aardsda01</td><td>2008     </td><td>1        </td><td>BOS      </td><td>AL       </td><td> 47      </td><td>  5      </td><td>  1      </td><td>  0      </td><td>  0      </td><td>...      </td><td> 0       </td><td> 0       </td><td> 0       </td><td> 0       </td><td> 0       </td><td>  5      </td><td>0.0000000</td><td>0.0000000</td><td>  0      </td><td>0.0000000</td></tr>\n",
       "\t<tr><td>aardsda01</td><td>2009     </td><td>1        </td><td>SEA      </td><td>AL       </td><td> 73      </td><td>  3      </td><td>  0      </td><td>  0      </td><td>  0      </td><td>...      </td><td> 0       </td><td> 0       </td><td> 0       </td><td> 0       </td><td> 0       </td><td> NA      </td><td>      NaN</td><td>      NaN</td><td>  0      </td><td>      NaN</td></tr>\n",
       "\t<tr><td>aardsda01</td><td>2010     </td><td>1        </td><td>SEA      </td><td>AL       </td><td> 53      </td><td>  4      </td><td>  0      </td><td>  0      </td><td>  0      </td><td>...      </td><td> 0       </td><td> 0       </td><td> 0       </td><td> 0       </td><td> 0       </td><td> NA      </td><td>      NaN</td><td>      NaN</td><td>  0      </td><td>      NaN</td></tr>\n",
       "\t<tr><td>aardsda01</td><td>2012     </td><td>1        </td><td>NYA      </td><td>AL       </td><td>  1      </td><td> NA      </td><td> NA      </td><td> NA      </td><td> NA      </td><td>...      </td><td>NA       </td><td>NA       </td><td>NA       </td><td>NA       </td><td>NA       </td><td> NA      </td><td>       NA</td><td>       NA</td><td> NA      </td><td>       NA</td></tr>\n",
       "\t<tr><td>aaronha01</td><td>1954     </td><td>1        </td><td>ML1      </td><td>NL       </td><td>122      </td><td>122      </td><td>468      </td><td> 58      </td><td>131      </td><td>...      </td><td>NA       </td><td> 3       </td><td> 6       </td><td> 4       </td><td>13       </td><td>122      </td><td>0.2799145</td><td>0.3220676</td><td> 85      </td><td>0.4465812</td></tr>\n",
       "\t<tr><td>aaronha01</td><td>1955     </td><td>1        </td><td>ML1      </td><td>NL       </td><td>153      </td><td>153      </td><td>602      </td><td>105      </td><td>189      </td><td>...      </td><td> 5       </td><td> 3       </td><td> 7       </td><td> 4       </td><td>20       </td><td>153      </td><td>0.3139535</td><td>0.3662614</td><td>116      </td><td>0.5398671</td></tr>\n",
       "\t<tr><td>aaronha01</td><td>1956     </td><td>1        </td><td>ML1      </td><td>NL       </td><td>153      </td><td>153      </td><td>609      </td><td>106      </td><td>200      </td><td>...      </td><td> 6       </td><td> 2       </td><td> 5       </td><td> 7       </td><td>21       </td><td>153      </td><td>0.3284072</td><td>0.3648855</td><td>126      </td><td>0.5582923</td></tr>\n",
       "</tbody>\n",
       "</table>\n"
      ],
      "text/latex": [
       "\\begin{tabular}{r|llllllllllllllllllllllllllll}\n",
       " playerID & yearID & stint & teamID & lgID & G & G\\_batting & AB & R & H & ... & IBB & HBP & SH & SF & GIDP & G\\_old & BA & OBP & X1B & SLG\\\\\n",
       "\\hline\n",
       "\t aardsda01 & 2004      & 1         & SFN       & NL        &  11       &  11       &   0       &   0       &   0       & ...       &  0        &  0        &  0        &  0        &  0        &  11       &       NaN &       NaN &   0       &       NaN\\\\\n",
       "\t aardsda01 & 2006      & 1         & CHN       & NL        &  45       &  43       &   2       &   0       &   0       & ...       &  0        &  0        &  1        &  0        &  0        &  45       & 0.0000000 & 0.0000000 &   0       & 0.0000000\\\\\n",
       "\t aardsda01 & 2007      & 1         & CHA       & AL        &  25       &   2       &   0       &   0       &   0       & ...       &  0        &  0        &  0        &  0        &  0        &   2       &       NaN &       NaN &   0       &       NaN\\\\\n",
       "\t aardsda01 & 2008      & 1         & BOS       & AL        &  47       &   5       &   1       &   0       &   0       & ...       &  0        &  0        &  0        &  0        &  0        &   5       & 0.0000000 & 0.0000000 &   0       & 0.0000000\\\\\n",
       "\t aardsda01 & 2009      & 1         & SEA       & AL        &  73       &   3       &   0       &   0       &   0       & ...       &  0        &  0        &  0        &  0        &  0        &  NA       &       NaN &       NaN &   0       &       NaN\\\\\n",
       "\t aardsda01 & 2010      & 1         & SEA       & AL        &  53       &   4       &   0       &   0       &   0       & ...       &  0        &  0        &  0        &  0        &  0        &  NA       &       NaN &       NaN &   0       &       NaN\\\\\n",
       "\t aardsda01 & 2012      & 1         & NYA       & AL        &   1       &  NA       &  NA       &  NA       &  NA       & ...       & NA        & NA        & NA        & NA        & NA        &  NA       &        NA &        NA &  NA       &        NA\\\\\n",
       "\t aaronha01 & 1954      & 1         & ML1       & NL        & 122       & 122       & 468       &  58       & 131       & ...       & NA        &  3        &  6        &  4        & 13        & 122       & 0.2799145 & 0.3220676 &  85       & 0.4465812\\\\\n",
       "\t aaronha01 & 1955      & 1         & ML1       & NL        & 153       & 153       & 602       & 105       & 189       & ...       &  5        &  3        &  7        &  4        & 20        & 153       & 0.3139535 & 0.3662614 & 116       & 0.5398671\\\\\n",
       "\t aaronha01 & 1956      & 1         & ML1       & NL        & 153       & 153       & 609       & 106       & 200       & ...       &  6        &  2        &  5        &  7        & 21        & 153       & 0.3284072 & 0.3648855 & 126       & 0.5582923\\\\\n",
       "\\end{tabular}\n"
      ],
      "text/markdown": [
       "\n",
       "| playerID | yearID | stint | teamID | lgID | G | G_batting | AB | R | H | ... | IBB | HBP | SH | SF | GIDP | G_old | BA | OBP | X1B | SLG |\n",
       "|---|---|---|---|---|---|---|---|---|---|---|---|---|---|---|---|---|---|---|---|---|\n",
       "| aardsda01 | 2004      | 1         | SFN       | NL        |  11       |  11       |   0       |   0       |   0       | ...       |  0        |  0        |  0        |  0        |  0        |  11       |       NaN |       NaN |   0       |       NaN |\n",
       "| aardsda01 | 2006      | 1         | CHN       | NL        |  45       |  43       |   2       |   0       |   0       | ...       |  0        |  0        |  1        |  0        |  0        |  45       | 0.0000000 | 0.0000000 |   0       | 0.0000000 |\n",
       "| aardsda01 | 2007      | 1         | CHA       | AL        |  25       |   2       |   0       |   0       |   0       | ...       |  0        |  0        |  0        |  0        |  0        |   2       |       NaN |       NaN |   0       |       NaN |\n",
       "| aardsda01 | 2008      | 1         | BOS       | AL        |  47       |   5       |   1       |   0       |   0       | ...       |  0        |  0        |  0        |  0        |  0        |   5       | 0.0000000 | 0.0000000 |   0       | 0.0000000 |\n",
       "| aardsda01 | 2009      | 1         | SEA       | AL        |  73       |   3       |   0       |   0       |   0       | ...       |  0        |  0        |  0        |  0        |  0        |  NA       |       NaN |       NaN |   0       |       NaN |\n",
       "| aardsda01 | 2010      | 1         | SEA       | AL        |  53       |   4       |   0       |   0       |   0       | ...       |  0        |  0        |  0        |  0        |  0        |  NA       |       NaN |       NaN |   0       |       NaN |\n",
       "| aardsda01 | 2012      | 1         | NYA       | AL        |   1       |  NA       |  NA       |  NA       |  NA       | ...       | NA        | NA        | NA        | NA        | NA        |  NA       |        NA |        NA |  NA       |        NA |\n",
       "| aaronha01 | 1954      | 1         | ML1       | NL        | 122       | 122       | 468       |  58       | 131       | ...       | NA        |  3        |  6        |  4        | 13        | 122       | 0.2799145 | 0.3220676 |  85       | 0.4465812 |\n",
       "| aaronha01 | 1955      | 1         | ML1       | NL        | 153       | 153       | 602       | 105       | 189       | ...       |  5        |  3        |  7        |  4        | 20        | 153       | 0.3139535 | 0.3662614 | 116       | 0.5398671 |\n",
       "| aaronha01 | 1956      | 1         | ML1       | NL        | 153       | 153       | 609       | 106       | 200       | ...       |  6        |  2        |  5        |  7        | 21        | 153       | 0.3284072 | 0.3648855 | 126       | 0.5582923 |\n",
       "\n"
      ],
      "text/plain": [
       "   playerID  yearID stint teamID lgID G   G_batting AB  R   H   ... IBB HBP SH\n",
       "1  aardsda01 2004   1     SFN    NL    11  11         0   0   0 ...  0   0   0\n",
       "2  aardsda01 2006   1     CHN    NL    45  43         2   0   0 ...  0   0   1\n",
       "3  aardsda01 2007   1     CHA    AL    25   2         0   0   0 ...  0   0   0\n",
       "4  aardsda01 2008   1     BOS    AL    47   5         1   0   0 ...  0   0   0\n",
       "5  aardsda01 2009   1     SEA    AL    73   3         0   0   0 ...  0   0   0\n",
       "6  aardsda01 2010   1     SEA    AL    53   4         0   0   0 ...  0   0   0\n",
       "7  aardsda01 2012   1     NYA    AL     1  NA        NA  NA  NA ... NA  NA  NA\n",
       "8  aaronha01 1954   1     ML1    NL   122 122       468  58 131 ... NA   3   6\n",
       "9  aaronha01 1955   1     ML1    NL   153 153       602 105 189 ...  5   3   7\n",
       "10 aaronha01 1956   1     ML1    NL   153 153       609 106 200 ...  6   2   5\n",
       "   SF GIDP G_old BA        OBP       X1B SLG      \n",
       "1   0  0    11         NaN       NaN   0       NaN\n",
       "2   0  0    45   0.0000000 0.0000000   0 0.0000000\n",
       "3   0  0     2         NaN       NaN   0       NaN\n",
       "4   0  0     5   0.0000000 0.0000000   0 0.0000000\n",
       "5   0  0    NA         NaN       NaN   0       NaN\n",
       "6   0  0    NA         NaN       NaN   0       NaN\n",
       "7  NA NA    NA          NA        NA  NA        NA\n",
       "8   4 13   122   0.2799145 0.3220676  85 0.4465812\n",
       "9   4 20   153   0.3139535 0.3662614 116 0.5398671\n",
       "10  7 21   153   0.3284072 0.3648855 126 0.5582923"
      ]
     },
     "metadata": {},
     "output_type": "display_data"
    }
   ],
   "source": [
    "head(bats,10)"
   ]
  },
  {
   "cell_type": "markdown",
   "id": "13cb23bc",
   "metadata": {},
   "source": [
    "## Merging Salary Data with Batting Data\n",
    "#### We know we don't just want the best players, we want the most undervalued players, meaning we will also need to know current salary information! We have salary information in the csv file 'Salaries.csv'."
   ]
  },
  {
   "cell_type": "markdown",
   "id": "5cf0d638",
   "metadata": {},
   "source": [
    "#### Load the Salaries.csv file into a dataframe called sal using read.csv"
   ]
  },
  {
   "cell_type": "code",
   "execution_count": 15,
   "id": "463673a8",
   "metadata": {},
   "outputs": [],
   "source": [
    "Sal=read.csv(\"Salaries.csv\")\n"
   ]
  },
  {
   "cell_type": "markdown",
   "id": "666f5074",
   "metadata": {},
   "source": [
    "#### Displaying Salary:"
   ]
  },
  {
   "cell_type": "code",
   "execution_count": 16,
   "id": "4f2eaf24",
   "metadata": {},
   "outputs": [
    {
     "data": {
      "text/html": [
       "<table>\n",
       "<thead><tr><th scope=col>yearID</th><th scope=col>teamID</th><th scope=col>lgID</th><th scope=col>playerID</th><th scope=col>salary</th></tr></thead>\n",
       "<tbody>\n",
       "\t<tr><td>1985     </td><td>BAL      </td><td>AL       </td><td>murraed02</td><td>1472819  </td></tr>\n",
       "\t<tr><td>1985     </td><td>BAL      </td><td>AL       </td><td>lynnfr01 </td><td>1090000  </td></tr>\n",
       "\t<tr><td>1985     </td><td>BAL      </td><td>AL       </td><td>ripkeca01</td><td> 800000  </td></tr>\n",
       "\t<tr><td>1985     </td><td>BAL      </td><td>AL       </td><td>lacyle01 </td><td> 725000  </td></tr>\n",
       "\t<tr><td>1985     </td><td>BAL      </td><td>AL       </td><td>flanami01</td><td> 641667  </td></tr>\n",
       "\t<tr><td>1985     </td><td>BAL      </td><td>AL       </td><td>boddimi01</td><td> 625000  </td></tr>\n",
       "\t<tr><td>1985     </td><td>BAL      </td><td>AL       </td><td>stewasa01</td><td> 581250  </td></tr>\n",
       "\t<tr><td>1985     </td><td>BAL      </td><td>AL       </td><td>martide01</td><td> 560000  </td></tr>\n",
       "\t<tr><td>1985     </td><td>BAL      </td><td>AL       </td><td>roeniga01</td><td> 558333  </td></tr>\n",
       "\t<tr><td>1985     </td><td>BAL      </td><td>AL       </td><td>mcgresc01</td><td> 547143  </td></tr>\n",
       "</tbody>\n",
       "</table>\n"
      ],
      "text/latex": [
       "\\begin{tabular}{r|lllll}\n",
       " yearID & teamID & lgID & playerID & salary\\\\\n",
       "\\hline\n",
       "\t 1985      & BAL       & AL        & murraed02 & 1472819  \\\\\n",
       "\t 1985      & BAL       & AL        & lynnfr01  & 1090000  \\\\\n",
       "\t 1985      & BAL       & AL        & ripkeca01 &  800000  \\\\\n",
       "\t 1985      & BAL       & AL        & lacyle01  &  725000  \\\\\n",
       "\t 1985      & BAL       & AL        & flanami01 &  641667  \\\\\n",
       "\t 1985      & BAL       & AL        & boddimi01 &  625000  \\\\\n",
       "\t 1985      & BAL       & AL        & stewasa01 &  581250  \\\\\n",
       "\t 1985      & BAL       & AL        & martide01 &  560000  \\\\\n",
       "\t 1985      & BAL       & AL        & roeniga01 &  558333  \\\\\n",
       "\t 1985      & BAL       & AL        & mcgresc01 &  547143  \\\\\n",
       "\\end{tabular}\n"
      ],
      "text/markdown": [
       "\n",
       "| yearID | teamID | lgID | playerID | salary |\n",
       "|---|---|---|---|---|\n",
       "| 1985      | BAL       | AL        | murraed02 | 1472819   |\n",
       "| 1985      | BAL       | AL        | lynnfr01  | 1090000   |\n",
       "| 1985      | BAL       | AL        | ripkeca01 |  800000   |\n",
       "| 1985      | BAL       | AL        | lacyle01  |  725000   |\n",
       "| 1985      | BAL       | AL        | flanami01 |  641667   |\n",
       "| 1985      | BAL       | AL        | boddimi01 |  625000   |\n",
       "| 1985      | BAL       | AL        | stewasa01 |  581250   |\n",
       "| 1985      | BAL       | AL        | martide01 |  560000   |\n",
       "| 1985      | BAL       | AL        | roeniga01 |  558333   |\n",
       "| 1985      | BAL       | AL        | mcgresc01 |  547143   |\n",
       "\n"
      ],
      "text/plain": [
       "   yearID teamID lgID playerID  salary \n",
       "1  1985   BAL    AL   murraed02 1472819\n",
       "2  1985   BAL    AL   lynnfr01  1090000\n",
       "3  1985   BAL    AL   ripkeca01  800000\n",
       "4  1985   BAL    AL   lacyle01   725000\n",
       "5  1985   BAL    AL   flanami01  641667\n",
       "6  1985   BAL    AL   boddimi01  625000\n",
       "7  1985   BAL    AL   stewasa01  581250\n",
       "8  1985   BAL    AL   martide01  560000\n",
       "9  1985   BAL    AL   roeniga01  558333\n",
       "10 1985   BAL    AL   mcgresc01  547143"
      ]
     },
     "metadata": {},
     "output_type": "display_data"
    }
   ],
   "source": [
    "head(Sal,10)"
   ]
  },
  {
   "cell_type": "markdown",
   "id": "1a561177",
   "metadata": {},
   "source": [
    "#### Use Summary() function to displaying summary statistics of salary data:"
   ]
  },
  {
   "cell_type": "code",
   "execution_count": 17,
   "id": "74439772",
   "metadata": {},
   "outputs": [
    {
     "data": {
      "text/plain": [
       "     yearID         teamID      lgID            playerID         salary        \n",
       " Min.   :1985   CLE    :  867   AL:11744   moyerja01:   25   Min.   :       0  \n",
       " 1st Qu.:1993   LAN    :  861   NL:12212   vizquom01:   24   1st Qu.:  250000  \n",
       " Median :1999   PHI    :  861              glavito02:   23   Median :  507950  \n",
       " Mean   :1999   SLN    :  858              bondsba01:   22   Mean   : 1864357  \n",
       " 3rd Qu.:2006   BAL    :  855              griffke02:   22   3rd Qu.: 2100000  \n",
       " Max.   :2013   NYA    :  855              thomeji01:   22   Max.   :33000000  \n",
       "                (Other):18799              (Other)  :23818                     "
      ]
     },
     "metadata": {},
     "output_type": "display_data"
    }
   ],
   "source": [
    "summary(Sal)"
   ]
  },
  {
   "cell_type": "markdown",
   "id": "22e01632",
   "metadata": {},
   "source": [
    "### Available players since 1985"
   ]
  },
  {
   "cell_type": "code",
   "execution_count": 18,
   "id": "f6fdf2c4",
   "metadata": {},
   "outputs": [],
   "source": [
    "avail_player=bats %>% filter(yearID>=1985)"
   ]
  },
  {
   "cell_type": "code",
   "execution_count": 19,
   "id": "26e0ce2d",
   "metadata": {},
   "outputs": [
    {
     "data": {
      "text/html": [
       "<table>\n",
       "<thead><tr><th scope=col>playerID</th><th scope=col>yearID</th><th scope=col>stint</th><th scope=col>teamID</th><th scope=col>lgID</th><th scope=col>G</th><th scope=col>G_batting</th><th scope=col>AB</th><th scope=col>R</th><th scope=col>H</th><th scope=col>...</th><th scope=col>IBB</th><th scope=col>HBP</th><th scope=col>SH</th><th scope=col>SF</th><th scope=col>GIDP</th><th scope=col>G_old</th><th scope=col>BA</th><th scope=col>OBP</th><th scope=col>X1B</th><th scope=col>SLG</th></tr></thead>\n",
       "<tbody>\n",
       "\t<tr><td>aardsda01</td><td>2004     </td><td>1        </td><td>SFN      </td><td>NL       </td><td>11       </td><td>11       </td><td> 0       </td><td> 0       </td><td> 0       </td><td>...      </td><td> 0       </td><td> 0       </td><td> 0       </td><td> 0       </td><td> 0       </td><td>11       </td><td>NaN      </td><td>NaN      </td><td> 0       </td><td>NaN      </td></tr>\n",
       "\t<tr><td>aardsda01</td><td>2006     </td><td>1        </td><td>CHN      </td><td>NL       </td><td>45       </td><td>43       </td><td> 2       </td><td> 0       </td><td> 0       </td><td>...      </td><td> 0       </td><td> 0       </td><td> 1       </td><td> 0       </td><td> 0       </td><td>45       </td><td>  0      </td><td>  0      </td><td> 0       </td><td>  0      </td></tr>\n",
       "\t<tr><td>aardsda01</td><td>2007     </td><td>1        </td><td>CHA      </td><td>AL       </td><td>25       </td><td> 2       </td><td> 0       </td><td> 0       </td><td> 0       </td><td>...      </td><td> 0       </td><td> 0       </td><td> 0       </td><td> 0       </td><td> 0       </td><td> 2       </td><td>NaN      </td><td>NaN      </td><td> 0       </td><td>NaN      </td></tr>\n",
       "\t<tr><td>aardsda01</td><td>2008     </td><td>1        </td><td>BOS      </td><td>AL       </td><td>47       </td><td> 5       </td><td> 1       </td><td> 0       </td><td> 0       </td><td>...      </td><td> 0       </td><td> 0       </td><td> 0       </td><td> 0       </td><td> 0       </td><td> 5       </td><td>  0      </td><td>  0      </td><td> 0       </td><td>  0      </td></tr>\n",
       "\t<tr><td>aardsda01</td><td>2009     </td><td>1        </td><td>SEA      </td><td>AL       </td><td>73       </td><td> 3       </td><td> 0       </td><td> 0       </td><td> 0       </td><td>...      </td><td> 0       </td><td> 0       </td><td> 0       </td><td> 0       </td><td> 0       </td><td>NA       </td><td>NaN      </td><td>NaN      </td><td> 0       </td><td>NaN      </td></tr>\n",
       "\t<tr><td>aardsda01</td><td>2010     </td><td>1        </td><td>SEA      </td><td>AL       </td><td>53       </td><td> 4       </td><td> 0       </td><td> 0       </td><td> 0       </td><td>...      </td><td> 0       </td><td> 0       </td><td> 0       </td><td> 0       </td><td> 0       </td><td>NA       </td><td>NaN      </td><td>NaN      </td><td> 0       </td><td>NaN      </td></tr>\n",
       "\t<tr><td>aardsda01</td><td>2012     </td><td>1        </td><td>NYA      </td><td>AL       </td><td> 1       </td><td>NA       </td><td>NA       </td><td>NA       </td><td>NA       </td><td>...      </td><td>NA       </td><td>NA       </td><td>NA       </td><td>NA       </td><td>NA       </td><td>NA       </td><td> NA      </td><td> NA      </td><td>NA       </td><td> NA      </td></tr>\n",
       "\t<tr><td>aasedo01 </td><td>1985     </td><td>1        </td><td>BAL      </td><td>AL       </td><td>54       </td><td> 0       </td><td>NA       </td><td>NA       </td><td>NA       </td><td>...      </td><td>NA       </td><td>NA       </td><td>NA       </td><td>NA       </td><td>NA       </td><td>54       </td><td> NA      </td><td> NA      </td><td>NA       </td><td> NA      </td></tr>\n",
       "\t<tr><td>aasedo01 </td><td>1986     </td><td>1        </td><td>BAL      </td><td>AL       </td><td>66       </td><td> 0       </td><td>NA       </td><td>NA       </td><td>NA       </td><td>...      </td><td>NA       </td><td>NA       </td><td>NA       </td><td>NA       </td><td>NA       </td><td>66       </td><td> NA      </td><td> NA      </td><td>NA       </td><td> NA      </td></tr>\n",
       "\t<tr><td>aasedo01 </td><td>1987     </td><td>1        </td><td>BAL      </td><td>AL       </td><td> 7       </td><td> 0       </td><td>NA       </td><td>NA       </td><td>NA       </td><td>...      </td><td>NA       </td><td>NA       </td><td>NA       </td><td>NA       </td><td>NA       </td><td> 7       </td><td> NA      </td><td> NA      </td><td>NA       </td><td> NA      </td></tr>\n",
       "</tbody>\n",
       "</table>\n"
      ],
      "text/latex": [
       "\\begin{tabular}{r|llllllllllllllllllllllllllll}\n",
       " playerID & yearID & stint & teamID & lgID & G & G\\_batting & AB & R & H & ... & IBB & HBP & SH & SF & GIDP & G\\_old & BA & OBP & X1B & SLG\\\\\n",
       "\\hline\n",
       "\t aardsda01 & 2004      & 1         & SFN       & NL        & 11        & 11        &  0        &  0        &  0        & ...       &  0        &  0        &  0        &  0        &  0        & 11        & NaN       & NaN       &  0        & NaN      \\\\\n",
       "\t aardsda01 & 2006      & 1         & CHN       & NL        & 45        & 43        &  2        &  0        &  0        & ...       &  0        &  0        &  1        &  0        &  0        & 45        &   0       &   0       &  0        &   0      \\\\\n",
       "\t aardsda01 & 2007      & 1         & CHA       & AL        & 25        &  2        &  0        &  0        &  0        & ...       &  0        &  0        &  0        &  0        &  0        &  2        & NaN       & NaN       &  0        & NaN      \\\\\n",
       "\t aardsda01 & 2008      & 1         & BOS       & AL        & 47        &  5        &  1        &  0        &  0        & ...       &  0        &  0        &  0        &  0        &  0        &  5        &   0       &   0       &  0        &   0      \\\\\n",
       "\t aardsda01 & 2009      & 1         & SEA       & AL        & 73        &  3        &  0        &  0        &  0        & ...       &  0        &  0        &  0        &  0        &  0        & NA        & NaN       & NaN       &  0        & NaN      \\\\\n",
       "\t aardsda01 & 2010      & 1         & SEA       & AL        & 53        &  4        &  0        &  0        &  0        & ...       &  0        &  0        &  0        &  0        &  0        & NA        & NaN       & NaN       &  0        & NaN      \\\\\n",
       "\t aardsda01 & 2012      & 1         & NYA       & AL        &  1        & NA        & NA        & NA        & NA        & ...       & NA        & NA        & NA        & NA        & NA        & NA        &  NA       &  NA       & NA        &  NA      \\\\\n",
       "\t aasedo01  & 1985      & 1         & BAL       & AL        & 54        &  0        & NA        & NA        & NA        & ...       & NA        & NA        & NA        & NA        & NA        & 54        &  NA       &  NA       & NA        &  NA      \\\\\n",
       "\t aasedo01  & 1986      & 1         & BAL       & AL        & 66        &  0        & NA        & NA        & NA        & ...       & NA        & NA        & NA        & NA        & NA        & 66        &  NA       &  NA       & NA        &  NA      \\\\\n",
       "\t aasedo01  & 1987      & 1         & BAL       & AL        &  7        &  0        & NA        & NA        & NA        & ...       & NA        & NA        & NA        & NA        & NA        &  7        &  NA       &  NA       & NA        &  NA      \\\\\n",
       "\\end{tabular}\n"
      ],
      "text/markdown": [
       "\n",
       "| playerID | yearID | stint | teamID | lgID | G | G_batting | AB | R | H | ... | IBB | HBP | SH | SF | GIDP | G_old | BA | OBP | X1B | SLG |\n",
       "|---|---|---|---|---|---|---|---|---|---|---|---|---|---|---|---|---|---|---|---|---|\n",
       "| aardsda01 | 2004      | 1         | SFN       | NL        | 11        | 11        |  0        |  0        |  0        | ...       |  0        |  0        |  0        |  0        |  0        | 11        | NaN       | NaN       |  0        | NaN       |\n",
       "| aardsda01 | 2006      | 1         | CHN       | NL        | 45        | 43        |  2        |  0        |  0        | ...       |  0        |  0        |  1        |  0        |  0        | 45        |   0       |   0       |  0        |   0       |\n",
       "| aardsda01 | 2007      | 1         | CHA       | AL        | 25        |  2        |  0        |  0        |  0        | ...       |  0        |  0        |  0        |  0        |  0        |  2        | NaN       | NaN       |  0        | NaN       |\n",
       "| aardsda01 | 2008      | 1         | BOS       | AL        | 47        |  5        |  1        |  0        |  0        | ...       |  0        |  0        |  0        |  0        |  0        |  5        |   0       |   0       |  0        |   0       |\n",
       "| aardsda01 | 2009      | 1         | SEA       | AL        | 73        |  3        |  0        |  0        |  0        | ...       |  0        |  0        |  0        |  0        |  0        | NA        | NaN       | NaN       |  0        | NaN       |\n",
       "| aardsda01 | 2010      | 1         | SEA       | AL        | 53        |  4        |  0        |  0        |  0        | ...       |  0        |  0        |  0        |  0        |  0        | NA        | NaN       | NaN       |  0        | NaN       |\n",
       "| aardsda01 | 2012      | 1         | NYA       | AL        |  1        | NA        | NA        | NA        | NA        | ...       | NA        | NA        | NA        | NA        | NA        | NA        |  NA       |  NA       | NA        |  NA       |\n",
       "| aasedo01  | 1985      | 1         | BAL       | AL        | 54        |  0        | NA        | NA        | NA        | ...       | NA        | NA        | NA        | NA        | NA        | 54        |  NA       |  NA       | NA        |  NA       |\n",
       "| aasedo01  | 1986      | 1         | BAL       | AL        | 66        |  0        | NA        | NA        | NA        | ...       | NA        | NA        | NA        | NA        | NA        | 66        |  NA       |  NA       | NA        |  NA       |\n",
       "| aasedo01  | 1987      | 1         | BAL       | AL        |  7        |  0        | NA        | NA        | NA        | ...       | NA        | NA        | NA        | NA        | NA        |  7        |  NA       |  NA       | NA        |  NA       |\n",
       "\n"
      ],
      "text/plain": [
       "   playerID  yearID stint teamID lgID G  G_batting AB R  H  ... IBB HBP SH SF\n",
       "1  aardsda01 2004   1     SFN    NL   11 11         0  0  0 ...  0   0   0  0\n",
       "2  aardsda01 2006   1     CHN    NL   45 43         2  0  0 ...  0   0   1  0\n",
       "3  aardsda01 2007   1     CHA    AL   25  2         0  0  0 ...  0   0   0  0\n",
       "4  aardsda01 2008   1     BOS    AL   47  5         1  0  0 ...  0   0   0  0\n",
       "5  aardsda01 2009   1     SEA    AL   73  3         0  0  0 ...  0   0   0  0\n",
       "6  aardsda01 2010   1     SEA    AL   53  4         0  0  0 ...  0   0   0  0\n",
       "7  aardsda01 2012   1     NYA    AL    1 NA        NA NA NA ... NA  NA  NA NA\n",
       "8  aasedo01  1985   1     BAL    AL   54  0        NA NA NA ... NA  NA  NA NA\n",
       "9  aasedo01  1986   1     BAL    AL   66  0        NA NA NA ... NA  NA  NA NA\n",
       "10 aasedo01  1987   1     BAL    AL    7  0        NA NA NA ... NA  NA  NA NA\n",
       "   GIDP G_old BA  OBP X1B SLG\n",
       "1   0   11    NaN NaN  0  NaN\n",
       "2   0   45      0   0  0    0\n",
       "3   0    2    NaN NaN  0  NaN\n",
       "4   0    5      0   0  0    0\n",
       "5   0   NA    NaN NaN  0  NaN\n",
       "6   0   NA    NaN NaN  0  NaN\n",
       "7  NA   NA     NA  NA NA   NA\n",
       "8  NA   54     NA  NA NA   NA\n",
       "9  NA   66     NA  NA NA   NA\n",
       "10 NA    7     NA  NA NA   NA"
      ]
     },
     "metadata": {},
     "output_type": "display_data"
    }
   ],
   "source": [
    "head(avail_player,10)"
   ]
  },
  {
   "cell_type": "code",
   "execution_count": 20,
   "id": "73a3c877",
   "metadata": {},
   "outputs": [
    {
     "data": {
      "text/html": [
       "<table>\n",
       "<thead><tr><th scope=col>yearID</th><th scope=col>teamID</th><th scope=col>lgID</th><th scope=col>playerID</th><th scope=col>salary</th></tr></thead>\n",
       "<tbody>\n",
       "\t<tr><td>2001     </td><td>ANA      </td><td>AL       </td><td>vaughmo01</td><td>13166667 </td></tr>\n",
       "\t<tr><td>2001     </td><td>ANA      </td><td>AL       </td><td>salmoti01</td><td> 6500000 </td></tr>\n",
       "\t<tr><td>2001     </td><td>ANA      </td><td>AL       </td><td>anderga01</td><td> 4500000 </td></tr>\n",
       "\t<tr><td>2001     </td><td>ANA      </td><td>AL       </td><td>erstada01</td><td> 3450000 </td></tr>\n",
       "\t<tr><td>2001     </td><td>ANA      </td><td>AL       </td><td>percitr01</td><td> 3400000 </td></tr>\n",
       "\t<tr><td>2001     </td><td>ANA      </td><td>AL       </td><td>valdeis01</td><td> 2500000 </td></tr>\n",
       "\t<tr><td>2001     </td><td>ANA      </td><td>AL       </td><td>rapppa01 </td><td> 2000000 </td></tr>\n",
       "\t<tr><td>2001     </td><td>ANA      </td><td>AL       </td><td>hasegsh01</td><td> 1500000 </td></tr>\n",
       "\t<tr><td>2001     </td><td>ANA      </td><td>AL       </td><td>hillgl01 </td><td> 1500000 </td></tr>\n",
       "\t<tr><td>2001     </td><td>ANA      </td><td>AL       </td><td>glaustr01</td><td> 1250000 </td></tr>\n",
       "</tbody>\n",
       "</table>\n"
      ],
      "text/latex": [
       "\\begin{tabular}{r|lllll}\n",
       " yearID & teamID & lgID & playerID & salary\\\\\n",
       "\\hline\n",
       "\t 2001      & ANA       & AL        & vaughmo01 & 13166667 \\\\\n",
       "\t 2001      & ANA       & AL        & salmoti01 &  6500000 \\\\\n",
       "\t 2001      & ANA       & AL        & anderga01 &  4500000 \\\\\n",
       "\t 2001      & ANA       & AL        & erstada01 &  3450000 \\\\\n",
       "\t 2001      & ANA       & AL        & percitr01 &  3400000 \\\\\n",
       "\t 2001      & ANA       & AL        & valdeis01 &  2500000 \\\\\n",
       "\t 2001      & ANA       & AL        & rapppa01  &  2000000 \\\\\n",
       "\t 2001      & ANA       & AL        & hasegsh01 &  1500000 \\\\\n",
       "\t 2001      & ANA       & AL        & hillgl01  &  1500000 \\\\\n",
       "\t 2001      & ANA       & AL        & glaustr01 &  1250000 \\\\\n",
       "\\end{tabular}\n"
      ],
      "text/markdown": [
       "\n",
       "| yearID | teamID | lgID | playerID | salary |\n",
       "|---|---|---|---|---|\n",
       "| 2001      | ANA       | AL        | vaughmo01 | 13166667  |\n",
       "| 2001      | ANA       | AL        | salmoti01 |  6500000  |\n",
       "| 2001      | ANA       | AL        | anderga01 |  4500000  |\n",
       "| 2001      | ANA       | AL        | erstada01 |  3450000  |\n",
       "| 2001      | ANA       | AL        | percitr01 |  3400000  |\n",
       "| 2001      | ANA       | AL        | valdeis01 |  2500000  |\n",
       "| 2001      | ANA       | AL        | rapppa01  |  2000000  |\n",
       "| 2001      | ANA       | AL        | hasegsh01 |  1500000  |\n",
       "| 2001      | ANA       | AL        | hillgl01  |  1500000  |\n",
       "| 2001      | ANA       | AL        | glaustr01 |  1250000  |\n",
       "\n"
      ],
      "text/plain": [
       "   yearID teamID lgID playerID  salary  \n",
       "1  2001   ANA    AL   vaughmo01 13166667\n",
       "2  2001   ANA    AL   salmoti01  6500000\n",
       "3  2001   ANA    AL   anderga01  4500000\n",
       "4  2001   ANA    AL   erstada01  3450000\n",
       "5  2001   ANA    AL   percitr01  3400000\n",
       "6  2001   ANA    AL   valdeis01  2500000\n",
       "7  2001   ANA    AL   rapppa01   2000000\n",
       "8  2001   ANA    AL   hasegsh01  1500000\n",
       "9  2001   ANA    AL   hillgl01   1500000\n",
       "10 2001   ANA    AL   glaustr01  1250000"
      ]
     },
     "metadata": {},
     "output_type": "display_data"
    }
   ],
   "source": [
    "# filter salary by yearID==2001\n",
    "s1=Sal %>% filter(yearID==2001)\n",
    "head(s1,10)"
   ]
  },
  {
   "cell_type": "markdown",
   "id": "c1c993af",
   "metadata": {},
   "source": [
    "#### filter batting by yearID==2001"
   ]
  },
  {
   "cell_type": "code",
   "execution_count": 21,
   "id": "07286557",
   "metadata": {},
   "outputs": [
    {
     "data": {
      "text/html": [
       "<table>\n",
       "<thead><tr><th scope=col>playerID</th><th scope=col>yearID</th><th scope=col>stint</th><th scope=col>teamID</th><th scope=col>lgID</th><th scope=col>G</th><th scope=col>G_batting</th><th scope=col>AB</th><th scope=col>R</th><th scope=col>H</th><th scope=col>...</th><th scope=col>IBB</th><th scope=col>HBP</th><th scope=col>SH</th><th scope=col>SF</th><th scope=col>GIDP</th><th scope=col>G_old</th><th scope=col>BA</th><th scope=col>OBP</th><th scope=col>X1B</th><th scope=col>SLG</th></tr></thead>\n",
       "<tbody>\n",
       "\t<tr><td>abadan01  </td><td>2001      </td><td>1         </td><td>OAK       </td><td>AL        </td><td>  1       </td><td>  1       </td><td>  1       </td><td>  0       </td><td>  0       </td><td>...       </td><td> 0        </td><td>0         </td><td>0         </td><td>0         </td><td> 0        </td><td>  1       </td><td>0.00000000</td><td>0.0000000 </td><td> 0        </td><td>0.00000000</td></tr>\n",
       "\t<tr><td>abbotje01 </td><td>2001      </td><td>1         </td><td>FLO       </td><td>NL        </td><td> 28       </td><td> 28       </td><td> 42       </td><td>  5       </td><td> 11       </td><td>...       </td><td> 0        </td><td>1         </td><td>0         </td><td>0         </td><td> 1        </td><td> 28       </td><td>0.26190476</td><td>0.3260870 </td><td> 8        </td><td>0.33333333</td></tr>\n",
       "\t<tr><td>abbotku01 </td><td>2001      </td><td>1         </td><td>ATL       </td><td>NL        </td><td>  6       </td><td>  6       </td><td>  9       </td><td>  0       </td><td>  2       </td><td>...       </td><td> 0        </td><td>0         </td><td>0         </td><td>0         </td><td> 0        </td><td>  6       </td><td>0.22222222</td><td>0.2222222 </td><td> 2        </td><td>0.22222222</td></tr>\n",
       "\t<tr><td>abbotpa01 </td><td>2001      </td><td>1         </td><td>SEA       </td><td>AL        </td><td> 28       </td><td>  2       </td><td>  4       </td><td>  0       </td><td>  1       </td><td>...       </td><td> 0        </td><td>0         </td><td>1         </td><td>0         </td><td> 0        </td><td>  2       </td><td>0.25000000</td><td>0.2500000 </td><td> 1        </td><td>0.25000000</td></tr>\n",
       "\t<tr><td>abernbr01 </td><td>2001      </td><td>1         </td><td>TBA       </td><td>AL        </td><td> 79       </td><td> 79       </td><td>304       </td><td> 43       </td><td> 82       </td><td>...       </td><td> 1        </td><td>0         </td><td>3         </td><td>1         </td><td> 3        </td><td> 79       </td><td>0.26973684</td><td>0.3283133 </td><td>59        </td><td>0.38157895</td></tr>\n",
       "\t<tr><td>abreubo01 </td><td>2001      </td><td>1         </td><td>PHI       </td><td>NL        </td><td>162       </td><td>162       </td><td>588       </td><td>118       </td><td>170       </td><td>...       </td><td>11        </td><td>1         </td><td>0         </td><td>9         </td><td>13        </td><td>162       </td><td>0.28911565</td><td>0.3934659 </td><td>87        </td><td>0.54251701</td></tr>\n",
       "\t<tr><td>acevejo01 </td><td>2001      </td><td>1         </td><td>CIN       </td><td>NL        </td><td> 18       </td><td> 18       </td><td> 34       </td><td>  1       </td><td>  4       </td><td>...       </td><td> 0        </td><td>0         </td><td>2         </td><td>0         </td><td> 0        </td><td> 18       </td><td>0.11764706</td><td>0.1176471 </td><td> 3        </td><td>0.14705882</td></tr>\n",
       "\t<tr><td>aceveju01 </td><td>2001      </td><td>1         </td><td>COL       </td><td>NL        </td><td> 39       </td><td> 35       </td><td>  0       </td><td>  0       </td><td>  0       </td><td>...       </td><td> 0        </td><td>0         </td><td>0         </td><td>0         </td><td> 0        </td><td> 35       </td><td>       NaN</td><td>      NaN </td><td> 0        </td><td>       NaN</td></tr>\n",
       "\t<tr><td>aceveju01 </td><td>2001      </td><td>2         </td><td>FLO       </td><td>NL        </td><td> 20       </td><td> 20       </td><td>  3       </td><td>  1       </td><td>  1       </td><td>...       </td><td> 0        </td><td>0         </td><td>1         </td><td>0         </td><td> 0        </td><td> 20       </td><td>0.33333333</td><td>0.3333333 </td><td> 0        </td><td>0.66666667</td></tr>\n",
       "\t<tr><td>adamste01 </td><td>2001      </td><td>1         </td><td>LAN       </td><td>NL        </td><td> 43       </td><td> 41       </td><td> 39       </td><td>  2       </td><td>  2       </td><td>...       </td><td> 0        </td><td>0         </td><td>5         </td><td>1         </td><td> 0        </td><td> 41       </td><td>0.05128205</td><td>0.1162791 </td><td> 1        </td><td>0.07692308</td></tr>\n",
       "</tbody>\n",
       "</table>\n"
      ],
      "text/latex": [
       "\\begin{tabular}{r|llllllllllllllllllllllllllll}\n",
       " playerID & yearID & stint & teamID & lgID & G & G\\_batting & AB & R & H & ... & IBB & HBP & SH & SF & GIDP & G\\_old & BA & OBP & X1B & SLG\\\\\n",
       "\\hline\n",
       "\t abadan01   & 2001       & 1          & OAK        & AL         &   1        &   1        &   1        &   0        &   0        & ...        &  0         & 0          & 0          & 0          &  0         &   1        & 0.00000000 & 0.0000000  &  0         & 0.00000000\\\\\n",
       "\t abbotje01  & 2001       & 1          & FLO        & NL         &  28        &  28        &  42        &   5        &  11        & ...        &  0         & 1          & 0          & 0          &  1         &  28        & 0.26190476 & 0.3260870  &  8         & 0.33333333\\\\\n",
       "\t abbotku01  & 2001       & 1          & ATL        & NL         &   6        &   6        &   9        &   0        &   2        & ...        &  0         & 0          & 0          & 0          &  0         &   6        & 0.22222222 & 0.2222222  &  2         & 0.22222222\\\\\n",
       "\t abbotpa01  & 2001       & 1          & SEA        & AL         &  28        &   2        &   4        &   0        &   1        & ...        &  0         & 0          & 1          & 0          &  0         &   2        & 0.25000000 & 0.2500000  &  1         & 0.25000000\\\\\n",
       "\t abernbr01  & 2001       & 1          & TBA        & AL         &  79        &  79        & 304        &  43        &  82        & ...        &  1         & 0          & 3          & 1          &  3         &  79        & 0.26973684 & 0.3283133  & 59         & 0.38157895\\\\\n",
       "\t abreubo01  & 2001       & 1          & PHI        & NL         & 162        & 162        & 588        & 118        & 170        & ...        & 11         & 1          & 0          & 9          & 13         & 162        & 0.28911565 & 0.3934659  & 87         & 0.54251701\\\\\n",
       "\t acevejo01  & 2001       & 1          & CIN        & NL         &  18        &  18        &  34        &   1        &   4        & ...        &  0         & 0          & 2          & 0          &  0         &  18        & 0.11764706 & 0.1176471  &  3         & 0.14705882\\\\\n",
       "\t aceveju01  & 2001       & 1          & COL        & NL         &  39        &  35        &   0        &   0        &   0        & ...        &  0         & 0          & 0          & 0          &  0         &  35        &        NaN &       NaN  &  0         &        NaN\\\\\n",
       "\t aceveju01  & 2001       & 2          & FLO        & NL         &  20        &  20        &   3        &   1        &   1        & ...        &  0         & 0          & 1          & 0          &  0         &  20        & 0.33333333 & 0.3333333  &  0         & 0.66666667\\\\\n",
       "\t adamste01  & 2001       & 1          & LAN        & NL         &  43        &  41        &  39        &   2        &   2        & ...        &  0         & 0          & 5          & 1          &  0         &  41        & 0.05128205 & 0.1162791  &  1         & 0.07692308\\\\\n",
       "\\end{tabular}\n"
      ],
      "text/markdown": [
       "\n",
       "| playerID | yearID | stint | teamID | lgID | G | G_batting | AB | R | H | ... | IBB | HBP | SH | SF | GIDP | G_old | BA | OBP | X1B | SLG |\n",
       "|---|---|---|---|---|---|---|---|---|---|---|---|---|---|---|---|---|---|---|---|---|\n",
       "| abadan01   | 2001       | 1          | OAK        | AL         |   1        |   1        |   1        |   0        |   0        | ...        |  0         | 0          | 0          | 0          |  0         |   1        | 0.00000000 | 0.0000000  |  0         | 0.00000000 |\n",
       "| abbotje01  | 2001       | 1          | FLO        | NL         |  28        |  28        |  42        |   5        |  11        | ...        |  0         | 1          | 0          | 0          |  1         |  28        | 0.26190476 | 0.3260870  |  8         | 0.33333333 |\n",
       "| abbotku01  | 2001       | 1          | ATL        | NL         |   6        |   6        |   9        |   0        |   2        | ...        |  0         | 0          | 0          | 0          |  0         |   6        | 0.22222222 | 0.2222222  |  2         | 0.22222222 |\n",
       "| abbotpa01  | 2001       | 1          | SEA        | AL         |  28        |   2        |   4        |   0        |   1        | ...        |  0         | 0          | 1          | 0          |  0         |   2        | 0.25000000 | 0.2500000  |  1         | 0.25000000 |\n",
       "| abernbr01  | 2001       | 1          | TBA        | AL         |  79        |  79        | 304        |  43        |  82        | ...        |  1         | 0          | 3          | 1          |  3         |  79        | 0.26973684 | 0.3283133  | 59         | 0.38157895 |\n",
       "| abreubo01  | 2001       | 1          | PHI        | NL         | 162        | 162        | 588        | 118        | 170        | ...        | 11         | 1          | 0          | 9          | 13         | 162        | 0.28911565 | 0.3934659  | 87         | 0.54251701 |\n",
       "| acevejo01  | 2001       | 1          | CIN        | NL         |  18        |  18        |  34        |   1        |   4        | ...        |  0         | 0          | 2          | 0          |  0         |  18        | 0.11764706 | 0.1176471  |  3         | 0.14705882 |\n",
       "| aceveju01  | 2001       | 1          | COL        | NL         |  39        |  35        |   0        |   0        |   0        | ...        |  0         | 0          | 0          | 0          |  0         |  35        |        NaN |       NaN  |  0         |        NaN |\n",
       "| aceveju01  | 2001       | 2          | FLO        | NL         |  20        |  20        |   3        |   1        |   1        | ...        |  0         | 0          | 1          | 0          |  0         |  20        | 0.33333333 | 0.3333333  |  0         | 0.66666667 |\n",
       "| adamste01  | 2001       | 1          | LAN        | NL         |  43        |  41        |  39        |   2        |   2        | ...        |  0         | 0          | 5          | 1          |  0         |  41        | 0.05128205 | 0.1162791  |  1         | 0.07692308 |\n",
       "\n"
      ],
      "text/plain": [
       "   playerID  yearID stint teamID lgID G   G_batting AB  R   H   ... IBB HBP SH\n",
       "1  abadan01  2001   1     OAK    AL     1   1         1   0   0 ...  0  0   0 \n",
       "2  abbotje01 2001   1     FLO    NL    28  28        42   5  11 ...  0  1   0 \n",
       "3  abbotku01 2001   1     ATL    NL     6   6         9   0   2 ...  0  0   0 \n",
       "4  abbotpa01 2001   1     SEA    AL    28   2         4   0   1 ...  0  0   1 \n",
       "5  abernbr01 2001   1     TBA    AL    79  79       304  43  82 ...  1  0   3 \n",
       "6  abreubo01 2001   1     PHI    NL   162 162       588 118 170 ... 11  1   0 \n",
       "7  acevejo01 2001   1     CIN    NL    18  18        34   1   4 ...  0  0   2 \n",
       "8  aceveju01 2001   1     COL    NL    39  35         0   0   0 ...  0  0   0 \n",
       "9  aceveju01 2001   2     FLO    NL    20  20         3   1   1 ...  0  0   1 \n",
       "10 adamste01 2001   1     LAN    NL    43  41        39   2   2 ...  0  0   5 \n",
       "   SF GIDP G_old BA         OBP       X1B SLG       \n",
       "1  0   0     1   0.00000000 0.0000000  0  0.00000000\n",
       "2  0   1    28   0.26190476 0.3260870  8  0.33333333\n",
       "3  0   0     6   0.22222222 0.2222222  2  0.22222222\n",
       "4  0   0     2   0.25000000 0.2500000  1  0.25000000\n",
       "5  1   3    79   0.26973684 0.3283133 59  0.38157895\n",
       "6  9  13   162   0.28911565 0.3934659 87  0.54251701\n",
       "7  0   0    18   0.11764706 0.1176471  3  0.14705882\n",
       "8  0   0    35          NaN       NaN  0         NaN\n",
       "9  0   0    20   0.33333333 0.3333333  0  0.66666667\n",
       "10 1   0    41   0.05128205 0.1162791  1  0.07692308"
      ]
     },
     "metadata": {},
     "output_type": "display_data"
    }
   ],
   "source": [
    "\n",
    "s2=bats %>% filter(yearID==2001)\n",
    "head(s2,10)"
   ]
  },
  {
   "cell_type": "markdown",
   "id": "80dd47c8",
   "metadata": {},
   "source": [
    "#### Use the merge() function to merge the batting and sal data frames by c('playerID','yearID'). Call the new data frame s3"
   ]
  },
  {
   "cell_type": "code",
   "execution_count": 22,
   "id": "c1a28a8f",
   "metadata": {},
   "outputs": [
    {
     "data": {
      "text/html": [
       "<table>\n",
       "<thead><tr><th scope=col>playerID</th><th scope=col>yearID</th><th scope=col>teamID.x</th><th scope=col>lgID.x</th><th scope=col>salary</th><th scope=col>stint</th><th scope=col>teamID.y</th><th scope=col>lgID.y</th><th scope=col>G</th><th scope=col>G_batting</th><th scope=col>...</th><th scope=col>IBB</th><th scope=col>HBP</th><th scope=col>SH</th><th scope=col>SF</th><th scope=col>GIDP</th><th scope=col>G_old</th><th scope=col>BA</th><th scope=col>OBP</th><th scope=col>X1B</th><th scope=col>SLG</th></tr></thead>\n",
       "<tbody>\n",
       "\t<tr><td>abbotje01 </td><td>2001      </td><td>FLO       </td><td>NL        </td><td> 300000   </td><td>1         </td><td>FLO       </td><td>NL        </td><td> 28       </td><td> 28       </td><td>...       </td><td> 0        </td><td>1         </td><td>0         </td><td>0         </td><td> 1        </td><td> 28       </td><td>0.26190476</td><td>0.3260870 </td><td> 8        </td><td>0.33333333</td></tr>\n",
       "\t<tr><td>abbotku01 </td><td>2001      </td><td>ATL       </td><td>NL        </td><td> 600000   </td><td>1         </td><td>ATL       </td><td>NL        </td><td>  6       </td><td>  6       </td><td>...       </td><td> 0        </td><td>0         </td><td>0         </td><td>0         </td><td> 0        </td><td>  6       </td><td>0.22222222</td><td>0.2222222 </td><td> 2        </td><td>0.22222222</td></tr>\n",
       "\t<tr><td>abbotpa01 </td><td>2001      </td><td>SEA       </td><td>AL        </td><td>1700000   </td><td>1         </td><td>SEA       </td><td>AL        </td><td> 28       </td><td>  2       </td><td>...       </td><td> 0        </td><td>0         </td><td>1         </td><td>0         </td><td> 0        </td><td>  2       </td><td>0.25000000</td><td>0.2500000 </td><td> 1        </td><td>0.25000000</td></tr>\n",
       "\t<tr><td>abreubo01 </td><td>2001      </td><td>PHI       </td><td>NL        </td><td>4983000   </td><td>1         </td><td>PHI       </td><td>NL        </td><td>162       </td><td>162       </td><td>...       </td><td>11        </td><td>1         </td><td>0         </td><td>9         </td><td>13        </td><td>162       </td><td>0.28911565</td><td>0.3934659 </td><td>87        </td><td>0.54251701</td></tr>\n",
       "\t<tr><td>adamste01 </td><td>2001      </td><td>LAN       </td><td>NL        </td><td>2600000   </td><td>1         </td><td>LAN       </td><td>NL        </td><td> 43       </td><td> 41       </td><td>...       </td><td> 0        </td><td>0         </td><td>5         </td><td>1         </td><td> 0        </td><td> 41       </td><td>0.05128205</td><td>0.1162791 </td><td> 1        </td><td>0.07692308</td></tr>\n",
       "\t<tr><td>agbaybe01 </td><td>2001      </td><td>NYN       </td><td>NL        </td><td> 260000   </td><td>1         </td><td>NYN       </td><td>NL        </td><td> 91       </td><td> 91       </td><td>...       </td><td> 0        </td><td>5         </td><td>1         </td><td>1         </td><td>11        </td><td> 91       </td><td>0.27702703</td><td>0.3639053 </td><td>60        </td><td>0.39864865</td></tr>\n",
       "\t<tr><td>alfonan01 </td><td>2001      </td><td>FLO       </td><td>NL        </td><td>2450000   </td><td>1         </td><td>FLO       </td><td>NL        </td><td> 58       </td><td> 54       </td><td>...       </td><td> 0        </td><td>0         </td><td>0         </td><td>0         </td><td> 0        </td><td> 54       </td><td>       NaN</td><td>      NaN </td><td> 0        </td><td>       NaN</td></tr>\n",
       "\t<tr><td>alfoned01 </td><td>2001      </td><td>NYN       </td><td>NL        </td><td>5750000   </td><td>1         </td><td>NYN       </td><td>NL        </td><td>124       </td><td>124       </td><td>...       </td><td> 0        </td><td>5         </td><td>1         </td><td>5         </td><td> 7        </td><td>124       </td><td>0.24288840</td><td>0.3223938 </td><td>72        </td><td>0.40262582</td></tr>\n",
       "\t<tr><td>alicelu01 </td><td>2001      </td><td>KCA       </td><td>AL        </td><td> 800000   </td><td>1         </td><td>KCA       </td><td>AL        </td><td>113       </td><td>113       </td><td>...       </td><td> 0        </td><td>4         </td><td>3         </td><td>1         </td><td> 6        </td><td>113       </td><td>0.27390181</td><td>0.3204819 </td><td>82        </td><td>0.36692506</td></tr>\n",
       "\t<tr><td>allench01 </td><td>2001      </td><td>MIN       </td><td>AL        </td><td> 240000   </td><td>1         </td><td>MIN       </td><td>AL        </td><td> 57       </td><td> 57       </td><td>...       </td><td> 1        </td><td>0         </td><td>0         </td><td>1         </td><td> 7        </td><td> 57       </td><td>0.26285714</td><td>0.3333333 </td><td>27        </td><td>0.42857143</td></tr>\n",
       "</tbody>\n",
       "</table>\n"
      ],
      "text/latex": [
       "\\begin{tabular}{r|lllllllllllllllllllllllllllllll}\n",
       " playerID & yearID & teamID.x & lgID.x & salary & stint & teamID.y & lgID.y & G & G\\_batting & ... & IBB & HBP & SH & SF & GIDP & G\\_old & BA & OBP & X1B & SLG\\\\\n",
       "\\hline\n",
       "\t abbotje01  & 2001       & FLO        & NL         &  300000    & 1          & FLO        & NL         &  28        &  28        & ...        &  0         & 1          & 0          & 0          &  1         &  28        & 0.26190476 & 0.3260870  &  8         & 0.33333333\\\\\n",
       "\t abbotku01  & 2001       & ATL        & NL         &  600000    & 1          & ATL        & NL         &   6        &   6        & ...        &  0         & 0          & 0          & 0          &  0         &   6        & 0.22222222 & 0.2222222  &  2         & 0.22222222\\\\\n",
       "\t abbotpa01  & 2001       & SEA        & AL         & 1700000    & 1          & SEA        & AL         &  28        &   2        & ...        &  0         & 0          & 1          & 0          &  0         &   2        & 0.25000000 & 0.2500000  &  1         & 0.25000000\\\\\n",
       "\t abreubo01  & 2001       & PHI        & NL         & 4983000    & 1          & PHI        & NL         & 162        & 162        & ...        & 11         & 1          & 0          & 9          & 13         & 162        & 0.28911565 & 0.3934659  & 87         & 0.54251701\\\\\n",
       "\t adamste01  & 2001       & LAN        & NL         & 2600000    & 1          & LAN        & NL         &  43        &  41        & ...        &  0         & 0          & 5          & 1          &  0         &  41        & 0.05128205 & 0.1162791  &  1         & 0.07692308\\\\\n",
       "\t agbaybe01  & 2001       & NYN        & NL         &  260000    & 1          & NYN        & NL         &  91        &  91        & ...        &  0         & 5          & 1          & 1          & 11         &  91        & 0.27702703 & 0.3639053  & 60         & 0.39864865\\\\\n",
       "\t alfonan01  & 2001       & FLO        & NL         & 2450000    & 1          & FLO        & NL         &  58        &  54        & ...        &  0         & 0          & 0          & 0          &  0         &  54        &        NaN &       NaN  &  0         &        NaN\\\\\n",
       "\t alfoned01  & 2001       & NYN        & NL         & 5750000    & 1          & NYN        & NL         & 124        & 124        & ...        &  0         & 5          & 1          & 5          &  7         & 124        & 0.24288840 & 0.3223938  & 72         & 0.40262582\\\\\n",
       "\t alicelu01  & 2001       & KCA        & AL         &  800000    & 1          & KCA        & AL         & 113        & 113        & ...        &  0         & 4          & 3          & 1          &  6         & 113        & 0.27390181 & 0.3204819  & 82         & 0.36692506\\\\\n",
       "\t allench01  & 2001       & MIN        & AL         &  240000    & 1          & MIN        & AL         &  57        &  57        & ...        &  1         & 0          & 0          & 1          &  7         &  57        & 0.26285714 & 0.3333333  & 27         & 0.42857143\\\\\n",
       "\\end{tabular}\n"
      ],
      "text/markdown": [
       "\n",
       "| playerID | yearID | teamID.x | lgID.x | salary | stint | teamID.y | lgID.y | G | G_batting | ... | IBB | HBP | SH | SF | GIDP | G_old | BA | OBP | X1B | SLG |\n",
       "|---|---|---|---|---|---|---|---|---|---|---|---|---|---|---|---|---|---|---|---|---|\n",
       "| abbotje01  | 2001       | FLO        | NL         |  300000    | 1          | FLO        | NL         |  28        |  28        | ...        |  0         | 1          | 0          | 0          |  1         |  28        | 0.26190476 | 0.3260870  |  8         | 0.33333333 |\n",
       "| abbotku01  | 2001       | ATL        | NL         |  600000    | 1          | ATL        | NL         |   6        |   6        | ...        |  0         | 0          | 0          | 0          |  0         |   6        | 0.22222222 | 0.2222222  |  2         | 0.22222222 |\n",
       "| abbotpa01  | 2001       | SEA        | AL         | 1700000    | 1          | SEA        | AL         |  28        |   2        | ...        |  0         | 0          | 1          | 0          |  0         |   2        | 0.25000000 | 0.2500000  |  1         | 0.25000000 |\n",
       "| abreubo01  | 2001       | PHI        | NL         | 4983000    | 1          | PHI        | NL         | 162        | 162        | ...        | 11         | 1          | 0          | 9          | 13         | 162        | 0.28911565 | 0.3934659  | 87         | 0.54251701 |\n",
       "| adamste01  | 2001       | LAN        | NL         | 2600000    | 1          | LAN        | NL         |  43        |  41        | ...        |  0         | 0          | 5          | 1          |  0         |  41        | 0.05128205 | 0.1162791  |  1         | 0.07692308 |\n",
       "| agbaybe01  | 2001       | NYN        | NL         |  260000    | 1          | NYN        | NL         |  91        |  91        | ...        |  0         | 5          | 1          | 1          | 11         |  91        | 0.27702703 | 0.3639053  | 60         | 0.39864865 |\n",
       "| alfonan01  | 2001       | FLO        | NL         | 2450000    | 1          | FLO        | NL         |  58        |  54        | ...        |  0         | 0          | 0          | 0          |  0         |  54        |        NaN |       NaN  |  0         |        NaN |\n",
       "| alfoned01  | 2001       | NYN        | NL         | 5750000    | 1          | NYN        | NL         | 124        | 124        | ...        |  0         | 5          | 1          | 5          |  7         | 124        | 0.24288840 | 0.3223938  | 72         | 0.40262582 |\n",
       "| alicelu01  | 2001       | KCA        | AL         |  800000    | 1          | KCA        | AL         | 113        | 113        | ...        |  0         | 4          | 3          | 1          |  6         | 113        | 0.27390181 | 0.3204819  | 82         | 0.36692506 |\n",
       "| allench01  | 2001       | MIN        | AL         |  240000    | 1          | MIN        | AL         |  57        |  57        | ...        |  1         | 0          | 0          | 1          |  7         |  57        | 0.26285714 | 0.3333333  | 27         | 0.42857143 |\n",
       "\n"
      ],
      "text/plain": [
       "   playerID  yearID teamID.x lgID.x salary  stint teamID.y lgID.y G   G_batting\n",
       "1  abbotje01 2001   FLO      NL      300000 1     FLO      NL      28  28      \n",
       "2  abbotku01 2001   ATL      NL      600000 1     ATL      NL       6   6      \n",
       "3  abbotpa01 2001   SEA      AL     1700000 1     SEA      AL      28   2      \n",
       "4  abreubo01 2001   PHI      NL     4983000 1     PHI      NL     162 162      \n",
       "5  adamste01 2001   LAN      NL     2600000 1     LAN      NL      43  41      \n",
       "6  agbaybe01 2001   NYN      NL      260000 1     NYN      NL      91  91      \n",
       "7  alfonan01 2001   FLO      NL     2450000 1     FLO      NL      58  54      \n",
       "8  alfoned01 2001   NYN      NL     5750000 1     NYN      NL     124 124      \n",
       "9  alicelu01 2001   KCA      AL      800000 1     KCA      AL     113 113      \n",
       "10 allench01 2001   MIN      AL      240000 1     MIN      AL      57  57      \n",
       "   ... IBB HBP SH SF GIDP G_old BA         OBP       X1B SLG       \n",
       "1  ...  0  1   0  0   1    28   0.26190476 0.3260870  8  0.33333333\n",
       "2  ...  0  0   0  0   0     6   0.22222222 0.2222222  2  0.22222222\n",
       "3  ...  0  0   1  0   0     2   0.25000000 0.2500000  1  0.25000000\n",
       "4  ... 11  1   0  9  13   162   0.28911565 0.3934659 87  0.54251701\n",
       "5  ...  0  0   5  1   0    41   0.05128205 0.1162791  1  0.07692308\n",
       "6  ...  0  5   1  1  11    91   0.27702703 0.3639053 60  0.39864865\n",
       "7  ...  0  0   0  0   0    54          NaN       NaN  0         NaN\n",
       "8  ...  0  5   1  5   7   124   0.24288840 0.3223938 72  0.40262582\n",
       "9  ...  0  4   3  1   6   113   0.27390181 0.3204819 82  0.36692506\n",
       "10 ...  1  0   0  1   7    57   0.26285714 0.3333333 27  0.42857143"
      ]
     },
     "metadata": {},
     "output_type": "display_data"
    }
   ],
   "source": [
    "# merge both data\n",
    "s3=merge(s1,s2,by=c('playerID', 'yearID'))\n",
    "head(s3,10)"
   ]
  },
  {
   "cell_type": "markdown",
   "id": "4c6d55dc",
   "metadata": {},
   "source": [
    "# Analyzing the Lost Players\n",
    " As previously mentioned, the Oakland A's lost 3 key players during the off-season. We'll want to get their stats to see what we have to replace. The players lost were: first baseman 2000 AL MVP Jason Giambi (giambja01) to the New York Yankees, outfielder Johnny Damon (damonjo01) to the Boston Red Sox and infielder Rainer Gustavo \"Ray\" Olmedo ('saenzol01')."
   ]
  },
  {
   "cell_type": "markdown",
   "id": "38e8b4b7",
   "metadata": {},
   "source": [
    "#### Use the filter() function to get a data frame called lost_players from the combo data frame consisting of those 3 players. Hint: Try to figure out how to use %in% to avoid a bunch of or statements!"
   ]
  },
  {
   "cell_type": "code",
   "execution_count": 23,
   "id": "7eb57a58",
   "metadata": {},
   "outputs": [],
   "source": [
    "lost_player= bats %>% filter(playerID %in% c(\"giambja01\",\"damonjo01\",\"saenzol01\"))"
   ]
  },
  {
   "cell_type": "code",
   "execution_count": 24,
   "id": "d95b3321",
   "metadata": {},
   "outputs": [
    {
     "data": {
      "text/html": [
       "<table>\n",
       "<thead><tr><th scope=col>playerID</th><th scope=col>yearID</th><th scope=col>stint</th><th scope=col>teamID</th><th scope=col>lgID</th><th scope=col>G</th><th scope=col>G_batting</th><th scope=col>AB</th><th scope=col>R</th><th scope=col>H</th><th scope=col>...</th><th scope=col>IBB</th><th scope=col>HBP</th><th scope=col>SH</th><th scope=col>SF</th><th scope=col>GIDP</th><th scope=col>G_old</th><th scope=col>BA</th><th scope=col>OBP</th><th scope=col>X1B</th><th scope=col>SLG</th></tr></thead>\n",
       "<tbody>\n",
       "\t<tr><td>damonjo01</td><td>1995     </td><td>1        </td><td>KCA      </td><td>AL       </td><td> 47      </td><td> 47      </td><td>188      </td><td> 32      </td><td> 53      </td><td>...      </td><td> 0       </td><td> 1       </td><td> 2       </td><td> 3       </td><td> 2       </td><td> 47      </td><td>0.2819149</td><td>0.3235294</td><td> 34      </td><td>0.4414894</td></tr>\n",
       "\t<tr><td>damonjo01</td><td>1996     </td><td>1        </td><td>KCA      </td><td>AL       </td><td>145      </td><td>145      </td><td>517      </td><td> 61      </td><td>140      </td><td>...      </td><td> 3       </td><td> 3       </td><td>10       </td><td> 5       </td><td> 4       </td><td>145      </td><td>0.2707930</td><td>0.3129496</td><td>107      </td><td>0.3675048</td></tr>\n",
       "\t<tr><td>damonjo01</td><td>1997     </td><td>1        </td><td>KCA      </td><td>AL       </td><td>146      </td><td>146      </td><td>472      </td><td> 70      </td><td>130      </td><td>...      </td><td> 2       </td><td> 3       </td><td> 6       </td><td> 1       </td><td> 3       </td><td>146      </td><td>0.2754237</td><td>0.3378378</td><td>102      </td><td>0.3855932</td></tr>\n",
       "\t<tr><td>damonjo01</td><td>1998     </td><td>1        </td><td>KCA      </td><td>AL       </td><td>161      </td><td>161      </td><td>642      </td><td>104      </td><td>178      </td><td>...      </td><td> 4       </td><td> 4       </td><td> 3       </td><td> 3       </td><td> 4       </td><td>161      </td><td>0.2772586</td><td>0.3394625</td><td>120      </td><td>0.4392523</td></tr>\n",
       "\t<tr><td>damonjo01</td><td>1999     </td><td>1        </td><td>KCA      </td><td>AL       </td><td>145      </td><td>145      </td><td>583      </td><td>101      </td><td>179      </td><td>...      </td><td> 5       </td><td> 3       </td><td> 3       </td><td> 4       </td><td>13       </td><td>145      </td><td>0.3070326</td><td>0.3789954</td><td>117      </td><td>0.4768439</td></tr>\n",
       "\t<tr><td>damonjo01</td><td>2000     </td><td>1        </td><td>KCA      </td><td>AL       </td><td>159      </td><td>159      </td><td>655      </td><td>136      </td><td>214      </td><td>...      </td><td> 4       </td><td> 1       </td><td> 8       </td><td>12       </td><td> 7       </td><td>159      </td><td>0.3267176</td><td>0.3819918</td><td>146      </td><td>0.4946565</td></tr>\n",
       "\t<tr><td>damonjo01</td><td>2001     </td><td>1        </td><td>OAK      </td><td>AL       </td><td>155      </td><td>155      </td><td>644      </td><td>108      </td><td>165      </td><td>...      </td><td> 1       </td><td> 5       </td><td> 5       </td><td> 4       </td><td> 7       </td><td>155      </td><td>0.2562112</td><td>0.3235294</td><td>118      </td><td>0.3633540</td></tr>\n",
       "\t<tr><td>damonjo01</td><td>2002     </td><td>1        </td><td>BOS      </td><td>AL       </td><td>154      </td><td>154      </td><td>623      </td><td>118      </td><td>178      </td><td>...      </td><td> 5       </td><td> 6       </td><td> 3       </td><td> 5       </td><td> 4       </td><td>154      </td><td>0.2857143</td><td>0.3562232</td><td>119      </td><td>0.4430177</td></tr>\n",
       "\t<tr><td>damonjo01</td><td>2003     </td><td>1        </td><td>BOS      </td><td>AL       </td><td>145      </td><td>145      </td><td>608      </td><td>103      </td><td>166      </td><td>...      </td><td> 4       </td><td> 2       </td><td> 6       </td><td> 6       </td><td> 5       </td><td>145      </td><td>0.2730263</td><td>0.3450292</td><td>116      </td><td>0.4046053</td></tr>\n",
       "\t<tr><td>damonjo01</td><td>2004     </td><td>1        </td><td>BOS      </td><td>AL       </td><td>150      </td><td>150      </td><td>621      </td><td>123      </td><td>189      </td><td>...      </td><td> 1       </td><td> 2       </td><td> 0       </td><td> 3       </td><td> 8       </td><td>150      </td><td>0.3043478</td><td>0.3803419</td><td>128      </td><td>0.4766506</td></tr>\n",
       "\t<tr><td>damonjo01</td><td>2005     </td><td>1        </td><td>BOS      </td><td>AL       </td><td>148      </td><td>148      </td><td>624      </td><td>117      </td><td>197      </td><td>...      </td><td> 3       </td><td> 2       </td><td> 0       </td><td> 9       </td><td> 5       </td><td>148      </td><td>0.3157051</td><td>0.3662791</td><td>146      </td><td>0.4391026</td></tr>\n",
       "\t<tr><td>damonjo01</td><td>2006     </td><td>1        </td><td>NYA      </td><td>AL       </td><td>149      </td><td>149      </td><td>593      </td><td>115      </td><td>169      </td><td>...      </td><td> 1       </td><td> 4       </td><td> 2       </td><td> 5       </td><td> 4       </td><td>149      </td><td>0.2849916</td><td>0.3587444</td><td>105      </td><td>0.4822934</td></tr>\n",
       "\t<tr><td>damonjo01</td><td>2007     </td><td>1        </td><td>NYA      </td><td>AL       </td><td>141      </td><td>141      </td><td>533      </td><td> 93      </td><td>144      </td><td>...      </td><td> 1       </td><td> 2       </td><td> 1       </td><td> 3       </td><td> 4       </td><td>141      </td><td>0.2701689</td><td>0.3509934</td><td>103      </td><td>0.3958724</td></tr>\n",
       "\t<tr><td>damonjo01</td><td>2008     </td><td>1        </td><td>NYA      </td><td>AL       </td><td>143      </td><td>143      </td><td>555      </td><td> 95      </td><td>168      </td><td>...      </td><td> 0       </td><td> 1       </td><td> 2       </td><td> 1       </td><td> 5       </td><td>143      </td><td>0.3027027</td><td>0.3752013</td><td>119      </td><td>0.4612613</td></tr>\n",
       "\t<tr><td>damonjo01</td><td>2009     </td><td>1        </td><td>NYA      </td><td>AL       </td><td>143      </td><td>143      </td><td>550      </td><td>107      </td><td>155      </td><td>...      </td><td> 1       </td><td> 2       </td><td> 2       </td><td> 1       </td><td> 9       </td><td> NA      </td><td>0.2818182</td><td>0.3653846</td><td> 92      </td><td>0.4890909</td></tr>\n",
       "\t<tr><td>damonjo01</td><td>2010     </td><td>1        </td><td>DET      </td><td>AL       </td><td>145      </td><td>145      </td><td>539      </td><td> 81      </td><td>146      </td><td>...      </td><td> 2       </td><td> 2       </td><td> 2       </td><td> 1       </td><td> 5       </td><td> NA      </td><td>0.2708720</td><td>0.3551555</td><td> 97      </td><td>0.4007421</td></tr>\n",
       "\t<tr><td>damonjo01</td><td>2011     </td><td>1        </td><td>TBA      </td><td>AL       </td><td>150      </td><td>150      </td><td>582      </td><td> 79      </td><td>152      </td><td>...      </td><td> 1       </td><td> 7       </td><td> 2       </td><td> 5       </td><td> 4       </td><td>150      </td><td>0.2611684</td><td>0.3255814</td><td>100      </td><td>0.4175258</td></tr>\n",
       "\t<tr><td>damonjo01</td><td>2012     </td><td>1        </td><td>CLE      </td><td>AL       </td><td> 64      </td><td> NA      </td><td>207      </td><td> 25      </td><td> 46      </td><td>...      </td><td> 0       </td><td> 0       </td><td> 0       </td><td> 0       </td><td> 0       </td><td> NA      </td><td>0.2222222</td><td>0.2812500</td><td> 34      </td><td>0.3285024</td></tr>\n",
       "\t<tr><td>giambja01</td><td>1995     </td><td>1        </td><td>OAK      </td><td>AL       </td><td> 54      </td><td> 54      </td><td>176      </td><td> 27      </td><td> 45      </td><td>...      </td><td> 0       </td><td> 3       </td><td> 1       </td><td> 2       </td><td> 4       </td><td> 54      </td><td>0.2556818</td><td>0.3636364</td><td> 32      </td><td>0.3977273</td></tr>\n",
       "\t<tr><td>giambja01</td><td>1996     </td><td>1        </td><td>OAK      </td><td>AL       </td><td>140      </td><td>140      </td><td>536      </td><td> 84      </td><td>156      </td><td>...      </td><td> 3       </td><td> 5       </td><td> 1       </td><td> 5       </td><td>15       </td><td>140      </td><td>0.2910448</td><td>0.3551089</td><td> 95      </td><td>0.4813433</td></tr>\n",
       "\t<tr><td>giambja01</td><td>1997     </td><td>1        </td><td>OAK      </td><td>AL       </td><td>142      </td><td>142      </td><td>519      </td><td> 66      </td><td>152      </td><td>...      </td><td> 3       </td><td> 6       </td><td> 0       </td><td> 8       </td><td>11       </td><td>142      </td><td>0.2928709</td><td>0.3622449</td><td> 89      </td><td>0.4951830</td></tr>\n",
       "\t<tr><td>giambja01</td><td>1998     </td><td>1        </td><td>OAK      </td><td>AL       </td><td>153      </td><td>153      </td><td>562      </td><td> 92      </td><td>166      </td><td>...      </td><td> 7       </td><td> 5       </td><td> 0       </td><td> 9       </td><td>16       </td><td>153      </td><td>0.2953737</td><td>0.3835616</td><td>111      </td><td>0.4893238</td></tr>\n",
       "\t<tr><td>giambja01</td><td>1999     </td><td>1        </td><td>OAK      </td><td>AL       </td><td>158      </td><td>158      </td><td>575      </td><td>115      </td><td>181      </td><td>...      </td><td> 6       </td><td> 7       </td><td> 0       </td><td> 8       </td><td>11       </td><td>158      </td><td>0.3147826</td><td>0.4215827</td><td>111      </td><td>0.5530435</td></tr>\n",
       "\t<tr><td>giambja01</td><td>2000     </td><td>1        </td><td>OAK      </td><td>AL       </td><td>152      </td><td>152      </td><td>510      </td><td>108      </td><td>170      </td><td>...      </td><td> 6       </td><td> 9       </td><td> 0       </td><td> 8       </td><td> 9       </td><td>152      </td><td>0.3333333</td><td>0.4759036</td><td> 97      </td><td>0.6470588</td></tr>\n",
       "\t<tr><td>giambja01</td><td>2001     </td><td>1        </td><td>OAK      </td><td>AL       </td><td>154      </td><td>154      </td><td>520      </td><td>109      </td><td>178      </td><td>...      </td><td>24       </td><td>13       </td><td> 0       </td><td> 9       </td><td>17       </td><td>154      </td><td>0.3423077</td><td>0.4769001</td><td> 91      </td><td>0.6596154</td></tr>\n",
       "\t<tr><td>giambja01</td><td>2002     </td><td>1        </td><td>NYA      </td><td>AL       </td><td>155      </td><td>155      </td><td>560      </td><td>120      </td><td>176      </td><td>...      </td><td> 4       </td><td>15       </td><td> 0       </td><td> 5       </td><td>18       </td><td>155      </td><td>0.3142857</td><td>0.4354136</td><td>100      </td><td>0.5982143</td></tr>\n",
       "\t<tr><td>giambja01</td><td>2003     </td><td>1        </td><td>NYA      </td><td>AL       </td><td>156      </td><td>156      </td><td>535      </td><td> 97      </td><td>134      </td><td>...      </td><td> 9       </td><td>21       </td><td> 0       </td><td> 5       </td><td> 9       </td><td>156      </td><td>0.2504673</td><td>0.4115942</td><td> 68      </td><td>0.5271028</td></tr>\n",
       "\t<tr><td>giambja01</td><td>2004     </td><td>1        </td><td>NYA      </td><td>AL       </td><td> 80      </td><td> 80      </td><td>264      </td><td> 33      </td><td> 55      </td><td>...      </td><td> 1       </td><td> 8       </td><td> 0       </td><td> 3       </td><td> 5       </td><td> 80      </td><td>0.2083333</td><td>0.3416149</td><td> 34      </td><td>0.3787879</td></tr>\n",
       "\t<tr><td>giambja01</td><td>2005     </td><td>1        </td><td>NYA      </td><td>AL       </td><td>139      </td><td>139      </td><td>417      </td><td> 74      </td><td>113      </td><td>...      </td><td> 5       </td><td>19       </td><td> 0       </td><td> 1       </td><td> 7       </td><td>139      </td><td>0.2709832</td><td>0.4403670</td><td> 67      </td><td>0.5347722</td></tr>\n",
       "\t<tr><td>giambja01</td><td>2006     </td><td>1        </td><td>NYA      </td><td>AL       </td><td>139      </td><td>139      </td><td>446      </td><td> 92      </td><td>113      </td><td>...      </td><td>12       </td><td>16       </td><td> 0       </td><td> 7       </td><td>10       </td><td>139      </td><td>0.2533632</td><td>0.4127807</td><td> 51      </td><td>0.5582960</td></tr>\n",
       "\t<tr><td>giambja01</td><td>2007     </td><td>1        </td><td>NYA      </td><td>AL       </td><td> 83      </td><td> 83      </td><td>254      </td><td> 31      </td><td> 60      </td><td>...      </td><td> 2       </td><td> 8       </td><td> 0       </td><td> 1       </td><td> 1       </td><td> 83      </td><td>0.2362205</td><td>0.3564356</td><td> 38      </td><td>0.4330709</td></tr>\n",
       "\t<tr><td>giambja01</td><td>2008     </td><td>1        </td><td>NYA      </td><td>AL       </td><td>145      </td><td>145      </td><td>458      </td><td> 68      </td><td>113      </td><td>...      </td><td> 5       </td><td>22       </td><td> 0       </td><td> 9       </td><td> 6       </td><td>145      </td><td>0.2467249</td><td>0.3734513</td><td> 61      </td><td>0.5021834</td></tr>\n",
       "\t<tr><td>giambja01</td><td>2009     </td><td>1        </td><td>OAK      </td><td>AL       </td><td> 83      </td><td> 83      </td><td>269      </td><td> 39      </td><td> 52      </td><td>...      </td><td> 1       </td><td> 7       </td><td> 0       </td><td> 2       </td><td> 6       </td><td> NA      </td><td>0.1933086</td><td>0.3323171</td><td> 28      </td><td>0.3643123</td></tr>\n",
       "\t<tr><td>giambja01</td><td>2009     </td><td>2        </td><td>COL      </td><td>NL       </td><td> 19      </td><td> 19      </td><td> 24      </td><td>  4      </td><td>  7      </td><td>...      </td><td> 0       </td><td> 0       </td><td> 0       </td><td> 0       </td><td> 0       </td><td> NA      </td><td>0.2916667</td><td>0.4516129</td><td>  4      </td><td>0.5833333</td></tr>\n",
       "\t<tr><td>giambja01</td><td>2010     </td><td>1        </td><td>COL      </td><td>NL       </td><td> 87      </td><td> 87      </td><td>176      </td><td> 17      </td><td> 43      </td><td>...      </td><td> 5       </td><td> 6       </td><td> 0       </td><td> 5       </td><td> 5       </td><td> NA      </td><td>0.2443182</td><td>0.3783784</td><td> 28      </td><td>0.3977273</td></tr>\n",
       "\t<tr><td>giambja01</td><td>2011     </td><td>1        </td><td>COL      </td><td>NL       </td><td> 64      </td><td> 64      </td><td>131      </td><td> 20      </td><td> 34      </td><td>...      </td><td> 0       </td><td> 3       </td><td> 0       </td><td> 1       </td><td> 1       </td><td> 64      </td><td>0.2595420</td><td>0.3552632</td><td> 15      </td><td>0.6030534</td></tr>\n",
       "\t<tr><td>giambja01</td><td>2012     </td><td>1        </td><td>COL      </td><td>NL       </td><td> 60      </td><td> NA      </td><td> 89      </td><td>  7      </td><td> 20      </td><td>...      </td><td> 2       </td><td> 2       </td><td> 0       </td><td> 2       </td><td> 4       </td><td> NA      </td><td>0.2247191</td><td>0.3716814</td><td> 15      </td><td>0.3033708</td></tr>\n",
       "\t<tr><td>saenzol01</td><td>1994     </td><td>1        </td><td>CHA      </td><td>AL       </td><td>  5      </td><td>  5      </td><td> 14      </td><td>  2      </td><td>  2      </td><td>...      </td><td> 0       </td><td> 0       </td><td> 1       </td><td> 0       </td><td> 1       </td><td>  5      </td><td>0.1428571</td><td>0.1428571</td><td>  1      </td><td>0.2857143</td></tr>\n",
       "\t<tr><td>saenzol01</td><td>1999     </td><td>1        </td><td>OAK      </td><td>AL       </td><td> 97      </td><td> 97      </td><td>255      </td><td> 41      </td><td> 70      </td><td>...      </td><td> 1       </td><td>15       </td><td> 0       </td><td> 3       </td><td> 6       </td><td> 97      </td><td>0.2745098</td><td>0.3627119</td><td> 41      </td><td>0.4745098</td></tr>\n",
       "\t<tr><td>saenzol01</td><td>2000     </td><td>1        </td><td>OAK      </td><td>AL       </td><td> 76      </td><td> 76      </td><td>214      </td><td> 40      </td><td> 67      </td><td>...      </td><td> 2       </td><td> 7       </td><td> 0       </td><td> 1       </td><td> 6       </td><td> 76      </td><td>0.3130841</td><td>0.4008097</td><td> 44      </td><td>0.5140187</td></tr>\n",
       "\t<tr><td>saenzol01</td><td>2001     </td><td>1        </td><td>OAK      </td><td>AL       </td><td>106      </td><td>106      </td><td>305      </td><td> 33      </td><td> 67      </td><td>...      </td><td> 1       </td><td>13       </td><td> 1       </td><td> 3       </td><td> 9       </td><td>106      </td><td>0.2196721</td><td>0.2911765</td><td> 36      </td><td>0.3836066</td></tr>\n",
       "\t<tr><td>saenzol01</td><td>2002     </td><td>1        </td><td>OAK      </td><td>AL       </td><td> 68      </td><td> 68      </td><td>156      </td><td> 15      </td><td> 43      </td><td>...      </td><td> 1       </td><td> 7       </td><td> 0       </td><td> 2       </td><td> 2       </td><td> 68      </td><td>0.2756410</td><td>0.3539326</td><td> 26      </td><td>0.4679487</td></tr>\n",
       "\t<tr><td>saenzol01</td><td>2004     </td><td>1        </td><td>LAN      </td><td>NL       </td><td> 77      </td><td> 77      </td><td>111      </td><td> 17      </td><td> 31      </td><td>...      </td><td> 1       </td><td> 2       </td><td> 0       </td><td> 3       </td><td> 4       </td><td> 77      </td><td>0.2792793</td><td>0.3515625</td><td> 22      </td><td>0.5045045</td></tr>\n",
       "\t<tr><td>saenzol01</td><td>2005     </td><td>1        </td><td>LAN      </td><td>NL       </td><td>109      </td><td>109      </td><td>319      </td><td> 39      </td><td> 84      </td><td>...      </td><td> 1       </td><td> 3       </td><td> 0       </td><td> 2       </td><td>12       </td><td>109      </td><td>0.2633229</td><td>0.3247863</td><td> 45      </td><td>0.4796238</td></tr>\n",
       "\t<tr><td>saenzol01</td><td>2006     </td><td>1        </td><td>LAN      </td><td>NL       </td><td>103      </td><td>103      </td><td>179      </td><td> 30      </td><td> 53      </td><td>...      </td><td> 1       </td><td> 7       </td><td> 0       </td><td> 4       </td><td> 4       </td><td>103      </td><td>0.2960894</td><td>0.3627451</td><td> 27      </td><td>0.5642458</td></tr>\n",
       "\t<tr><td>saenzol01</td><td>2007     </td><td>1        </td><td>LAN      </td><td>NL       </td><td> 92      </td><td> 92      </td><td>110      </td><td>  9      </td><td> 21      </td><td>...      </td><td> 0       </td><td> 2       </td><td> 0       </td><td> 4       </td><td> 5       </td><td> 92      </td><td>0.1909091</td><td>0.2954545</td><td> 12      </td><td>0.3454545</td></tr>\n",
       "\t<tr><td>giambja01</td><td>2013     </td><td>1        </td><td>CLE      </td><td>AL       </td><td> 71      </td><td> 71      </td><td>186      </td><td> 21      </td><td> 34      </td><td>...      </td><td> 0       </td><td> 4       </td><td> 0       </td><td> 3       </td><td> 8       </td><td> NA      </td><td>0.1827957</td><td>0.2824074</td><td> 17      </td><td>0.3709677</td></tr>\n",
       "</tbody>\n",
       "</table>\n"
      ],
      "text/latex": [
       "\\begin{tabular}{r|llllllllllllllllllllllllllll}\n",
       " playerID & yearID & stint & teamID & lgID & G & G\\_batting & AB & R & H & ... & IBB & HBP & SH & SF & GIDP & G\\_old & BA & OBP & X1B & SLG\\\\\n",
       "\\hline\n",
       "\t damonjo01 & 1995      & 1         & KCA       & AL        &  47       &  47       & 188       &  32       &  53       & ...       &  0        &  1        &  2        &  3        &  2        &  47       & 0.2819149 & 0.3235294 &  34       & 0.4414894\\\\\n",
       "\t damonjo01 & 1996      & 1         & KCA       & AL        & 145       & 145       & 517       &  61       & 140       & ...       &  3        &  3        & 10        &  5        &  4        & 145       & 0.2707930 & 0.3129496 & 107       & 0.3675048\\\\\n",
       "\t damonjo01 & 1997      & 1         & KCA       & AL        & 146       & 146       & 472       &  70       & 130       & ...       &  2        &  3        &  6        &  1        &  3        & 146       & 0.2754237 & 0.3378378 & 102       & 0.3855932\\\\\n",
       "\t damonjo01 & 1998      & 1         & KCA       & AL        & 161       & 161       & 642       & 104       & 178       & ...       &  4        &  4        &  3        &  3        &  4        & 161       & 0.2772586 & 0.3394625 & 120       & 0.4392523\\\\\n",
       "\t damonjo01 & 1999      & 1         & KCA       & AL        & 145       & 145       & 583       & 101       & 179       & ...       &  5        &  3        &  3        &  4        & 13        & 145       & 0.3070326 & 0.3789954 & 117       & 0.4768439\\\\\n",
       "\t damonjo01 & 2000      & 1         & KCA       & AL        & 159       & 159       & 655       & 136       & 214       & ...       &  4        &  1        &  8        & 12        &  7        & 159       & 0.3267176 & 0.3819918 & 146       & 0.4946565\\\\\n",
       "\t damonjo01 & 2001      & 1         & OAK       & AL        & 155       & 155       & 644       & 108       & 165       & ...       &  1        &  5        &  5        &  4        &  7        & 155       & 0.2562112 & 0.3235294 & 118       & 0.3633540\\\\\n",
       "\t damonjo01 & 2002      & 1         & BOS       & AL        & 154       & 154       & 623       & 118       & 178       & ...       &  5        &  6        &  3        &  5        &  4        & 154       & 0.2857143 & 0.3562232 & 119       & 0.4430177\\\\\n",
       "\t damonjo01 & 2003      & 1         & BOS       & AL        & 145       & 145       & 608       & 103       & 166       & ...       &  4        &  2        &  6        &  6        &  5        & 145       & 0.2730263 & 0.3450292 & 116       & 0.4046053\\\\\n",
       "\t damonjo01 & 2004      & 1         & BOS       & AL        & 150       & 150       & 621       & 123       & 189       & ...       &  1        &  2        &  0        &  3        &  8        & 150       & 0.3043478 & 0.3803419 & 128       & 0.4766506\\\\\n",
       "\t damonjo01 & 2005      & 1         & BOS       & AL        & 148       & 148       & 624       & 117       & 197       & ...       &  3        &  2        &  0        &  9        &  5        & 148       & 0.3157051 & 0.3662791 & 146       & 0.4391026\\\\\n",
       "\t damonjo01 & 2006      & 1         & NYA       & AL        & 149       & 149       & 593       & 115       & 169       & ...       &  1        &  4        &  2        &  5        &  4        & 149       & 0.2849916 & 0.3587444 & 105       & 0.4822934\\\\\n",
       "\t damonjo01 & 2007      & 1         & NYA       & AL        & 141       & 141       & 533       &  93       & 144       & ...       &  1        &  2        &  1        &  3        &  4        & 141       & 0.2701689 & 0.3509934 & 103       & 0.3958724\\\\\n",
       "\t damonjo01 & 2008      & 1         & NYA       & AL        & 143       & 143       & 555       &  95       & 168       & ...       &  0        &  1        &  2        &  1        &  5        & 143       & 0.3027027 & 0.3752013 & 119       & 0.4612613\\\\\n",
       "\t damonjo01 & 2009      & 1         & NYA       & AL        & 143       & 143       & 550       & 107       & 155       & ...       &  1        &  2        &  2        &  1        &  9        &  NA       & 0.2818182 & 0.3653846 &  92       & 0.4890909\\\\\n",
       "\t damonjo01 & 2010      & 1         & DET       & AL        & 145       & 145       & 539       &  81       & 146       & ...       &  2        &  2        &  2        &  1        &  5        &  NA       & 0.2708720 & 0.3551555 &  97       & 0.4007421\\\\\n",
       "\t damonjo01 & 2011      & 1         & TBA       & AL        & 150       & 150       & 582       &  79       & 152       & ...       &  1        &  7        &  2        &  5        &  4        & 150       & 0.2611684 & 0.3255814 & 100       & 0.4175258\\\\\n",
       "\t damonjo01 & 2012      & 1         & CLE       & AL        &  64       &  NA       & 207       &  25       &  46       & ...       &  0        &  0        &  0        &  0        &  0        &  NA       & 0.2222222 & 0.2812500 &  34       & 0.3285024\\\\\n",
       "\t giambja01 & 1995      & 1         & OAK       & AL        &  54       &  54       & 176       &  27       &  45       & ...       &  0        &  3        &  1        &  2        &  4        &  54       & 0.2556818 & 0.3636364 &  32       & 0.3977273\\\\\n",
       "\t giambja01 & 1996      & 1         & OAK       & AL        & 140       & 140       & 536       &  84       & 156       & ...       &  3        &  5        &  1        &  5        & 15        & 140       & 0.2910448 & 0.3551089 &  95       & 0.4813433\\\\\n",
       "\t giambja01 & 1997      & 1         & OAK       & AL        & 142       & 142       & 519       &  66       & 152       & ...       &  3        &  6        &  0        &  8        & 11        & 142       & 0.2928709 & 0.3622449 &  89       & 0.4951830\\\\\n",
       "\t giambja01 & 1998      & 1         & OAK       & AL        & 153       & 153       & 562       &  92       & 166       & ...       &  7        &  5        &  0        &  9        & 16        & 153       & 0.2953737 & 0.3835616 & 111       & 0.4893238\\\\\n",
       "\t giambja01 & 1999      & 1         & OAK       & AL        & 158       & 158       & 575       & 115       & 181       & ...       &  6        &  7        &  0        &  8        & 11        & 158       & 0.3147826 & 0.4215827 & 111       & 0.5530435\\\\\n",
       "\t giambja01 & 2000      & 1         & OAK       & AL        & 152       & 152       & 510       & 108       & 170       & ...       &  6        &  9        &  0        &  8        &  9        & 152       & 0.3333333 & 0.4759036 &  97       & 0.6470588\\\\\n",
       "\t giambja01 & 2001      & 1         & OAK       & AL        & 154       & 154       & 520       & 109       & 178       & ...       & 24        & 13        &  0        &  9        & 17        & 154       & 0.3423077 & 0.4769001 &  91       & 0.6596154\\\\\n",
       "\t giambja01 & 2002      & 1         & NYA       & AL        & 155       & 155       & 560       & 120       & 176       & ...       &  4        & 15        &  0        &  5        & 18        & 155       & 0.3142857 & 0.4354136 & 100       & 0.5982143\\\\\n",
       "\t giambja01 & 2003      & 1         & NYA       & AL        & 156       & 156       & 535       &  97       & 134       & ...       &  9        & 21        &  0        &  5        &  9        & 156       & 0.2504673 & 0.4115942 &  68       & 0.5271028\\\\\n",
       "\t giambja01 & 2004      & 1         & NYA       & AL        &  80       &  80       & 264       &  33       &  55       & ...       &  1        &  8        &  0        &  3        &  5        &  80       & 0.2083333 & 0.3416149 &  34       & 0.3787879\\\\\n",
       "\t giambja01 & 2005      & 1         & NYA       & AL        & 139       & 139       & 417       &  74       & 113       & ...       &  5        & 19        &  0        &  1        &  7        & 139       & 0.2709832 & 0.4403670 &  67       & 0.5347722\\\\\n",
       "\t giambja01 & 2006      & 1         & NYA       & AL        & 139       & 139       & 446       &  92       & 113       & ...       & 12        & 16        &  0        &  7        & 10        & 139       & 0.2533632 & 0.4127807 &  51       & 0.5582960\\\\\n",
       "\t giambja01 & 2007      & 1         & NYA       & AL        &  83       &  83       & 254       &  31       &  60       & ...       &  2        &  8        &  0        &  1        &  1        &  83       & 0.2362205 & 0.3564356 &  38       & 0.4330709\\\\\n",
       "\t giambja01 & 2008      & 1         & NYA       & AL        & 145       & 145       & 458       &  68       & 113       & ...       &  5        & 22        &  0        &  9        &  6        & 145       & 0.2467249 & 0.3734513 &  61       & 0.5021834\\\\\n",
       "\t giambja01 & 2009      & 1         & OAK       & AL        &  83       &  83       & 269       &  39       &  52       & ...       &  1        &  7        &  0        &  2        &  6        &  NA       & 0.1933086 & 0.3323171 &  28       & 0.3643123\\\\\n",
       "\t giambja01 & 2009      & 2         & COL       & NL        &  19       &  19       &  24       &   4       &   7       & ...       &  0        &  0        &  0        &  0        &  0        &  NA       & 0.2916667 & 0.4516129 &   4       & 0.5833333\\\\\n",
       "\t giambja01 & 2010      & 1         & COL       & NL        &  87       &  87       & 176       &  17       &  43       & ...       &  5        &  6        &  0        &  5        &  5        &  NA       & 0.2443182 & 0.3783784 &  28       & 0.3977273\\\\\n",
       "\t giambja01 & 2011      & 1         & COL       & NL        &  64       &  64       & 131       &  20       &  34       & ...       &  0        &  3        &  0        &  1        &  1        &  64       & 0.2595420 & 0.3552632 &  15       & 0.6030534\\\\\n",
       "\t giambja01 & 2012      & 1         & COL       & NL        &  60       &  NA       &  89       &   7       &  20       & ...       &  2        &  2        &  0        &  2        &  4        &  NA       & 0.2247191 & 0.3716814 &  15       & 0.3033708\\\\\n",
       "\t saenzol01 & 1994      & 1         & CHA       & AL        &   5       &   5       &  14       &   2       &   2       & ...       &  0        &  0        &  1        &  0        &  1        &   5       & 0.1428571 & 0.1428571 &   1       & 0.2857143\\\\\n",
       "\t saenzol01 & 1999      & 1         & OAK       & AL        &  97       &  97       & 255       &  41       &  70       & ...       &  1        & 15        &  0        &  3        &  6        &  97       & 0.2745098 & 0.3627119 &  41       & 0.4745098\\\\\n",
       "\t saenzol01 & 2000      & 1         & OAK       & AL        &  76       &  76       & 214       &  40       &  67       & ...       &  2        &  7        &  0        &  1        &  6        &  76       & 0.3130841 & 0.4008097 &  44       & 0.5140187\\\\\n",
       "\t saenzol01 & 2001      & 1         & OAK       & AL        & 106       & 106       & 305       &  33       &  67       & ...       &  1        & 13        &  1        &  3        &  9        & 106       & 0.2196721 & 0.2911765 &  36       & 0.3836066\\\\\n",
       "\t saenzol01 & 2002      & 1         & OAK       & AL        &  68       &  68       & 156       &  15       &  43       & ...       &  1        &  7        &  0        &  2        &  2        &  68       & 0.2756410 & 0.3539326 &  26       & 0.4679487\\\\\n",
       "\t saenzol01 & 2004      & 1         & LAN       & NL        &  77       &  77       & 111       &  17       &  31       & ...       &  1        &  2        &  0        &  3        &  4        &  77       & 0.2792793 & 0.3515625 &  22       & 0.5045045\\\\\n",
       "\t saenzol01 & 2005      & 1         & LAN       & NL        & 109       & 109       & 319       &  39       &  84       & ...       &  1        &  3        &  0        &  2        & 12        & 109       & 0.2633229 & 0.3247863 &  45       & 0.4796238\\\\\n",
       "\t saenzol01 & 2006      & 1         & LAN       & NL        & 103       & 103       & 179       &  30       &  53       & ...       &  1        &  7        &  0        &  4        &  4        & 103       & 0.2960894 & 0.3627451 &  27       & 0.5642458\\\\\n",
       "\t saenzol01 & 2007      & 1         & LAN       & NL        &  92       &  92       & 110       &   9       &  21       & ...       &  0        &  2        &  0        &  4        &  5        &  92       & 0.1909091 & 0.2954545 &  12       & 0.3454545\\\\\n",
       "\t giambja01 & 2013      & 1         & CLE       & AL        &  71       &  71       & 186       &  21       &  34       & ...       &  0        &  4        &  0        &  3        &  8        &  NA       & 0.1827957 & 0.2824074 &  17       & 0.3709677\\\\\n",
       "\\end{tabular}\n"
      ],
      "text/markdown": [
       "\n",
       "| playerID | yearID | stint | teamID | lgID | G | G_batting | AB | R | H | ... | IBB | HBP | SH | SF | GIDP | G_old | BA | OBP | X1B | SLG |\n",
       "|---|---|---|---|---|---|---|---|---|---|---|---|---|---|---|---|---|---|---|---|---|\n",
       "| damonjo01 | 1995      | 1         | KCA       | AL        |  47       |  47       | 188       |  32       |  53       | ...       |  0        |  1        |  2        |  3        |  2        |  47       | 0.2819149 | 0.3235294 |  34       | 0.4414894 |\n",
       "| damonjo01 | 1996      | 1         | KCA       | AL        | 145       | 145       | 517       |  61       | 140       | ...       |  3        |  3        | 10        |  5        |  4        | 145       | 0.2707930 | 0.3129496 | 107       | 0.3675048 |\n",
       "| damonjo01 | 1997      | 1         | KCA       | AL        | 146       | 146       | 472       |  70       | 130       | ...       |  2        |  3        |  6        |  1        |  3        | 146       | 0.2754237 | 0.3378378 | 102       | 0.3855932 |\n",
       "| damonjo01 | 1998      | 1         | KCA       | AL        | 161       | 161       | 642       | 104       | 178       | ...       |  4        |  4        |  3        |  3        |  4        | 161       | 0.2772586 | 0.3394625 | 120       | 0.4392523 |\n",
       "| damonjo01 | 1999      | 1         | KCA       | AL        | 145       | 145       | 583       | 101       | 179       | ...       |  5        |  3        |  3        |  4        | 13        | 145       | 0.3070326 | 0.3789954 | 117       | 0.4768439 |\n",
       "| damonjo01 | 2000      | 1         | KCA       | AL        | 159       | 159       | 655       | 136       | 214       | ...       |  4        |  1        |  8        | 12        |  7        | 159       | 0.3267176 | 0.3819918 | 146       | 0.4946565 |\n",
       "| damonjo01 | 2001      | 1         | OAK       | AL        | 155       | 155       | 644       | 108       | 165       | ...       |  1        |  5        |  5        |  4        |  7        | 155       | 0.2562112 | 0.3235294 | 118       | 0.3633540 |\n",
       "| damonjo01 | 2002      | 1         | BOS       | AL        | 154       | 154       | 623       | 118       | 178       | ...       |  5        |  6        |  3        |  5        |  4        | 154       | 0.2857143 | 0.3562232 | 119       | 0.4430177 |\n",
       "| damonjo01 | 2003      | 1         | BOS       | AL        | 145       | 145       | 608       | 103       | 166       | ...       |  4        |  2        |  6        |  6        |  5        | 145       | 0.2730263 | 0.3450292 | 116       | 0.4046053 |\n",
       "| damonjo01 | 2004      | 1         | BOS       | AL        | 150       | 150       | 621       | 123       | 189       | ...       |  1        |  2        |  0        |  3        |  8        | 150       | 0.3043478 | 0.3803419 | 128       | 0.4766506 |\n",
       "| damonjo01 | 2005      | 1         | BOS       | AL        | 148       | 148       | 624       | 117       | 197       | ...       |  3        |  2        |  0        |  9        |  5        | 148       | 0.3157051 | 0.3662791 | 146       | 0.4391026 |\n",
       "| damonjo01 | 2006      | 1         | NYA       | AL        | 149       | 149       | 593       | 115       | 169       | ...       |  1        |  4        |  2        |  5        |  4        | 149       | 0.2849916 | 0.3587444 | 105       | 0.4822934 |\n",
       "| damonjo01 | 2007      | 1         | NYA       | AL        | 141       | 141       | 533       |  93       | 144       | ...       |  1        |  2        |  1        |  3        |  4        | 141       | 0.2701689 | 0.3509934 | 103       | 0.3958724 |\n",
       "| damonjo01 | 2008      | 1         | NYA       | AL        | 143       | 143       | 555       |  95       | 168       | ...       |  0        |  1        |  2        |  1        |  5        | 143       | 0.3027027 | 0.3752013 | 119       | 0.4612613 |\n",
       "| damonjo01 | 2009      | 1         | NYA       | AL        | 143       | 143       | 550       | 107       | 155       | ...       |  1        |  2        |  2        |  1        |  9        |  NA       | 0.2818182 | 0.3653846 |  92       | 0.4890909 |\n",
       "| damonjo01 | 2010      | 1         | DET       | AL        | 145       | 145       | 539       |  81       | 146       | ...       |  2        |  2        |  2        |  1        |  5        |  NA       | 0.2708720 | 0.3551555 |  97       | 0.4007421 |\n",
       "| damonjo01 | 2011      | 1         | TBA       | AL        | 150       | 150       | 582       |  79       | 152       | ...       |  1        |  7        |  2        |  5        |  4        | 150       | 0.2611684 | 0.3255814 | 100       | 0.4175258 |\n",
       "| damonjo01 | 2012      | 1         | CLE       | AL        |  64       |  NA       | 207       |  25       |  46       | ...       |  0        |  0        |  0        |  0        |  0        |  NA       | 0.2222222 | 0.2812500 |  34       | 0.3285024 |\n",
       "| giambja01 | 1995      | 1         | OAK       | AL        |  54       |  54       | 176       |  27       |  45       | ...       |  0        |  3        |  1        |  2        |  4        |  54       | 0.2556818 | 0.3636364 |  32       | 0.3977273 |\n",
       "| giambja01 | 1996      | 1         | OAK       | AL        | 140       | 140       | 536       |  84       | 156       | ...       |  3        |  5        |  1        |  5        | 15        | 140       | 0.2910448 | 0.3551089 |  95       | 0.4813433 |\n",
       "| giambja01 | 1997      | 1         | OAK       | AL        | 142       | 142       | 519       |  66       | 152       | ...       |  3        |  6        |  0        |  8        | 11        | 142       | 0.2928709 | 0.3622449 |  89       | 0.4951830 |\n",
       "| giambja01 | 1998      | 1         | OAK       | AL        | 153       | 153       | 562       |  92       | 166       | ...       |  7        |  5        |  0        |  9        | 16        | 153       | 0.2953737 | 0.3835616 | 111       | 0.4893238 |\n",
       "| giambja01 | 1999      | 1         | OAK       | AL        | 158       | 158       | 575       | 115       | 181       | ...       |  6        |  7        |  0        |  8        | 11        | 158       | 0.3147826 | 0.4215827 | 111       | 0.5530435 |\n",
       "| giambja01 | 2000      | 1         | OAK       | AL        | 152       | 152       | 510       | 108       | 170       | ...       |  6        |  9        |  0        |  8        |  9        | 152       | 0.3333333 | 0.4759036 |  97       | 0.6470588 |\n",
       "| giambja01 | 2001      | 1         | OAK       | AL        | 154       | 154       | 520       | 109       | 178       | ...       | 24        | 13        |  0        |  9        | 17        | 154       | 0.3423077 | 0.4769001 |  91       | 0.6596154 |\n",
       "| giambja01 | 2002      | 1         | NYA       | AL        | 155       | 155       | 560       | 120       | 176       | ...       |  4        | 15        |  0        |  5        | 18        | 155       | 0.3142857 | 0.4354136 | 100       | 0.5982143 |\n",
       "| giambja01 | 2003      | 1         | NYA       | AL        | 156       | 156       | 535       |  97       | 134       | ...       |  9        | 21        |  0        |  5        |  9        | 156       | 0.2504673 | 0.4115942 |  68       | 0.5271028 |\n",
       "| giambja01 | 2004      | 1         | NYA       | AL        |  80       |  80       | 264       |  33       |  55       | ...       |  1        |  8        |  0        |  3        |  5        |  80       | 0.2083333 | 0.3416149 |  34       | 0.3787879 |\n",
       "| giambja01 | 2005      | 1         | NYA       | AL        | 139       | 139       | 417       |  74       | 113       | ...       |  5        | 19        |  0        |  1        |  7        | 139       | 0.2709832 | 0.4403670 |  67       | 0.5347722 |\n",
       "| giambja01 | 2006      | 1         | NYA       | AL        | 139       | 139       | 446       |  92       | 113       | ...       | 12        | 16        |  0        |  7        | 10        | 139       | 0.2533632 | 0.4127807 |  51       | 0.5582960 |\n",
       "| giambja01 | 2007      | 1         | NYA       | AL        |  83       |  83       | 254       |  31       |  60       | ...       |  2        |  8        |  0        |  1        |  1        |  83       | 0.2362205 | 0.3564356 |  38       | 0.4330709 |\n",
       "| giambja01 | 2008      | 1         | NYA       | AL        | 145       | 145       | 458       |  68       | 113       | ...       |  5        | 22        |  0        |  9        |  6        | 145       | 0.2467249 | 0.3734513 |  61       | 0.5021834 |\n",
       "| giambja01 | 2009      | 1         | OAK       | AL        |  83       |  83       | 269       |  39       |  52       | ...       |  1        |  7        |  0        |  2        |  6        |  NA       | 0.1933086 | 0.3323171 |  28       | 0.3643123 |\n",
       "| giambja01 | 2009      | 2         | COL       | NL        |  19       |  19       |  24       |   4       |   7       | ...       |  0        |  0        |  0        |  0        |  0        |  NA       | 0.2916667 | 0.4516129 |   4       | 0.5833333 |\n",
       "| giambja01 | 2010      | 1         | COL       | NL        |  87       |  87       | 176       |  17       |  43       | ...       |  5        |  6        |  0        |  5        |  5        |  NA       | 0.2443182 | 0.3783784 |  28       | 0.3977273 |\n",
       "| giambja01 | 2011      | 1         | COL       | NL        |  64       |  64       | 131       |  20       |  34       | ...       |  0        |  3        |  0        |  1        |  1        |  64       | 0.2595420 | 0.3552632 |  15       | 0.6030534 |\n",
       "| giambja01 | 2012      | 1         | COL       | NL        |  60       |  NA       |  89       |   7       |  20       | ...       |  2        |  2        |  0        |  2        |  4        |  NA       | 0.2247191 | 0.3716814 |  15       | 0.3033708 |\n",
       "| saenzol01 | 1994      | 1         | CHA       | AL        |   5       |   5       |  14       |   2       |   2       | ...       |  0        |  0        |  1        |  0        |  1        |   5       | 0.1428571 | 0.1428571 |   1       | 0.2857143 |\n",
       "| saenzol01 | 1999      | 1         | OAK       | AL        |  97       |  97       | 255       |  41       |  70       | ...       |  1        | 15        |  0        |  3        |  6        |  97       | 0.2745098 | 0.3627119 |  41       | 0.4745098 |\n",
       "| saenzol01 | 2000      | 1         | OAK       | AL        |  76       |  76       | 214       |  40       |  67       | ...       |  2        |  7        |  0        |  1        |  6        |  76       | 0.3130841 | 0.4008097 |  44       | 0.5140187 |\n",
       "| saenzol01 | 2001      | 1         | OAK       | AL        | 106       | 106       | 305       |  33       |  67       | ...       |  1        | 13        |  1        |  3        |  9        | 106       | 0.2196721 | 0.2911765 |  36       | 0.3836066 |\n",
       "| saenzol01 | 2002      | 1         | OAK       | AL        |  68       |  68       | 156       |  15       |  43       | ...       |  1        |  7        |  0        |  2        |  2        |  68       | 0.2756410 | 0.3539326 |  26       | 0.4679487 |\n",
       "| saenzol01 | 2004      | 1         | LAN       | NL        |  77       |  77       | 111       |  17       |  31       | ...       |  1        |  2        |  0        |  3        |  4        |  77       | 0.2792793 | 0.3515625 |  22       | 0.5045045 |\n",
       "| saenzol01 | 2005      | 1         | LAN       | NL        | 109       | 109       | 319       |  39       |  84       | ...       |  1        |  3        |  0        |  2        | 12        | 109       | 0.2633229 | 0.3247863 |  45       | 0.4796238 |\n",
       "| saenzol01 | 2006      | 1         | LAN       | NL        | 103       | 103       | 179       |  30       |  53       | ...       |  1        |  7        |  0        |  4        |  4        | 103       | 0.2960894 | 0.3627451 |  27       | 0.5642458 |\n",
       "| saenzol01 | 2007      | 1         | LAN       | NL        |  92       |  92       | 110       |   9       |  21       | ...       |  0        |  2        |  0        |  4        |  5        |  92       | 0.1909091 | 0.2954545 |  12       | 0.3454545 |\n",
       "| giambja01 | 2013      | 1         | CLE       | AL        |  71       |  71       | 186       |  21       |  34       | ...       |  0        |  4        |  0        |  3        |  8        |  NA       | 0.1827957 | 0.2824074 |  17       | 0.3709677 |\n",
       "\n"
      ],
      "text/plain": [
       "   playerID  yearID stint teamID lgID G   G_batting AB  R   H   ... IBB HBP SH\n",
       "1  damonjo01 1995   1     KCA    AL    47  47       188  32  53 ...  0   1   2\n",
       "2  damonjo01 1996   1     KCA    AL   145 145       517  61 140 ...  3   3  10\n",
       "3  damonjo01 1997   1     KCA    AL   146 146       472  70 130 ...  2   3   6\n",
       "4  damonjo01 1998   1     KCA    AL   161 161       642 104 178 ...  4   4   3\n",
       "5  damonjo01 1999   1     KCA    AL   145 145       583 101 179 ...  5   3   3\n",
       "6  damonjo01 2000   1     KCA    AL   159 159       655 136 214 ...  4   1   8\n",
       "7  damonjo01 2001   1     OAK    AL   155 155       644 108 165 ...  1   5   5\n",
       "8  damonjo01 2002   1     BOS    AL   154 154       623 118 178 ...  5   6   3\n",
       "9  damonjo01 2003   1     BOS    AL   145 145       608 103 166 ...  4   2   6\n",
       "10 damonjo01 2004   1     BOS    AL   150 150       621 123 189 ...  1   2   0\n",
       "11 damonjo01 2005   1     BOS    AL   148 148       624 117 197 ...  3   2   0\n",
       "12 damonjo01 2006   1     NYA    AL   149 149       593 115 169 ...  1   4   2\n",
       "13 damonjo01 2007   1     NYA    AL   141 141       533  93 144 ...  1   2   1\n",
       "14 damonjo01 2008   1     NYA    AL   143 143       555  95 168 ...  0   1   2\n",
       "15 damonjo01 2009   1     NYA    AL   143 143       550 107 155 ...  1   2   2\n",
       "16 damonjo01 2010   1     DET    AL   145 145       539  81 146 ...  2   2   2\n",
       "17 damonjo01 2011   1     TBA    AL   150 150       582  79 152 ...  1   7   2\n",
       "18 damonjo01 2012   1     CLE    AL    64  NA       207  25  46 ...  0   0   0\n",
       "19 giambja01 1995   1     OAK    AL    54  54       176  27  45 ...  0   3   1\n",
       "20 giambja01 1996   1     OAK    AL   140 140       536  84 156 ...  3   5   1\n",
       "21 giambja01 1997   1     OAK    AL   142 142       519  66 152 ...  3   6   0\n",
       "22 giambja01 1998   1     OAK    AL   153 153       562  92 166 ...  7   5   0\n",
       "23 giambja01 1999   1     OAK    AL   158 158       575 115 181 ...  6   7   0\n",
       "24 giambja01 2000   1     OAK    AL   152 152       510 108 170 ...  6   9   0\n",
       "25 giambja01 2001   1     OAK    AL   154 154       520 109 178 ... 24  13   0\n",
       "26 giambja01 2002   1     NYA    AL   155 155       560 120 176 ...  4  15   0\n",
       "27 giambja01 2003   1     NYA    AL   156 156       535  97 134 ...  9  21   0\n",
       "28 giambja01 2004   1     NYA    AL    80  80       264  33  55 ...  1   8   0\n",
       "29 giambja01 2005   1     NYA    AL   139 139       417  74 113 ...  5  19   0\n",
       "30 giambja01 2006   1     NYA    AL   139 139       446  92 113 ... 12  16   0\n",
       "31 giambja01 2007   1     NYA    AL    83  83       254  31  60 ...  2   8   0\n",
       "32 giambja01 2008   1     NYA    AL   145 145       458  68 113 ...  5  22   0\n",
       "33 giambja01 2009   1     OAK    AL    83  83       269  39  52 ...  1   7   0\n",
       "34 giambja01 2009   2     COL    NL    19  19        24   4   7 ...  0   0   0\n",
       "35 giambja01 2010   1     COL    NL    87  87       176  17  43 ...  5   6   0\n",
       "36 giambja01 2011   1     COL    NL    64  64       131  20  34 ...  0   3   0\n",
       "37 giambja01 2012   1     COL    NL    60  NA        89   7  20 ...  2   2   0\n",
       "38 saenzol01 1994   1     CHA    AL     5   5        14   2   2 ...  0   0   1\n",
       "39 saenzol01 1999   1     OAK    AL    97  97       255  41  70 ...  1  15   0\n",
       "40 saenzol01 2000   1     OAK    AL    76  76       214  40  67 ...  2   7   0\n",
       "41 saenzol01 2001   1     OAK    AL   106 106       305  33  67 ...  1  13   1\n",
       "42 saenzol01 2002   1     OAK    AL    68  68       156  15  43 ...  1   7   0\n",
       "43 saenzol01 2004   1     LAN    NL    77  77       111  17  31 ...  1   2   0\n",
       "44 saenzol01 2005   1     LAN    NL   109 109       319  39  84 ...  1   3   0\n",
       "45 saenzol01 2006   1     LAN    NL   103 103       179  30  53 ...  1   7   0\n",
       "46 saenzol01 2007   1     LAN    NL    92  92       110   9  21 ...  0   2   0\n",
       "47 giambja01 2013   1     CLE    AL    71  71       186  21  34 ...  0   4   0\n",
       "   SF GIDP G_old BA        OBP       X1B SLG      \n",
       "1   3  2    47   0.2819149 0.3235294  34 0.4414894\n",
       "2   5  4   145   0.2707930 0.3129496 107 0.3675048\n",
       "3   1  3   146   0.2754237 0.3378378 102 0.3855932\n",
       "4   3  4   161   0.2772586 0.3394625 120 0.4392523\n",
       "5   4 13   145   0.3070326 0.3789954 117 0.4768439\n",
       "6  12  7   159   0.3267176 0.3819918 146 0.4946565\n",
       "7   4  7   155   0.2562112 0.3235294 118 0.3633540\n",
       "8   5  4   154   0.2857143 0.3562232 119 0.4430177\n",
       "9   6  5   145   0.2730263 0.3450292 116 0.4046053\n",
       "10  3  8   150   0.3043478 0.3803419 128 0.4766506\n",
       "11  9  5   148   0.3157051 0.3662791 146 0.4391026\n",
       "12  5  4   149   0.2849916 0.3587444 105 0.4822934\n",
       "13  3  4   141   0.2701689 0.3509934 103 0.3958724\n",
       "14  1  5   143   0.3027027 0.3752013 119 0.4612613\n",
       "15  1  9    NA   0.2818182 0.3653846  92 0.4890909\n",
       "16  1  5    NA   0.2708720 0.3551555  97 0.4007421\n",
       "17  5  4   150   0.2611684 0.3255814 100 0.4175258\n",
       "18  0  0    NA   0.2222222 0.2812500  34 0.3285024\n",
       "19  2  4    54   0.2556818 0.3636364  32 0.3977273\n",
       "20  5 15   140   0.2910448 0.3551089  95 0.4813433\n",
       "21  8 11   142   0.2928709 0.3622449  89 0.4951830\n",
       "22  9 16   153   0.2953737 0.3835616 111 0.4893238\n",
       "23  8 11   158   0.3147826 0.4215827 111 0.5530435\n",
       "24  8  9   152   0.3333333 0.4759036  97 0.6470588\n",
       "25  9 17   154   0.3423077 0.4769001  91 0.6596154\n",
       "26  5 18   155   0.3142857 0.4354136 100 0.5982143\n",
       "27  5  9   156   0.2504673 0.4115942  68 0.5271028\n",
       "28  3  5    80   0.2083333 0.3416149  34 0.3787879\n",
       "29  1  7   139   0.2709832 0.4403670  67 0.5347722\n",
       "30  7 10   139   0.2533632 0.4127807  51 0.5582960\n",
       "31  1  1    83   0.2362205 0.3564356  38 0.4330709\n",
       "32  9  6   145   0.2467249 0.3734513  61 0.5021834\n",
       "33  2  6    NA   0.1933086 0.3323171  28 0.3643123\n",
       "34  0  0    NA   0.2916667 0.4516129   4 0.5833333\n",
       "35  5  5    NA   0.2443182 0.3783784  28 0.3977273\n",
       "36  1  1    64   0.2595420 0.3552632  15 0.6030534\n",
       "37  2  4    NA   0.2247191 0.3716814  15 0.3033708\n",
       "38  0  1     5   0.1428571 0.1428571   1 0.2857143\n",
       "39  3  6    97   0.2745098 0.3627119  41 0.4745098\n",
       "40  1  6    76   0.3130841 0.4008097  44 0.5140187\n",
       "41  3  9   106   0.2196721 0.2911765  36 0.3836066\n",
       "42  2  2    68   0.2756410 0.3539326  26 0.4679487\n",
       "43  3  4    77   0.2792793 0.3515625  22 0.5045045\n",
       "44  2 12   109   0.2633229 0.3247863  45 0.4796238\n",
       "45  4  4   103   0.2960894 0.3627451  27 0.5642458\n",
       "46  4  5    92   0.1909091 0.2954545  12 0.3454545\n",
       "47  3  8    NA   0.1827957 0.2824074  17 0.3709677"
      ]
     },
     "metadata": {},
     "output_type": "display_data"
    }
   ],
   "source": [
    "lost_player"
   ]
  },
  {
   "cell_type": "markdown",
   "id": "d323f064",
   "metadata": {},
   "source": [
    " Since all these players were lost in after 2001 in the offseason, let's only concern ourselves with the data from 2001."
   ]
  },
  {
   "cell_type": "markdown",
   "id": "fec9d6b8",
   "metadata": {},
   "source": [
    "#### Use filter() function again to only filter the rows where the yearID was 2001."
   ]
  },
  {
   "cell_type": "code",
   "execution_count": 25,
   "id": "45b2129a",
   "metadata": {},
   "outputs": [],
   "source": [
    "lost_player=lost_player %>% filter(yearID=='2001')\n"
   ]
  },
  {
   "cell_type": "code",
   "execution_count": 26,
   "id": "a62aa5b6",
   "metadata": {},
   "outputs": [
    {
     "data": {
      "text/html": [
       "<table>\n",
       "<thead><tr><th scope=col>playerID</th><th scope=col>yearID</th><th scope=col>stint</th><th scope=col>teamID</th><th scope=col>lgID</th><th scope=col>G</th><th scope=col>G_batting</th><th scope=col>AB</th><th scope=col>R</th><th scope=col>H</th><th scope=col>...</th><th scope=col>IBB</th><th scope=col>HBP</th><th scope=col>SH</th><th scope=col>SF</th><th scope=col>GIDP</th><th scope=col>G_old</th><th scope=col>BA</th><th scope=col>OBP</th><th scope=col>X1B</th><th scope=col>SLG</th></tr></thead>\n",
       "<tbody>\n",
       "\t<tr><td>damonjo01</td><td>2001     </td><td>1        </td><td>OAK      </td><td>AL       </td><td>155      </td><td>155      </td><td>644      </td><td>108      </td><td>165      </td><td>...      </td><td> 1       </td><td> 5       </td><td>5        </td><td>4        </td><td> 7       </td><td>155      </td><td>0.2562112</td><td>0.3235294</td><td>118      </td><td>0.3633540</td></tr>\n",
       "\t<tr><td>giambja01</td><td>2001     </td><td>1        </td><td>OAK      </td><td>AL       </td><td>154      </td><td>154      </td><td>520      </td><td>109      </td><td>178      </td><td>...      </td><td>24       </td><td>13       </td><td>0        </td><td>9        </td><td>17       </td><td>154      </td><td>0.3423077</td><td>0.4769001</td><td> 91      </td><td>0.6596154</td></tr>\n",
       "\t<tr><td>saenzol01</td><td>2001     </td><td>1        </td><td>OAK      </td><td>AL       </td><td>106      </td><td>106      </td><td>305      </td><td> 33      </td><td> 67      </td><td>...      </td><td> 1       </td><td>13       </td><td>1        </td><td>3        </td><td> 9       </td><td>106      </td><td>0.2196721</td><td>0.2911765</td><td> 36      </td><td>0.3836066</td></tr>\n",
       "</tbody>\n",
       "</table>\n"
      ],
      "text/latex": [
       "\\begin{tabular}{r|llllllllllllllllllllllllllll}\n",
       " playerID & yearID & stint & teamID & lgID & G & G\\_batting & AB & R & H & ... & IBB & HBP & SH & SF & GIDP & G\\_old & BA & OBP & X1B & SLG\\\\\n",
       "\\hline\n",
       "\t damonjo01 & 2001      & 1         & OAK       & AL        & 155       & 155       & 644       & 108       & 165       & ...       &  1        &  5        & 5         & 4         &  7        & 155       & 0.2562112 & 0.3235294 & 118       & 0.3633540\\\\\n",
       "\t giambja01 & 2001      & 1         & OAK       & AL        & 154       & 154       & 520       & 109       & 178       & ...       & 24        & 13        & 0         & 9         & 17        & 154       & 0.3423077 & 0.4769001 &  91       & 0.6596154\\\\\n",
       "\t saenzol01 & 2001      & 1         & OAK       & AL        & 106       & 106       & 305       &  33       &  67       & ...       &  1        & 13        & 1         & 3         &  9        & 106       & 0.2196721 & 0.2911765 &  36       & 0.3836066\\\\\n",
       "\\end{tabular}\n"
      ],
      "text/markdown": [
       "\n",
       "| playerID | yearID | stint | teamID | lgID | G | G_batting | AB | R | H | ... | IBB | HBP | SH | SF | GIDP | G_old | BA | OBP | X1B | SLG |\n",
       "|---|---|---|---|---|---|---|---|---|---|---|---|---|---|---|---|---|---|---|---|---|\n",
       "| damonjo01 | 2001      | 1         | OAK       | AL        | 155       | 155       | 644       | 108       | 165       | ...       |  1        |  5        | 5         | 4         |  7        | 155       | 0.2562112 | 0.3235294 | 118       | 0.3633540 |\n",
       "| giambja01 | 2001      | 1         | OAK       | AL        | 154       | 154       | 520       | 109       | 178       | ...       | 24        | 13        | 0         | 9         | 17        | 154       | 0.3423077 | 0.4769001 |  91       | 0.6596154 |\n",
       "| saenzol01 | 2001      | 1         | OAK       | AL        | 106       | 106       | 305       |  33       |  67       | ...       |  1        | 13        | 1         | 3         |  9        | 106       | 0.2196721 | 0.2911765 |  36       | 0.3836066 |\n",
       "\n"
      ],
      "text/plain": [
       "  playerID  yearID stint teamID lgID G   G_batting AB  R   H   ... IBB HBP SH\n",
       "1 damonjo01 2001   1     OAK    AL   155 155       644 108 165 ...  1   5  5 \n",
       "2 giambja01 2001   1     OAK    AL   154 154       520 109 178 ... 24  13  0 \n",
       "3 saenzol01 2001   1     OAK    AL   106 106       305  33  67 ...  1  13  1 \n",
       "  SF GIDP G_old BA        OBP       X1B SLG      \n",
       "1 4   7   155   0.2562112 0.3235294 118 0.3633540\n",
       "2 9  17   154   0.3423077 0.4769001  91 0.6596154\n",
       "3 3   9   106   0.2196721 0.2911765  36 0.3836066"
      ]
     },
     "metadata": {},
     "output_type": "display_data"
    }
   ],
   "source": [
    "lost_player"
   ]
  },
  {
   "cell_type": "markdown",
   "id": "5c480566",
   "metadata": {},
   "source": [
    "#### Reduce the lost_players data frame to the following columns: playerID,H,X2B,X3B,HR,OBP,SLG,BA,AB"
   ]
  },
  {
   "cell_type": "code",
   "execution_count": 27,
   "id": "197fb0f8",
   "metadata": {},
   "outputs": [],
   "source": [
    "lost_player <- lost_player[,c('playerID','H','X2B','X3B','HR','OBP','SLG','BA','AB')]"
   ]
  },
  {
   "cell_type": "code",
   "execution_count": 28,
   "id": "c150503f",
   "metadata": {},
   "outputs": [
    {
     "data": {
      "text/html": [
       "<table>\n",
       "<thead><tr><th scope=col>playerID</th><th scope=col>H</th><th scope=col>X2B</th><th scope=col>X3B</th><th scope=col>HR</th><th scope=col>OBP</th><th scope=col>SLG</th><th scope=col>BA</th><th scope=col>AB</th></tr></thead>\n",
       "<tbody>\n",
       "\t<tr><td>damonjo01</td><td>165      </td><td>34       </td><td>4        </td><td> 9       </td><td>0.3235294</td><td>0.3633540</td><td>0.2562112</td><td>644      </td></tr>\n",
       "\t<tr><td>giambja01</td><td>178      </td><td>47       </td><td>2        </td><td>38       </td><td>0.4769001</td><td>0.6596154</td><td>0.3423077</td><td>520      </td></tr>\n",
       "\t<tr><td>saenzol01</td><td> 67      </td><td>21       </td><td>1        </td><td> 9       </td><td>0.2911765</td><td>0.3836066</td><td>0.2196721</td><td>305      </td></tr>\n",
       "</tbody>\n",
       "</table>\n"
      ],
      "text/latex": [
       "\\begin{tabular}{r|lllllllll}\n",
       " playerID & H & X2B & X3B & HR & OBP & SLG & BA & AB\\\\\n",
       "\\hline\n",
       "\t damonjo01 & 165       & 34        & 4         &  9        & 0.3235294 & 0.3633540 & 0.2562112 & 644      \\\\\n",
       "\t giambja01 & 178       & 47        & 2         & 38        & 0.4769001 & 0.6596154 & 0.3423077 & 520      \\\\\n",
       "\t saenzol01 &  67       & 21        & 1         &  9        & 0.2911765 & 0.3836066 & 0.2196721 & 305      \\\\\n",
       "\\end{tabular}\n"
      ],
      "text/markdown": [
       "\n",
       "| playerID | H | X2B | X3B | HR | OBP | SLG | BA | AB |\n",
       "|---|---|---|---|---|---|---|---|---|\n",
       "| damonjo01 | 165       | 34        | 4         |  9        | 0.3235294 | 0.3633540 | 0.2562112 | 644       |\n",
       "| giambja01 | 178       | 47        | 2         | 38        | 0.4769001 | 0.6596154 | 0.3423077 | 520       |\n",
       "| saenzol01 |  67       | 21        | 1         |  9        | 0.2911765 | 0.3836066 | 0.2196721 | 305       |\n",
       "\n"
      ],
      "text/plain": [
       "  playerID  H   X2B X3B HR OBP       SLG       BA        AB \n",
       "1 damonjo01 165 34  4    9 0.3235294 0.3633540 0.2562112 644\n",
       "2 giambja01 178 47  2   38 0.4769001 0.6596154 0.3423077 520\n",
       "3 saenzol01  67 21  1    9 0.2911765 0.3836066 0.2196721 305"
      ]
     },
     "metadata": {},
     "output_type": "display_data"
    }
   ],
   "source": [
    "lost_player"
   ]
  },
  {
   "cell_type": "markdown",
   "id": "42644203",
   "metadata": {},
   "source": [
    "#### Use Summary() function to displaying summary statistics of lost_player:"
   ]
  },
  {
   "cell_type": "code",
   "execution_count": 29,
   "id": "b0bebe4b",
   "metadata": {},
   "outputs": [
    {
     "data": {
      "text/plain": [
       "      playerID       H              X2B            X3B              HR       \n",
       " damonjo01:1   Min.   : 67.0   Min.   :21.0   Min.   :1.000   Min.   : 9.00  \n",
       " giambja01:1   1st Qu.:116.0   1st Qu.:27.5   1st Qu.:1.500   1st Qu.: 9.00  \n",
       " saenzol01:1   Median :165.0   Median :34.0   Median :2.000   Median : 9.00  \n",
       " aardsda01:0   Mean   :136.7   Mean   :34.0   Mean   :2.333   Mean   :18.67  \n",
       " aaronha01:0   3rd Qu.:171.5   3rd Qu.:40.5   3rd Qu.:3.000   3rd Qu.:23.50  \n",
       " aaronto01:0   Max.   :178.0   Max.   :47.0   Max.   :4.000   Max.   :38.00  \n",
       " (Other)  :0                                                                 \n",
       "      OBP              SLG               BA               AB       \n",
       " Min.   :0.2912   Min.   :0.3634   Min.   :0.2197   Min.   :305.0  \n",
       " 1st Qu.:0.3074   1st Qu.:0.3735   1st Qu.:0.2379   1st Qu.:412.5  \n",
       " Median :0.3235   Median :0.3836   Median :0.2562   Median :520.0  \n",
       " Mean   :0.3639   Mean   :0.4689   Mean   :0.2727   Mean   :489.7  \n",
       " 3rd Qu.:0.4002   3rd Qu.:0.5216   3rd Qu.:0.2993   3rd Qu.:582.0  \n",
       " Max.   :0.4769   Max.   :0.6596   Max.   :0.3423   Max.   :644.0  \n",
       "                                                                   "
      ]
     },
     "metadata": {},
     "output_type": "display_data"
    }
   ],
   "source": [
    "summary(lost_player)"
   ]
  },
  {
   "cell_type": "markdown",
   "id": "9d14accc",
   "metadata": {},
   "source": [
    "# Replacement Players"
   ]
  },
  {
   "cell_type": "markdown",
   "id": "9ca59e29",
   "metadata": {},
   "source": [
    "The total combined salary of the three players cannot be greater than 15 million dollars.\n",
    "Their combined number of At Bats needs to be greater than or equal to the lost players.\n",
    "Their mean OBP must be greater than or equal to the mean OBP of the lost players."
   ]
  },
  {
   "cell_type": "code",
   "execution_count": 30,
   "id": "ecb86901",
   "metadata": {},
   "outputs": [
    {
     "data": {
      "text/html": [
       "<table>\n",
       "<thead><tr><th scope=col>playerID</th><th scope=col>yearID</th><th scope=col>teamID.x</th><th scope=col>lgID.x</th><th scope=col>salary</th><th scope=col>stint</th><th scope=col>teamID.y</th><th scope=col>lgID.y</th><th scope=col>G</th><th scope=col>G_batting</th><th scope=col>...</th><th scope=col>IBB</th><th scope=col>HBP</th><th scope=col>SH</th><th scope=col>SF</th><th scope=col>GIDP</th><th scope=col>G_old</th><th scope=col>BA</th><th scope=col>OBP</th><th scope=col>X1B</th><th scope=col>SLG</th></tr></thead>\n",
       "<tbody>\n",
       "\t<tr><td>abbotje01 </td><td>2001      </td><td>FLO       </td><td>NL        </td><td> 300000   </td><td>1         </td><td>FLO       </td><td>NL        </td><td> 28       </td><td> 28       </td><td>...       </td><td> 0        </td><td>1         </td><td> 0        </td><td>0         </td><td> 1        </td><td> 28       </td><td>0.26190476</td><td>0.32608696</td><td>  8       </td><td>0.33333333</td></tr>\n",
       "\t<tr><td>abbotku01 </td><td>2001      </td><td>ATL       </td><td>NL        </td><td> 600000   </td><td>1         </td><td>ATL       </td><td>NL        </td><td>  6       </td><td>  6       </td><td>...       </td><td> 0        </td><td>0         </td><td> 0        </td><td>0         </td><td> 0        </td><td>  6       </td><td>0.22222222</td><td>0.22222222</td><td>  2       </td><td>0.22222222</td></tr>\n",
       "\t<tr><td>abbotpa01 </td><td>2001      </td><td>SEA       </td><td>AL        </td><td>1700000   </td><td>1         </td><td>SEA       </td><td>AL        </td><td> 28       </td><td>  2       </td><td>...       </td><td> 0        </td><td>0         </td><td> 1        </td><td>0         </td><td> 0        </td><td>  2       </td><td>0.25000000</td><td>0.25000000</td><td>  1       </td><td>0.25000000</td></tr>\n",
       "\t<tr><td>abreubo01 </td><td>2001      </td><td>PHI       </td><td>NL        </td><td>4983000   </td><td>1         </td><td>PHI       </td><td>NL        </td><td>162       </td><td>162       </td><td>...       </td><td>11        </td><td>1         </td><td> 0        </td><td>9         </td><td>13        </td><td>162       </td><td>0.28911565</td><td>0.39346591</td><td> 87       </td><td>0.54251701</td></tr>\n",
       "\t<tr><td>adamste01 </td><td>2001      </td><td>LAN       </td><td>NL        </td><td>2600000   </td><td>1         </td><td>LAN       </td><td>NL        </td><td> 43       </td><td> 41       </td><td>...       </td><td> 0        </td><td>0         </td><td> 5        </td><td>1         </td><td> 0        </td><td> 41       </td><td>0.05128205</td><td>0.11627907</td><td>  1       </td><td>0.07692308</td></tr>\n",
       "\t<tr><td>agbaybe01 </td><td>2001      </td><td>NYN       </td><td>NL        </td><td> 260000   </td><td>1         </td><td>NYN       </td><td>NL        </td><td> 91       </td><td> 91       </td><td>...       </td><td> 0        </td><td>5         </td><td> 1        </td><td>1         </td><td>11        </td><td> 91       </td><td>0.27702703</td><td>0.36390533</td><td> 60       </td><td>0.39864865</td></tr>\n",
       "\t<tr><td>alfonan01 </td><td>2001      </td><td>FLO       </td><td>NL        </td><td>2450000   </td><td>1         </td><td>FLO       </td><td>NL        </td><td> 58       </td><td> 54       </td><td>...       </td><td> 0        </td><td>0         </td><td> 0        </td><td>0         </td><td> 0        </td><td> 54       </td><td>       NaN</td><td>       NaN</td><td>  0       </td><td>       NaN</td></tr>\n",
       "\t<tr><td>alfoned01 </td><td>2001      </td><td>NYN       </td><td>NL        </td><td>5750000   </td><td>1         </td><td>NYN       </td><td>NL        </td><td>124       </td><td>124       </td><td>...       </td><td> 0        </td><td>5         </td><td> 1        </td><td>5         </td><td> 7        </td><td>124       </td><td>0.24288840</td><td>0.32239382</td><td> 72       </td><td>0.40262582</td></tr>\n",
       "\t<tr><td>alicelu01 </td><td>2001      </td><td>KCA       </td><td>AL        </td><td> 800000   </td><td>1         </td><td>KCA       </td><td>AL        </td><td>113       </td><td>113       </td><td>...       </td><td> 0        </td><td>4         </td><td> 3        </td><td>1         </td><td> 6        </td><td>113       </td><td>0.27390181</td><td>0.32048193</td><td> 82       </td><td>0.36692506</td></tr>\n",
       "\t<tr><td>allench01 </td><td>2001      </td><td>MIN       </td><td>AL        </td><td> 240000   </td><td>1         </td><td>MIN       </td><td>AL        </td><td> 57       </td><td> 57       </td><td>...       </td><td> 1        </td><td>0         </td><td> 0        </td><td>1         </td><td> 7        </td><td> 57       </td><td>0.26285714</td><td>0.33333333</td><td> 27       </td><td>0.42857143</td></tr>\n",
       "\t<tr><td>almanar01 </td><td>2001      </td><td>FLO       </td><td>NL        </td><td> 225000   </td><td>1         </td><td>FLO       </td><td>NL        </td><td> 52       </td><td> 49       </td><td>...       </td><td> 0        </td><td>0         </td><td> 0        </td><td>0         </td><td> 0        </td><td> 49       </td><td>       NaN</td><td>       NaN</td><td>  0       </td><td>       NaN</td></tr>\n",
       "\t<tr><td>almanca01 </td><td>2001      </td><td>NYA       </td><td>AL        </td><td> 270000   </td><td>1         </td><td>NYA       </td><td>AL        </td><td> 10       </td><td>  1       </td><td>...       </td><td> 0        </td><td>0         </td><td> 0        </td><td>0         </td><td> 0        </td><td>  1       </td><td>       NaN</td><td>       NaN</td><td>  0       </td><td>       NaN</td></tr>\n",
       "\t<tr><td>alomaro01 </td><td>2001      </td><td>CLE       </td><td>AL        </td><td>7750000   </td><td>1         </td><td>CLE       </td><td>AL        </td><td>157       </td><td>157       </td><td>...       </td><td> 5        </td><td>4         </td><td> 9        </td><td>9         </td><td> 9        </td><td>157       </td><td>0.33565217</td><td>0.41467066</td><td>127       </td><td>0.54086957</td></tr>\n",
       "\t<tr><td>alomasa02 </td><td>2001      </td><td>CHA       </td><td>AL        </td><td>2900000   </td><td>1         </td><td>CHA       </td><td>AL        </td><td> 70       </td><td> 70       </td><td>...       </td><td> 1        </td><td>2         </td><td> 3        </td><td>2         </td><td> 6        </td><td> 70       </td><td>0.24545455</td><td>0.28813559</td><td> 41       </td><td>0.34545455</td></tr>\n",
       "\t<tr><td>aloumo01  </td><td>2001      </td><td>HOU       </td><td>NL        </td><td>5250000   </td><td>1         </td><td>HOU       </td><td>NL        </td><td>136       </td><td>136       </td><td>...       </td><td>14        </td><td>3         </td><td> 0        </td><td>8         </td><td>18        </td><td>136       </td><td>0.33138402</td><td>0.39586919</td><td>111       </td><td>0.55360624</td></tr>\n",
       "\t<tr><td>anderbr01 </td><td>2001      </td><td>BAL       </td><td>AL        </td><td>7200000   </td><td>1         </td><td>BAL       </td><td>AL        </td><td>131       </td><td>131       </td><td>...       </td><td> 4        </td><td>8         </td><td> 2        </td><td>1         </td><td> 3        </td><td>131       </td><td>0.20232558</td><td>0.31062124</td><td> 64       </td><td>0.30000000</td></tr>\n",
       "\t<tr><td>anderbr02 </td><td>2001      </td><td>ARI       </td><td>NL        </td><td>4125000   </td><td>1         </td><td>ARI       </td><td>NL        </td><td> 33       </td><td> 31       </td><td>...       </td><td> 0        </td><td>0         </td><td> 0        </td><td>0         </td><td> 2        </td><td> 31       </td><td>0.13513514</td><td>0.13513514</td><td>  3       </td><td>0.21621622</td></tr>\n",
       "\t<tr><td>anderga01 </td><td>2001      </td><td>ANA       </td><td>AL        </td><td>4500000   </td><td>1         </td><td>ANA       </td><td>AL        </td><td>161       </td><td>161       </td><td>...       </td><td> 4        </td><td>0         </td><td> 0        </td><td>5         </td><td>12        </td><td>161       </td><td>0.28869048</td><td>0.31392045</td><td>125       </td><td>0.47767857</td></tr>\n",
       "\t<tr><td>anderji02 </td><td>2001      </td><td>PIT       </td><td>NL        </td><td> 285000   </td><td>1         </td><td>PIT       </td><td>NL        </td><td> 34       </td><td> 32       </td><td>...       </td><td> 0        </td><td>0         </td><td> 6        </td><td>0         </td><td> 1        </td><td> 32       </td><td>0.11864407</td><td>0.17460317</td><td>  6       </td><td>0.13559322</td></tr>\n",
       "\t<tr><td>anderma01 </td><td>2001      </td><td>DET       </td><td>AL        </td><td> 355000   </td><td>1         </td><td>DET       </td><td>AL        </td><td> 62       </td><td>  4       </td><td>...       </td><td> 0        </td><td>0         </td><td> 0        </td><td>0         </td><td> 0        </td><td>  4       </td><td>       NaN</td><td>       NaN</td><td>  0       </td><td>       NaN</td></tr>\n",
       "\t<tr><td>anderma02 </td><td>2001      </td><td>PHI       </td><td>NL        </td><td> 280000   </td><td>1         </td><td>PHI       </td><td>NL        </td><td>147       </td><td>147       </td><td>...       </td><td> 5        </td><td>2         </td><td>10        </td><td>5         </td><td>12        </td><td>147       </td><td>0.29310345</td><td>0.33687943</td><td>110       </td><td>0.42145594</td></tr>\n",
       "\t<tr><td>ankieri01 </td><td>2001      </td><td>SLN       </td><td>NL        </td><td> 400000   </td><td>1         </td><td>SLN       </td><td>NL        </td><td>  6       </td><td>  6       </td><td>...       </td><td> 0        </td><td>0         </td><td> 1        </td><td>0         </td><td> 0        </td><td>  6       </td><td>0.00000000</td><td>0.11111111</td><td>  0       </td><td>0.00000000</td></tr>\n",
       "\t<tr><td>appieke01 </td><td>2001      </td><td>NYN       </td><td>NL        </td><td>8500000   </td><td>1         </td><td>NYN       </td><td>NL        </td><td> 33       </td><td> 31       </td><td>...       </td><td> 0        </td><td>1         </td><td> 3        </td><td>0         </td><td> 0        </td><td> 31       </td><td>0.11290323</td><td>0.14062500</td><td>  7       </td><td>0.11290323</td></tr>\n",
       "\t<tr><td>ariasal01 </td><td>2001      </td><td>SDN       </td><td>NL        </td><td> 550000   </td><td>1         </td><td>SDN       </td><td>NL        </td><td> 70       </td><td> 70       </td><td>...       </td><td> 1        </td><td>1         </td><td> 1        </td><td>2         </td><td> 3        </td><td> 70       </td><td>0.22627737</td><td>0.31210191</td><td> 20       </td><td>0.33576642</td></tr>\n",
       "\t<tr><td>armasto02 </td><td>2001      </td><td>MON       </td><td>NL        </td><td> 230000   </td><td>1         </td><td>MON       </td><td>NL        </td><td> 34       </td><td> 32       </td><td>...       </td><td> 0        </td><td>0         </td><td> 6        </td><td>0         </td><td> 0        </td><td> 32       </td><td>0.15094340</td><td>0.15094340</td><td>  7       </td><td>0.16981132</td></tr>\n",
       "\t<tr><td>arrojro01 </td><td>2001      </td><td>BOS       </td><td>AL        </td><td>1625000   </td><td>1         </td><td>BOS       </td><td>AL        </td><td> 41       </td><td>  3       </td><td>...       </td><td> 0        </td><td>0         </td><td> 0        </td><td>0         </td><td> 0        </td><td>  3       </td><td>0.00000000</td><td>0.00000000</td><td>  0       </td><td>0.00000000</td></tr>\n",
       "\t<tr><td>arroybr01 </td><td>2001      </td><td>PIT       </td><td>NL        </td><td> 225000   </td><td>1         </td><td>PIT       </td><td>NL        </td><td> 24       </td><td> 23       </td><td>...       </td><td> 0        </td><td>0         </td><td> 0        </td><td>1         </td><td> 0        </td><td> 23       </td><td>0.04761905</td><td>0.08695652</td><td>  1       </td><td>0.04761905</td></tr>\n",
       "\t<tr><td>ashbyan01 </td><td>2001      </td><td>LAN       </td><td>NL        </td><td>6000000   </td><td>1         </td><td>LAN       </td><td>NL        </td><td>  3       </td><td>  3       </td><td>...       </td><td> 0        </td><td>0         </td><td> 2        </td><td>0         </td><td> 0        </td><td>  3       </td><td>0.50000000</td><td>0.66666667</td><td>  1       </td><td>0.50000000</td></tr>\n",
       "\t<tr><td>astacpe01 </td><td>2001      </td><td>COL       </td><td>NL        </td><td>6850000   </td><td>1         </td><td>COL       </td><td>NL        </td><td> 22       </td><td> 20       </td><td>...       </td><td> 0        </td><td>0         </td><td>10        </td><td>0         </td><td> 0        </td><td> 20       </td><td>0.09523810</td><td>0.09523810</td><td>  4       </td><td>0.09523810</td></tr>\n",
       "\t<tr><td>astacpe01 </td><td>2001      </td><td>COL       </td><td>NL        </td><td>6850000   </td><td>2         </td><td>HOU       </td><td>NL        </td><td>  4       </td><td>  4       </td><td>...       </td><td> 0        </td><td>0         </td><td> 1        </td><td>0         </td><td> 0        </td><td>  4       </td><td>0.09090909</td><td>0.09090909</td><td>  1       </td><td>0.09090909</td></tr>\n",
       "\t<tr><td>...</td><td>...</td><td>...</td><td>...</td><td>...</td><td>...</td><td>...</td><td>...</td><td>...</td><td>...</td><td>   </td><td>...</td><td>...</td><td>...</td><td>...</td><td>...</td><td>...</td><td>...</td><td>...</td><td>...</td><td>...</td></tr>\n",
       "\t<tr><td>wilsokr01</td><td>2001     </td><td>KCA      </td><td>AL       </td><td> 205000  </td><td>1        </td><td>KCA      </td><td>AL       </td><td> 29      </td><td>  1      </td><td>...      </td><td> 0       </td><td> 0       </td><td> 0       </td><td> 0       </td><td> 0       </td><td>  1      </td><td>0.3333333</td><td>0.3333333</td><td>  1      </td><td>0.3333333</td></tr>\n",
       "\t<tr><td>wilsopa02</td><td>2001     </td><td>TBA      </td><td>AL       </td><td> 350000  </td><td>1        </td><td>TBA      </td><td>AL       </td><td> 37      </td><td>  4      </td><td>...      </td><td> 0       </td><td> 0       </td><td> 0       </td><td> 0       </td><td> 0       </td><td>  4      </td><td>      NaN</td><td>      NaN</td><td>  0      </td><td>      NaN</td></tr>\n",
       "\t<tr><td>wilsopr01</td><td>2001     </td><td>FLO      </td><td>NL       </td><td>1000000  </td><td>1        </td><td>FLO      </td><td>NL       </td><td>123      </td><td>123      </td><td>...      </td><td> 2       </td><td> 6       </td><td> 0       </td><td> 3       </td><td>14       </td><td>123      </td><td>0.2735043</td><td>0.3313840</td><td> 73      </td><td>0.4935897</td></tr>\n",
       "\t<tr><td>winchsc01</td><td>2001     </td><td>CIN      </td><td>NL       </td><td> 202000  </td><td>1        </td><td>CIN      </td><td>NL       </td><td> 12      </td><td> 11      </td><td>...      </td><td> 0       </td><td> 0       </td><td> 0       </td><td> 0       </td><td> 1       </td><td> 11      </td><td>0.0000000</td><td>0.0000000</td><td>  0      </td><td>0.0000000</td></tr>\n",
       "\t<tr><td>winnra01 </td><td>2001     </td><td>TBA      </td><td>AL       </td><td> 270000  </td><td>1        </td><td>TBA      </td><td>AL       </td><td>128      </td><td>128      </td><td>...      </td><td> 0       </td><td> 6       </td><td> 5       </td><td> 2       </td><td>10       </td><td>128      </td><td>0.2727273</td><td>0.3389474</td><td> 80      </td><td>0.4009324</td></tr>\n",
       "\t<tr><td>wisema01 </td><td>2001     </td><td>ANA      </td><td>AL       </td><td> 207500  </td><td>1        </td><td>ANA      </td><td>AL       </td><td> 11      </td><td>  0      </td><td>...      </td><td>NA       </td><td>NA       </td><td>NA       </td><td>NA       </td><td>NA       </td><td> 11      </td><td>       NA</td><td>       NA</td><td> NA      </td><td>       NA</td></tr>\n",
       "\t<tr><td>witasja01</td><td>2001     </td><td>SDN      </td><td>NL       </td><td> 800000  </td><td>1        </td><td>SDN      </td><td>NL       </td><td> 31      </td><td> 30      </td><td>...      </td><td> 0       </td><td> 0       </td><td> 0       </td><td> 0       </td><td> 0       </td><td> 30      </td><td>0.0000000</td><td>0.0000000</td><td>  0      </td><td>0.0000000</td></tr>\n",
       "\t<tr><td>witasja01</td><td>2001     </td><td>SDN      </td><td>NL       </td><td> 800000  </td><td>2        </td><td>NYA      </td><td>AL       </td><td> 32      </td><td>  3      </td><td>...      </td><td> 0       </td><td> 0       </td><td> 0       </td><td> 0       </td><td> 0       </td><td>  3      </td><td>      NaN</td><td>      NaN</td><td>  0      </td><td>      NaN</td></tr>\n",
       "\t<tr><td>wittbo01 </td><td>2001     </td><td>ARI      </td><td>NL       </td><td> 500000  </td><td>1        </td><td>ARI      </td><td>NL       </td><td> 14      </td><td> 14      </td><td>...      </td><td> 0       </td><td> 0       </td><td> 1       </td><td> 0       </td><td> 0       </td><td> 14      </td><td>0.2500000</td><td>0.2500000</td><td>  3      </td><td>0.2500000</td></tr>\n",
       "\t<tr><td>wohlema01</td><td>2001     </td><td>CIN      </td><td>NL       </td><td> 500000  </td><td>2        </td><td>NYA      </td><td>AL       </td><td> 31      </td><td>  5      </td><td>...      </td><td> 0       </td><td> 0       </td><td> 0       </td><td> 0       </td><td> 0       </td><td>  5      </td><td>      NaN</td><td>      NaN</td><td>  0      </td><td>      NaN</td></tr>\n",
       "\t<tr><td>wohlema01</td><td>2001     </td><td>CIN      </td><td>NL       </td><td> 500000  </td><td>1        </td><td>CIN      </td><td>NL       </td><td> 30      </td><td> 29      </td><td>...      </td><td> 0       </td><td> 0       </td><td> 0       </td><td> 0       </td><td> 0       </td><td> 29      </td><td>      NaN</td><td>      NaN</td><td>  0      </td><td>      NaN</td></tr>\n",
       "\t<tr><td>wolfra02 </td><td>2001     </td><td>PHI      </td><td>NL       </td><td> 365000  </td><td>1        </td><td>PHI      </td><td>NL       </td><td> 28      </td><td> 25      </td><td>...      </td><td> 0       </td><td> 0       </td><td> 5       </td><td> 0       </td><td> 1       </td><td> 25      </td><td>0.1777778</td><td>0.2291667</td><td>  8      </td><td>0.1777778</td></tr>\n",
       "\t<tr><td>womacto01</td><td>2001     </td><td>ARI      </td><td>NL       </td><td>4000000  </td><td>1        </td><td>ARI      </td><td>NL       </td><td>125      </td><td>125      </td><td>...      </td><td> 2       </td><td> 6       </td><td> 7       </td><td> 1       </td><td> 4       </td><td>125      </td><td>0.2661123</td><td>0.3072407</td><td>101      </td><td>0.3451143</td></tr>\n",
       "\t<tr><td>woodast01</td><td>2001     </td><td>CLE      </td><td>AL       </td><td>1325000  </td><td>1        </td><td>CLE      </td><td>AL       </td><td> 29      </td><td>  3      </td><td>...      </td><td> 0       </td><td> 0       </td><td> 0       </td><td> 0       </td><td> 0       </td><td>  3      </td><td>0.0000000</td><td>0.0000000</td><td>  0      </td><td>0.0000000</td></tr>\n",
       "\t<tr><td>woodke02 </td><td>2001     </td><td>CHN      </td><td>NL       </td><td>1940000  </td><td>1        </td><td>CHN      </td><td>NL       </td><td> 29      </td><td> 28      </td><td>...      </td><td> 0       </td><td> 0       </td><td>13       </td><td> 0       </td><td> 0       </td><td> 28      </td><td>0.1875000</td><td>0.2040816</td><td>  8      </td><td>0.2083333</td></tr>\n",
       "\t<tr><td>woodwch01</td><td>2001     </td><td>TOR      </td><td>AL       </td><td> 223000  </td><td>1        </td><td>TOR      </td><td>AL       </td><td> 37      </td><td> 37      </td><td>...      </td><td> 0       </td><td> 0       </td><td> 2       </td><td> 0       </td><td> 1       </td><td> 37      </td><td>0.1904762</td><td>0.2031250</td><td>  5      </td><td>0.3968254</td></tr>\n",
       "\t<tr><td>wootesh01</td><td>2001     </td><td>ANA      </td><td>AL       </td><td> 200500  </td><td>1        </td><td>ANA      </td><td>AL       </td><td> 79      </td><td> 79      </td><td>...      </td><td> 0       </td><td> 3       </td><td> 0       </td><td> 3       </td><td> 5       </td><td> 79      </td><td>0.3122172</td><td>0.3318966</td><td> 52      </td><td>0.4660633</td></tr>\n",
       "\t<tr><td>worreti01</td><td>2001     </td><td>SFN      </td><td>NL       </td><td>1300000  </td><td>1        </td><td>SFN      </td><td>NL       </td><td> 73      </td><td> 72      </td><td>...      </td><td> 0       </td><td> 0       </td><td> 1       </td><td> 0       </td><td> 0       </td><td> 72      </td><td>0.0000000</td><td>0.0000000</td><td>  0      </td><td>0.0000000</td></tr>\n",
       "\t<tr><td>wrighja01</td><td>2001     </td><td>MIL      </td><td>NL       </td><td>2350000  </td><td>1        </td><td>MIL      </td><td>NL       </td><td> 34      </td><td> 33      </td><td>...      </td><td> 0       </td><td> 0       </td><td> 4       </td><td> 0       </td><td> 0       </td><td> 33      </td><td>0.1940299</td><td>0.2285714</td><td> 12      </td><td>0.2089552</td></tr>\n",
       "\t<tr><td>wrighja02</td><td>2001     </td><td>CLE      </td><td>AL       </td><td>2562500  </td><td>1        </td><td>CLE      </td><td>AL       </td><td>  7      </td><td>  1      </td><td>...      </td><td> 0       </td><td> 0       </td><td> 0       </td><td> 0       </td><td> 0       </td><td>  1      </td><td>0.5000000</td><td>0.5000000</td><td>  1      </td><td>0.5000000</td></tr>\n",
       "\t<tr><td>wunscke01</td><td>2001     </td><td>CHA      </td><td>AL       </td><td> 260000  </td><td>1        </td><td>CHA      </td><td>AL       </td><td> 33      </td><td>  2      </td><td>...      </td><td> 0       </td><td> 0       </td><td> 0       </td><td> 0       </td><td> 0       </td><td>  2      </td><td>      NaN</td><td>      NaN</td><td>  0      </td><td>      NaN</td></tr>\n",
       "\t<tr><td>yanes01  </td><td>2001     </td><td>TBA      </td><td>AL       </td><td> 650000  </td><td>1        </td><td>TBA      </td><td>AL       </td><td> 54      </td><td>  2      </td><td>...      </td><td> 0       </td><td> 0       </td><td> 0       </td><td> 0       </td><td> 0       </td><td>  2      </td><td>      NaN</td><td>      NaN</td><td>  0      </td><td>      NaN</td></tr>\n",
       "\t<tr><td>youngdm01</td><td>2001     </td><td>CIN      </td><td>NL       </td><td>3500000  </td><td>1        </td><td>CIN      </td><td>NL       </td><td>142      </td><td>142      </td><td>...      </td><td>10       </td><td> 5       </td><td> 1       </td><td> 3       </td><td>22       </td><td>142      </td><td>0.3018519</td><td>0.3504274</td><td>111      </td><td>0.4814815</td></tr>\n",
       "\t<tr><td>younger01</td><td>2001     </td><td>CHN      </td><td>NL       </td><td>4500000  </td><td>1        </td><td>CHN      </td><td>NL       </td><td>149      </td><td>149      </td><td>...      </td><td> 1       </td><td> 9       </td><td>15       </td><td> 3       </td><td>15       </td><td>149      </td><td>0.2786070</td><td>0.3333333</td><td>115      </td><td>0.3930348</td></tr>\n",
       "\t<tr><td>youngke01</td><td>2001     </td><td>PIT      </td><td>NL       </td><td>6125000  </td><td>1        </td><td>PIT      </td><td>NL       </td><td>142      </td><td>142      </td><td>...      </td><td> 3       </td><td>11       </td><td> 0       </td><td> 5       </td><td>17       </td><td>142      </td><td>0.2316258</td><td>0.3096647</td><td> 57      </td><td>0.3986637</td></tr>\n",
       "\t<tr><td>zaungr01 </td><td>2001     </td><td>KCA      </td><td>AL       </td><td>1150000  </td><td>1        </td><td>KCA      </td><td>AL       </td><td> 39      </td><td> 39      </td><td>...      </td><td> 0       </td><td> 0       </td><td> 0       </td><td> 1       </td><td> 2       </td><td> 39      </td><td>0.3200000</td><td>0.3768116</td><td> 25      </td><td>0.5360000</td></tr>\n",
       "\t<tr><td>zeileto01</td><td>2001     </td><td>NYN      </td><td>NL       </td><td>6833333  </td><td>1        </td><td>NYN      </td><td>NL       </td><td>151      </td><td>151      </td><td>...      </td><td> 3       </td><td> 6       </td><td> 0       </td><td> 2       </td><td>15       </td><td>151      </td><td>0.2655367</td><td>0.3594771</td><td>105      </td><td>0.3728814</td></tr>\n",
       "\t<tr><td>zimmeje02</td><td>2001     </td><td>TEX      </td><td>AL       </td><td> 307500  </td><td>1        </td><td>TEX      </td><td>AL       </td><td> 66      </td><td>  3      </td><td>...      </td><td> 0       </td><td> 0       </td><td> 0       </td><td> 0       </td><td> 0       </td><td>  3      </td><td>      NaN</td><td>      NaN</td><td>  0      </td><td>      NaN</td></tr>\n",
       "\t<tr><td>zitoba01 </td><td>2001     </td><td>OAK      </td><td>AL       </td><td> 240000  </td><td>1        </td><td>OAK      </td><td>AL       </td><td> 35      </td><td>  2      </td><td>...      </td><td> 0       </td><td> 0       </td><td> 0       </td><td> 0       </td><td> 0       </td><td>  2      </td><td>0.0000000</td><td>0.0000000</td><td>  0      </td><td>0.0000000</td></tr>\n",
       "\t<tr><td>zuletju01</td><td>2001     </td><td>CHN      </td><td>NL       </td><td> 200000  </td><td>1        </td><td>CHN      </td><td>NL       </td><td> 49      </td><td> 49      </td><td>...      </td><td> 1       </td><td> 3       </td><td> 0       </td><td> 1       </td><td> 3       </td><td> 49      </td><td>0.2169811</td><td>0.2881356</td><td> 14      </td><td>0.4150943</td></tr>\n",
       "</tbody>\n",
       "</table>\n"
      ],
      "text/latex": [
       "\\begin{tabular}{r|lllllllllllllllllllllllllllllll}\n",
       " playerID & yearID & teamID.x & lgID.x & salary & stint & teamID.y & lgID.y & G & G\\_batting & ... & IBB & HBP & SH & SF & GIDP & G\\_old & BA & OBP & X1B & SLG\\\\\n",
       "\\hline\n",
       "\t abbotje01  & 2001       & FLO        & NL         &  300000    & 1          & FLO        & NL         &  28        &  28        & ...        &  0         & 1          &  0         & 0          &  1         &  28        & 0.26190476 & 0.32608696 &   8        & 0.33333333\\\\\n",
       "\t abbotku01  & 2001       & ATL        & NL         &  600000    & 1          & ATL        & NL         &   6        &   6        & ...        &  0         & 0          &  0         & 0          &  0         &   6        & 0.22222222 & 0.22222222 &   2        & 0.22222222\\\\\n",
       "\t abbotpa01  & 2001       & SEA        & AL         & 1700000    & 1          & SEA        & AL         &  28        &   2        & ...        &  0         & 0          &  1         & 0          &  0         &   2        & 0.25000000 & 0.25000000 &   1        & 0.25000000\\\\\n",
       "\t abreubo01  & 2001       & PHI        & NL         & 4983000    & 1          & PHI        & NL         & 162        & 162        & ...        & 11         & 1          &  0         & 9          & 13         & 162        & 0.28911565 & 0.39346591 &  87        & 0.54251701\\\\\n",
       "\t adamste01  & 2001       & LAN        & NL         & 2600000    & 1          & LAN        & NL         &  43        &  41        & ...        &  0         & 0          &  5         & 1          &  0         &  41        & 0.05128205 & 0.11627907 &   1        & 0.07692308\\\\\n",
       "\t agbaybe01  & 2001       & NYN        & NL         &  260000    & 1          & NYN        & NL         &  91        &  91        & ...        &  0         & 5          &  1         & 1          & 11         &  91        & 0.27702703 & 0.36390533 &  60        & 0.39864865\\\\\n",
       "\t alfonan01  & 2001       & FLO        & NL         & 2450000    & 1          & FLO        & NL         &  58        &  54        & ...        &  0         & 0          &  0         & 0          &  0         &  54        &        NaN &        NaN &   0        &        NaN\\\\\n",
       "\t alfoned01  & 2001       & NYN        & NL         & 5750000    & 1          & NYN        & NL         & 124        & 124        & ...        &  0         & 5          &  1         & 5          &  7         & 124        & 0.24288840 & 0.32239382 &  72        & 0.40262582\\\\\n",
       "\t alicelu01  & 2001       & KCA        & AL         &  800000    & 1          & KCA        & AL         & 113        & 113        & ...        &  0         & 4          &  3         & 1          &  6         & 113        & 0.27390181 & 0.32048193 &  82        & 0.36692506\\\\\n",
       "\t allench01  & 2001       & MIN        & AL         &  240000    & 1          & MIN        & AL         &  57        &  57        & ...        &  1         & 0          &  0         & 1          &  7         &  57        & 0.26285714 & 0.33333333 &  27        & 0.42857143\\\\\n",
       "\t almanar01  & 2001       & FLO        & NL         &  225000    & 1          & FLO        & NL         &  52        &  49        & ...        &  0         & 0          &  0         & 0          &  0         &  49        &        NaN &        NaN &   0        &        NaN\\\\\n",
       "\t almanca01  & 2001       & NYA        & AL         &  270000    & 1          & NYA        & AL         &  10        &   1        & ...        &  0         & 0          &  0         & 0          &  0         &   1        &        NaN &        NaN &   0        &        NaN\\\\\n",
       "\t alomaro01  & 2001       & CLE        & AL         & 7750000    & 1          & CLE        & AL         & 157        & 157        & ...        &  5         & 4          &  9         & 9          &  9         & 157        & 0.33565217 & 0.41467066 & 127        & 0.54086957\\\\\n",
       "\t alomasa02  & 2001       & CHA        & AL         & 2900000    & 1          & CHA        & AL         &  70        &  70        & ...        &  1         & 2          &  3         & 2          &  6         &  70        & 0.24545455 & 0.28813559 &  41        & 0.34545455\\\\\n",
       "\t aloumo01   & 2001       & HOU        & NL         & 5250000    & 1          & HOU        & NL         & 136        & 136        & ...        & 14         & 3          &  0         & 8          & 18         & 136        & 0.33138402 & 0.39586919 & 111        & 0.55360624\\\\\n",
       "\t anderbr01  & 2001       & BAL        & AL         & 7200000    & 1          & BAL        & AL         & 131        & 131        & ...        &  4         & 8          &  2         & 1          &  3         & 131        & 0.20232558 & 0.31062124 &  64        & 0.30000000\\\\\n",
       "\t anderbr02  & 2001       & ARI        & NL         & 4125000    & 1          & ARI        & NL         &  33        &  31        & ...        &  0         & 0          &  0         & 0          &  2         &  31        & 0.13513514 & 0.13513514 &   3        & 0.21621622\\\\\n",
       "\t anderga01  & 2001       & ANA        & AL         & 4500000    & 1          & ANA        & AL         & 161        & 161        & ...        &  4         & 0          &  0         & 5          & 12         & 161        & 0.28869048 & 0.31392045 & 125        & 0.47767857\\\\\n",
       "\t anderji02  & 2001       & PIT        & NL         &  285000    & 1          & PIT        & NL         &  34        &  32        & ...        &  0         & 0          &  6         & 0          &  1         &  32        & 0.11864407 & 0.17460317 &   6        & 0.13559322\\\\\n",
       "\t anderma01  & 2001       & DET        & AL         &  355000    & 1          & DET        & AL         &  62        &   4        & ...        &  0         & 0          &  0         & 0          &  0         &   4        &        NaN &        NaN &   0        &        NaN\\\\\n",
       "\t anderma02  & 2001       & PHI        & NL         &  280000    & 1          & PHI        & NL         & 147        & 147        & ...        &  5         & 2          & 10         & 5          & 12         & 147        & 0.29310345 & 0.33687943 & 110        & 0.42145594\\\\\n",
       "\t ankieri01  & 2001       & SLN        & NL         &  400000    & 1          & SLN        & NL         &   6        &   6        & ...        &  0         & 0          &  1         & 0          &  0         &   6        & 0.00000000 & 0.11111111 &   0        & 0.00000000\\\\\n",
       "\t appieke01  & 2001       & NYN        & NL         & 8500000    & 1          & NYN        & NL         &  33        &  31        & ...        &  0         & 1          &  3         & 0          &  0         &  31        & 0.11290323 & 0.14062500 &   7        & 0.11290323\\\\\n",
       "\t ariasal01  & 2001       & SDN        & NL         &  550000    & 1          & SDN        & NL         &  70        &  70        & ...        &  1         & 1          &  1         & 2          &  3         &  70        & 0.22627737 & 0.31210191 &  20        & 0.33576642\\\\\n",
       "\t armasto02  & 2001       & MON        & NL         &  230000    & 1          & MON        & NL         &  34        &  32        & ...        &  0         & 0          &  6         & 0          &  0         &  32        & 0.15094340 & 0.15094340 &   7        & 0.16981132\\\\\n",
       "\t arrojro01  & 2001       & BOS        & AL         & 1625000    & 1          & BOS        & AL         &  41        &   3        & ...        &  0         & 0          &  0         & 0          &  0         &   3        & 0.00000000 & 0.00000000 &   0        & 0.00000000\\\\\n",
       "\t arroybr01  & 2001       & PIT        & NL         &  225000    & 1          & PIT        & NL         &  24        &  23        & ...        &  0         & 0          &  0         & 1          &  0         &  23        & 0.04761905 & 0.08695652 &   1        & 0.04761905\\\\\n",
       "\t ashbyan01  & 2001       & LAN        & NL         & 6000000    & 1          & LAN        & NL         &   3        &   3        & ...        &  0         & 0          &  2         & 0          &  0         &   3        & 0.50000000 & 0.66666667 &   1        & 0.50000000\\\\\n",
       "\t astacpe01  & 2001       & COL        & NL         & 6850000    & 1          & COL        & NL         &  22        &  20        & ...        &  0         & 0          & 10         & 0          &  0         &  20        & 0.09523810 & 0.09523810 &   4        & 0.09523810\\\\\n",
       "\t astacpe01  & 2001       & COL        & NL         & 6850000    & 2          & HOU        & NL         &   4        &   4        & ...        &  0         & 0          &  1         & 0          &  0         &   4        & 0.09090909 & 0.09090909 &   1        & 0.09090909\\\\\n",
       "\t ... & ... & ... & ... & ... & ... & ... & ... & ... & ... &     & ... & ... & ... & ... & ... & ... & ... & ... & ... & ...\\\\\n",
       "\t wilsokr01 & 2001      & KCA       & AL        &  205000   & 1         & KCA       & AL        &  29       &   1       & ...       &  0        &  0        &  0        &  0        &  0        &   1       & 0.3333333 & 0.3333333 &   1       & 0.3333333\\\\\n",
       "\t wilsopa02 & 2001      & TBA       & AL        &  350000   & 1         & TBA       & AL        &  37       &   4       & ...       &  0        &  0        &  0        &  0        &  0        &   4       &       NaN &       NaN &   0       &       NaN\\\\\n",
       "\t wilsopr01 & 2001      & FLO       & NL        & 1000000   & 1         & FLO       & NL        & 123       & 123       & ...       &  2        &  6        &  0        &  3        & 14        & 123       & 0.2735043 & 0.3313840 &  73       & 0.4935897\\\\\n",
       "\t winchsc01 & 2001      & CIN       & NL        &  202000   & 1         & CIN       & NL        &  12       &  11       & ...       &  0        &  0        &  0        &  0        &  1        &  11       & 0.0000000 & 0.0000000 &   0       & 0.0000000\\\\\n",
       "\t winnra01  & 2001      & TBA       & AL        &  270000   & 1         & TBA       & AL        & 128       & 128       & ...       &  0        &  6        &  5        &  2        & 10        & 128       & 0.2727273 & 0.3389474 &  80       & 0.4009324\\\\\n",
       "\t wisema01  & 2001      & ANA       & AL        &  207500   & 1         & ANA       & AL        &  11       &   0       & ...       & NA        & NA        & NA        & NA        & NA        &  11       &        NA &        NA &  NA       &        NA\\\\\n",
       "\t witasja01 & 2001      & SDN       & NL        &  800000   & 1         & SDN       & NL        &  31       &  30       & ...       &  0        &  0        &  0        &  0        &  0        &  30       & 0.0000000 & 0.0000000 &   0       & 0.0000000\\\\\n",
       "\t witasja01 & 2001      & SDN       & NL        &  800000   & 2         & NYA       & AL        &  32       &   3       & ...       &  0        &  0        &  0        &  0        &  0        &   3       &       NaN &       NaN &   0       &       NaN\\\\\n",
       "\t wittbo01  & 2001      & ARI       & NL        &  500000   & 1         & ARI       & NL        &  14       &  14       & ...       &  0        &  0        &  1        &  0        &  0        &  14       & 0.2500000 & 0.2500000 &   3       & 0.2500000\\\\\n",
       "\t wohlema01 & 2001      & CIN       & NL        &  500000   & 2         & NYA       & AL        &  31       &   5       & ...       &  0        &  0        &  0        &  0        &  0        &   5       &       NaN &       NaN &   0       &       NaN\\\\\n",
       "\t wohlema01 & 2001      & CIN       & NL        &  500000   & 1         & CIN       & NL        &  30       &  29       & ...       &  0        &  0        &  0        &  0        &  0        &  29       &       NaN &       NaN &   0       &       NaN\\\\\n",
       "\t wolfra02  & 2001      & PHI       & NL        &  365000   & 1         & PHI       & NL        &  28       &  25       & ...       &  0        &  0        &  5        &  0        &  1        &  25       & 0.1777778 & 0.2291667 &   8       & 0.1777778\\\\\n",
       "\t womacto01 & 2001      & ARI       & NL        & 4000000   & 1         & ARI       & NL        & 125       & 125       & ...       &  2        &  6        &  7        &  1        &  4        & 125       & 0.2661123 & 0.3072407 & 101       & 0.3451143\\\\\n",
       "\t woodast01 & 2001      & CLE       & AL        & 1325000   & 1         & CLE       & AL        &  29       &   3       & ...       &  0        &  0        &  0        &  0        &  0        &   3       & 0.0000000 & 0.0000000 &   0       & 0.0000000\\\\\n",
       "\t woodke02  & 2001      & CHN       & NL        & 1940000   & 1         & CHN       & NL        &  29       &  28       & ...       &  0        &  0        & 13        &  0        &  0        &  28       & 0.1875000 & 0.2040816 &   8       & 0.2083333\\\\\n",
       "\t woodwch01 & 2001      & TOR       & AL        &  223000   & 1         & TOR       & AL        &  37       &  37       & ...       &  0        &  0        &  2        &  0        &  1        &  37       & 0.1904762 & 0.2031250 &   5       & 0.3968254\\\\\n",
       "\t wootesh01 & 2001      & ANA       & AL        &  200500   & 1         & ANA       & AL        &  79       &  79       & ...       &  0        &  3        &  0        &  3        &  5        &  79       & 0.3122172 & 0.3318966 &  52       & 0.4660633\\\\\n",
       "\t worreti01 & 2001      & SFN       & NL        & 1300000   & 1         & SFN       & NL        &  73       &  72       & ...       &  0        &  0        &  1        &  0        &  0        &  72       & 0.0000000 & 0.0000000 &   0       & 0.0000000\\\\\n",
       "\t wrighja01 & 2001      & MIL       & NL        & 2350000   & 1         & MIL       & NL        &  34       &  33       & ...       &  0        &  0        &  4        &  0        &  0        &  33       & 0.1940299 & 0.2285714 &  12       & 0.2089552\\\\\n",
       "\t wrighja02 & 2001      & CLE       & AL        & 2562500   & 1         & CLE       & AL        &   7       &   1       & ...       &  0        &  0        &  0        &  0        &  0        &   1       & 0.5000000 & 0.5000000 &   1       & 0.5000000\\\\\n",
       "\t wunscke01 & 2001      & CHA       & AL        &  260000   & 1         & CHA       & AL        &  33       &   2       & ...       &  0        &  0        &  0        &  0        &  0        &   2       &       NaN &       NaN &   0       &       NaN\\\\\n",
       "\t yanes01   & 2001      & TBA       & AL        &  650000   & 1         & TBA       & AL        &  54       &   2       & ...       &  0        &  0        &  0        &  0        &  0        &   2       &       NaN &       NaN &   0       &       NaN\\\\\n",
       "\t youngdm01 & 2001      & CIN       & NL        & 3500000   & 1         & CIN       & NL        & 142       & 142       & ...       & 10        &  5        &  1        &  3        & 22        & 142       & 0.3018519 & 0.3504274 & 111       & 0.4814815\\\\\n",
       "\t younger01 & 2001      & CHN       & NL        & 4500000   & 1         & CHN       & NL        & 149       & 149       & ...       &  1        &  9        & 15        &  3        & 15        & 149       & 0.2786070 & 0.3333333 & 115       & 0.3930348\\\\\n",
       "\t youngke01 & 2001      & PIT       & NL        & 6125000   & 1         & PIT       & NL        & 142       & 142       & ...       &  3        & 11        &  0        &  5        & 17        & 142       & 0.2316258 & 0.3096647 &  57       & 0.3986637\\\\\n",
       "\t zaungr01  & 2001      & KCA       & AL        & 1150000   & 1         & KCA       & AL        &  39       &  39       & ...       &  0        &  0        &  0        &  1        &  2        &  39       & 0.3200000 & 0.3768116 &  25       & 0.5360000\\\\\n",
       "\t zeileto01 & 2001      & NYN       & NL        & 6833333   & 1         & NYN       & NL        & 151       & 151       & ...       &  3        &  6        &  0        &  2        & 15        & 151       & 0.2655367 & 0.3594771 & 105       & 0.3728814\\\\\n",
       "\t zimmeje02 & 2001      & TEX       & AL        &  307500   & 1         & TEX       & AL        &  66       &   3       & ...       &  0        &  0        &  0        &  0        &  0        &   3       &       NaN &       NaN &   0       &       NaN\\\\\n",
       "\t zitoba01  & 2001      & OAK       & AL        &  240000   & 1         & OAK       & AL        &  35       &   2       & ...       &  0        &  0        &  0        &  0        &  0        &   2       & 0.0000000 & 0.0000000 &   0       & 0.0000000\\\\\n",
       "\t zuletju01 & 2001      & CHN       & NL        &  200000   & 1         & CHN       & NL        &  49       &  49       & ...       &  1        &  3        &  0        &  1        &  3        &  49       & 0.2169811 & 0.2881356 &  14       & 0.4150943\\\\\n",
       "\\end{tabular}\n"
      ],
      "text/markdown": [
       "\n",
       "| playerID | yearID | teamID.x | lgID.x | salary | stint | teamID.y | lgID.y | G | G_batting | ... | IBB | HBP | SH | SF | GIDP | G_old | BA | OBP | X1B | SLG |\n",
       "|---|---|---|---|---|---|---|---|---|---|---|---|---|---|---|---|---|---|---|---|---|\n",
       "| abbotje01  | 2001       | FLO        | NL         |  300000    | 1          | FLO        | NL         |  28        |  28        | ...        |  0         | 1          |  0         | 0          |  1         |  28        | 0.26190476 | 0.32608696 |   8        | 0.33333333 |\n",
       "| abbotku01  | 2001       | ATL        | NL         |  600000    | 1          | ATL        | NL         |   6        |   6        | ...        |  0         | 0          |  0         | 0          |  0         |   6        | 0.22222222 | 0.22222222 |   2        | 0.22222222 |\n",
       "| abbotpa01  | 2001       | SEA        | AL         | 1700000    | 1          | SEA        | AL         |  28        |   2        | ...        |  0         | 0          |  1         | 0          |  0         |   2        | 0.25000000 | 0.25000000 |   1        | 0.25000000 |\n",
       "| abreubo01  | 2001       | PHI        | NL         | 4983000    | 1          | PHI        | NL         | 162        | 162        | ...        | 11         | 1          |  0         | 9          | 13         | 162        | 0.28911565 | 0.39346591 |  87        | 0.54251701 |\n",
       "| adamste01  | 2001       | LAN        | NL         | 2600000    | 1          | LAN        | NL         |  43        |  41        | ...        |  0         | 0          |  5         | 1          |  0         |  41        | 0.05128205 | 0.11627907 |   1        | 0.07692308 |\n",
       "| agbaybe01  | 2001       | NYN        | NL         |  260000    | 1          | NYN        | NL         |  91        |  91        | ...        |  0         | 5          |  1         | 1          | 11         |  91        | 0.27702703 | 0.36390533 |  60        | 0.39864865 |\n",
       "| alfonan01  | 2001       | FLO        | NL         | 2450000    | 1          | FLO        | NL         |  58        |  54        | ...        |  0         | 0          |  0         | 0          |  0         |  54        |        NaN |        NaN |   0        |        NaN |\n",
       "| alfoned01  | 2001       | NYN        | NL         | 5750000    | 1          | NYN        | NL         | 124        | 124        | ...        |  0         | 5          |  1         | 5          |  7         | 124        | 0.24288840 | 0.32239382 |  72        | 0.40262582 |\n",
       "| alicelu01  | 2001       | KCA        | AL         |  800000    | 1          | KCA        | AL         | 113        | 113        | ...        |  0         | 4          |  3         | 1          |  6         | 113        | 0.27390181 | 0.32048193 |  82        | 0.36692506 |\n",
       "| allench01  | 2001       | MIN        | AL         |  240000    | 1          | MIN        | AL         |  57        |  57        | ...        |  1         | 0          |  0         | 1          |  7         |  57        | 0.26285714 | 0.33333333 |  27        | 0.42857143 |\n",
       "| almanar01  | 2001       | FLO        | NL         |  225000    | 1          | FLO        | NL         |  52        |  49        | ...        |  0         | 0          |  0         | 0          |  0         |  49        |        NaN |        NaN |   0        |        NaN |\n",
       "| almanca01  | 2001       | NYA        | AL         |  270000    | 1          | NYA        | AL         |  10        |   1        | ...        |  0         | 0          |  0         | 0          |  0         |   1        |        NaN |        NaN |   0        |        NaN |\n",
       "| alomaro01  | 2001       | CLE        | AL         | 7750000    | 1          | CLE        | AL         | 157        | 157        | ...        |  5         | 4          |  9         | 9          |  9         | 157        | 0.33565217 | 0.41467066 | 127        | 0.54086957 |\n",
       "| alomasa02  | 2001       | CHA        | AL         | 2900000    | 1          | CHA        | AL         |  70        |  70        | ...        |  1         | 2          |  3         | 2          |  6         |  70        | 0.24545455 | 0.28813559 |  41        | 0.34545455 |\n",
       "| aloumo01   | 2001       | HOU        | NL         | 5250000    | 1          | HOU        | NL         | 136        | 136        | ...        | 14         | 3          |  0         | 8          | 18         | 136        | 0.33138402 | 0.39586919 | 111        | 0.55360624 |\n",
       "| anderbr01  | 2001       | BAL        | AL         | 7200000    | 1          | BAL        | AL         | 131        | 131        | ...        |  4         | 8          |  2         | 1          |  3         | 131        | 0.20232558 | 0.31062124 |  64        | 0.30000000 |\n",
       "| anderbr02  | 2001       | ARI        | NL         | 4125000    | 1          | ARI        | NL         |  33        |  31        | ...        |  0         | 0          |  0         | 0          |  2         |  31        | 0.13513514 | 0.13513514 |   3        | 0.21621622 |\n",
       "| anderga01  | 2001       | ANA        | AL         | 4500000    | 1          | ANA        | AL         | 161        | 161        | ...        |  4         | 0          |  0         | 5          | 12         | 161        | 0.28869048 | 0.31392045 | 125        | 0.47767857 |\n",
       "| anderji02  | 2001       | PIT        | NL         |  285000    | 1          | PIT        | NL         |  34        |  32        | ...        |  0         | 0          |  6         | 0          |  1         |  32        | 0.11864407 | 0.17460317 |   6        | 0.13559322 |\n",
       "| anderma01  | 2001       | DET        | AL         |  355000    | 1          | DET        | AL         |  62        |   4        | ...        |  0         | 0          |  0         | 0          |  0         |   4        |        NaN |        NaN |   0        |        NaN |\n",
       "| anderma02  | 2001       | PHI        | NL         |  280000    | 1          | PHI        | NL         | 147        | 147        | ...        |  5         | 2          | 10         | 5          | 12         | 147        | 0.29310345 | 0.33687943 | 110        | 0.42145594 |\n",
       "| ankieri01  | 2001       | SLN        | NL         |  400000    | 1          | SLN        | NL         |   6        |   6        | ...        |  0         | 0          |  1         | 0          |  0         |   6        | 0.00000000 | 0.11111111 |   0        | 0.00000000 |\n",
       "| appieke01  | 2001       | NYN        | NL         | 8500000    | 1          | NYN        | NL         |  33        |  31        | ...        |  0         | 1          |  3         | 0          |  0         |  31        | 0.11290323 | 0.14062500 |   7        | 0.11290323 |\n",
       "| ariasal01  | 2001       | SDN        | NL         |  550000    | 1          | SDN        | NL         |  70        |  70        | ...        |  1         | 1          |  1         | 2          |  3         |  70        | 0.22627737 | 0.31210191 |  20        | 0.33576642 |\n",
       "| armasto02  | 2001       | MON        | NL         |  230000    | 1          | MON        | NL         |  34        |  32        | ...        |  0         | 0          |  6         | 0          |  0         |  32        | 0.15094340 | 0.15094340 |   7        | 0.16981132 |\n",
       "| arrojro01  | 2001       | BOS        | AL         | 1625000    | 1          | BOS        | AL         |  41        |   3        | ...        |  0         | 0          |  0         | 0          |  0         |   3        | 0.00000000 | 0.00000000 |   0        | 0.00000000 |\n",
       "| arroybr01  | 2001       | PIT        | NL         |  225000    | 1          | PIT        | NL         |  24        |  23        | ...        |  0         | 0          |  0         | 1          |  0         |  23        | 0.04761905 | 0.08695652 |   1        | 0.04761905 |\n",
       "| ashbyan01  | 2001       | LAN        | NL         | 6000000    | 1          | LAN        | NL         |   3        |   3        | ...        |  0         | 0          |  2         | 0          |  0         |   3        | 0.50000000 | 0.66666667 |   1        | 0.50000000 |\n",
       "| astacpe01  | 2001       | COL        | NL         | 6850000    | 1          | COL        | NL         |  22        |  20        | ...        |  0         | 0          | 10         | 0          |  0         |  20        | 0.09523810 | 0.09523810 |   4        | 0.09523810 |\n",
       "| astacpe01  | 2001       | COL        | NL         | 6850000    | 2          | HOU        | NL         |   4        |   4        | ...        |  0         | 0          |  1         | 0          |  0         |   4        | 0.09090909 | 0.09090909 |   1        | 0.09090909 |\n",
       "| ... | ... | ... | ... | ... | ... | ... | ... | ... | ... |     | ... | ... | ... | ... | ... | ... | ... | ... | ... | ... |\n",
       "| wilsokr01 | 2001      | KCA       | AL        |  205000   | 1         | KCA       | AL        |  29       |   1       | ...       |  0        |  0        |  0        |  0        |  0        |   1       | 0.3333333 | 0.3333333 |   1       | 0.3333333 |\n",
       "| wilsopa02 | 2001      | TBA       | AL        |  350000   | 1         | TBA       | AL        |  37       |   4       | ...       |  0        |  0        |  0        |  0        |  0        |   4       |       NaN |       NaN |   0       |       NaN |\n",
       "| wilsopr01 | 2001      | FLO       | NL        | 1000000   | 1         | FLO       | NL        | 123       | 123       | ...       |  2        |  6        |  0        |  3        | 14        | 123       | 0.2735043 | 0.3313840 |  73       | 0.4935897 |\n",
       "| winchsc01 | 2001      | CIN       | NL        |  202000   | 1         | CIN       | NL        |  12       |  11       | ...       |  0        |  0        |  0        |  0        |  1        |  11       | 0.0000000 | 0.0000000 |   0       | 0.0000000 |\n",
       "| winnra01  | 2001      | TBA       | AL        |  270000   | 1         | TBA       | AL        | 128       | 128       | ...       |  0        |  6        |  5        |  2        | 10        | 128       | 0.2727273 | 0.3389474 |  80       | 0.4009324 |\n",
       "| wisema01  | 2001      | ANA       | AL        |  207500   | 1         | ANA       | AL        |  11       |   0       | ...       | NA        | NA        | NA        | NA        | NA        |  11       |        NA |        NA |  NA       |        NA |\n",
       "| witasja01 | 2001      | SDN       | NL        |  800000   | 1         | SDN       | NL        |  31       |  30       | ...       |  0        |  0        |  0        |  0        |  0        |  30       | 0.0000000 | 0.0000000 |   0       | 0.0000000 |\n",
       "| witasja01 | 2001      | SDN       | NL        |  800000   | 2         | NYA       | AL        |  32       |   3       | ...       |  0        |  0        |  0        |  0        |  0        |   3       |       NaN |       NaN |   0       |       NaN |\n",
       "| wittbo01  | 2001      | ARI       | NL        |  500000   | 1         | ARI       | NL        |  14       |  14       | ...       |  0        |  0        |  1        |  0        |  0        |  14       | 0.2500000 | 0.2500000 |   3       | 0.2500000 |\n",
       "| wohlema01 | 2001      | CIN       | NL        |  500000   | 2         | NYA       | AL        |  31       |   5       | ...       |  0        |  0        |  0        |  0        |  0        |   5       |       NaN |       NaN |   0       |       NaN |\n",
       "| wohlema01 | 2001      | CIN       | NL        |  500000   | 1         | CIN       | NL        |  30       |  29       | ...       |  0        |  0        |  0        |  0        |  0        |  29       |       NaN |       NaN |   0       |       NaN |\n",
       "| wolfra02  | 2001      | PHI       | NL        |  365000   | 1         | PHI       | NL        |  28       |  25       | ...       |  0        |  0        |  5        |  0        |  1        |  25       | 0.1777778 | 0.2291667 |   8       | 0.1777778 |\n",
       "| womacto01 | 2001      | ARI       | NL        | 4000000   | 1         | ARI       | NL        | 125       | 125       | ...       |  2        |  6        |  7        |  1        |  4        | 125       | 0.2661123 | 0.3072407 | 101       | 0.3451143 |\n",
       "| woodast01 | 2001      | CLE       | AL        | 1325000   | 1         | CLE       | AL        |  29       |   3       | ...       |  0        |  0        |  0        |  0        |  0        |   3       | 0.0000000 | 0.0000000 |   0       | 0.0000000 |\n",
       "| woodke02  | 2001      | CHN       | NL        | 1940000   | 1         | CHN       | NL        |  29       |  28       | ...       |  0        |  0        | 13        |  0        |  0        |  28       | 0.1875000 | 0.2040816 |   8       | 0.2083333 |\n",
       "| woodwch01 | 2001      | TOR       | AL        |  223000   | 1         | TOR       | AL        |  37       |  37       | ...       |  0        |  0        |  2        |  0        |  1        |  37       | 0.1904762 | 0.2031250 |   5       | 0.3968254 |\n",
       "| wootesh01 | 2001      | ANA       | AL        |  200500   | 1         | ANA       | AL        |  79       |  79       | ...       |  0        |  3        |  0        |  3        |  5        |  79       | 0.3122172 | 0.3318966 |  52       | 0.4660633 |\n",
       "| worreti01 | 2001      | SFN       | NL        | 1300000   | 1         | SFN       | NL        |  73       |  72       | ...       |  0        |  0        |  1        |  0        |  0        |  72       | 0.0000000 | 0.0000000 |   0       | 0.0000000 |\n",
       "| wrighja01 | 2001      | MIL       | NL        | 2350000   | 1         | MIL       | NL        |  34       |  33       | ...       |  0        |  0        |  4        |  0        |  0        |  33       | 0.1940299 | 0.2285714 |  12       | 0.2089552 |\n",
       "| wrighja02 | 2001      | CLE       | AL        | 2562500   | 1         | CLE       | AL        |   7       |   1       | ...       |  0        |  0        |  0        |  0        |  0        |   1       | 0.5000000 | 0.5000000 |   1       | 0.5000000 |\n",
       "| wunscke01 | 2001      | CHA       | AL        |  260000   | 1         | CHA       | AL        |  33       |   2       | ...       |  0        |  0        |  0        |  0        |  0        |   2       |       NaN |       NaN |   0       |       NaN |\n",
       "| yanes01   | 2001      | TBA       | AL        |  650000   | 1         | TBA       | AL        |  54       |   2       | ...       |  0        |  0        |  0        |  0        |  0        |   2       |       NaN |       NaN |   0       |       NaN |\n",
       "| youngdm01 | 2001      | CIN       | NL        | 3500000   | 1         | CIN       | NL        | 142       | 142       | ...       | 10        |  5        |  1        |  3        | 22        | 142       | 0.3018519 | 0.3504274 | 111       | 0.4814815 |\n",
       "| younger01 | 2001      | CHN       | NL        | 4500000   | 1         | CHN       | NL        | 149       | 149       | ...       |  1        |  9        | 15        |  3        | 15        | 149       | 0.2786070 | 0.3333333 | 115       | 0.3930348 |\n",
       "| youngke01 | 2001      | PIT       | NL        | 6125000   | 1         | PIT       | NL        | 142       | 142       | ...       |  3        | 11        |  0        |  5        | 17        | 142       | 0.2316258 | 0.3096647 |  57       | 0.3986637 |\n",
       "| zaungr01  | 2001      | KCA       | AL        | 1150000   | 1         | KCA       | AL        |  39       |  39       | ...       |  0        |  0        |  0        |  1        |  2        |  39       | 0.3200000 | 0.3768116 |  25       | 0.5360000 |\n",
       "| zeileto01 | 2001      | NYN       | NL        | 6833333   | 1         | NYN       | NL        | 151       | 151       | ...       |  3        |  6        |  0        |  2        | 15        | 151       | 0.2655367 | 0.3594771 | 105       | 0.3728814 |\n",
       "| zimmeje02 | 2001      | TEX       | AL        |  307500   | 1         | TEX       | AL        |  66       |   3       | ...       |  0        |  0        |  0        |  0        |  0        |   3       |       NaN |       NaN |   0       |       NaN |\n",
       "| zitoba01  | 2001      | OAK       | AL        |  240000   | 1         | OAK       | AL        |  35       |   2       | ...       |  0        |  0        |  0        |  0        |  0        |   2       | 0.0000000 | 0.0000000 |   0       | 0.0000000 |\n",
       "| zuletju01 | 2001      | CHN       | NL        |  200000   | 1         | CHN       | NL        |  49       |  49       | ...       |  1        |  3        |  0        |  1        |  3        |  49       | 0.2169811 | 0.2881356 |  14       | 0.4150943 |\n",
       "\n"
      ],
      "text/plain": [
       "    playerID  yearID teamID.x lgID.x salary  stint teamID.y lgID.y G  \n",
       "1   abbotje01 2001   FLO      NL      300000 1     FLO      NL      28\n",
       "2   abbotku01 2001   ATL      NL      600000 1     ATL      NL       6\n",
       "3   abbotpa01 2001   SEA      AL     1700000 1     SEA      AL      28\n",
       "4   abreubo01 2001   PHI      NL     4983000 1     PHI      NL     162\n",
       "5   adamste01 2001   LAN      NL     2600000 1     LAN      NL      43\n",
       "6   agbaybe01 2001   NYN      NL      260000 1     NYN      NL      91\n",
       "7   alfonan01 2001   FLO      NL     2450000 1     FLO      NL      58\n",
       "8   alfoned01 2001   NYN      NL     5750000 1     NYN      NL     124\n",
       "9   alicelu01 2001   KCA      AL      800000 1     KCA      AL     113\n",
       "10  allench01 2001   MIN      AL      240000 1     MIN      AL      57\n",
       "11  almanar01 2001   FLO      NL      225000 1     FLO      NL      52\n",
       "12  almanca01 2001   NYA      AL      270000 1     NYA      AL      10\n",
       "13  alomaro01 2001   CLE      AL     7750000 1     CLE      AL     157\n",
       "14  alomasa02 2001   CHA      AL     2900000 1     CHA      AL      70\n",
       "15  aloumo01  2001   HOU      NL     5250000 1     HOU      NL     136\n",
       "16  anderbr01 2001   BAL      AL     7200000 1     BAL      AL     131\n",
       "17  anderbr02 2001   ARI      NL     4125000 1     ARI      NL      33\n",
       "18  anderga01 2001   ANA      AL     4500000 1     ANA      AL     161\n",
       "19  anderji02 2001   PIT      NL      285000 1     PIT      NL      34\n",
       "20  anderma01 2001   DET      AL      355000 1     DET      AL      62\n",
       "21  anderma02 2001   PHI      NL      280000 1     PHI      NL     147\n",
       "22  ankieri01 2001   SLN      NL      400000 1     SLN      NL       6\n",
       "23  appieke01 2001   NYN      NL     8500000 1     NYN      NL      33\n",
       "24  ariasal01 2001   SDN      NL      550000 1     SDN      NL      70\n",
       "25  armasto02 2001   MON      NL      230000 1     MON      NL      34\n",
       "26  arrojro01 2001   BOS      AL     1625000 1     BOS      AL      41\n",
       "27  arroybr01 2001   PIT      NL      225000 1     PIT      NL      24\n",
       "28  ashbyan01 2001   LAN      NL     6000000 1     LAN      NL       3\n",
       "29  astacpe01 2001   COL      NL     6850000 1     COL      NL      22\n",
       "30  astacpe01 2001   COL      NL     6850000 2     HOU      NL       4\n",
       "... ...       ...    ...      ...    ...     ...   ...      ...    ...\n",
       "886 wilsokr01 2001   KCA      AL      205000 1     KCA      AL      29\n",
       "887 wilsopa02 2001   TBA      AL      350000 1     TBA      AL      37\n",
       "888 wilsopr01 2001   FLO      NL     1000000 1     FLO      NL     123\n",
       "889 winchsc01 2001   CIN      NL      202000 1     CIN      NL      12\n",
       "890 winnra01  2001   TBA      AL      270000 1     TBA      AL     128\n",
       "891 wisema01  2001   ANA      AL      207500 1     ANA      AL      11\n",
       "892 witasja01 2001   SDN      NL      800000 1     SDN      NL      31\n",
       "893 witasja01 2001   SDN      NL      800000 2     NYA      AL      32\n",
       "894 wittbo01  2001   ARI      NL      500000 1     ARI      NL      14\n",
       "895 wohlema01 2001   CIN      NL      500000 2     NYA      AL      31\n",
       "896 wohlema01 2001   CIN      NL      500000 1     CIN      NL      30\n",
       "897 wolfra02  2001   PHI      NL      365000 1     PHI      NL      28\n",
       "898 womacto01 2001   ARI      NL     4000000 1     ARI      NL     125\n",
       "899 woodast01 2001   CLE      AL     1325000 1     CLE      AL      29\n",
       "900 woodke02  2001   CHN      NL     1940000 1     CHN      NL      29\n",
       "901 woodwch01 2001   TOR      AL      223000 1     TOR      AL      37\n",
       "902 wootesh01 2001   ANA      AL      200500 1     ANA      AL      79\n",
       "903 worreti01 2001   SFN      NL     1300000 1     SFN      NL      73\n",
       "904 wrighja01 2001   MIL      NL     2350000 1     MIL      NL      34\n",
       "905 wrighja02 2001   CLE      AL     2562500 1     CLE      AL       7\n",
       "906 wunscke01 2001   CHA      AL      260000 1     CHA      AL      33\n",
       "907 yanes01   2001   TBA      AL      650000 1     TBA      AL      54\n",
       "908 youngdm01 2001   CIN      NL     3500000 1     CIN      NL     142\n",
       "909 younger01 2001   CHN      NL     4500000 1     CHN      NL     149\n",
       "910 youngke01 2001   PIT      NL     6125000 1     PIT      NL     142\n",
       "911 zaungr01  2001   KCA      AL     1150000 1     KCA      AL      39\n",
       "912 zeileto01 2001   NYN      NL     6833333 1     NYN      NL     151\n",
       "913 zimmeje02 2001   TEX      AL      307500 1     TEX      AL      66\n",
       "914 zitoba01  2001   OAK      AL      240000 1     OAK      AL      35\n",
       "915 zuletju01 2001   CHN      NL      200000 1     CHN      NL      49\n",
       "    G_batting ... IBB HBP SH  SF  GIDP G_old BA         OBP        X1B\n",
       "1    28       ...  0  1    0  0    1    28   0.26190476 0.32608696   8\n",
       "2     6       ...  0  0    0  0    0     6   0.22222222 0.22222222   2\n",
       "3     2       ...  0  0    1  0    0     2   0.25000000 0.25000000   1\n",
       "4   162       ... 11  1    0  9   13   162   0.28911565 0.39346591  87\n",
       "5    41       ...  0  0    5  1    0    41   0.05128205 0.11627907   1\n",
       "6    91       ...  0  5    1  1   11    91   0.27702703 0.36390533  60\n",
       "7    54       ...  0  0    0  0    0    54          NaN        NaN   0\n",
       "8   124       ...  0  5    1  5    7   124   0.24288840 0.32239382  72\n",
       "9   113       ...  0  4    3  1    6   113   0.27390181 0.32048193  82\n",
       "10   57       ...  1  0    0  1    7    57   0.26285714 0.33333333  27\n",
       "11   49       ...  0  0    0  0    0    49          NaN        NaN   0\n",
       "12    1       ...  0  0    0  0    0     1          NaN        NaN   0\n",
       "13  157       ...  5  4    9  9    9   157   0.33565217 0.41467066 127\n",
       "14   70       ...  1  2    3  2    6    70   0.24545455 0.28813559  41\n",
       "15  136       ... 14  3    0  8   18   136   0.33138402 0.39586919 111\n",
       "16  131       ...  4  8    2  1    3   131   0.20232558 0.31062124  64\n",
       "17   31       ...  0  0    0  0    2    31   0.13513514 0.13513514   3\n",
       "18  161       ...  4  0    0  5   12   161   0.28869048 0.31392045 125\n",
       "19   32       ...  0  0    6  0    1    32   0.11864407 0.17460317   6\n",
       "20    4       ...  0  0    0  0    0     4          NaN        NaN   0\n",
       "21  147       ...  5  2   10  5   12   147   0.29310345 0.33687943 110\n",
       "22    6       ...  0  0    1  0    0     6   0.00000000 0.11111111   0\n",
       "23   31       ...  0  1    3  0    0    31   0.11290323 0.14062500   7\n",
       "24   70       ...  1  1    1  2    3    70   0.22627737 0.31210191  20\n",
       "25   32       ...  0  0    6  0    0    32   0.15094340 0.15094340   7\n",
       "26    3       ...  0  0    0  0    0     3   0.00000000 0.00000000   0\n",
       "27   23       ...  0  0    0  1    0    23   0.04761905 0.08695652   1\n",
       "28    3       ...  0  0    2  0    0     3   0.50000000 0.66666667   1\n",
       "29   20       ...  0  0   10  0    0    20   0.09523810 0.09523810   4\n",
       "30    4       ...  0  0    1  0    0     4   0.09090909 0.09090909   1\n",
       "... ...           ... ... ... ... ...  ...   ...        ...        ...\n",
       "886   1       ...  0   0   0   0   0     1   0.3333333  0.3333333    1\n",
       "887   4       ...  0   0   0   0   0     4         NaN        NaN    0\n",
       "888 123       ...  2   6   0   3  14   123   0.2735043  0.3313840   73\n",
       "889  11       ...  0   0   0   0   1    11   0.0000000  0.0000000    0\n",
       "890 128       ...  0   6   5   2  10   128   0.2727273  0.3389474   80\n",
       "891   0       ... NA  NA  NA  NA  NA    11          NA         NA   NA\n",
       "892  30       ...  0   0   0   0   0    30   0.0000000  0.0000000    0\n",
       "893   3       ...  0   0   0   0   0     3         NaN        NaN    0\n",
       "894  14       ...  0   0   1   0   0    14   0.2500000  0.2500000    3\n",
       "895   5       ...  0   0   0   0   0     5         NaN        NaN    0\n",
       "896  29       ...  0   0   0   0   0    29         NaN        NaN    0\n",
       "897  25       ...  0   0   5   0   1    25   0.1777778  0.2291667    8\n",
       "898 125       ...  2   6   7   1   4   125   0.2661123  0.3072407  101\n",
       "899   3       ...  0   0   0   0   0     3   0.0000000  0.0000000    0\n",
       "900  28       ...  0   0  13   0   0    28   0.1875000  0.2040816    8\n",
       "901  37       ...  0   0   2   0   1    37   0.1904762  0.2031250    5\n",
       "902  79       ...  0   3   0   3   5    79   0.3122172  0.3318966   52\n",
       "903  72       ...  0   0   1   0   0    72   0.0000000  0.0000000    0\n",
       "904  33       ...  0   0   4   0   0    33   0.1940299  0.2285714   12\n",
       "905   1       ...  0   0   0   0   0     1   0.5000000  0.5000000    1\n",
       "906   2       ...  0   0   0   0   0     2         NaN        NaN    0\n",
       "907   2       ...  0   0   0   0   0     2         NaN        NaN    0\n",
       "908 142       ... 10   5   1   3  22   142   0.3018519  0.3504274  111\n",
       "909 149       ...  1   9  15   3  15   149   0.2786070  0.3333333  115\n",
       "910 142       ...  3  11   0   5  17   142   0.2316258  0.3096647   57\n",
       "911  39       ...  0   0   0   1   2    39   0.3200000  0.3768116   25\n",
       "912 151       ...  3   6   0   2  15   151   0.2655367  0.3594771  105\n",
       "913   3       ...  0   0   0   0   0     3         NaN        NaN    0\n",
       "914   2       ...  0   0   0   0   0     2   0.0000000  0.0000000    0\n",
       "915  49       ...  1   3   0   1   3    49   0.2169811  0.2881356   14\n",
       "    SLG       \n",
       "1   0.33333333\n",
       "2   0.22222222\n",
       "3   0.25000000\n",
       "4   0.54251701\n",
       "5   0.07692308\n",
       "6   0.39864865\n",
       "7          NaN\n",
       "8   0.40262582\n",
       "9   0.36692506\n",
       "10  0.42857143\n",
       "11         NaN\n",
       "12         NaN\n",
       "13  0.54086957\n",
       "14  0.34545455\n",
       "15  0.55360624\n",
       "16  0.30000000\n",
       "17  0.21621622\n",
       "18  0.47767857\n",
       "19  0.13559322\n",
       "20         NaN\n",
       "21  0.42145594\n",
       "22  0.00000000\n",
       "23  0.11290323\n",
       "24  0.33576642\n",
       "25  0.16981132\n",
       "26  0.00000000\n",
       "27  0.04761905\n",
       "28  0.50000000\n",
       "29  0.09523810\n",
       "30  0.09090909\n",
       "... ...       \n",
       "886 0.3333333 \n",
       "887       NaN \n",
       "888 0.4935897 \n",
       "889 0.0000000 \n",
       "890 0.4009324 \n",
       "891        NA \n",
       "892 0.0000000 \n",
       "893       NaN \n",
       "894 0.2500000 \n",
       "895       NaN \n",
       "896       NaN \n",
       "897 0.1777778 \n",
       "898 0.3451143 \n",
       "899 0.0000000 \n",
       "900 0.2083333 \n",
       "901 0.3968254 \n",
       "902 0.4660633 \n",
       "903 0.0000000 \n",
       "904 0.2089552 \n",
       "905 0.5000000 \n",
       "906       NaN \n",
       "907       NaN \n",
       "908 0.4814815 \n",
       "909 0.3930348 \n",
       "910 0.3986637 \n",
       "911 0.5360000 \n",
       "912 0.3728814 \n",
       "913       NaN \n",
       "914 0.0000000 \n",
       "915 0.4150943 "
      ]
     },
     "metadata": {},
     "output_type": "display_data"
    }
   ],
   "source": [
    "avail_player1=s3 %>% filter(yearID=='2001')\n",
    "avail_player1"
   ]
  },
  {
   "cell_type": "code",
   "execution_count": 31,
   "id": "424d035a",
   "metadata": {},
   "outputs": [
    {
     "name": "stderr",
     "output_type": "stream",
     "text": [
      "Warning message:\n",
      "\"Removed 168 rows containing missing values (geom_point).\"\n"
     ]
    },
    {
     "data": {
      "image/png": "[encoded data removed]",
      "text/plain": [
       "plot without title"
      ]
     },
     "metadata": {
      "image/png": {
       "height": 420,
       "width": 420
      }
     },
     "output_type": "display_data"
    }
   ],
   "source": [
    "ggplot(avail_player1, aes(x=OBP, y=salary)) + geom_point()\n"
   ]
  },
  {
   "cell_type": "markdown",
   "id": "fe308784",
   "metadata": {},
   "source": [
    "####  players with salary less than 8 million and OBP greater than 0"
   ]
  },
  {
   "cell_type": "code",
   "execution_count": 38,
   "id": "c5b363c2",
   "metadata": {},
   "outputs": [
    {
     "data": {
      "text/html": [
       "<table>\n",
       "<thead><tr><th scope=col>playerID</th><th scope=col>yearID</th><th scope=col>teamID.x</th><th scope=col>lgID.x</th><th scope=col>salary</th><th scope=col>stint</th><th scope=col>teamID.y</th><th scope=col>lgID.y</th><th scope=col>G</th><th scope=col>G_batting</th><th scope=col>...</th><th scope=col>IBB</th><th scope=col>HBP</th><th scope=col>SH</th><th scope=col>SF</th><th scope=col>GIDP</th><th scope=col>G_old</th><th scope=col>BA</th><th scope=col>OBP</th><th scope=col>X1B</th><th scope=col>SLG</th></tr></thead>\n",
       "<tbody>\n",
       "\t<tr><td>abbotje01 </td><td>2001      </td><td>FLO       </td><td>NL        </td><td> 300000   </td><td>1         </td><td>FLO       </td><td>NL        </td><td> 28       </td><td> 28       </td><td>...       </td><td> 0        </td><td>1         </td><td> 0        </td><td>0         </td><td> 1        </td><td> 28       </td><td>0.26190476</td><td>0.32608696</td><td>  8       </td><td>0.33333333</td></tr>\n",
       "\t<tr><td>abbotku01 </td><td>2001      </td><td>ATL       </td><td>NL        </td><td> 600000   </td><td>1         </td><td>ATL       </td><td>NL        </td><td>  6       </td><td>  6       </td><td>...       </td><td> 0        </td><td>0         </td><td> 0        </td><td>0         </td><td> 0        </td><td>  6       </td><td>0.22222222</td><td>0.22222222</td><td>  2       </td><td>0.22222222</td></tr>\n",
       "\t<tr><td>abbotpa01 </td><td>2001      </td><td>SEA       </td><td>AL        </td><td>1700000   </td><td>1         </td><td>SEA       </td><td>AL        </td><td> 28       </td><td>  2       </td><td>...       </td><td> 0        </td><td>0         </td><td> 1        </td><td>0         </td><td> 0        </td><td>  2       </td><td>0.25000000</td><td>0.25000000</td><td>  1       </td><td>0.25000000</td></tr>\n",
       "\t<tr><td>abreubo01 </td><td>2001      </td><td>PHI       </td><td>NL        </td><td>4983000   </td><td>1         </td><td>PHI       </td><td>NL        </td><td>162       </td><td>162       </td><td>...       </td><td>11        </td><td>1         </td><td> 0        </td><td>9         </td><td>13        </td><td>162       </td><td>0.28911565</td><td>0.39346591</td><td> 87       </td><td>0.54251701</td></tr>\n",
       "\t<tr><td>adamste01 </td><td>2001      </td><td>LAN       </td><td>NL        </td><td>2600000   </td><td>1         </td><td>LAN       </td><td>NL        </td><td> 43       </td><td> 41       </td><td>...       </td><td> 0        </td><td>0         </td><td> 5        </td><td>1         </td><td> 0        </td><td> 41       </td><td>0.05128205</td><td>0.11627907</td><td>  1       </td><td>0.07692308</td></tr>\n",
       "\t<tr><td>agbaybe01 </td><td>2001      </td><td>NYN       </td><td>NL        </td><td> 260000   </td><td>1         </td><td>NYN       </td><td>NL        </td><td> 91       </td><td> 91       </td><td>...       </td><td> 0        </td><td>5         </td><td> 1        </td><td>1         </td><td>11        </td><td> 91       </td><td>0.27702703</td><td>0.36390533</td><td> 60       </td><td>0.39864865</td></tr>\n",
       "\t<tr><td>alfoned01 </td><td>2001      </td><td>NYN       </td><td>NL        </td><td>5750000   </td><td>1         </td><td>NYN       </td><td>NL        </td><td>124       </td><td>124       </td><td>...       </td><td> 0        </td><td>5         </td><td> 1        </td><td>5         </td><td> 7        </td><td>124       </td><td>0.24288840</td><td>0.32239382</td><td> 72       </td><td>0.40262582</td></tr>\n",
       "\t<tr><td>alicelu01 </td><td>2001      </td><td>KCA       </td><td>AL        </td><td> 800000   </td><td>1         </td><td>KCA       </td><td>AL        </td><td>113       </td><td>113       </td><td>...       </td><td> 0        </td><td>4         </td><td> 3        </td><td>1         </td><td> 6        </td><td>113       </td><td>0.27390181</td><td>0.32048193</td><td> 82       </td><td>0.36692506</td></tr>\n",
       "\t<tr><td>allench01 </td><td>2001      </td><td>MIN       </td><td>AL        </td><td> 240000   </td><td>1         </td><td>MIN       </td><td>AL        </td><td> 57       </td><td> 57       </td><td>...       </td><td> 1        </td><td>0         </td><td> 0        </td><td>1         </td><td> 7        </td><td> 57       </td><td>0.26285714</td><td>0.33333333</td><td> 27       </td><td>0.42857143</td></tr>\n",
       "\t<tr><td>alomaro01 </td><td>2001      </td><td>CLE       </td><td>AL        </td><td>7750000   </td><td>1         </td><td>CLE       </td><td>AL        </td><td>157       </td><td>157       </td><td>...       </td><td> 5        </td><td>4         </td><td> 9        </td><td>9         </td><td> 9        </td><td>157       </td><td>0.33565217</td><td>0.41467066</td><td>127       </td><td>0.54086957</td></tr>\n",
       "\t<tr><td>alomasa02 </td><td>2001      </td><td>CHA       </td><td>AL        </td><td>2900000   </td><td>1         </td><td>CHA       </td><td>AL        </td><td> 70       </td><td> 70       </td><td>...       </td><td> 1        </td><td>2         </td><td> 3        </td><td>2         </td><td> 6        </td><td> 70       </td><td>0.24545455</td><td>0.28813559</td><td> 41       </td><td>0.34545455</td></tr>\n",
       "\t<tr><td>aloumo01  </td><td>2001      </td><td>HOU       </td><td>NL        </td><td>5250000   </td><td>1         </td><td>HOU       </td><td>NL        </td><td>136       </td><td>136       </td><td>...       </td><td>14        </td><td>3         </td><td> 0        </td><td>8         </td><td>18        </td><td>136       </td><td>0.33138402</td><td>0.39586919</td><td>111       </td><td>0.55360624</td></tr>\n",
       "\t<tr><td>anderbr01 </td><td>2001      </td><td>BAL       </td><td>AL        </td><td>7200000   </td><td>1         </td><td>BAL       </td><td>AL        </td><td>131       </td><td>131       </td><td>...       </td><td> 4        </td><td>8         </td><td> 2        </td><td>1         </td><td> 3        </td><td>131       </td><td>0.20232558</td><td>0.31062124</td><td> 64       </td><td>0.30000000</td></tr>\n",
       "\t<tr><td>anderbr02 </td><td>2001      </td><td>ARI       </td><td>NL        </td><td>4125000   </td><td>1         </td><td>ARI       </td><td>NL        </td><td> 33       </td><td> 31       </td><td>...       </td><td> 0        </td><td>0         </td><td> 0        </td><td>0         </td><td> 2        </td><td> 31       </td><td>0.13513514</td><td>0.13513514</td><td>  3       </td><td>0.21621622</td></tr>\n",
       "\t<tr><td>anderga01 </td><td>2001      </td><td>ANA       </td><td>AL        </td><td>4500000   </td><td>1         </td><td>ANA       </td><td>AL        </td><td>161       </td><td>161       </td><td>...       </td><td> 4        </td><td>0         </td><td> 0        </td><td>5         </td><td>12        </td><td>161       </td><td>0.28869048</td><td>0.31392045</td><td>125       </td><td>0.47767857</td></tr>\n",
       "\t<tr><td>anderji02 </td><td>2001      </td><td>PIT       </td><td>NL        </td><td> 285000   </td><td>1         </td><td>PIT       </td><td>NL        </td><td> 34       </td><td> 32       </td><td>...       </td><td> 0        </td><td>0         </td><td> 6        </td><td>0         </td><td> 1        </td><td> 32       </td><td>0.11864407</td><td>0.17460317</td><td>  6       </td><td>0.13559322</td></tr>\n",
       "\t<tr><td>anderma02 </td><td>2001      </td><td>PHI       </td><td>NL        </td><td> 280000   </td><td>1         </td><td>PHI       </td><td>NL        </td><td>147       </td><td>147       </td><td>...       </td><td> 5        </td><td>2         </td><td>10        </td><td>5         </td><td>12        </td><td>147       </td><td>0.29310345</td><td>0.33687943</td><td>110       </td><td>0.42145594</td></tr>\n",
       "\t<tr><td>ankieri01 </td><td>2001      </td><td>SLN       </td><td>NL        </td><td> 400000   </td><td>1         </td><td>SLN       </td><td>NL        </td><td>  6       </td><td>  6       </td><td>...       </td><td> 0        </td><td>0         </td><td> 1        </td><td>0         </td><td> 0        </td><td>  6       </td><td>0.00000000</td><td>0.11111111</td><td>  0       </td><td>0.00000000</td></tr>\n",
       "\t<tr><td>ariasal01 </td><td>2001      </td><td>SDN       </td><td>NL        </td><td> 550000   </td><td>1         </td><td>SDN       </td><td>NL        </td><td> 70       </td><td> 70       </td><td>...       </td><td> 1        </td><td>1         </td><td> 1        </td><td>2         </td><td> 3        </td><td> 70       </td><td>0.22627737</td><td>0.31210191</td><td> 20       </td><td>0.33576642</td></tr>\n",
       "\t<tr><td>armasto02 </td><td>2001      </td><td>MON       </td><td>NL        </td><td> 230000   </td><td>1         </td><td>MON       </td><td>NL        </td><td> 34       </td><td> 32       </td><td>...       </td><td> 0        </td><td>0         </td><td> 6        </td><td>0         </td><td> 0        </td><td> 32       </td><td>0.15094340</td><td>0.15094340</td><td>  7       </td><td>0.16981132</td></tr>\n",
       "\t<tr><td>arroybr01 </td><td>2001      </td><td>PIT       </td><td>NL        </td><td> 225000   </td><td>1         </td><td>PIT       </td><td>NL        </td><td> 24       </td><td> 23       </td><td>...       </td><td> 0        </td><td>0         </td><td> 0        </td><td>1         </td><td> 0        </td><td> 23       </td><td>0.04761905</td><td>0.08695652</td><td>  1       </td><td>0.04761905</td></tr>\n",
       "\t<tr><td>ashbyan01 </td><td>2001      </td><td>LAN       </td><td>NL        </td><td>6000000   </td><td>1         </td><td>LAN       </td><td>NL        </td><td>  3       </td><td>  3       </td><td>...       </td><td> 0        </td><td>0         </td><td> 2        </td><td>0         </td><td> 0        </td><td>  3       </td><td>0.50000000</td><td>0.66666667</td><td>  1       </td><td>0.50000000</td></tr>\n",
       "\t<tr><td>astacpe01 </td><td>2001      </td><td>COL       </td><td>NL        </td><td>6850000   </td><td>1         </td><td>COL       </td><td>NL        </td><td> 22       </td><td> 20       </td><td>...       </td><td> 0        </td><td>0         </td><td>10        </td><td>0         </td><td> 0        </td><td> 20       </td><td>0.09523810</td><td>0.09523810</td><td>  4       </td><td>0.09523810</td></tr>\n",
       "\t<tr><td>astacpe01 </td><td>2001      </td><td>COL       </td><td>NL        </td><td>6850000   </td><td>2         </td><td>HOU       </td><td>NL        </td><td>  4       </td><td>  4       </td><td>...       </td><td> 0        </td><td>0         </td><td> 1        </td><td>0         </td><td> 0        </td><td>  4       </td><td>0.09090909</td><td>0.09090909</td><td>  1       </td><td>0.09090909</td></tr>\n",
       "\t<tr><td>aurilri01 </td><td>2001      </td><td>SFN       </td><td>NL        </td><td>3250000   </td><td>1         </td><td>SFN       </td><td>NL        </td><td>156       </td><td>156       </td><td>...       </td><td> 2        </td><td>0         </td><td> 3        </td><td>3         </td><td>14        </td><td>156       </td><td>0.32389937</td><td>0.36880466</td><td>127       </td><td>0.57232704</td></tr>\n",
       "\t<tr><td>ausmubr01 </td><td>2001      </td><td>HOU       </td><td>NL        </td><td>4250000   </td><td>1         </td><td>HOU       </td><td>NL        </td><td>128       </td><td>128       </td><td>...       </td><td> 6        </td><td>1         </td><td> 6        </td><td>2         </td><td>13        </td><td>128       </td><td>0.23222749</td><td>0.28351648</td><td> 66       </td><td>0.34123223</td></tr>\n",
       "\t<tr><td>aybarma01 </td><td>2001      </td><td>CHN       </td><td>NL        </td><td> 665000   </td><td>1         </td><td>CHN       </td><td>NL        </td><td> 17       </td><td> 17       </td><td>...       </td><td> 0        </td><td>0         </td><td> 1        </td><td>0         </td><td> 0        </td><td> 17       </td><td>1.00000000</td><td>1.00000000</td><td>  3       </td><td>1.00000000</td></tr>\n",
       "\t<tr><td>bagweje01 </td><td>2001      </td><td>HOU       </td><td>NL        </td><td>6500000   </td><td>1         </td><td>HOU       </td><td>NL        </td><td>161       </td><td>161       </td><td>...       </td><td> 5        </td><td>6         </td><td> 0        </td><td>5         </td><td>20        </td><td>161       </td><td>0.28833333</td><td>0.39748954</td><td> 87       </td><td>0.56833333</td></tr>\n",
       "\t<tr><td>baineha01 </td><td>2001      </td><td>CHA       </td><td>AL        </td><td>1000000   </td><td>1         </td><td>CHA       </td><td>AL        </td><td> 32       </td><td> 32       </td><td>...       </td><td> 0        </td><td>0         </td><td> 0        </td><td>2         </td><td> 2        </td><td> 32       </td><td>0.13095238</td><td>0.20212766</td><td> 10       </td><td>0.14285714</td></tr>\n",
       "\t<tr><td>bakopa01  </td><td>2001      </td><td>ATL       </td><td>NL        </td><td> 450000   </td><td>1         </td><td>ATL       </td><td>NL        </td><td> 61       </td><td> 61       </td><td>...       </td><td> 2        </td><td>0         </td><td> 0        </td><td>0         </td><td> 3        </td><td> 61       </td><td>0.21167883</td><td>0.31210191</td><td> 16       </td><td>0.34306569</td></tr>\n",
       "\t<tr><td>...</td><td>...</td><td>...</td><td>...</td><td>...</td><td>...</td><td>...</td><td>...</td><td>...</td><td>...</td><td>   </td><td>...</td><td>...</td><td>...</td><td>...</td><td>...</td><td>...</td><td>...</td><td>...</td><td>...</td><td>...</td></tr>\n",
       "\t<tr><td>washbja01</td><td>2001     </td><td>ANA      </td><td>AL       </td><td> 270000  </td><td>1        </td><td>ANA      </td><td>AL       </td><td> 30      </td><td>  2      </td><td>...      </td><td> 0       </td><td> 0       </td><td> 0       </td><td>0        </td><td> 0       </td><td>  2      </td><td>0.6000000</td><td>0.6666667</td><td>  3      </td><td>0.6000000</td></tr>\n",
       "\t<tr><td>weathda01</td><td>2001     </td><td>MIL      </td><td>NL       </td><td>1200000  </td><td>1        </td><td>MIL      </td><td>NL       </td><td> 52      </td><td> 50      </td><td>...      </td><td> 0       </td><td> 0       </td><td> 0       </td><td>0        </td><td> 0       </td><td> 50      </td><td>0.0000000</td><td>0.5000000</td><td>  0      </td><td>0.0000000</td></tr>\n",
       "\t<tr><td>wehnejo01</td><td>2001     </td><td>PIT      </td><td>NL       </td><td> 375000  </td><td>1        </td><td>PIT      </td><td>NL       </td><td> 43      </td><td> 43      </td><td>...      </td><td> 0       </td><td> 0       </td><td> 1       </td><td>0        </td><td> 2       </td><td> 43      </td><td>0.1960784</td><td>0.3278689</td><td>  9      </td><td>0.2156863</td></tr>\n",
       "\t<tr><td>whitede03</td><td>2001     </td><td>MIL      </td><td>NL       </td><td>5000000  </td><td>1        </td><td>MIL      </td><td>NL       </td><td>126      </td><td>126      </td><td>...      </td><td> 1       </td><td>12       </td><td> 1       </td><td>1        </td><td> 6       </td><td>126      </td><td>0.2769231</td><td>0.3433875</td><td> 67      </td><td>0.4589744</td></tr>\n",
       "\t<tr><td>whitero02</td><td>2001     </td><td>CHN      </td><td>NL       </td><td>4000000  </td><td>1        </td><td>CHN      </td><td>NL       </td><td> 95      </td><td> 95      </td><td>...      </td><td> 4       </td><td> 7       </td><td> 1       </td><td>0        </td><td>14       </td><td> 95      </td><td>0.3065015</td><td>0.3707865</td><td> 62      </td><td>0.5294118</td></tr>\n",
       "\t<tr><td>willige02</td><td>2001     </td><td>TBA      </td><td>AL       </td><td>3000000  </td><td>2        </td><td>NYA      </td><td>AL       </td><td> 38      </td><td> 38      </td><td>...      </td><td> 0       </td><td> 1       </td><td> 1       </td><td>0        </td><td> 1       </td><td> 38      </td><td>0.1702128</td><td>0.2641509</td><td>  7      </td><td>0.1914894</td></tr>\n",
       "\t<tr><td>willige02</td><td>2001     </td><td>TBA      </td><td>AL       </td><td>3000000  </td><td>1        </td><td>TBA      </td><td>AL       </td><td> 62      </td><td> 62      </td><td>...      </td><td> 0       </td><td> 4       </td><td> 3       </td><td>0        </td><td> 8       </td><td> 62      </td><td>0.2068966</td><td>0.2610442</td><td> 27      </td><td>0.3318966</td></tr>\n",
       "\t<tr><td>williwo02</td><td>2001     </td><td>SDN      </td><td>NL       </td><td>5083333  </td><td>2        </td><td>SLN      </td><td>NL       </td><td> 11      </td><td> 11      </td><td>...      </td><td> 0       </td><td> 0       </td><td> 1       </td><td>0        </td><td> 0       </td><td> 11      </td><td>0.2592593</td><td>0.2857143</td><td>  5      </td><td>0.3333333</td></tr>\n",
       "\t<tr><td>williwo02</td><td>2001     </td><td>SDN      </td><td>NL       </td><td>5083333  </td><td>1        </td><td>SDN      </td><td>NL       </td><td> 26      </td><td> 26      </td><td>...      </td><td> 0       </td><td> 1       </td><td> 1       </td><td>2        </td><td> 0       </td><td> 26      </td><td>0.1636364</td><td>0.2000000</td><td>  6      </td><td>0.2181818</td></tr>\n",
       "\t<tr><td>wilsoda01</td><td>2001     </td><td>SEA      </td><td>AL       </td><td>4400000  </td><td>1        </td><td>SEA      </td><td>AL       </td><td>123      </td><td>123      </td><td>...      </td><td> 0       </td><td> 2       </td><td> 8       </td><td>1        </td><td> 6       </td><td>123      </td><td>0.2652520</td><td>0.3050000</td><td> 69      </td><td>0.4031830</td></tr>\n",
       "\t<tr><td>wilsoen01</td><td>2001     </td><td>PIT      </td><td>NL       </td><td> 635000  </td><td>1        </td><td>PIT      </td><td>NL       </td><td> 46      </td><td> 46      </td><td>...      </td><td> 0       </td><td> 0       </td><td> 0       </td><td>1        </td><td> 7       </td><td> 46      </td><td>0.1860465</td><td>0.2030075</td><td> 20      </td><td>0.2325581</td></tr>\n",
       "\t<tr><td>wilsoen01</td><td>2001     </td><td>PIT      </td><td>NL       </td><td> 635000  </td><td>2        </td><td>NYA      </td><td>AL       </td><td> 48      </td><td> 48      </td><td>...      </td><td> 0       </td><td> 0       </td><td> 2       </td><td>1        </td><td> 3       </td><td> 48      </td><td>0.2424242</td><td>0.2830189</td><td> 17      </td><td>0.3434343</td></tr>\n",
       "\t<tr><td>wilsoja02</td><td>2001     </td><td>PIT      </td><td>NL       </td><td> 200000  </td><td>1        </td><td>PIT      </td><td>NL       </td><td>108      </td><td>108      </td><td>...      </td><td> 2       </td><td> 1       </td><td>17       </td><td>1        </td><td> 4       </td><td>108      </td><td>0.2230769</td><td>0.2549020</td><td> 66      </td><td>0.2948718</td></tr>\n",
       "\t<tr><td>wilsokr01</td><td>2001     </td><td>KCA      </td><td>AL       </td><td> 205000  </td><td>1        </td><td>KCA      </td><td>AL       </td><td> 29      </td><td>  1      </td><td>...      </td><td> 0       </td><td> 0       </td><td> 0       </td><td>0        </td><td> 0       </td><td>  1      </td><td>0.3333333</td><td>0.3333333</td><td>  1      </td><td>0.3333333</td></tr>\n",
       "\t<tr><td>wilsopr01</td><td>2001     </td><td>FLO      </td><td>NL       </td><td>1000000  </td><td>1        </td><td>FLO      </td><td>NL       </td><td>123      </td><td>123      </td><td>...      </td><td> 2       </td><td> 6       </td><td> 0       </td><td>3        </td><td>14       </td><td>123      </td><td>0.2735043</td><td>0.3313840</td><td> 73      </td><td>0.4935897</td></tr>\n",
       "\t<tr><td>winnra01 </td><td>2001     </td><td>TBA      </td><td>AL       </td><td> 270000  </td><td>1        </td><td>TBA      </td><td>AL       </td><td>128      </td><td>128      </td><td>...      </td><td> 0       </td><td> 6       </td><td> 5       </td><td>2        </td><td>10       </td><td>128      </td><td>0.2727273</td><td>0.3389474</td><td> 80      </td><td>0.4009324</td></tr>\n",
       "\t<tr><td>wittbo01 </td><td>2001     </td><td>ARI      </td><td>NL       </td><td> 500000  </td><td>1        </td><td>ARI      </td><td>NL       </td><td> 14      </td><td> 14      </td><td>...      </td><td> 0       </td><td> 0       </td><td> 1       </td><td>0        </td><td> 0       </td><td> 14      </td><td>0.2500000</td><td>0.2500000</td><td>  3      </td><td>0.2500000</td></tr>\n",
       "\t<tr><td>wolfra02 </td><td>2001     </td><td>PHI      </td><td>NL       </td><td> 365000  </td><td>1        </td><td>PHI      </td><td>NL       </td><td> 28      </td><td> 25      </td><td>...      </td><td> 0       </td><td> 0       </td><td> 5       </td><td>0        </td><td> 1       </td><td> 25      </td><td>0.1777778</td><td>0.2291667</td><td>  8      </td><td>0.1777778</td></tr>\n",
       "\t<tr><td>womacto01</td><td>2001     </td><td>ARI      </td><td>NL       </td><td>4000000  </td><td>1        </td><td>ARI      </td><td>NL       </td><td>125      </td><td>125      </td><td>...      </td><td> 2       </td><td> 6       </td><td> 7       </td><td>1        </td><td> 4       </td><td>125      </td><td>0.2661123</td><td>0.3072407</td><td>101      </td><td>0.3451143</td></tr>\n",
       "\t<tr><td>woodke02 </td><td>2001     </td><td>CHN      </td><td>NL       </td><td>1940000  </td><td>1        </td><td>CHN      </td><td>NL       </td><td> 29      </td><td> 28      </td><td>...      </td><td> 0       </td><td> 0       </td><td>13       </td><td>0        </td><td> 0       </td><td> 28      </td><td>0.1875000</td><td>0.2040816</td><td>  8      </td><td>0.2083333</td></tr>\n",
       "\t<tr><td>woodwch01</td><td>2001     </td><td>TOR      </td><td>AL       </td><td> 223000  </td><td>1        </td><td>TOR      </td><td>AL       </td><td> 37      </td><td> 37      </td><td>...      </td><td> 0       </td><td> 0       </td><td> 2       </td><td>0        </td><td> 1       </td><td> 37      </td><td>0.1904762</td><td>0.2031250</td><td>  5      </td><td>0.3968254</td></tr>\n",
       "\t<tr><td>wootesh01</td><td>2001     </td><td>ANA      </td><td>AL       </td><td> 200500  </td><td>1        </td><td>ANA      </td><td>AL       </td><td> 79      </td><td> 79      </td><td>...      </td><td> 0       </td><td> 3       </td><td> 0       </td><td>3        </td><td> 5       </td><td> 79      </td><td>0.3122172</td><td>0.3318966</td><td> 52      </td><td>0.4660633</td></tr>\n",
       "\t<tr><td>wrighja01</td><td>2001     </td><td>MIL      </td><td>NL       </td><td>2350000  </td><td>1        </td><td>MIL      </td><td>NL       </td><td> 34      </td><td> 33      </td><td>...      </td><td> 0       </td><td> 0       </td><td> 4       </td><td>0        </td><td> 0       </td><td> 33      </td><td>0.1940299</td><td>0.2285714</td><td> 12      </td><td>0.2089552</td></tr>\n",
       "\t<tr><td>wrighja02</td><td>2001     </td><td>CLE      </td><td>AL       </td><td>2562500  </td><td>1        </td><td>CLE      </td><td>AL       </td><td>  7      </td><td>  1      </td><td>...      </td><td> 0       </td><td> 0       </td><td> 0       </td><td>0        </td><td> 0       </td><td>  1      </td><td>0.5000000</td><td>0.5000000</td><td>  1      </td><td>0.5000000</td></tr>\n",
       "\t<tr><td>youngdm01</td><td>2001     </td><td>CIN      </td><td>NL       </td><td>3500000  </td><td>1        </td><td>CIN      </td><td>NL       </td><td>142      </td><td>142      </td><td>...      </td><td>10       </td><td> 5       </td><td> 1       </td><td>3        </td><td>22       </td><td>142      </td><td>0.3018519</td><td>0.3504274</td><td>111      </td><td>0.4814815</td></tr>\n",
       "\t<tr><td>younger01</td><td>2001     </td><td>CHN      </td><td>NL       </td><td>4500000  </td><td>1        </td><td>CHN      </td><td>NL       </td><td>149      </td><td>149      </td><td>...      </td><td> 1       </td><td> 9       </td><td>15       </td><td>3        </td><td>15       </td><td>149      </td><td>0.2786070</td><td>0.3333333</td><td>115      </td><td>0.3930348</td></tr>\n",
       "\t<tr><td>youngke01</td><td>2001     </td><td>PIT      </td><td>NL       </td><td>6125000  </td><td>1        </td><td>PIT      </td><td>NL       </td><td>142      </td><td>142      </td><td>...      </td><td> 3       </td><td>11       </td><td> 0       </td><td>5        </td><td>17       </td><td>142      </td><td>0.2316258</td><td>0.3096647</td><td> 57      </td><td>0.3986637</td></tr>\n",
       "\t<tr><td>zaungr01 </td><td>2001     </td><td>KCA      </td><td>AL       </td><td>1150000  </td><td>1        </td><td>KCA      </td><td>AL       </td><td> 39      </td><td> 39      </td><td>...      </td><td> 0       </td><td> 0       </td><td> 0       </td><td>1        </td><td> 2       </td><td> 39      </td><td>0.3200000</td><td>0.3768116</td><td> 25      </td><td>0.5360000</td></tr>\n",
       "\t<tr><td>zeileto01</td><td>2001     </td><td>NYN      </td><td>NL       </td><td>6833333  </td><td>1        </td><td>NYN      </td><td>NL       </td><td>151      </td><td>151      </td><td>...      </td><td> 3       </td><td> 6       </td><td> 0       </td><td>2        </td><td>15       </td><td>151      </td><td>0.2655367</td><td>0.3594771</td><td>105      </td><td>0.3728814</td></tr>\n",
       "\t<tr><td>zuletju01</td><td>2001     </td><td>CHN      </td><td>NL       </td><td> 200000  </td><td>1        </td><td>CHN      </td><td>NL       </td><td> 49      </td><td> 49      </td><td>...      </td><td> 1       </td><td> 3       </td><td> 0       </td><td>1        </td><td> 3       </td><td> 49      </td><td>0.2169811</td><td>0.2881356</td><td> 14      </td><td>0.4150943</td></tr>\n",
       "</tbody>\n",
       "</table>\n"
      ],
      "text/latex": [
       "\\begin{tabular}{r|lllllllllllllllllllllllllllllll}\n",
       " playerID & yearID & teamID.x & lgID.x & salary & stint & teamID.y & lgID.y & G & G\\_batting & ... & IBB & HBP & SH & SF & GIDP & G\\_old & BA & OBP & X1B & SLG\\\\\n",
       "\\hline\n",
       "\t abbotje01  & 2001       & FLO        & NL         &  300000    & 1          & FLO        & NL         &  28        &  28        & ...        &  0         & 1          &  0         & 0          &  1         &  28        & 0.26190476 & 0.32608696 &   8        & 0.33333333\\\\\n",
       "\t abbotku01  & 2001       & ATL        & NL         &  600000    & 1          & ATL        & NL         &   6        &   6        & ...        &  0         & 0          &  0         & 0          &  0         &   6        & 0.22222222 & 0.22222222 &   2        & 0.22222222\\\\\n",
       "\t abbotpa01  & 2001       & SEA        & AL         & 1700000    & 1          & SEA        & AL         &  28        &   2        & ...        &  0         & 0          &  1         & 0          &  0         &   2        & 0.25000000 & 0.25000000 &   1        & 0.25000000\\\\\n",
       "\t abreubo01  & 2001       & PHI        & NL         & 4983000    & 1          & PHI        & NL         & 162        & 162        & ...        & 11         & 1          &  0         & 9          & 13         & 162        & 0.28911565 & 0.39346591 &  87        & 0.54251701\\\\\n",
       "\t adamste01  & 2001       & LAN        & NL         & 2600000    & 1          & LAN        & NL         &  43        &  41        & ...        &  0         & 0          &  5         & 1          &  0         &  41        & 0.05128205 & 0.11627907 &   1        & 0.07692308\\\\\n",
       "\t agbaybe01  & 2001       & NYN        & NL         &  260000    & 1          & NYN        & NL         &  91        &  91        & ...        &  0         & 5          &  1         & 1          & 11         &  91        & 0.27702703 & 0.36390533 &  60        & 0.39864865\\\\\n",
       "\t alfoned01  & 2001       & NYN        & NL         & 5750000    & 1          & NYN        & NL         & 124        & 124        & ...        &  0         & 5          &  1         & 5          &  7         & 124        & 0.24288840 & 0.32239382 &  72        & 0.40262582\\\\\n",
       "\t alicelu01  & 2001       & KCA        & AL         &  800000    & 1          & KCA        & AL         & 113        & 113        & ...        &  0         & 4          &  3         & 1          &  6         & 113        & 0.27390181 & 0.32048193 &  82        & 0.36692506\\\\\n",
       "\t allench01  & 2001       & MIN        & AL         &  240000    & 1          & MIN        & AL         &  57        &  57        & ...        &  1         & 0          &  0         & 1          &  7         &  57        & 0.26285714 & 0.33333333 &  27        & 0.42857143\\\\\n",
       "\t alomaro01  & 2001       & CLE        & AL         & 7750000    & 1          & CLE        & AL         & 157        & 157        & ...        &  5         & 4          &  9         & 9          &  9         & 157        & 0.33565217 & 0.41467066 & 127        & 0.54086957\\\\\n",
       "\t alomasa02  & 2001       & CHA        & AL         & 2900000    & 1          & CHA        & AL         &  70        &  70        & ...        &  1         & 2          &  3         & 2          &  6         &  70        & 0.24545455 & 0.28813559 &  41        & 0.34545455\\\\\n",
       "\t aloumo01   & 2001       & HOU        & NL         & 5250000    & 1          & HOU        & NL         & 136        & 136        & ...        & 14         & 3          &  0         & 8          & 18         & 136        & 0.33138402 & 0.39586919 & 111        & 0.55360624\\\\\n",
       "\t anderbr01  & 2001       & BAL        & AL         & 7200000    & 1          & BAL        & AL         & 131        & 131        & ...        &  4         & 8          &  2         & 1          &  3         & 131        & 0.20232558 & 0.31062124 &  64        & 0.30000000\\\\\n",
       "\t anderbr02  & 2001       & ARI        & NL         & 4125000    & 1          & ARI        & NL         &  33        &  31        & ...        &  0         & 0          &  0         & 0          &  2         &  31        & 0.13513514 & 0.13513514 &   3        & 0.21621622\\\\\n",
       "\t anderga01  & 2001       & ANA        & AL         & 4500000    & 1          & ANA        & AL         & 161        & 161        & ...        &  4         & 0          &  0         & 5          & 12         & 161        & 0.28869048 & 0.31392045 & 125        & 0.47767857\\\\\n",
       "\t anderji02  & 2001       & PIT        & NL         &  285000    & 1          & PIT        & NL         &  34        &  32        & ...        &  0         & 0          &  6         & 0          &  1         &  32        & 0.11864407 & 0.17460317 &   6        & 0.13559322\\\\\n",
       "\t anderma02  & 2001       & PHI        & NL         &  280000    & 1          & PHI        & NL         & 147        & 147        & ...        &  5         & 2          & 10         & 5          & 12         & 147        & 0.29310345 & 0.33687943 & 110        & 0.42145594\\\\\n",
       "\t ankieri01  & 2001       & SLN        & NL         &  400000    & 1          & SLN        & NL         &   6        &   6        & ...        &  0         & 0          &  1         & 0          &  0         &   6        & 0.00000000 & 0.11111111 &   0        & 0.00000000\\\\\n",
       "\t ariasal01  & 2001       & SDN        & NL         &  550000    & 1          & SDN        & NL         &  70        &  70        & ...        &  1         & 1          &  1         & 2          &  3         &  70        & 0.22627737 & 0.31210191 &  20        & 0.33576642\\\\\n",
       "\t armasto02  & 2001       & MON        & NL         &  230000    & 1          & MON        & NL         &  34        &  32        & ...        &  0         & 0          &  6         & 0          &  0         &  32        & 0.15094340 & 0.15094340 &   7        & 0.16981132\\\\\n",
       "\t arroybr01  & 2001       & PIT        & NL         &  225000    & 1          & PIT        & NL         &  24        &  23        & ...        &  0         & 0          &  0         & 1          &  0         &  23        & 0.04761905 & 0.08695652 &   1        & 0.04761905\\\\\n",
       "\t ashbyan01  & 2001       & LAN        & NL         & 6000000    & 1          & LAN        & NL         &   3        &   3        & ...        &  0         & 0          &  2         & 0          &  0         &   3        & 0.50000000 & 0.66666667 &   1        & 0.50000000\\\\\n",
       "\t astacpe01  & 2001       & COL        & NL         & 6850000    & 1          & COL        & NL         &  22        &  20        & ...        &  0         & 0          & 10         & 0          &  0         &  20        & 0.09523810 & 0.09523810 &   4        & 0.09523810\\\\\n",
       "\t astacpe01  & 2001       & COL        & NL         & 6850000    & 2          & HOU        & NL         &   4        &   4        & ...        &  0         & 0          &  1         & 0          &  0         &   4        & 0.09090909 & 0.09090909 &   1        & 0.09090909\\\\\n",
       "\t aurilri01  & 2001       & SFN        & NL         & 3250000    & 1          & SFN        & NL         & 156        & 156        & ...        &  2         & 0          &  3         & 3          & 14         & 156        & 0.32389937 & 0.36880466 & 127        & 0.57232704\\\\\n",
       "\t ausmubr01  & 2001       & HOU        & NL         & 4250000    & 1          & HOU        & NL         & 128        & 128        & ...        &  6         & 1          &  6         & 2          & 13         & 128        & 0.23222749 & 0.28351648 &  66        & 0.34123223\\\\\n",
       "\t aybarma01  & 2001       & CHN        & NL         &  665000    & 1          & CHN        & NL         &  17        &  17        & ...        &  0         & 0          &  1         & 0          &  0         &  17        & 1.00000000 & 1.00000000 &   3        & 1.00000000\\\\\n",
       "\t bagweje01  & 2001       & HOU        & NL         & 6500000    & 1          & HOU        & NL         & 161        & 161        & ...        &  5         & 6          &  0         & 5          & 20         & 161        & 0.28833333 & 0.39748954 &  87        & 0.56833333\\\\\n",
       "\t baineha01  & 2001       & CHA        & AL         & 1000000    & 1          & CHA        & AL         &  32        &  32        & ...        &  0         & 0          &  0         & 2          &  2         &  32        & 0.13095238 & 0.20212766 &  10        & 0.14285714\\\\\n",
       "\t bakopa01   & 2001       & ATL        & NL         &  450000    & 1          & ATL        & NL         &  61        &  61        & ...        &  2         & 0          &  0         & 0          &  3         &  61        & 0.21167883 & 0.31210191 &  16        & 0.34306569\\\\\n",
       "\t ... & ... & ... & ... & ... & ... & ... & ... & ... & ... &     & ... & ... & ... & ... & ... & ... & ... & ... & ... & ...\\\\\n",
       "\t washbja01 & 2001      & ANA       & AL        &  270000   & 1         & ANA       & AL        &  30       &   2       & ...       &  0        &  0        &  0        & 0         &  0        &   2       & 0.6000000 & 0.6666667 &   3       & 0.6000000\\\\\n",
       "\t weathda01 & 2001      & MIL       & NL        & 1200000   & 1         & MIL       & NL        &  52       &  50       & ...       &  0        &  0        &  0        & 0         &  0        &  50       & 0.0000000 & 0.5000000 &   0       & 0.0000000\\\\\n",
       "\t wehnejo01 & 2001      & PIT       & NL        &  375000   & 1         & PIT       & NL        &  43       &  43       & ...       &  0        &  0        &  1        & 0         &  2        &  43       & 0.1960784 & 0.3278689 &   9       & 0.2156863\\\\\n",
       "\t whitede03 & 2001      & MIL       & NL        & 5000000   & 1         & MIL       & NL        & 126       & 126       & ...       &  1        & 12        &  1        & 1         &  6        & 126       & 0.2769231 & 0.3433875 &  67       & 0.4589744\\\\\n",
       "\t whitero02 & 2001      & CHN       & NL        & 4000000   & 1         & CHN       & NL        &  95       &  95       & ...       &  4        &  7        &  1        & 0         & 14        &  95       & 0.3065015 & 0.3707865 &  62       & 0.5294118\\\\\n",
       "\t willige02 & 2001      & TBA       & AL        & 3000000   & 2         & NYA       & AL        &  38       &  38       & ...       &  0        &  1        &  1        & 0         &  1        &  38       & 0.1702128 & 0.2641509 &   7       & 0.1914894\\\\\n",
       "\t willige02 & 2001      & TBA       & AL        & 3000000   & 1         & TBA       & AL        &  62       &  62       & ...       &  0        &  4        &  3        & 0         &  8        &  62       & 0.2068966 & 0.2610442 &  27       & 0.3318966\\\\\n",
       "\t williwo02 & 2001      & SDN       & NL        & 5083333   & 2         & SLN       & NL        &  11       &  11       & ...       &  0        &  0        &  1        & 0         &  0        &  11       & 0.2592593 & 0.2857143 &   5       & 0.3333333\\\\\n",
       "\t williwo02 & 2001      & SDN       & NL        & 5083333   & 1         & SDN       & NL        &  26       &  26       & ...       &  0        &  1        &  1        & 2         &  0        &  26       & 0.1636364 & 0.2000000 &   6       & 0.2181818\\\\\n",
       "\t wilsoda01 & 2001      & SEA       & AL        & 4400000   & 1         & SEA       & AL        & 123       & 123       & ...       &  0        &  2        &  8        & 1         &  6        & 123       & 0.2652520 & 0.3050000 &  69       & 0.4031830\\\\\n",
       "\t wilsoen01 & 2001      & PIT       & NL        &  635000   & 1         & PIT       & NL        &  46       &  46       & ...       &  0        &  0        &  0        & 1         &  7        &  46       & 0.1860465 & 0.2030075 &  20       & 0.2325581\\\\\n",
       "\t wilsoen01 & 2001      & PIT       & NL        &  635000   & 2         & NYA       & AL        &  48       &  48       & ...       &  0        &  0        &  2        & 1         &  3        &  48       & 0.2424242 & 0.2830189 &  17       & 0.3434343\\\\\n",
       "\t wilsoja02 & 2001      & PIT       & NL        &  200000   & 1         & PIT       & NL        & 108       & 108       & ...       &  2        &  1        & 17        & 1         &  4        & 108       & 0.2230769 & 0.2549020 &  66       & 0.2948718\\\\\n",
       "\t wilsokr01 & 2001      & KCA       & AL        &  205000   & 1         & KCA       & AL        &  29       &   1       & ...       &  0        &  0        &  0        & 0         &  0        &   1       & 0.3333333 & 0.3333333 &   1       & 0.3333333\\\\\n",
       "\t wilsopr01 & 2001      & FLO       & NL        & 1000000   & 1         & FLO       & NL        & 123       & 123       & ...       &  2        &  6        &  0        & 3         & 14        & 123       & 0.2735043 & 0.3313840 &  73       & 0.4935897\\\\\n",
       "\t winnra01  & 2001      & TBA       & AL        &  270000   & 1         & TBA       & AL        & 128       & 128       & ...       &  0        &  6        &  5        & 2         & 10        & 128       & 0.2727273 & 0.3389474 &  80       & 0.4009324\\\\\n",
       "\t wittbo01  & 2001      & ARI       & NL        &  500000   & 1         & ARI       & NL        &  14       &  14       & ...       &  0        &  0        &  1        & 0         &  0        &  14       & 0.2500000 & 0.2500000 &   3       & 0.2500000\\\\\n",
       "\t wolfra02  & 2001      & PHI       & NL        &  365000   & 1         & PHI       & NL        &  28       &  25       & ...       &  0        &  0        &  5        & 0         &  1        &  25       & 0.1777778 & 0.2291667 &   8       & 0.1777778\\\\\n",
       "\t womacto01 & 2001      & ARI       & NL        & 4000000   & 1         & ARI       & NL        & 125       & 125       & ...       &  2        &  6        &  7        & 1         &  4        & 125       & 0.2661123 & 0.3072407 & 101       & 0.3451143\\\\\n",
       "\t woodke02  & 2001      & CHN       & NL        & 1940000   & 1         & CHN       & NL        &  29       &  28       & ...       &  0        &  0        & 13        & 0         &  0        &  28       & 0.1875000 & 0.2040816 &   8       & 0.2083333\\\\\n",
       "\t woodwch01 & 2001      & TOR       & AL        &  223000   & 1         & TOR       & AL        &  37       &  37       & ...       &  0        &  0        &  2        & 0         &  1        &  37       & 0.1904762 & 0.2031250 &   5       & 0.3968254\\\\\n",
       "\t wootesh01 & 2001      & ANA       & AL        &  200500   & 1         & ANA       & AL        &  79       &  79       & ...       &  0        &  3        &  0        & 3         &  5        &  79       & 0.3122172 & 0.3318966 &  52       & 0.4660633\\\\\n",
       "\t wrighja01 & 2001      & MIL       & NL        & 2350000   & 1         & MIL       & NL        &  34       &  33       & ...       &  0        &  0        &  4        & 0         &  0        &  33       & 0.1940299 & 0.2285714 &  12       & 0.2089552\\\\\n",
       "\t wrighja02 & 2001      & CLE       & AL        & 2562500   & 1         & CLE       & AL        &   7       &   1       & ...       &  0        &  0        &  0        & 0         &  0        &   1       & 0.5000000 & 0.5000000 &   1       & 0.5000000\\\\\n",
       "\t youngdm01 & 2001      & CIN       & NL        & 3500000   & 1         & CIN       & NL        & 142       & 142       & ...       & 10        &  5        &  1        & 3         & 22        & 142       & 0.3018519 & 0.3504274 & 111       & 0.4814815\\\\\n",
       "\t younger01 & 2001      & CHN       & NL        & 4500000   & 1         & CHN       & NL        & 149       & 149       & ...       &  1        &  9        & 15        & 3         & 15        & 149       & 0.2786070 & 0.3333333 & 115       & 0.3930348\\\\\n",
       "\t youngke01 & 2001      & PIT       & NL        & 6125000   & 1         & PIT       & NL        & 142       & 142       & ...       &  3        & 11        &  0        & 5         & 17        & 142       & 0.2316258 & 0.3096647 &  57       & 0.3986637\\\\\n",
       "\t zaungr01  & 2001      & KCA       & AL        & 1150000   & 1         & KCA       & AL        &  39       &  39       & ...       &  0        &  0        &  0        & 1         &  2        &  39       & 0.3200000 & 0.3768116 &  25       & 0.5360000\\\\\n",
       "\t zeileto01 & 2001      & NYN       & NL        & 6833333   & 1         & NYN       & NL        & 151       & 151       & ...       &  3        &  6        &  0        & 2         & 15        & 151       & 0.2655367 & 0.3594771 & 105       & 0.3728814\\\\\n",
       "\t zuletju01 & 2001      & CHN       & NL        &  200000   & 1         & CHN       & NL        &  49       &  49       & ...       &  1        &  3        &  0        & 1         &  3        &  49       & 0.2169811 & 0.2881356 &  14       & 0.4150943\\\\\n",
       "\\end{tabular}\n"
      ],
      "text/markdown": [
       "\n",
       "| playerID | yearID | teamID.x | lgID.x | salary | stint | teamID.y | lgID.y | G | G_batting | ... | IBB | HBP | SH | SF | GIDP | G_old | BA | OBP | X1B | SLG |\n",
       "|---|---|---|---|---|---|---|---|---|---|---|---|---|---|---|---|---|---|---|---|---|\n",
       "| abbotje01  | 2001       | FLO        | NL         |  300000    | 1          | FLO        | NL         |  28        |  28        | ...        |  0         | 1          |  0         | 0          |  1         |  28        | 0.26190476 | 0.32608696 |   8        | 0.33333333 |\n",
       "| abbotku01  | 2001       | ATL        | NL         |  600000    | 1          | ATL        | NL         |   6        |   6        | ...        |  0         | 0          |  0         | 0          |  0         |   6        | 0.22222222 | 0.22222222 |   2        | 0.22222222 |\n",
       "| abbotpa01  | 2001       | SEA        | AL         | 1700000    | 1          | SEA        | AL         |  28        |   2        | ...        |  0         | 0          |  1         | 0          |  0         |   2        | 0.25000000 | 0.25000000 |   1        | 0.25000000 |\n",
       "| abreubo01  | 2001       | PHI        | NL         | 4983000    | 1          | PHI        | NL         | 162        | 162        | ...        | 11         | 1          |  0         | 9          | 13         | 162        | 0.28911565 | 0.39346591 |  87        | 0.54251701 |\n",
       "| adamste01  | 2001       | LAN        | NL         | 2600000    | 1          | LAN        | NL         |  43        |  41        | ...        |  0         | 0          |  5         | 1          |  0         |  41        | 0.05128205 | 0.11627907 |   1        | 0.07692308 |\n",
       "| agbaybe01  | 2001       | NYN        | NL         |  260000    | 1          | NYN        | NL         |  91        |  91        | ...        |  0         | 5          |  1         | 1          | 11         |  91        | 0.27702703 | 0.36390533 |  60        | 0.39864865 |\n",
       "| alfoned01  | 2001       | NYN        | NL         | 5750000    | 1          | NYN        | NL         | 124        | 124        | ...        |  0         | 5          |  1         | 5          |  7         | 124        | 0.24288840 | 0.32239382 |  72        | 0.40262582 |\n",
       "| alicelu01  | 2001       | KCA        | AL         |  800000    | 1          | KCA        | AL         | 113        | 113        | ...        |  0         | 4          |  3         | 1          |  6         | 113        | 0.27390181 | 0.32048193 |  82        | 0.36692506 |\n",
       "| allench01  | 2001       | MIN        | AL         |  240000    | 1          | MIN        | AL         |  57        |  57        | ...        |  1         | 0          |  0         | 1          |  7         |  57        | 0.26285714 | 0.33333333 |  27        | 0.42857143 |\n",
       "| alomaro01  | 2001       | CLE        | AL         | 7750000    | 1          | CLE        | AL         | 157        | 157        | ...        |  5         | 4          |  9         | 9          |  9         | 157        | 0.33565217 | 0.41467066 | 127        | 0.54086957 |\n",
       "| alomasa02  | 2001       | CHA        | AL         | 2900000    | 1          | CHA        | AL         |  70        |  70        | ...        |  1         | 2          |  3         | 2          |  6         |  70        | 0.24545455 | 0.28813559 |  41        | 0.34545455 |\n",
       "| aloumo01   | 2001       | HOU        | NL         | 5250000    | 1          | HOU        | NL         | 136        | 136        | ...        | 14         | 3          |  0         | 8          | 18         | 136        | 0.33138402 | 0.39586919 | 111        | 0.55360624 |\n",
       "| anderbr01  | 2001       | BAL        | AL         | 7200000    | 1          | BAL        | AL         | 131        | 131        | ...        |  4         | 8          |  2         | 1          |  3         | 131        | 0.20232558 | 0.31062124 |  64        | 0.30000000 |\n",
       "| anderbr02  | 2001       | ARI        | NL         | 4125000    | 1          | ARI        | NL         |  33        |  31        | ...        |  0         | 0          |  0         | 0          |  2         |  31        | 0.13513514 | 0.13513514 |   3        | 0.21621622 |\n",
       "| anderga01  | 2001       | ANA        | AL         | 4500000    | 1          | ANA        | AL         | 161        | 161        | ...        |  4         | 0          |  0         | 5          | 12         | 161        | 0.28869048 | 0.31392045 | 125        | 0.47767857 |\n",
       "| anderji02  | 2001       | PIT        | NL         |  285000    | 1          | PIT        | NL         |  34        |  32        | ...        |  0         | 0          |  6         | 0          |  1         |  32        | 0.11864407 | 0.17460317 |   6        | 0.13559322 |\n",
       "| anderma02  | 2001       | PHI        | NL         |  280000    | 1          | PHI        | NL         | 147        | 147        | ...        |  5         | 2          | 10         | 5          | 12         | 147        | 0.29310345 | 0.33687943 | 110        | 0.42145594 |\n",
       "| ankieri01  | 2001       | SLN        | NL         |  400000    | 1          | SLN        | NL         |   6        |   6        | ...        |  0         | 0          |  1         | 0          |  0         |   6        | 0.00000000 | 0.11111111 |   0        | 0.00000000 |\n",
       "| ariasal01  | 2001       | SDN        | NL         |  550000    | 1          | SDN        | NL         |  70        |  70        | ...        |  1         | 1          |  1         | 2          |  3         |  70        | 0.22627737 | 0.31210191 |  20        | 0.33576642 |\n",
       "| armasto02  | 2001       | MON        | NL         |  230000    | 1          | MON        | NL         |  34        |  32        | ...        |  0         | 0          |  6         | 0          |  0         |  32        | 0.15094340 | 0.15094340 |   7        | 0.16981132 |\n",
       "| arroybr01  | 2001       | PIT        | NL         |  225000    | 1          | PIT        | NL         |  24        |  23        | ...        |  0         | 0          |  0         | 1          |  0         |  23        | 0.04761905 | 0.08695652 |   1        | 0.04761905 |\n",
       "| ashbyan01  | 2001       | LAN        | NL         | 6000000    | 1          | LAN        | NL         |   3        |   3        | ...        |  0         | 0          |  2         | 0          |  0         |   3        | 0.50000000 | 0.66666667 |   1        | 0.50000000 |\n",
       "| astacpe01  | 2001       | COL        | NL         | 6850000    | 1          | COL        | NL         |  22        |  20        | ...        |  0         | 0          | 10         | 0          |  0         |  20        | 0.09523810 | 0.09523810 |   4        | 0.09523810 |\n",
       "| astacpe01  | 2001       | COL        | NL         | 6850000    | 2          | HOU        | NL         |   4        |   4        | ...        |  0         | 0          |  1         | 0          |  0         |   4        | 0.09090909 | 0.09090909 |   1        | 0.09090909 |\n",
       "| aurilri01  | 2001       | SFN        | NL         | 3250000    | 1          | SFN        | NL         | 156        | 156        | ...        |  2         | 0          |  3         | 3          | 14         | 156        | 0.32389937 | 0.36880466 | 127        | 0.57232704 |\n",
       "| ausmubr01  | 2001       | HOU        | NL         | 4250000    | 1          | HOU        | NL         | 128        | 128        | ...        |  6         | 1          |  6         | 2          | 13         | 128        | 0.23222749 | 0.28351648 |  66        | 0.34123223 |\n",
       "| aybarma01  | 2001       | CHN        | NL         |  665000    | 1          | CHN        | NL         |  17        |  17        | ...        |  0         | 0          |  1         | 0          |  0         |  17        | 1.00000000 | 1.00000000 |   3        | 1.00000000 |\n",
       "| bagweje01  | 2001       | HOU        | NL         | 6500000    | 1          | HOU        | NL         | 161        | 161        | ...        |  5         | 6          |  0         | 5          | 20         | 161        | 0.28833333 | 0.39748954 |  87        | 0.56833333 |\n",
       "| baineha01  | 2001       | CHA        | AL         | 1000000    | 1          | CHA        | AL         |  32        |  32        | ...        |  0         | 0          |  0         | 2          |  2         |  32        | 0.13095238 | 0.20212766 |  10        | 0.14285714 |\n",
       "| bakopa01   | 2001       | ATL        | NL         |  450000    | 1          | ATL        | NL         |  61        |  61        | ...        |  2         | 0          |  0         | 0          |  3         |  61        | 0.21167883 | 0.31210191 |  16        | 0.34306569 |\n",
       "| ... | ... | ... | ... | ... | ... | ... | ... | ... | ... |     | ... | ... | ... | ... | ... | ... | ... | ... | ... | ... |\n",
       "| washbja01 | 2001      | ANA       | AL        |  270000   | 1         | ANA       | AL        |  30       |   2       | ...       |  0        |  0        |  0        | 0         |  0        |   2       | 0.6000000 | 0.6666667 |   3       | 0.6000000 |\n",
       "| weathda01 | 2001      | MIL       | NL        | 1200000   | 1         | MIL       | NL        |  52       |  50       | ...       |  0        |  0        |  0        | 0         |  0        |  50       | 0.0000000 | 0.5000000 |   0       | 0.0000000 |\n",
       "| wehnejo01 | 2001      | PIT       | NL        |  375000   | 1         | PIT       | NL        |  43       |  43       | ...       |  0        |  0        |  1        | 0         |  2        |  43       | 0.1960784 | 0.3278689 |   9       | 0.2156863 |\n",
       "| whitede03 | 2001      | MIL       | NL        | 5000000   | 1         | MIL       | NL        | 126       | 126       | ...       |  1        | 12        |  1        | 1         |  6        | 126       | 0.2769231 | 0.3433875 |  67       | 0.4589744 |\n",
       "| whitero02 | 2001      | CHN       | NL        | 4000000   | 1         | CHN       | NL        |  95       |  95       | ...       |  4        |  7        |  1        | 0         | 14        |  95       | 0.3065015 | 0.3707865 |  62       | 0.5294118 |\n",
       "| willige02 | 2001      | TBA       | AL        | 3000000   | 2         | NYA       | AL        |  38       |  38       | ...       |  0        |  1        |  1        | 0         |  1        |  38       | 0.1702128 | 0.2641509 |   7       | 0.1914894 |\n",
       "| willige02 | 2001      | TBA       | AL        | 3000000   | 1         | TBA       | AL        |  62       |  62       | ...       |  0        |  4        |  3        | 0         |  8        |  62       | 0.2068966 | 0.2610442 |  27       | 0.3318966 |\n",
       "| williwo02 | 2001      | SDN       | NL        | 5083333   | 2         | SLN       | NL        |  11       |  11       | ...       |  0        |  0        |  1        | 0         |  0        |  11       | 0.2592593 | 0.2857143 |   5       | 0.3333333 |\n",
       "| williwo02 | 2001      | SDN       | NL        | 5083333   | 1         | SDN       | NL        |  26       |  26       | ...       |  0        |  1        |  1        | 2         |  0        |  26       | 0.1636364 | 0.2000000 |   6       | 0.2181818 |\n",
       "| wilsoda01 | 2001      | SEA       | AL        | 4400000   | 1         | SEA       | AL        | 123       | 123       | ...       |  0        |  2        |  8        | 1         |  6        | 123       | 0.2652520 | 0.3050000 |  69       | 0.4031830 |\n",
       "| wilsoen01 | 2001      | PIT       | NL        |  635000   | 1         | PIT       | NL        |  46       |  46       | ...       |  0        |  0        |  0        | 1         |  7        |  46       | 0.1860465 | 0.2030075 |  20       | 0.2325581 |\n",
       "| wilsoen01 | 2001      | PIT       | NL        |  635000   | 2         | NYA       | AL        |  48       |  48       | ...       |  0        |  0        |  2        | 1         |  3        |  48       | 0.2424242 | 0.2830189 |  17       | 0.3434343 |\n",
       "| wilsoja02 | 2001      | PIT       | NL        |  200000   | 1         | PIT       | NL        | 108       | 108       | ...       |  2        |  1        | 17        | 1         |  4        | 108       | 0.2230769 | 0.2549020 |  66       | 0.2948718 |\n",
       "| wilsokr01 | 2001      | KCA       | AL        |  205000   | 1         | KCA       | AL        |  29       |   1       | ...       |  0        |  0        |  0        | 0         |  0        |   1       | 0.3333333 | 0.3333333 |   1       | 0.3333333 |\n",
       "| wilsopr01 | 2001      | FLO       | NL        | 1000000   | 1         | FLO       | NL        | 123       | 123       | ...       |  2        |  6        |  0        | 3         | 14        | 123       | 0.2735043 | 0.3313840 |  73       | 0.4935897 |\n",
       "| winnra01  | 2001      | TBA       | AL        |  270000   | 1         | TBA       | AL        | 128       | 128       | ...       |  0        |  6        |  5        | 2         | 10        | 128       | 0.2727273 | 0.3389474 |  80       | 0.4009324 |\n",
       "| wittbo01  | 2001      | ARI       | NL        |  500000   | 1         | ARI       | NL        |  14       |  14       | ...       |  0        |  0        |  1        | 0         |  0        |  14       | 0.2500000 | 0.2500000 |   3       | 0.2500000 |\n",
       "| wolfra02  | 2001      | PHI       | NL        |  365000   | 1         | PHI       | NL        |  28       |  25       | ...       |  0        |  0        |  5        | 0         |  1        |  25       | 0.1777778 | 0.2291667 |   8       | 0.1777778 |\n",
       "| womacto01 | 2001      | ARI       | NL        | 4000000   | 1         | ARI       | NL        | 125       | 125       | ...       |  2        |  6        |  7        | 1         |  4        | 125       | 0.2661123 | 0.3072407 | 101       | 0.3451143 |\n",
       "| woodke02  | 2001      | CHN       | NL        | 1940000   | 1         | CHN       | NL        |  29       |  28       | ...       |  0        |  0        | 13        | 0         |  0        |  28       | 0.1875000 | 0.2040816 |   8       | 0.2083333 |\n",
       "| woodwch01 | 2001      | TOR       | AL        |  223000   | 1         | TOR       | AL        |  37       |  37       | ...       |  0        |  0        |  2        | 0         |  1        |  37       | 0.1904762 | 0.2031250 |   5       | 0.3968254 |\n",
       "| wootesh01 | 2001      | ANA       | AL        |  200500   | 1         | ANA       | AL        |  79       |  79       | ...       |  0        |  3        |  0        | 3         |  5        |  79       | 0.3122172 | 0.3318966 |  52       | 0.4660633 |\n",
       "| wrighja01 | 2001      | MIL       | NL        | 2350000   | 1         | MIL       | NL        |  34       |  33       | ...       |  0        |  0        |  4        | 0         |  0        |  33       | 0.1940299 | 0.2285714 |  12       | 0.2089552 |\n",
       "| wrighja02 | 2001      | CLE       | AL        | 2562500   | 1         | CLE       | AL        |   7       |   1       | ...       |  0        |  0        |  0        | 0         |  0        |   1       | 0.5000000 | 0.5000000 |   1       | 0.5000000 |\n",
       "| youngdm01 | 2001      | CIN       | NL        | 3500000   | 1         | CIN       | NL        | 142       | 142       | ...       | 10        |  5        |  1        | 3         | 22        | 142       | 0.3018519 | 0.3504274 | 111       | 0.4814815 |\n",
       "| younger01 | 2001      | CHN       | NL        | 4500000   | 1         | CHN       | NL        | 149       | 149       | ...       |  1        |  9        | 15        | 3         | 15        | 149       | 0.2786070 | 0.3333333 | 115       | 0.3930348 |\n",
       "| youngke01 | 2001      | PIT       | NL        | 6125000   | 1         | PIT       | NL        | 142       | 142       | ...       |  3        | 11        |  0        | 5         | 17        | 142       | 0.2316258 | 0.3096647 |  57       | 0.3986637 |\n",
       "| zaungr01  | 2001      | KCA       | AL        | 1150000   | 1         | KCA       | AL        |  39       |  39       | ...       |  0        |  0        |  0        | 1         |  2        |  39       | 0.3200000 | 0.3768116 |  25       | 0.5360000 |\n",
       "| zeileto01 | 2001      | NYN       | NL        | 6833333   | 1         | NYN       | NL        | 151       | 151       | ...       |  3        |  6        |  0        | 2         | 15        | 151       | 0.2655367 | 0.3594771 | 105       | 0.3728814 |\n",
       "| zuletju01 | 2001      | CHN       | NL        |  200000   | 1         | CHN       | NL        |  49       |  49       | ...       |  1        |  3        |  0        | 1         |  3        |  49       | 0.2169811 | 0.2881356 |  14       | 0.4150943 |\n",
       "\n"
      ],
      "text/plain": [
       "    playerID  yearID teamID.x lgID.x salary  stint teamID.y lgID.y G  \n",
       "1   abbotje01 2001   FLO      NL      300000 1     FLO      NL      28\n",
       "2   abbotku01 2001   ATL      NL      600000 1     ATL      NL       6\n",
       "3   abbotpa01 2001   SEA      AL     1700000 1     SEA      AL      28\n",
       "4   abreubo01 2001   PHI      NL     4983000 1     PHI      NL     162\n",
       "5   adamste01 2001   LAN      NL     2600000 1     LAN      NL      43\n",
       "6   agbaybe01 2001   NYN      NL      260000 1     NYN      NL      91\n",
       "7   alfoned01 2001   NYN      NL     5750000 1     NYN      NL     124\n",
       "8   alicelu01 2001   KCA      AL      800000 1     KCA      AL     113\n",
       "9   allench01 2001   MIN      AL      240000 1     MIN      AL      57\n",
       "10  alomaro01 2001   CLE      AL     7750000 1     CLE      AL     157\n",
       "11  alomasa02 2001   CHA      AL     2900000 1     CHA      AL      70\n",
       "12  aloumo01  2001   HOU      NL     5250000 1     HOU      NL     136\n",
       "13  anderbr01 2001   BAL      AL     7200000 1     BAL      AL     131\n",
       "14  anderbr02 2001   ARI      NL     4125000 1     ARI      NL      33\n",
       "15  anderga01 2001   ANA      AL     4500000 1     ANA      AL     161\n",
       "16  anderji02 2001   PIT      NL      285000 1     PIT      NL      34\n",
       "17  anderma02 2001   PHI      NL      280000 1     PHI      NL     147\n",
       "18  ankieri01 2001   SLN      NL      400000 1     SLN      NL       6\n",
       "19  ariasal01 2001   SDN      NL      550000 1     SDN      NL      70\n",
       "20  armasto02 2001   MON      NL      230000 1     MON      NL      34\n",
       "21  arroybr01 2001   PIT      NL      225000 1     PIT      NL      24\n",
       "22  ashbyan01 2001   LAN      NL     6000000 1     LAN      NL       3\n",
       "23  astacpe01 2001   COL      NL     6850000 1     COL      NL      22\n",
       "24  astacpe01 2001   COL      NL     6850000 2     HOU      NL       4\n",
       "25  aurilri01 2001   SFN      NL     3250000 1     SFN      NL     156\n",
       "26  ausmubr01 2001   HOU      NL     4250000 1     HOU      NL     128\n",
       "27  aybarma01 2001   CHN      NL      665000 1     CHN      NL      17\n",
       "28  bagweje01 2001   HOU      NL     6500000 1     HOU      NL     161\n",
       "29  baineha01 2001   CHA      AL     1000000 1     CHA      AL      32\n",
       "30  bakopa01  2001   ATL      NL      450000 1     ATL      NL      61\n",
       "... ...       ...    ...      ...    ...     ...   ...      ...    ...\n",
       "573 washbja01 2001   ANA      AL      270000 1     ANA      AL      30\n",
       "574 weathda01 2001   MIL      NL     1200000 1     MIL      NL      52\n",
       "575 wehnejo01 2001   PIT      NL      375000 1     PIT      NL      43\n",
       "576 whitede03 2001   MIL      NL     5000000 1     MIL      NL     126\n",
       "577 whitero02 2001   CHN      NL     4000000 1     CHN      NL      95\n",
       "578 willige02 2001   TBA      AL     3000000 2     NYA      AL      38\n",
       "579 willige02 2001   TBA      AL     3000000 1     TBA      AL      62\n",
       "580 williwo02 2001   SDN      NL     5083333 2     SLN      NL      11\n",
       "581 williwo02 2001   SDN      NL     5083333 1     SDN      NL      26\n",
       "582 wilsoda01 2001   SEA      AL     4400000 1     SEA      AL     123\n",
       "583 wilsoen01 2001   PIT      NL      635000 1     PIT      NL      46\n",
       "584 wilsoen01 2001   PIT      NL      635000 2     NYA      AL      48\n",
       "585 wilsoja02 2001   PIT      NL      200000 1     PIT      NL     108\n",
       "586 wilsokr01 2001   KCA      AL      205000 1     KCA      AL      29\n",
       "587 wilsopr01 2001   FLO      NL     1000000 1     FLO      NL     123\n",
       "588 winnra01  2001   TBA      AL      270000 1     TBA      AL     128\n",
       "589 wittbo01  2001   ARI      NL      500000 1     ARI      NL      14\n",
       "590 wolfra02  2001   PHI      NL      365000 1     PHI      NL      28\n",
       "591 womacto01 2001   ARI      NL     4000000 1     ARI      NL     125\n",
       "592 woodke02  2001   CHN      NL     1940000 1     CHN      NL      29\n",
       "593 woodwch01 2001   TOR      AL      223000 1     TOR      AL      37\n",
       "594 wootesh01 2001   ANA      AL      200500 1     ANA      AL      79\n",
       "595 wrighja01 2001   MIL      NL     2350000 1     MIL      NL      34\n",
       "596 wrighja02 2001   CLE      AL     2562500 1     CLE      AL       7\n",
       "597 youngdm01 2001   CIN      NL     3500000 1     CIN      NL     142\n",
       "598 younger01 2001   CHN      NL     4500000 1     CHN      NL     149\n",
       "599 youngke01 2001   PIT      NL     6125000 1     PIT      NL     142\n",
       "600 zaungr01  2001   KCA      AL     1150000 1     KCA      AL      39\n",
       "601 zeileto01 2001   NYN      NL     6833333 1     NYN      NL     151\n",
       "602 zuletju01 2001   CHN      NL      200000 1     CHN      NL      49\n",
       "    G_batting ... IBB HBP SH  SF  GIDP G_old BA         OBP        X1B\n",
       "1    28       ...  0  1    0  0    1    28   0.26190476 0.32608696   8\n",
       "2     6       ...  0  0    0  0    0     6   0.22222222 0.22222222   2\n",
       "3     2       ...  0  0    1  0    0     2   0.25000000 0.25000000   1\n",
       "4   162       ... 11  1    0  9   13   162   0.28911565 0.39346591  87\n",
       "5    41       ...  0  0    5  1    0    41   0.05128205 0.11627907   1\n",
       "6    91       ...  0  5    1  1   11    91   0.27702703 0.36390533  60\n",
       "7   124       ...  0  5    1  5    7   124   0.24288840 0.32239382  72\n",
       "8   113       ...  0  4    3  1    6   113   0.27390181 0.32048193  82\n",
       "9    57       ...  1  0    0  1    7    57   0.26285714 0.33333333  27\n",
       "10  157       ...  5  4    9  9    9   157   0.33565217 0.41467066 127\n",
       "11   70       ...  1  2    3  2    6    70   0.24545455 0.28813559  41\n",
       "12  136       ... 14  3    0  8   18   136   0.33138402 0.39586919 111\n",
       "13  131       ...  4  8    2  1    3   131   0.20232558 0.31062124  64\n",
       "14   31       ...  0  0    0  0    2    31   0.13513514 0.13513514   3\n",
       "15  161       ...  4  0    0  5   12   161   0.28869048 0.31392045 125\n",
       "16   32       ...  0  0    6  0    1    32   0.11864407 0.17460317   6\n",
       "17  147       ...  5  2   10  5   12   147   0.29310345 0.33687943 110\n",
       "18    6       ...  0  0    1  0    0     6   0.00000000 0.11111111   0\n",
       "19   70       ...  1  1    1  2    3    70   0.22627737 0.31210191  20\n",
       "20   32       ...  0  0    6  0    0    32   0.15094340 0.15094340   7\n",
       "21   23       ...  0  0    0  1    0    23   0.04761905 0.08695652   1\n",
       "22    3       ...  0  0    2  0    0     3   0.50000000 0.66666667   1\n",
       "23   20       ...  0  0   10  0    0    20   0.09523810 0.09523810   4\n",
       "24    4       ...  0  0    1  0    0     4   0.09090909 0.09090909   1\n",
       "25  156       ...  2  0    3  3   14   156   0.32389937 0.36880466 127\n",
       "26  128       ...  6  1    6  2   13   128   0.23222749 0.28351648  66\n",
       "27   17       ...  0  0    1  0    0    17   1.00000000 1.00000000   3\n",
       "28  161       ...  5  6    0  5   20   161   0.28833333 0.39748954  87\n",
       "29   32       ...  0  0    0  2    2    32   0.13095238 0.20212766  10\n",
       "30   61       ...  2  0    0  0    3    61   0.21167883 0.31210191  16\n",
       "... ...           ... ... ... ... ...  ...   ...        ...        ...\n",
       "573   2       ...  0   0   0  0    0     2   0.6000000  0.6666667    3\n",
       "574  50       ...  0   0   0  0    0    50   0.0000000  0.5000000    0\n",
       "575  43       ...  0   0   1  0    2    43   0.1960784  0.3278689    9\n",
       "576 126       ...  1  12   1  1    6   126   0.2769231  0.3433875   67\n",
       "577  95       ...  4   7   1  0   14    95   0.3065015  0.3707865   62\n",
       "578  38       ...  0   1   1  0    1    38   0.1702128  0.2641509    7\n",
       "579  62       ...  0   4   3  0    8    62   0.2068966  0.2610442   27\n",
       "580  11       ...  0   0   1  0    0    11   0.2592593  0.2857143    5\n",
       "581  26       ...  0   1   1  2    0    26   0.1636364  0.2000000    6\n",
       "582 123       ...  0   2   8  1    6   123   0.2652520  0.3050000   69\n",
       "583  46       ...  0   0   0  1    7    46   0.1860465  0.2030075   20\n",
       "584  48       ...  0   0   2  1    3    48   0.2424242  0.2830189   17\n",
       "585 108       ...  2   1  17  1    4   108   0.2230769  0.2549020   66\n",
       "586   1       ...  0   0   0  0    0     1   0.3333333  0.3333333    1\n",
       "587 123       ...  2   6   0  3   14   123   0.2735043  0.3313840   73\n",
       "588 128       ...  0   6   5  2   10   128   0.2727273  0.3389474   80\n",
       "589  14       ...  0   0   1  0    0    14   0.2500000  0.2500000    3\n",
       "590  25       ...  0   0   5  0    1    25   0.1777778  0.2291667    8\n",
       "591 125       ...  2   6   7  1    4   125   0.2661123  0.3072407  101\n",
       "592  28       ...  0   0  13  0    0    28   0.1875000  0.2040816    8\n",
       "593  37       ...  0   0   2  0    1    37   0.1904762  0.2031250    5\n",
       "594  79       ...  0   3   0  3    5    79   0.3122172  0.3318966   52\n",
       "595  33       ...  0   0   4  0    0    33   0.1940299  0.2285714   12\n",
       "596   1       ...  0   0   0  0    0     1   0.5000000  0.5000000    1\n",
       "597 142       ... 10   5   1  3   22   142   0.3018519  0.3504274  111\n",
       "598 149       ...  1   9  15  3   15   149   0.2786070  0.3333333  115\n",
       "599 142       ...  3  11   0  5   17   142   0.2316258  0.3096647   57\n",
       "600  39       ...  0   0   0  1    2    39   0.3200000  0.3768116   25\n",
       "601 151       ...  3   6   0  2   15   151   0.2655367  0.3594771  105\n",
       "602  49       ...  1   3   0  1    3    49   0.2169811  0.2881356   14\n",
       "    SLG       \n",
       "1   0.33333333\n",
       "2   0.22222222\n",
       "3   0.25000000\n",
       "4   0.54251701\n",
       "5   0.07692308\n",
       "6   0.39864865\n",
       "7   0.40262582\n",
       "8   0.36692506\n",
       "9   0.42857143\n",
       "10  0.54086957\n",
       "11  0.34545455\n",
       "12  0.55360624\n",
       "13  0.30000000\n",
       "14  0.21621622\n",
       "15  0.47767857\n",
       "16  0.13559322\n",
       "17  0.42145594\n",
       "18  0.00000000\n",
       "19  0.33576642\n",
       "20  0.16981132\n",
       "21  0.04761905\n",
       "22  0.50000000\n",
       "23  0.09523810\n",
       "24  0.09090909\n",
       "25  0.57232704\n",
       "26  0.34123223\n",
       "27  1.00000000\n",
       "28  0.56833333\n",
       "29  0.14285714\n",
       "30  0.34306569\n",
       "... ...       \n",
       "573 0.6000000 \n",
       "574 0.0000000 \n",
       "575 0.2156863 \n",
       "576 0.4589744 \n",
       "577 0.5294118 \n",
       "578 0.1914894 \n",
       "579 0.3318966 \n",
       "580 0.3333333 \n",
       "581 0.2181818 \n",
       "582 0.4031830 \n",
       "583 0.2325581 \n",
       "584 0.3434343 \n",
       "585 0.2948718 \n",
       "586 0.3333333 \n",
       "587 0.4935897 \n",
       "588 0.4009324 \n",
       "589 0.2500000 \n",
       "590 0.1777778 \n",
       "591 0.3451143 \n",
       "592 0.2083333 \n",
       "593 0.3968254 \n",
       "594 0.4660633 \n",
       "595 0.2089552 \n",
       "596 0.5000000 \n",
       "597 0.4814815 \n",
       "598 0.3930348 \n",
       "599 0.3986637 \n",
       "600 0.5360000 \n",
       "601 0.3728814 \n",
       "602 0.4150943 "
      ]
     },
     "metadata": {},
     "output_type": "display_data"
    }
   ],
   "source": [
    "avail_player2 <- filter(avail_player1, salary<8000000, OBP > 0)\n",
    "avail_player2"
   ]
  },
  {
   "cell_type": "markdown",
   "id": "7018a29d",
   "metadata": {},
   "source": [
    "####  find players with AB higher than or equal to 500"
   ]
  },
  {
   "cell_type": "code",
   "execution_count": 33,
   "id": "3ee48460",
   "metadata": {},
   "outputs": [],
   "source": [
    "avail_player2 <- filter(avail_player2, AB >= 489.7 )"
   ]
  },
  {
   "cell_type": "markdown",
   "id": "145b3b54",
   "metadata": {},
   "source": [
    "####  sort by OBP in descending order"
   ]
  },
  {
   "cell_type": "code",
   "execution_count": 34,
   "id": "7196c325",
   "metadata": {},
   "outputs": [
    {
     "data": {
      "text/html": [
       "<table>\n",
       "<thead><tr><th scope=col>playerID</th><th scope=col>OBP</th><th scope=col>AB</th><th scope=col>salary</th></tr></thead>\n",
       "<tbody>\n",
       "\t<tr><td>giambja01</td><td>0.4769001</td><td>520      </td><td>4103333  </td></tr>\n",
       "\t<tr><td>heltoto01</td><td>0.4316547</td><td>587      </td><td>4950000  </td></tr>\n",
       "\t<tr><td>berkmla01</td><td>0.4302326</td><td>577      </td><td> 305000  </td></tr>\n",
       "\t<tr><td>gonzalu01</td><td>0.4285714</td><td>609      </td><td>4833333  </td></tr>\n",
       "\t<tr><td>thomeji01</td><td>0.4161491</td><td>526      </td><td>7875000  </td></tr>\n",
       "\t<tr><td>alomaro01</td><td>0.4146707</td><td>575      </td><td>7750000  </td></tr>\n",
       "\t<tr><td>edmonji01</td><td>0.4102142</td><td>500      </td><td>6333333  </td></tr>\n",
       "\t<tr><td>gilesbr02</td><td>0.4035608</td><td>576      </td><td>7333333  </td></tr>\n",
       "\t<tr><td>pujolal01</td><td>0.4029630</td><td>590      </td><td> 200000  </td></tr>\n",
       "\t<tr><td>olerujo01</td><td>0.4011799</td><td>572      </td><td>6700000  </td></tr>\n",
       "</tbody>\n",
       "</table>\n"
      ],
      "text/latex": [
       "\\begin{tabular}{r|llll}\n",
       " playerID & OBP & AB & salary\\\\\n",
       "\\hline\n",
       "\t giambja01 & 0.4769001 & 520       & 4103333  \\\\\n",
       "\t heltoto01 & 0.4316547 & 587       & 4950000  \\\\\n",
       "\t berkmla01 & 0.4302326 & 577       &  305000  \\\\\n",
       "\t gonzalu01 & 0.4285714 & 609       & 4833333  \\\\\n",
       "\t thomeji01 & 0.4161491 & 526       & 7875000  \\\\\n",
       "\t alomaro01 & 0.4146707 & 575       & 7750000  \\\\\n",
       "\t edmonji01 & 0.4102142 & 500       & 6333333  \\\\\n",
       "\t gilesbr02 & 0.4035608 & 576       & 7333333  \\\\\n",
       "\t pujolal01 & 0.4029630 & 590       &  200000  \\\\\n",
       "\t olerujo01 & 0.4011799 & 572       & 6700000  \\\\\n",
       "\\end{tabular}\n"
      ],
      "text/markdown": [
       "\n",
       "| playerID | OBP | AB | salary |\n",
       "|---|---|---|---|\n",
       "| giambja01 | 0.4769001 | 520       | 4103333   |\n",
       "| heltoto01 | 0.4316547 | 587       | 4950000   |\n",
       "| berkmla01 | 0.4302326 | 577       |  305000   |\n",
       "| gonzalu01 | 0.4285714 | 609       | 4833333   |\n",
       "| thomeji01 | 0.4161491 | 526       | 7875000   |\n",
       "| alomaro01 | 0.4146707 | 575       | 7750000   |\n",
       "| edmonji01 | 0.4102142 | 500       | 6333333   |\n",
       "| gilesbr02 | 0.4035608 | 576       | 7333333   |\n",
       "| pujolal01 | 0.4029630 | 590       |  200000   |\n",
       "| olerujo01 | 0.4011799 | 572       | 6700000   |\n",
       "\n"
      ],
      "text/plain": [
       "   playerID  OBP       AB  salary \n",
       "1  giambja01 0.4769001 520 4103333\n",
       "2  heltoto01 0.4316547 587 4950000\n",
       "3  berkmla01 0.4302326 577  305000\n",
       "4  gonzalu01 0.4285714 609 4833333\n",
       "5  thomeji01 0.4161491 526 7875000\n",
       "6  alomaro01 0.4146707 575 7750000\n",
       "7  edmonji01 0.4102142 500 6333333\n",
       "8  gilesbr02 0.4035608 576 7333333\n",
       "9  pujolal01 0.4029630 590  200000\n",
       "10 olerujo01 0.4011799 572 6700000"
      ]
     },
     "metadata": {},
     "output_type": "display_data"
    }
   ],
   "source": [
    "possible <- head(arrange(avail_player2, desc(OBP)), 10)\n",
    "possible <- possible[,c('playerID', 'OBP', 'AB', 'salary')]\n",
    "possible"
   ]
  },
  {
   "cell_type": "code",
   "execution_count": 35,
   "id": "cde1d5f8",
   "metadata": {},
   "outputs": [
    {
     "data": {
      "text/html": [
       "<table>\n",
       "<thead><tr><th></th><th scope=col>playerID</th><th scope=col>OBP</th><th scope=col>AB</th><th scope=col>salary</th></tr></thead>\n",
       "<tbody>\n",
       "\t<tr><th scope=row>2</th><td>heltoto01</td><td>0.4316547</td><td>587      </td><td>4950000  </td></tr>\n",
       "\t<tr><th scope=row>3</th><td>berkmla01</td><td>0.4302326</td><td>577      </td><td> 305000  </td></tr>\n",
       "\t<tr><th scope=row>4</th><td>gonzalu01</td><td>0.4285714</td><td>609      </td><td>4833333  </td></tr>\n",
       "</tbody>\n",
       "</table>\n"
      ],
      "text/latex": [
       "\\begin{tabular}{r|llll}\n",
       "  & playerID & OBP & AB & salary\\\\\n",
       "\\hline\n",
       "\t2 & heltoto01 & 0.4316547 & 587       & 4950000  \\\\\n",
       "\t3 & berkmla01 & 0.4302326 & 577       &  305000  \\\\\n",
       "\t4 & gonzalu01 & 0.4285714 & 609       & 4833333  \\\\\n",
       "\\end{tabular}\n"
      ],
      "text/markdown": [
       "\n",
       "| <!--/--> | playerID | OBP | AB | salary |\n",
       "|---|---|---|---|---|\n",
       "| 2 | heltoto01 | 0.4316547 | 587       | 4950000   |\n",
       "| 3 | berkmla01 | 0.4302326 | 577       |  305000   |\n",
       "| 4 | gonzalu01 | 0.4285714 | 609       | 4833333   |\n",
       "\n"
      ],
      "text/plain": [
       "  playerID  OBP       AB  salary \n",
       "2 heltoto01 0.4316547 587 4950000\n",
       "3 berkmla01 0.4302326 577  305000\n",
       "4 gonzalu01 0.4285714 609 4833333"
      ]
     },
     "metadata": {},
     "output_type": "display_data"
    }
   ],
   "source": [
    "p_1=possible[2:4,]\n",
    "p_1"
   ]
  },
  {
   "cell_type": "code",
   "execution_count": 36,
   "id": "374748f2",
   "metadata": {},
   "outputs": [
    {
     "data": {
      "text/html": [
       "10088333"
      ],
      "text/latex": [
       "10088333"
      ],
      "text/markdown": [
       "10088333"
      ],
      "text/plain": [
       "[1] 10088333"
      ]
     },
     "metadata": {},
     "output_type": "display_data"
    }
   ],
   "source": [
    "sum(p_1$salary)"
   ]
  },
  {
   "cell_type": "markdown",
   "id": "c8787939",
   "metadata": {},
   "source": [
    "### CONCLUSION:\n",
    "The sum of combined salary of the three players are less than 15 million dollars."
   ]
  },
  {
   "cell_type": "code",
   "execution_count": null,
   "id": "07d66da0",
   "metadata": {},
   "outputs": [],
   "source": []
  }
 ],
 "metadata": {
  "kernelspec": {
   "display_name": "R",
   "language": "R",
   "name": "ir"
  },
  "language_info": {
   "codemirror_mode": "r",
   "file_extension": ".r",
   "mimetype": "text/x-r-source",
   "name": "R",
   "pygments_lexer": "r",
   "version": "3.6.1"
  }
 },
 "nbformat": 4,
 "nbformat_minor": 5
}
