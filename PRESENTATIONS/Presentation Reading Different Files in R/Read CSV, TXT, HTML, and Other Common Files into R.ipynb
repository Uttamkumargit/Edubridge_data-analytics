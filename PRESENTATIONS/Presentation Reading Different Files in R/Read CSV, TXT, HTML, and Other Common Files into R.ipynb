{
 "cells": [
  {
   "cell_type": "markdown",
   "id": "f8331263",
   "metadata": {},
   "source": [
    "#### 1. Read Text File into R\n",
    "\n",
    "read.table() function is the most important and commonly used function to import simple data files into R.\n",
    "header=TRUE means it will print values."
   ]
  },
  {
   "cell_type": "code",
   "execution_count": 24,
   "id": "636fd568",
   "metadata": {},
   "outputs": [
    {
     "data": {
      "text/html": [
       "<table>\n",
       "<thead><tr><th scope=col>V1</th><th scope=col>V2</th><th scope=col>V3</th></tr></thead>\n",
       "<tbody>\n",
       "\t<tr><td>1 </td><td> 6</td><td>a </td></tr>\n",
       "\t<tr><td>2 </td><td> 7</td><td>b </td></tr>\n",
       "\t<tr><td>3 </td><td> 8</td><td>c </td></tr>\n",
       "\t<tr><td>4 </td><td> 9</td><td>d </td></tr>\n",
       "\t<tr><td>5 </td><td>10</td><td>e </td></tr>\n",
       "</tbody>\n",
       "</table>\n"
      ],
      "text/latex": [
       "\\begin{tabular}{r|lll}\n",
       " V1 & V2 & V3\\\\\n",
       "\\hline\n",
       "\t 1  &  6 & a \\\\\n",
       "\t 2  &  7 & b \\\\\n",
       "\t 3  &  8 & c \\\\\n",
       "\t 4  &  9 & d \\\\\n",
       "\t 5  & 10 & e \\\\\n",
       "\\end{tabular}\n"
      ],
      "text/markdown": [
       "\n",
       "| V1 | V2 | V3 |\n",
       "|---|---|---|\n",
       "| 1  |  6 | a  |\n",
       "| 2  |  7 | b  |\n",
       "| 3  |  8 | c  |\n",
       "| 4  |  9 | d  |\n",
       "| 5  | 10 | e  |\n",
       "\n"
      ],
      "text/plain": [
       "  V1 V2 V3\n",
       "1 1   6 a \n",
       "2 2   7 b \n",
       "3 3   8 c \n",
       "4 4   9 d \n",
       "5 5  10 e "
      ]
     },
     "metadata": {},
     "output_type": "display_data"
    }
   ],
   "source": [
    "df <- read.table(\"Sample.txt\",header=TRUE)\n",
    "head(df)"
   ]
  },
  {
   "cell_type": "code",
   "execution_count": 25,
   "id": "d160b33f",
   "metadata": {},
   "outputs": [
    {
     "data": {
      "text/html": [
       "<ol class=list-inline>\n",
       "\t<li>1</li>\n",
       "\t<li>2</li>\n",
       "\t<li>3</li>\n",
       "\t<li>4</li>\n",
       "\t<li>5</li>\n",
       "</ol>\n"
      ],
      "text/latex": [
       "\\begin{enumerate*}\n",
       "\\item 1\n",
       "\\item 2\n",
       "\\item 3\n",
       "\\item 4\n",
       "\\item 5\n",
       "\\end{enumerate*}\n"
      ],
      "text/markdown": [
       "1. 1\n",
       "2. 2\n",
       "3. 3\n",
       "4. 4\n",
       "5. 5\n",
       "\n",
       "\n"
      ],
      "text/plain": [
       "[1] 1 2 3 4 5"
      ]
     },
     "metadata": {},
     "output_type": "display_data"
    }
   ],
   "source": [
    "df$V1"
   ]
  },
  {
   "cell_type": "code",
   "execution_count": 29,
   "id": "c9aee48e",
   "metadata": {},
   "outputs": [
    {
     "data": {
      "text/html": [
       "<table>\n",
       "<thead><tr><th scope=col>V1</th><th scope=col>V2</th><th scope=col>V3</th></tr></thead>\n",
       "<tbody>\n",
       "\t<tr><td>1</td><td>6</td><td>a</td></tr>\n",
       "</tbody>\n",
       "</table>\n"
      ],
      "text/latex": [
       "\\begin{tabular}{r|lll}\n",
       " V1 & V2 & V3\\\\\n",
       "\\hline\n",
       "\t 1 & 6 & a\\\\\n",
       "\\end{tabular}\n"
      ],
      "text/markdown": [
       "\n",
       "| V1 | V2 | V3 |\n",
       "|---|---|---|\n",
       "| 1 | 6 | a |\n",
       "\n"
      ],
      "text/plain": [
       "  V1 V2 V3\n",
       "1 1  6  a "
      ]
     },
     "metadata": {},
     "output_type": "display_data"
    }
   ],
   "source": [
    "df[1,]"
   ]
  },
  {
   "cell_type": "code",
   "execution_count": 28,
   "id": "b0d29211",
   "metadata": {},
   "outputs": [
    {
     "name": "stdout",
     "output_type": "stream",
     "text": [
      "'data.frame':\t5 obs. of  3 variables:\n",
      " $ V1: int  1 2 3 4 5\n",
      " $ V2: int  6 7 8 9 10\n",
      " $ V3: Factor w/ 5 levels \"a\",\"b\",\"c\",\"d\",..: 1 2 3 4 5\n"
     ]
    }
   ],
   "source": [
    "str(df)"
   ]
  },
  {
   "cell_type": "code",
   "execution_count": 2,
   "id": "8fcd6e6e",
   "metadata": {},
   "outputs": [
    {
     "data": {
      "text/html": [
       "<table>\n",
       "<thead><tr><th scope=col>ID</th></tr></thead>\n",
       "<tbody>\n",
       "\t<tr><td>1</td></tr>\n",
       "\t<tr><td>2</td></tr>\n",
       "\t<tr><td>3</td></tr>\n",
       "\t<tr><td>4</td></tr>\n",
       "\t<tr><td>5</td></tr>\n",
       "</tbody>\n",
       "</table>\n"
      ],
      "text/latex": [
       "\\begin{tabular}{r|l}\n",
       " ID\\\\\n",
       "\\hline\n",
       "\t 1\\\\\n",
       "\t 2\\\\\n",
       "\t 3\\\\\n",
       "\t 4\\\\\n",
       "\t 5\\\\\n",
       "\\end{tabular}\n"
      ],
      "text/markdown": [
       "\n",
       "| ID |\n",
       "|---|\n",
       "| 1 |\n",
       "| 2 |\n",
       "| 3 |\n",
       "| 4 |\n",
       "| 5 |\n",
       "\n"
      ],
      "text/plain": [
       "  ID\n",
       "1 1 \n",
       "2 2 \n",
       "3 3 \n",
       "4 4 \n",
       "5 5 "
      ]
     },
     "metadata": {},
     "output_type": "display_data"
    }
   ],
   "source": [
    "# change column name\n",
    "df<-data.frame(ID=df[,1])\n",
    "df"
   ]
  },
  {
   "cell_type": "markdown",
   "id": "3e8fc699",
   "metadata": {},
   "source": [
    "#### 2. Read CSV File into R\n",
    "\n",
    "read.csv() function is the most important and commonly used function to import csv files into R"
   ]
  },
  {
   "cell_type": "code",
   "execution_count": 3,
   "id": "bf0dd743",
   "metadata": {},
   "outputs": [
    {
     "data": {
      "text/html": [
       "<table>\n",
       "<thead><tr><th scope=col>Global.Rank.</th><th scope=col>Company.</th><th scope=col>Sales...billion..</th><th scope=col>Profits...billion..</th><th scope=col>Assets...billion..</th><th scope=col>Market.Value...billion.</th></tr></thead>\n",
       "<tbody>\n",
       "\t<tr><td> 1                        </td><td>ICBC                      </td><td>134.8                     </td><td>37.8                      </td><td>2813.5                    </td><td>237.3                     </td></tr>\n",
       "\t<tr><td> 2                        </td><td>China Construction Bank   </td><td>113.1                     </td><td>30.6                      </td><td>2241.0                    </td><td>202.0                     </td></tr>\n",
       "\t<tr><td> 8                        </td><td>Agricultural Bank of China</td><td>103.0                     </td><td>23.0                      </td><td>2124.2                    </td><td>150.8                     </td></tr>\n",
       "\t<tr><td> 9                        </td><td>PetroChina                </td><td>308.9                     </td><td>18.3                      </td><td> 347.8                    </td><td>261.2                     </td></tr>\n",
       "\t<tr><td>11                        </td><td>Bank of China             </td><td> 98.1                     </td><td>22.1                      </td><td>2033.8                    </td><td>131.7                     </td></tr>\n",
       "\t<tr><td>26                        </td><td>Sinopec-China Petroleum   </td><td>411.7                     </td><td>10.1                      </td><td> 200.0                    </td><td>106.9                     </td></tr>\n",
       "</tbody>\n",
       "</table>\n"
      ],
      "text/latex": [
       "\\begin{tabular}{r|llllll}\n",
       " Global.Rank. & Company. & Sales...billion.. & Profits...billion.. & Assets...billion.. & Market.Value...billion.\\\\\n",
       "\\hline\n",
       "\t  1                         & ICBC                       & 134.8                      & 37.8                       & 2813.5                     & 237.3                     \\\\\n",
       "\t  2                         & China Construction Bank    & 113.1                      & 30.6                       & 2241.0                     & 202.0                     \\\\\n",
       "\t  8                         & Agricultural Bank of China & 103.0                      & 23.0                       & 2124.2                     & 150.8                     \\\\\n",
       "\t  9                         & PetroChina                 & 308.9                      & 18.3                       &  347.8                     & 261.2                     \\\\\n",
       "\t 11                         & Bank of China              &  98.1                      & 22.1                       & 2033.8                     & 131.7                     \\\\\n",
       "\t 26                         & Sinopec-China Petroleum    & 411.7                      & 10.1                       &  200.0                     & 106.9                     \\\\\n",
       "\\end{tabular}\n"
      ],
      "text/markdown": [
       "\n",
       "| Global.Rank. | Company. | Sales...billion.. | Profits...billion.. | Assets...billion.. | Market.Value...billion. |\n",
       "|---|---|---|---|---|---|\n",
       "|  1                         | ICBC                       | 134.8                      | 37.8                       | 2813.5                     | 237.3                      |\n",
       "|  2                         | China Construction Bank    | 113.1                      | 30.6                       | 2241.0                     | 202.0                      |\n",
       "|  8                         | Agricultural Bank of China | 103.0                      | 23.0                       | 2124.2                     | 150.8                      |\n",
       "|  9                         | PetroChina                 | 308.9                      | 18.3                       |  347.8                     | 261.2                      |\n",
       "| 11                         | Bank of China              |  98.1                      | 22.1                       | 2033.8                     | 131.7                      |\n",
       "| 26                         | Sinopec-China Petroleum    | 411.7                      | 10.1                       |  200.0                     | 106.9                      |\n",
       "\n"
      ],
      "text/plain": [
       "  Global.Rank. Company.                   Sales...billion.. Profits...billion..\n",
       "1  1           ICBC                       134.8             37.8               \n",
       "2  2           China Construction Bank    113.1             30.6               \n",
       "3  8           Agricultural Bank of China 103.0             23.0               \n",
       "4  9           PetroChina                 308.9             18.3               \n",
       "5 11           Bank of China               98.1             22.1               \n",
       "6 26           Sinopec-China Petroleum    411.7             10.1               \n",
       "  Assets...billion.. Market.Value...billion.\n",
       "1 2813.5             237.3                  \n",
       "2 2241.0             202.0                  \n",
       "3 2124.2             150.8                  \n",
       "4  347.8             261.2                  \n",
       "5 2033.8             131.7                  \n",
       "6  200.0             106.9                  "
      ]
     },
     "metadata": {},
     "output_type": "display_data"
    }
   ],
   "source": [
    "df1<-read.csv(\"China_largest_companies.csv\")\n",
    "head(df1)"
   ]
  },
  {
   "cell_type": "code",
   "execution_count": 5,
   "id": "4206488a",
   "metadata": {},
   "outputs": [
    {
     "name": "stdout",
     "output_type": "stream",
     "text": [
      "'data.frame':\t139 obs. of  6 variables:\n",
      " $ Global.Rank.           : int  1 2 8 9 11 26 54 83 101 106 ...\n",
      " $ Company.               : Factor w/ 139 levels \"Agile Property Holdings\",..: 76 20 2 97 8 118 9 99 29 27 ...\n",
      " $ Sales...billion..      : num  134.8 113.1 103 308.9 98.1 ...\n",
      " $ Profits...billion..    : num  37.8 30.6 23 18.3 22.1 10.1 9.4 3.2 7.3 1.8 ...\n",
      " $ Assets...billion..     : num  2814 2241 2124 348 2034 ...\n",
      " $ Market.Value...billion.: num  237 202 151 261 132 ...\n"
     ]
    }
   ],
   "source": [
    "# structure of data\n",
    "str(df1)"
   ]
  },
  {
   "cell_type": "code",
   "execution_count": 11,
   "id": "a43baebd",
   "metadata": {},
   "outputs": [
    {
     "data": {
      "text/html": [
       "<ol class=list-inline>\n",
       "\t<li>'Global.Rank.'</li>\n",
       "\t<li>'Company.'</li>\n",
       "\t<li>'Sales...billion..'</li>\n",
       "\t<li>'Profits...billion..'</li>\n",
       "\t<li>'Assets...billion..'</li>\n",
       "\t<li>'Market.Value...billion.'</li>\n",
       "</ol>\n"
      ],
      "text/latex": [
       "\\begin{enumerate*}\n",
       "\\item 'Global.Rank.'\n",
       "\\item 'Company.'\n",
       "\\item 'Sales...billion..'\n",
       "\\item 'Profits...billion..'\n",
       "\\item 'Assets...billion..'\n",
       "\\item 'Market.Value...billion.'\n",
       "\\end{enumerate*}\n"
      ],
      "text/markdown": [
       "1. 'Global.Rank.'\n",
       "2. 'Company.'\n",
       "3. 'Sales...billion..'\n",
       "4. 'Profits...billion..'\n",
       "5. 'Assets...billion..'\n",
       "6. 'Market.Value...billion.'\n",
       "\n",
       "\n"
      ],
      "text/plain": [
       "[1] \"Global.Rank.\"            \"Company.\"               \n",
       "[3] \"Sales...billion..\"       \"Profits...billion..\"    \n",
       "[5] \"Assets...billion..\"      \"Market.Value...billion.\""
      ]
     },
     "metadata": {},
     "output_type": "display_data"
    }
   ],
   "source": [
    "colnames(df1)"
   ]
  },
  {
   "cell_type": "code",
   "execution_count": 19,
   "id": "fa0a66bd",
   "metadata": {},
   "outputs": [
    {
     "data": {
      "text/plain": [
       "  Global.Rank.                          Company.   Sales...billion..\n",
       " Min.   :   1.0   Agile Property Holdings   :  1   Min.   :   0.80  \n",
       " 1st Qu.: 549.5   Agricultural Bank of China:  1   1st Qu.:   5.05  \n",
       " Median : 991.0   Aluminium Corp of China   :  1   Median :  10.80  \n",
       " Mean   : 972.8   Angang Steel              :  1   Mean   :  61.11  \n",
       " 3rd Qu.:1439.5   Anhui Conch Cement        :  1   3rd Qu.:  20.40  \n",
       " Max.   :1948.0   Baidu                     :  1   Max.   :3024.50  \n",
       " NA's   :4        (Other)                   :133                    \n",
       " Profits...billion.. Assets...billion..  Market.Value...billion.\n",
       " Min.   : -1.500     Min.   :     1.30   Min.   :   0.20        \n",
       " 1st Qu.:  0.400     1st Qu.:     8.95   1st Qu.:   5.45        \n",
       " Median :  0.600     Median :    16.20   Median :   9.50        \n",
       " Mean   :  5.147     Mean   :  1434.93   Mean   :  51.95        \n",
       " 3rd Qu.:  1.400     3rd Qu.:    46.40   3rd Qu.:  16.30        \n",
       " Max.   :275.400     Max.   :164794.85   Max.   :2762.80        \n",
       "                                                                "
      ]
     },
     "metadata": {},
     "output_type": "display_data"
    }
   ],
   "source": [
    "summary(df1)"
   ]
  },
  {
   "cell_type": "markdown",
   "id": "92f50dfe",
   "metadata": {},
   "source": [
    "#### 3. Read Excel File into R\n",
    "To load Excel files into R, you first need to do some further prepping of your workspace in the sense that you need to install packages."
   ]
  },
  {
   "cell_type": "markdown",
   "id": "11a345a2",
   "metadata": {},
   "source": [
    "#### install packages:"
   ]
  },
  {
   "cell_type": "code",
   "execution_count": 4,
   "id": "2bb4e9ed",
   "metadata": {},
   "outputs": [
    {
     "name": "stdout",
     "output_type": "stream",
     "text": [
      "package 'readxl' successfully unpacked and MD5 sums checked\n",
      "\n",
      "The downloaded binary packages are in\n",
      "\tC:\\Users\\91870\\AppData\\Local\\Temp\\RtmpgbDrxA\\downloaded_packages\n"
     ]
    }
   ],
   "source": [
    "install.packages(\"readxl\")"
   ]
  },
  {
   "cell_type": "markdown",
   "id": "13ab57b2",
   "metadata": {},
   "source": [
    "#### load packages:"
   ]
  },
  {
   "cell_type": "code",
   "execution_count": 16,
   "id": "1212d2b8",
   "metadata": {},
   "outputs": [
    {
     "name": "stderr",
     "output_type": "stream",
     "text": [
      "Warning message:\n",
      "\"package 'readxl' was built under R version 3.6.3\"\n"
     ]
    }
   ],
   "source": [
    "library(\"readxl\")"
   ]
  },
  {
   "cell_type": "code",
   "execution_count": 17,
   "id": "0a440f78",
   "metadata": {},
   "outputs": [
    {
     "data": {
      "text/html": [
       "<table>\n",
       "<thead><tr><th scope=col>Restaurant.ID</th><th scope=col>Restaurant.Name</th><th scope=col>Country.Code</th><th scope=col>City</th><th scope=col>Address</th><th scope=col>Locality</th><th scope=col>Locality.Verbose</th><th scope=col>Longitude</th><th scope=col>Latitude</th><th scope=col>Cuisines</th><th scope=col>...</th><th scope=col>Currency</th><th scope=col>Has.Table.booking</th><th scope=col>Has.Online.delivery</th><th scope=col>Is.delivering.now</th><th scope=col>Switch.to.order.menu</th><th scope=col>Price.range</th><th scope=col>Aggregate.rating</th><th scope=col>Rating.color</th><th scope=col>Rating.text</th><th scope=col>Votes</th></tr></thead>\n",
       "<tbody>\n",
       "\t<tr><td>6317637                                                                </td><td>Le Petit Souffle                                                       </td><td>162                                                                    </td><td>Makati City                                                            </td><td>Third Floor, Century City Mall, Kalayaan Avenue, Poblacion, Makati City</td><td>Century City Mall, Poblacion, Makati City                              </td><td>Century City Mall, Poblacion, Makati City, Makati City                 </td><td>121.0275                                                               </td><td>14.56544                                                               </td><td>French, Japanese, Desserts                                             </td><td>...                                                                    </td><td>Botswana Pula(P)                                                       </td><td>Yes                                                                    </td><td>No                                                                     </td><td>No                                                                     </td><td>No                                                                     </td><td>3                                                                      </td><td>4.8                                                                    </td><td>Dark Green                                                             </td><td>Excellent                                                              </td><td>314                                                                    </td></tr>\n",
       "\t<tr><td>6304287                                                                </td><td>Izakaya Kikufuji                                                       </td><td>162                                                                    </td><td>Makati City                                                            </td><td>Little Tokyo, 2277 Chino Roces Avenue, Legaspi Village, Makati City    </td><td>Little Tokyo, Legaspi Village, Makati City                             </td><td>Little Tokyo, Legaspi Village, Makati City, Makati City                </td><td>121.0141                                                               </td><td>14.55371                                                               </td><td>Japanese                                                               </td><td>...                                                                    </td><td>Botswana Pula(P)                                                       </td><td>Yes                                                                    </td><td>No                                                                     </td><td>No                                                                     </td><td>No                                                                     </td><td>3                                                                      </td><td>4.5                                                                    </td><td>Dark Green                                                             </td><td>Excellent                                                              </td><td>591                                                                    </td></tr>\n",
       "</tbody>\n",
       "</table>\n"
      ],
      "text/latex": [
       "\\begin{tabular}{r|lllllllllllllllllllll}\n",
       " Restaurant.ID & Restaurant.Name & Country.Code & City & Address & Locality & Locality.Verbose & Longitude & Latitude & Cuisines & ... & Currency & Has.Table.booking & Has.Online.delivery & Is.delivering.now & Switch.to.order.menu & Price.range & Aggregate.rating & Rating.color & Rating.text & Votes\\\\\n",
       "\\hline\n",
       "\t 6317637                                                                 & Le Petit Souffle                                                        & 162                                                                     & Makati City                                                             & Third Floor, Century City Mall, Kalayaan Avenue, Poblacion, Makati City & Century City Mall, Poblacion, Makati City                               & Century City Mall, Poblacion, Makati City, Makati City                  & 121.0275                                                                & 14.56544                                                                & French, Japanese, Desserts                                              & ...                                                                     & Botswana Pula(P)                                                        & Yes                                                                     & No                                                                      & No                                                                      & No                                                                      & 3                                                                       & 4.8                                                                     & Dark Green                                                              & Excellent                                                               & 314                                                                    \\\\\n",
       "\t 6304287                                                                 & Izakaya Kikufuji                                                        & 162                                                                     & Makati City                                                             & Little Tokyo, 2277 Chino Roces Avenue, Legaspi Village, Makati City     & Little Tokyo, Legaspi Village, Makati City                              & Little Tokyo, Legaspi Village, Makati City, Makati City                 & 121.0141                                                                & 14.55371                                                                & Japanese                                                                & ...                                                                     & Botswana Pula(P)                                                        & Yes                                                                     & No                                                                      & No                                                                      & No                                                                      & 3                                                                       & 4.5                                                                     & Dark Green                                                              & Excellent                                                               & 591                                                                    \\\\\n",
       "\\end{tabular}\n"
      ],
      "text/markdown": [
       "\n",
       "| Restaurant.ID | Restaurant.Name | Country.Code | City | Address | Locality | Locality.Verbose | Longitude | Latitude | Cuisines | ... | Currency | Has.Table.booking | Has.Online.delivery | Is.delivering.now | Switch.to.order.menu | Price.range | Aggregate.rating | Rating.color | Rating.text | Votes |\n",
       "|---|---|---|---|---|---|---|---|---|---|---|---|---|---|---|---|---|---|---|---|---|\n",
       "| 6317637                                                                 | Le Petit Souffle                                                        | 162                                                                     | Makati City                                                             | Third Floor, Century City Mall, Kalayaan Avenue, Poblacion, Makati City | Century City Mall, Poblacion, Makati City                               | Century City Mall, Poblacion, Makati City, Makati City                  | 121.0275                                                                | 14.56544                                                                | French, Japanese, Desserts                                              | ...                                                                     | Botswana Pula(P)                                                        | Yes                                                                     | No                                                                      | No                                                                      | No                                                                      | 3                                                                       | 4.8                                                                     | Dark Green                                                              | Excellent                                                               | 314                                                                     |\n",
       "| 6304287                                                                 | Izakaya Kikufuji                                                        | 162                                                                     | Makati City                                                             | Little Tokyo, 2277 Chino Roces Avenue, Legaspi Village, Makati City     | Little Tokyo, Legaspi Village, Makati City                              | Little Tokyo, Legaspi Village, Makati City, Makati City                 | 121.0141                                                                | 14.55371                                                                | Japanese                                                                | ...                                                                     | Botswana Pula(P)                                                        | Yes                                                                     | No                                                                      | No                                                                      | No                                                                      | 3                                                                       | 4.5                                                                     | Dark Green                                                              | Excellent                                                               | 591                                                                     |\n",
       "\n"
      ],
      "text/plain": [
       "  Restaurant.ID Restaurant.Name  Country.Code City       \n",
       "1 6317637       Le Petit Souffle 162          Makati City\n",
       "2 6304287       Izakaya Kikufuji 162          Makati City\n",
       "  Address                                                                \n",
       "1 Third Floor, Century City Mall, Kalayaan Avenue, Poblacion, Makati City\n",
       "2 Little Tokyo, 2277 Chino Roces Avenue, Legaspi Village, Makati City    \n",
       "  Locality                                  \n",
       "1 Century City Mall, Poblacion, Makati City \n",
       "2 Little Tokyo, Legaspi Village, Makati City\n",
       "  Locality.Verbose                                        Longitude Latitude\n",
       "1 Century City Mall, Poblacion, Makati City, Makati City  121.0275  14.56544\n",
       "2 Little Tokyo, Legaspi Village, Makati City, Makati City 121.0141  14.55371\n",
       "  Cuisines                   ... Currency         Has.Table.booking\n",
       "1 French, Japanese, Desserts ... Botswana Pula(P) Yes              \n",
       "2 Japanese                   ... Botswana Pula(P) Yes              \n",
       "  Has.Online.delivery Is.delivering.now Switch.to.order.menu Price.range\n",
       "1 No                  No                No                   3          \n",
       "2 No                  No                No                   3          \n",
       "  Aggregate.rating Rating.color Rating.text Votes\n",
       "1 4.8              Dark Green   Excellent   314  \n",
       "2 4.5              Dark Green   Excellent   591  "
      ]
     },
     "metadata": {},
     "output_type": "display_data"
    }
   ],
   "source": [
    "# read excel file to R\n",
    "df2 <- read_excel(\"zomato.xlsx\")\n",
    "d3<-data.frame(df2)\n",
    "head(d3,2)"
   ]
  },
  {
   "cell_type": "code",
   "execution_count": 18,
   "id": "bfacc6ff",
   "metadata": {},
   "outputs": [
    {
     "data": {
      "text/html": [
       "<ol class=list-inline>\n",
       "\t<li>'Restaurant.ID'</li>\n",
       "\t<li>'Restaurant.Name'</li>\n",
       "\t<li>'Country.Code'</li>\n",
       "\t<li>'City'</li>\n",
       "\t<li>'Address'</li>\n",
       "\t<li>'Locality'</li>\n",
       "\t<li>'Locality.Verbose'</li>\n",
       "\t<li>'Longitude'</li>\n",
       "\t<li>'Latitude'</li>\n",
       "\t<li>'Cuisines'</li>\n",
       "\t<li>'Average.Cost.for.two'</li>\n",
       "\t<li>'Currency'</li>\n",
       "\t<li>'Has.Table.booking'</li>\n",
       "\t<li>'Has.Online.delivery'</li>\n",
       "\t<li>'Is.delivering.now'</li>\n",
       "\t<li>'Switch.to.order.menu'</li>\n",
       "\t<li>'Price.range'</li>\n",
       "\t<li>'Aggregate.rating'</li>\n",
       "\t<li>'Rating.color'</li>\n",
       "\t<li>'Rating.text'</li>\n",
       "\t<li>'Votes'</li>\n",
       "</ol>\n"
      ],
      "text/latex": [
       "\\begin{enumerate*}\n",
       "\\item 'Restaurant.ID'\n",
       "\\item 'Restaurant.Name'\n",
       "\\item 'Country.Code'\n",
       "\\item 'City'\n",
       "\\item 'Address'\n",
       "\\item 'Locality'\n",
       "\\item 'Locality.Verbose'\n",
       "\\item 'Longitude'\n",
       "\\item 'Latitude'\n",
       "\\item 'Cuisines'\n",
       "\\item 'Average.Cost.for.two'\n",
       "\\item 'Currency'\n",
       "\\item 'Has.Table.booking'\n",
       "\\item 'Has.Online.delivery'\n",
       "\\item 'Is.delivering.now'\n",
       "\\item 'Switch.to.order.menu'\n",
       "\\item 'Price.range'\n",
       "\\item 'Aggregate.rating'\n",
       "\\item 'Rating.color'\n",
       "\\item 'Rating.text'\n",
       "\\item 'Votes'\n",
       "\\end{enumerate*}\n"
      ],
      "text/markdown": [
       "1. 'Restaurant.ID'\n",
       "2. 'Restaurant.Name'\n",
       "3. 'Country.Code'\n",
       "4. 'City'\n",
       "5. 'Address'\n",
       "6. 'Locality'\n",
       "7. 'Locality.Verbose'\n",
       "8. 'Longitude'\n",
       "9. 'Latitude'\n",
       "10. 'Cuisines'\n",
       "11. 'Average.Cost.for.two'\n",
       "12. 'Currency'\n",
       "13. 'Has.Table.booking'\n",
       "14. 'Has.Online.delivery'\n",
       "15. 'Is.delivering.now'\n",
       "16. 'Switch.to.order.menu'\n",
       "17. 'Price.range'\n",
       "18. 'Aggregate.rating'\n",
       "19. 'Rating.color'\n",
       "20. 'Rating.text'\n",
       "21. 'Votes'\n",
       "\n",
       "\n"
      ],
      "text/plain": [
       " [1] \"Restaurant.ID\"        \"Restaurant.Name\"      \"Country.Code\"        \n",
       " [4] \"City\"                 \"Address\"              \"Locality\"            \n",
       " [7] \"Locality.Verbose\"     \"Longitude\"            \"Latitude\"            \n",
       "[10] \"Cuisines\"             \"Average.Cost.for.two\" \"Currency\"            \n",
       "[13] \"Has.Table.booking\"    \"Has.Online.delivery\"  \"Is.delivering.now\"   \n",
       "[16] \"Switch.to.order.menu\" \"Price.range\"          \"Aggregate.rating\"    \n",
       "[19] \"Rating.color\"         \"Rating.text\"          \"Votes\"               "
      ]
     },
     "metadata": {},
     "output_type": "display_data"
    }
   ],
   "source": [
    "colnames(d3)"
   ]
  },
  {
   "cell_type": "code",
   "execution_count": 18,
   "id": "823d0c59",
   "metadata": {},
   "outputs": [
    {
     "name": "stdout",
     "output_type": "stream",
     "text": [
      "'data.frame':\t9551 obs. of  21 variables:\n",
      " $ Restaurant.ID       : num  6317637 6304287 6300002 6318506 6314302 ...\n",
      " $ Restaurant.Name     : chr  \"Le Petit Souffle\" \"Izakaya Kikufuji\" \"Heat - Edsa Shangri-La\" \"Ooma\" ...\n",
      " $ Country.Code        : num  162 162 162 162 162 162 162 162 162 162 ...\n",
      " $ City                : chr  \"Makati City\" \"Makati City\" \"Mandaluyong City\" \"Mandaluyong City\" ...\n",
      " $ Address             : chr  \"Third Floor, Century City Mall, Kalayaan Avenue, Poblacion, Makati City\" \"Little Tokyo, 2277 Chino Roces Avenue, Legaspi Village, Makati City\" \"Edsa Shangri-La, 1 Garden Way, Ortigas, Mandaluyong City\" \"Third Floor, Mega Fashion Hall, SM Megamall, Ortigas, Mandaluyong City\" ...\n",
      " $ Locality            : chr  \"Century City Mall, Poblacion, Makati City\" \"Little Tokyo, Legaspi Village, Makati City\" \"Edsa Shangri-La, Ortigas, Mandaluyong City\" \"SM Megamall, Ortigas, Mandaluyong City\" ...\n",
      " $ Locality.Verbose    : chr  \"Century City Mall, Poblacion, Makati City, Makati City\" \"Little Tokyo, Legaspi Village, Makati City, Makati City\" \"Edsa Shangri-La, Ortigas, Mandaluyong City, Mandaluyong City\" \"SM Megamall, Ortigas, Mandaluyong City, Mandaluyong City\" ...\n",
      " $ Longitude           : num  121 121 121 121 121 ...\n",
      " $ Latitude            : num  14.6 14.6 14.6 14.6 14.6 ...\n",
      " $ Cuisines            : chr  \"French, Japanese, Desserts\" \"Japanese\" \"Seafood, Asian, Filipino, Indian\" \"Japanese, Sushi\" ...\n",
      " $ Average.Cost.for.two: num  1100 1200 4000 1500 1500 1000 2000 2000 6000 1100 ...\n",
      " $ Currency            : chr  \"Botswana Pula(P)\" \"Botswana Pula(P)\" \"Botswana Pula(P)\" \"Botswana Pula(P)\" ...\n",
      " $ Has.Table.booking   : chr  \"Yes\" \"Yes\" \"Yes\" \"No\" ...\n",
      " $ Has.Online.delivery : chr  \"No\" \"No\" \"No\" \"No\" ...\n",
      " $ Is.delivering.now   : chr  \"No\" \"No\" \"No\" \"No\" ...\n",
      " $ Switch.to.order.menu: chr  \"No\" \"No\" \"No\" \"No\" ...\n",
      " $ Price.range         : num  3 3 4 4 4 3 4 4 4 3 ...\n",
      " $ Aggregate.rating    : num  4.8 4.5 4.4 4.9 4.8 4.4 4 4.2 4.9 4.8 ...\n",
      " $ Rating.color        : chr  \"Dark Green\" \"Dark Green\" \"Green\" \"Dark Green\" ...\n",
      " $ Rating.text         : chr  \"Excellent\" \"Excellent\" \"Very Good\" \"Excellent\" ...\n",
      " $ Votes               : num  314 591 270 365 229 336 520 677 621 532 ...\n"
     ]
    }
   ],
   "source": [
    "str(d3)"
   ]
  },
  {
   "cell_type": "markdown",
   "id": "adff62cb",
   "metadata": {},
   "source": [
    "### 4.read.delim() for Delimited Files"
   ]
  },
  {
   "cell_type": "markdown",
   "id": "c45ca89c",
   "metadata": {},
   "source": [
    "In case you have a file with a separator character that is different from a tab, a comma or a semicolon, you can always use the read.delim() and read.delim2() functions. These are variants of the read.table() function, just like the read.csv() function."
   ]
  },
  {
   "cell_type": "code",
   "execution_count": 13,
   "id": "49f1bf48",
   "metadata": {},
   "outputs": [
    {
     "data": {
      "text/html": [
       "<table>\n",
       "<thead><tr><th scope=col>group.y.x</th></tr></thead>\n",
       "<tbody>\n",
       "\t<tr><td>category1,63,0.956545365</td></tr>\n",
       "\t<tr><td>category1,77,-1.65455465</td></tr>\n",
       "\t<tr><td>category1,45,0.023564788</td></tr>\n",
       "\t<tr><td>category1,72,-0.87965412</td></tr>\n",
       "\t<tr><td>category1,67,-1.23564867</td></tr>\n",
       "\t<tr><td>category1,58,-0.46784864</td></tr>\n",
       "\t<tr><td>category1,68,-1.36201568</td></tr>\n",
       "\t<tr><td>category1,65,-0.25448678</td></tr>\n",
       "</tbody>\n",
       "</table>\n"
      ],
      "text/latex": [
       "\\begin{tabular}{r|l}\n",
       " group.y.x\\\\\n",
       "\\hline\n",
       "\t category1,63,0.956545365\\\\\n",
       "\t category1,77,-1.65455465\\\\\n",
       "\t category1,45,0.023564788\\\\\n",
       "\t category1,72,-0.87965412\\\\\n",
       "\t category1,67,-1.23564867\\\\\n",
       "\t category1,58,-0.46784864\\\\\n",
       "\t category1,68,-1.36201568\\\\\n",
       "\t category1,65,-0.25448678\\\\\n",
       "\\end{tabular}\n"
      ],
      "text/markdown": [
       "\n",
       "| group.y.x |\n",
       "|---|\n",
       "| category1,63,0.956545365 |\n",
       "| category1,77,-1.65455465 |\n",
       "| category1,45,0.023564788 |\n",
       "| category1,72,-0.87965412 |\n",
       "| category1,67,-1.23564867 |\n",
       "| category1,58,-0.46784864 |\n",
       "| category1,68,-1.36201568 |\n",
       "| category1,65,-0.25448678 |\n",
       "\n"
      ],
      "text/plain": [
       "  group.y.x               \n",
       "1 category1,63,0.956545365\n",
       "2 category1,77,-1.65455465\n",
       "3 category1,45,0.023564788\n",
       "4 category1,72,-0.87965412\n",
       "5 category1,67,-1.23564867\n",
       "6 category1,58,-0.46784864\n",
       "7 category1,68,-1.36201568\n",
       "8 category1,65,-0.25448678"
      ]
     },
     "metadata": {},
     "output_type": "display_data"
    }
   ],
   "source": [
    "b <- read.delim('Sample2.txt')\n",
    "b"
   ]
  },
  {
   "cell_type": "code",
   "execution_count": 7,
   "id": "6b520121",
   "metadata": {},
   "outputs": [
    {
     "data": {
      "text/html": [
       "<table>\n",
       "<thead><tr><th scope=col>group</th><th scope=col>y</th><th scope=col>x</th></tr></thead>\n",
       "<tbody>\n",
       "\t<tr><td>category1  </td><td>63         </td><td> 0.95654536</td></tr>\n",
       "\t<tr><td>category1  </td><td>77         </td><td>-1.65455465</td></tr>\n",
       "\t<tr><td>category1  </td><td>45         </td><td> 0.02356479</td></tr>\n",
       "\t<tr><td>category1  </td><td>72         </td><td>-0.87965412</td></tr>\n",
       "\t<tr><td>category1  </td><td>67         </td><td>-1.23564867</td></tr>\n",
       "\t<tr><td>category1  </td><td>58         </td><td>-0.46784864</td></tr>\n",
       "\t<tr><td>category1  </td><td>68         </td><td>-1.36201568</td></tr>\n",
       "\t<tr><td>category1  </td><td>65         </td><td>-0.25448678</td></tr>\n",
       "</tbody>\n",
       "</table>\n"
      ],
      "text/latex": [
       "\\begin{tabular}{r|lll}\n",
       " group & y & x\\\\\n",
       "\\hline\n",
       "\t category1   & 63          &  0.95654536\\\\\n",
       "\t category1   & 77          & -1.65455465\\\\\n",
       "\t category1   & 45          &  0.02356479\\\\\n",
       "\t category1   & 72          & -0.87965412\\\\\n",
       "\t category1   & 67          & -1.23564867\\\\\n",
       "\t category1   & 58          & -0.46784864\\\\\n",
       "\t category1   & 68          & -1.36201568\\\\\n",
       "\t category1   & 65          & -0.25448678\\\\\n",
       "\\end{tabular}\n"
      ],
      "text/markdown": [
       "\n",
       "| group | y | x |\n",
       "|---|---|---|\n",
       "| category1   | 63          |  0.95654536 |\n",
       "| category1   | 77          | -1.65455465 |\n",
       "| category1   | 45          |  0.02356479 |\n",
       "| category1   | 72          | -0.87965412 |\n",
       "| category1   | 67          | -1.23564867 |\n",
       "| category1   | 58          | -0.46784864 |\n",
       "| category1   | 68          | -1.36201568 |\n",
       "| category1   | 65          | -0.25448678 |\n",
       "\n"
      ],
      "text/plain": [
       "  group     y  x          \n",
       "1 category1 63  0.95654536\n",
       "2 category1 77 -1.65455465\n",
       "3 category1 45  0.02356479\n",
       "4 category1 72 -0.87965412\n",
       "5 category1 67 -1.23564867\n",
       "6 category1 58 -0.46784864\n",
       "7 category1 68 -1.36201568\n",
       "8 category1 65 -0.25448678"
      ]
     },
     "metadata": {},
     "output_type": "display_data"
    }
   ],
   "source": [
    "data_frame <- read.delim('Sample2.txt', sep=',')\n",
    "data_frame"
   ]
  },
  {
   "cell_type": "markdown",
   "id": "1c046546",
   "metadata": {},
   "source": [
    "### 5. Read XML Files Into R\n",
    "If you want to get XML data into R, one of the easiest ways is through the usage of the XML package. First, you make sure you install and load the XML package in your workspace, just like demonstrated above. Then, you can use the xmlTreeParse() function to parse the XML file directly from the web:"
   ]
  },
  {
   "cell_type": "markdown",
   "id": "b958913f",
   "metadata": {},
   "source": [
    "#### install packages:"
   ]
  },
  {
   "cell_type": "code",
   "execution_count": 8,
   "id": "b43b5921",
   "metadata": {},
   "outputs": [
    {
     "name": "stdout",
     "output_type": "stream",
     "text": [
      "package 'XML' successfully unpacked and MD5 sums checked\n",
      "\n",
      "The downloaded binary packages are in\n",
      "\tC:\\Users\\91870\\AppData\\Local\\Temp\\RtmpgbDrxA\\downloaded_packages\n"
     ]
    }
   ],
   "source": [
    "install.packages('XML')"
   ]
  },
  {
   "cell_type": "markdown",
   "id": "76f9bcaf",
   "metadata": {},
   "source": [
    "#### Load packages:"
   ]
  },
  {
   "cell_type": "code",
   "execution_count": 15,
   "id": "84263fab",
   "metadata": {},
   "outputs": [
    {
     "name": "stderr",
     "output_type": "stream",
     "text": [
      "Warning message:\n",
      "\"package 'XML' was built under R version 3.6.3\"\n"
     ]
    }
   ],
   "source": [
    "library(\"XML\")"
   ]
  },
  {
   "cell_type": "code",
   "execution_count": 16,
   "id": "6bbbb264",
   "metadata": {},
   "outputs": [
    {
     "name": "stdout",
     "output_type": "stream",
     "text": [
      "<?xml version=\"1.0\"?>\n",
      "<RECORDS>\n",
      "  <STUDENT>\n",
      "    <ID>1</ID>\n",
      "    <NAME>Alia</NAME>\n",
      "    <MARKS>620</MARKS>\n",
      "    <BRANCH>IT</BRANCH>\n",
      "  </STUDENT>\n",
      "  <STUDENT>\n",
      "    <ID>2</ID>\n",
      "    <NAME>Brijesh</NAME>\n",
      "    <MARKS>440</MARKS>\n",
      "    <BRANCH>Commerce</BRANCH>\n",
      "  </STUDENT>\n",
      "  <STUDENT>\n",
      "    <ID>3</ID>\n",
      "    <NAME>Yash</NAME>\n",
      "    <MARKS>600</MARKS>\n",
      "    <BRANCH>Humanities</BRANCH>\n",
      "  </STUDENT>\n",
      "  <STUDENT>\n",
      "    <ID>4</ID>\n",
      "    <NAME>Mallika</NAME>\n",
      "    <MARKS>660</MARKS>\n",
      "    <BRANCH>IT</BRANCH>\n",
      "  </STUDENT>\n",
      "  <STUDENT>\n",
      "    <ID>5</ID>\n",
      "    <NAME>Zayn</NAME>\n",
      "    <MARKS>560</MARKS>\n",
      "    <BRANCH>IT</BRANCH>\n",
      "  </STUDENT>\n",
      "</RECORDS>\n",
      " \n"
     ]
    }
   ],
   "source": [
    "#library(\"methods\")\n",
    " \n",
    "# the contents of a.xml are parsed\n",
    "data <- xmlParse(file = \"a.xml\")\n",
    " \n",
    "print(data)"
   ]
  },
  {
   "cell_type": "code",
   "execution_count": 17,
   "id": "87fb0f25",
   "metadata": {},
   "outputs": [
    {
     "data": {
      "text/html": [
       "<ol class=list-inline>\n",
       "\t<li>'XMLInternalDocument'</li>\n",
       "\t<li>'XMLAbstractDocument'</li>\n",
       "</ol>\n"
      ],
      "text/latex": [
       "\\begin{enumerate*}\n",
       "\\item 'XMLInternalDocument'\n",
       "\\item 'XMLAbstractDocument'\n",
       "\\end{enumerate*}\n"
      ],
      "text/markdown": [
       "1. 'XMLInternalDocument'\n",
       "2. 'XMLAbstractDocument'\n",
       "\n",
       "\n"
      ],
      "text/plain": [
       "[1] \"XMLInternalDocument\" \"XMLAbstractDocument\""
      ]
     },
     "metadata": {},
     "output_type": "display_data"
    }
   ],
   "source": [
    "# check class type\n",
    "class(data)"
   ]
  },
  {
   "cell_type": "code",
   "execution_count": 18,
   "id": "3b575b07",
   "metadata": {},
   "outputs": [
    {
     "name": "stdout",
     "output_type": "stream",
     "text": [
      "[1] 5\n"
     ]
    }
   ],
   "source": [
    "# Extract the root node.\n",
    "rootnode<-xmlRoot(data)\n",
    "# number of nodes in the root.\n",
    "rootsize<-xmlSize(rootnode)\n",
    "#print rootsize\n",
    "print(rootsize)"
   ]
  },
  {
   "cell_type": "code",
   "execution_count": 19,
   "id": "044112e6",
   "metadata": {},
   "outputs": [
    {
     "name": "stdout",
     "output_type": "stream",
     "text": [
      "$STUDENT\n",
      "<STUDENT>\n",
      "  <ID>1</ID>\n",
      "  <NAME>Alia</NAME>\n",
      "  <MARKS>620</MARKS>\n",
      "  <BRANCH>IT</BRANCH>\n",
      "</STUDENT> \n",
      "\n",
      "attr(,\"class\")\n",
      "[1] \"XMLInternalNodeList\" \"XMLNodeList\"        \n"
     ]
    }
   ],
   "source": [
    "# get entire contents of a record\n",
    "print(rootnode[1])"
   ]
  },
  {
   "cell_type": "code",
   "execution_count": 20,
   "id": "89e05b72",
   "metadata": {},
   "outputs": [
    {
     "name": "stdout",
     "output_type": "stream",
     "text": [
      "  ID    NAME MARKS     BRANCH\n",
      "1  1    Alia   620         IT\n",
      "2  2 Brijesh   440   Commerce\n",
      "3  3    Yash   600 Humanities\n",
      "4  4 Mallika   660         IT\n",
      "5  5    Zayn   560         IT\n"
     ]
    }
   ],
   "source": [
    "data_df <- xmlToDataFrame(\"a.xml\")\n",
    "print(data_df)"
   ]
  },
  {
   "cell_type": "markdown",
   "id": "c35b6dcd",
   "metadata": {},
   "source": [
    "### 6. Importing Data From HTML Tables Into R"
   ]
  },
  {
   "cell_type": "markdown",
   "id": "f44b0dce",
   "metadata": {},
   "source": [
    "#### install packages:"
   ]
  },
  {
   "cell_type": "code",
   "execution_count": 15,
   "id": "50f8f8c2",
   "metadata": {},
   "outputs": [
    {
     "name": "stdout",
     "output_type": "stream",
     "text": [
      "\n",
      "  There is a binary version available but the source version is later:\n",
      "      binary source needs_compilation\n",
      "rvest  1.0.0  1.0.2             FALSE\n",
      "\n"
     ]
    },
    {
     "name": "stderr",
     "output_type": "stream",
     "text": [
      "installing the source package 'rvest'\n",
      "\n",
      "\n"
     ]
    }
   ],
   "source": [
    "install.packages(\"rvest\")"
   ]
  },
  {
   "cell_type": "markdown",
   "id": "57433bb9",
   "metadata": {},
   "source": [
    "#### Load packages:"
   ]
  },
  {
   "cell_type": "code",
   "execution_count": 30,
   "id": "1a1b9106",
   "metadata": {},
   "outputs": [
    {
     "name": "stderr",
     "output_type": "stream",
     "text": [
      "Warning message:\n",
      "\"package 'XML' was built under R version 3.6.3\"\n"
     ]
    }
   ],
   "source": [
    "library(\"rvest\")\n",
    "library(\"XML\")"
   ]
  },
  {
   "cell_type": "code",
   "execution_count": 31,
   "id": "43266fbd",
   "metadata": {},
   "outputs": [],
   "source": [
    "url <- \"https://en.wikipedia.org/wiki/List_of_highest-grossing_Indian_films\""
   ]
  },
  {
   "cell_type": "code",
   "execution_count": 32,
   "id": "4ab80d42",
   "metadata": {},
   "outputs": [
    {
     "name": "stdout",
     "output_type": "stream",
     "text": [
      "{html_document}\n",
      "<html class=\"client-nojs\" lang=\"en\" dir=\"ltr\">\n",
      "[1] <head>\\n<meta http-equiv=\"Content-Type\" content=\"text/html; charset=UTF-8 ...\n",
      "[2] <body class=\"mediawiki ltr sitedir-ltr mw-hide-empty-elt ns-0 ns-subject  ...\n"
     ]
    }
   ],
   "source": [
    "# Read the HTML table\n",
    "data_df <- read_html(url)\n",
    "print(data_df)"
   ]
  },
  {
   "cell_type": "code",
   "execution_count": 33,
   "id": "0b9e7d01",
   "metadata": {},
   "outputs": [],
   "source": [
    "# take all tables\n",
    "all_table<-data_df %>%html_table(fill=TRUE)"
   ]
  },
  {
   "cell_type": "code",
   "execution_count": 36,
   "id": "cbf8972c",
   "metadata": {},
   "outputs": [
    {
     "data": {
      "text/html": [
       "<table>\n",
       "<thead><tr><th scope=col>Rank</th><th scope=col>Peak</th><th scope=col>Film</th><th scope=col>Year</th><th scope=col>Director</th><th scope=col>Studio(s)</th><th scope=col>Primary  language</th><th scope=col>Worldwide gross</th><th scope=col>Source</th></tr></thead>\n",
       "<tbody>\n",
       "\t<tr><td>1                                                                   </td><td>1                                                                   </td><td><span style=white-space:pre-wrap>Dangal                     </span> </td><td>2016                                                                </td><td><span style=white-space:pre-wrap>Nitesh Tiwari  </span>             </td><td>Aamir Khan Productions UTV Motion Pictures Walt Disney Studios India</td><td><span style=white-space:pre-wrap>Hindi      </span>                 </td><td>&lt;U+20B9&gt;2,024 crore (US$287 million)                          </td><td><span style=white-space:pre-wrap>[9]     </span>                    </td></tr>\n",
       "\t<tr><td>2                                                                                                           </td><td>1                                                                                                           </td><td>Baahubali 2: The Conclusion                                                                                 </td><td>2017                                                                                                        </td><td>S. S. Rajamouli                                                                                             </td><td><span style=white-space:pre-wrap>Arka Media Works                                                    </span></td><td>TeluguTamil                                                                                                 </td><td>&lt;U+20B9&gt;1,810 crore (US$257 million)                                                                  </td><td><span style=white-space:pre-wrap>[9]     </span>                                                            </td></tr>\n",
       "\t<tr><td>3                                                                                                           </td><td>3                                                                                                           </td><td><span style=white-space:pre-wrap>Bajrangi Bhaijaan          </span>                                         </td><td>2015                                                                                                        </td><td><span style=white-space:pre-wrap>Kabir Khan     </span>                                                     </td><td><span style=white-space:pre-wrap>Salman Khan Films Kabir Khan Films Eros International               </span></td><td><span style=white-space:pre-wrap>Hindi      </span>                                                         </td><td>&lt;U+20B9&gt;969.06 crore (US$150 million)                                                                 </td><td><span style=white-space:pre-wrap>[n 1]   </span>                                                            </td></tr>\n",
       "\t<tr><td>4                                                                                                           </td><td>3                                                                                                           </td><td><span style=white-space:pre-wrap>Secret Superstar           </span>                                         </td><td>2017                                                                                                        </td><td>Advait Chandan                                                                                              </td><td><span style=white-space:pre-wrap>Aamir Khan Productions                                              </span></td><td><span style=white-space:pre-wrap>Hindi      </span>                                                         </td><td>&lt;U+20B9&gt;966.86 crore (US$154 million)                                                                 </td><td><span style=white-space:pre-wrap>[n 2]   </span>                                                            </td></tr>\n",
       "\t<tr><td>5                                                                                                           </td><td>1                                                                                                           </td><td><span style=white-space:pre-wrap>PK                         </span>                                         </td><td>2014                                                                                                        </td><td>Rajkumar Hirani                                                                                             </td><td><span style=white-space:pre-wrap>Vinod Chopra Films Rajkumar Hirani Films                            </span></td><td><span style=white-space:pre-wrap>Hindi      </span>                                                         </td><td><span style=white-space:pre-wrap>&lt;U+20B9&gt;832 crore (US$120 million)   </span>                         </td><td>[20][10]                                                                                                    </td></tr>\n",
       "\t<tr><td>6                                                                                                           </td><td>5                                                                                                           </td><td><span style=white-space:pre-wrap>2.0                        </span>                                         </td><td>2018                                                                                                        </td><td><span style=white-space:pre-wrap>S.Shankar      </span>                                                     </td><td><span style=white-space:pre-wrap>Lyca Productions                                                    </span></td><td><span style=white-space:pre-wrap>Tamil      </span>                                                         </td><td><span style=white-space:pre-wrap>&lt;U+20B9&gt;800 crore (US$114 million)   </span>                         </td><td><span style=white-space:pre-wrap>[21]    </span>                                                            </td></tr>\n",
       "</tbody>\n",
       "</table>\n"
      ],
      "text/latex": [
       "\\begin{tabular}{r|lllllllll}\n",
       " Rank & Peak & Film & Year & Director & Studio(s) & Primary  language & Worldwide gross & Source\\\\\n",
       "\\hline\n",
       "\t 1                                                                    & 1                                                                    & Dangal                                                               & 2016                                                                 & Nitesh Tiwari                                                        & Aamir Khan Productions UTV Motion Pictures Walt Disney Studios India & Hindi                                                                & <U+20B9>2,024 crore (US\\$287 million)                               & {[}9{]}                                                             \\\\\n",
       "\t 2                                                                    & 1                                                                    & Baahubali 2: The Conclusion                                          & 2017                                                                 & S. S. Rajamouli                                                      & Arka Media Works                                                     & TeluguTamil                                                          & <U+20B9>1,810 crore (US\\$257 million)                               & {[}9{]}                                                             \\\\\n",
       "\t 3                                                                    & 3                                                                    & Bajrangi Bhaijaan                                                    & 2015                                                                 & Kabir Khan                                                           & Salman Khan Films Kabir Khan Films Eros International                & Hindi                                                                & <U+20B9>969.06 crore (US\\$150 million)                              & {[}n 1{]}                                                           \\\\\n",
       "\t 4                                                                    & 3                                                                    & Secret Superstar                                                     & 2017                                                                 & Advait Chandan                                                       & Aamir Khan Productions                                               & Hindi                                                                & <U+20B9>966.86 crore (US\\$154 million)                              & {[}n 2{]}                                                           \\\\\n",
       "\t 5                                                                    & 1                                                                    & PK                                                                   & 2014                                                                 & Rajkumar Hirani                                                      & Vinod Chopra Films Rajkumar Hirani Films                             & Hindi                                                                & <U+20B9>832 crore (US\\$120 million)                                 & {[}20{]}{[}10{]}                                                    \\\\\n",
       "\t 6                                                                    & 5                                                                    & 2.0                                                                  & 2018                                                                 & S.Shankar                                                            & Lyca Productions                                                     & Tamil                                                                & <U+20B9>800 crore (US\\$114 million)                                 & {[}21{]}                                                            \\\\\n",
       "\\end{tabular}\n"
      ],
      "text/markdown": [
       "\n",
       "| Rank | Peak | Film | Year | Director | Studio(s) | Primary  language | Worldwide gross | Source |\n",
       "|---|---|---|---|---|---|---|---|---|\n",
       "| 1                                                                    | 1                                                                    | Dangal                                                               | 2016                                                                 | Nitesh Tiwari                                                        | Aamir Khan Productions UTV Motion Pictures Walt Disney Studios India | Hindi                                                                | <U+20B9>2,024 crore (US$287 million)                                 | [9]                                                                  |\n",
       "| 2                                                                    | 1                                                                    | Baahubali 2: The Conclusion                                          | 2017                                                                 | S. S. Rajamouli                                                      | Arka Media Works                                                     | TeluguTamil                                                          | <U+20B9>1,810 crore (US$257 million)                                 | [9]                                                                  |\n",
       "| 3                                                                    | 3                                                                    | Bajrangi Bhaijaan                                                    | 2015                                                                 | Kabir Khan                                                           | Salman Khan Films Kabir Khan Films Eros International                | Hindi                                                                | <U+20B9>969.06 crore (US$150 million)                                | [n 1]                                                                |\n",
       "| 4                                                                    | 3                                                                    | Secret Superstar                                                     | 2017                                                                 | Advait Chandan                                                       | Aamir Khan Productions                                               | Hindi                                                                | <U+20B9>966.86 crore (US$154 million)                                | [n 2]                                                                |\n",
       "| 5                                                                    | 1                                                                    | PK                                                                   | 2014                                                                 | Rajkumar Hirani                                                      | Vinod Chopra Films Rajkumar Hirani Films                             | Hindi                                                                | <U+20B9>832 crore (US$120 million)                                   | [20][10]                                                             |\n",
       "| 6                                                                    | 5                                                                    | 2.0                                                                  | 2018                                                                 | S.Shankar                                                            | Lyca Productions                                                     | Tamil                                                                | <U+20B9>800 crore (US$114 million)                                   | [21]                                                                 |\n",
       "\n"
      ],
      "text/plain": [
       "  Rank Peak Film                        Year Director       \n",
       "1 1    1    Dangal                      2016 Nitesh Tiwari  \n",
       "2 2    1    Baahubali 2: The Conclusion 2017 S. S. Rajamouli\n",
       "3 3    3    Bajrangi Bhaijaan           2015 Kabir Khan     \n",
       "4 4    3    Secret Superstar            2017 Advait Chandan \n",
       "5 5    1    PK                          2014 Rajkumar Hirani\n",
       "6 6    5    2.0                         2018 S.Shankar      \n",
       "  Studio(s)                                                           \n",
       "1 Aamir Khan Productions UTV Motion Pictures Walt Disney Studios India\n",
       "2 Arka Media Works                                                    \n",
       "3 Salman Khan Films Kabir Khan Films Eros International               \n",
       "4 Aamir Khan Productions                                              \n",
       "5 Vinod Chopra Films Rajkumar Hirani Films                            \n",
       "6 Lyca Productions                                                    \n",
       "  Primary  language Worldwide gross                       Source  \n",
       "1 Hindi             <U+20B9>2,024 crore (US$287 million)  [9]     \n",
       "2 TeluguTamil       <U+20B9>1,810 crore (US$257 million)  [9]     \n",
       "3 Hindi             <U+20B9>969.06 crore (US$150 million) [n 1]   \n",
       "4 Hindi             <U+20B9>966.86 crore (US$154 million) [n 2]   \n",
       "5 Hindi             <U+20B9>832 crore (US$120 million)    [20][10]\n",
       "6 Tamil             <U+20B9>800 crore (US$114 million)    [21]    "
      ]
     },
     "metadata": {},
     "output_type": "display_data"
    }
   ],
   "source": [
    "table1<-all_table[[5]]\n",
    "head(table1)"
   ]
  },
  {
   "cell_type": "code",
   "execution_count": 21,
   "id": "77290271",
   "metadata": {},
   "outputs": [],
   "source": [
    "# remove Source column\n",
    "table1 <- table1[ -c(9) ]"
   ]
  },
  {
   "cell_type": "code",
   "execution_count": 22,
   "id": "f856d20c",
   "metadata": {},
   "outputs": [
    {
     "data": {
      "text/html": [
       "<table>\n",
       "<thead><tr><th scope=col>Rank</th><th scope=col>Peak</th><th scope=col>Film</th><th scope=col>Year</th><th scope=col>Director</th><th scope=col>Studio(s)</th><th scope=col>Primary  language</th><th scope=col>Worldwide gross</th></tr></thead>\n",
       "<tbody>\n",
       "\t<tr><td>1                                                                   </td><td>1                                                                   </td><td><span style=white-space:pre-wrap>Dangal                     </span> </td><td>2016                                                                </td><td><span style=white-space:pre-wrap>Nitesh Tiwari  </span>             </td><td>Aamir Khan Productions UTV Motion Pictures Walt Disney Studios India</td><td><span style=white-space:pre-wrap>Hindi      </span>                 </td><td>&lt;U+20B9&gt;2,024 crore (US$287 million)                          </td></tr>\n",
       "\t<tr><td>2                                                                                                           </td><td>1                                                                                                           </td><td>Baahubali 2: The Conclusion                                                                                 </td><td>2017                                                                                                        </td><td>S. S. Rajamouli                                                                                             </td><td><span style=white-space:pre-wrap>Arka Media Works                                                    </span></td><td>TeluguTamil                                                                                                 </td><td>&lt;U+20B9&gt;1,810 crore (US$257 million)                                                                  </td></tr>\n",
       "\t<tr><td>3                                                                                                           </td><td>3                                                                                                           </td><td><span style=white-space:pre-wrap>Bajrangi Bhaijaan          </span>                                         </td><td>2015                                                                                                        </td><td><span style=white-space:pre-wrap>Kabir Khan     </span>                                                     </td><td><span style=white-space:pre-wrap>Salman Khan Films Kabir Khan Films Eros International               </span></td><td><span style=white-space:pre-wrap>Hindi      </span>                                                         </td><td>&lt;U+20B9&gt;969.06 crore (US$150 million)                                                                 </td></tr>\n",
       "\t<tr><td>4                                                                                                           </td><td>3                                                                                                           </td><td><span style=white-space:pre-wrap>Secret Superstar           </span>                                         </td><td>2017                                                                                                        </td><td>Advait Chandan                                                                                              </td><td><span style=white-space:pre-wrap>Aamir Khan Productions                                              </span></td><td><span style=white-space:pre-wrap>Hindi      </span>                                                         </td><td>&lt;U+20B9&gt;966.86 crore (US$154 million)                                                                 </td></tr>\n",
       "\t<tr><td>5                                                                                                           </td><td>1                                                                                                           </td><td><span style=white-space:pre-wrap>PK                         </span>                                         </td><td>2014                                                                                                        </td><td>Rajkumar Hirani                                                                                             </td><td><span style=white-space:pre-wrap>Vinod Chopra Films Rajkumar Hirani Films                            </span></td><td><span style=white-space:pre-wrap>Hindi      </span>                                                         </td><td><span style=white-space:pre-wrap>&lt;U+20B9&gt;832 crore (US$120 million)   </span>                         </td></tr>\n",
       "\t<tr><td>6                                                                                                           </td><td>5                                                                                                           </td><td><span style=white-space:pre-wrap>2.0                        </span>                                         </td><td>2018                                                                                                        </td><td><span style=white-space:pre-wrap>S.Shankar      </span>                                                     </td><td><span style=white-space:pre-wrap>Lyca Productions                                                    </span></td><td><span style=white-space:pre-wrap>Tamil      </span>                                                         </td><td><span style=white-space:pre-wrap>&lt;U+20B9&gt;800 crore (US$114 million)   </span>                         </td></tr>\n",
       "</tbody>\n",
       "</table>\n"
      ],
      "text/latex": [
       "\\begin{tabular}{r|llllllll}\n",
       " Rank & Peak & Film & Year & Director & Studio(s) & Primary  language & Worldwide gross\\\\\n",
       "\\hline\n",
       "\t 1                                                                    & 1                                                                    & Dangal                                                               & 2016                                                                 & Nitesh Tiwari                                                        & Aamir Khan Productions UTV Motion Pictures Walt Disney Studios India & Hindi                                                                & <U+20B9>2,024 crore (US\\$287 million)                              \\\\\n",
       "\t 2                                                                    & 1                                                                    & Baahubali 2: The Conclusion                                          & 2017                                                                 & S. S. Rajamouli                                                      & Arka Media Works                                                     & TeluguTamil                                                          & <U+20B9>1,810 crore (US\\$257 million)                              \\\\\n",
       "\t 3                                                                    & 3                                                                    & Bajrangi Bhaijaan                                                    & 2015                                                                 & Kabir Khan                                                           & Salman Khan Films Kabir Khan Films Eros International                & Hindi                                                                & <U+20B9>969.06 crore (US\\$150 million)                             \\\\\n",
       "\t 4                                                                    & 3                                                                    & Secret Superstar                                                     & 2017                                                                 & Advait Chandan                                                       & Aamir Khan Productions                                               & Hindi                                                                & <U+20B9>966.86 crore (US\\$154 million)                             \\\\\n",
       "\t 5                                                                    & 1                                                                    & PK                                                                   & 2014                                                                 & Rajkumar Hirani                                                      & Vinod Chopra Films Rajkumar Hirani Films                             & Hindi                                                                & <U+20B9>832 crore (US\\$120 million)                                \\\\\n",
       "\t 6                                                                    & 5                                                                    & 2.0                                                                  & 2018                                                                 & S.Shankar                                                            & Lyca Productions                                                     & Tamil                                                                & <U+20B9>800 crore (US\\$114 million)                                \\\\\n",
       "\\end{tabular}\n"
      ],
      "text/markdown": [
       "\n",
       "| Rank | Peak | Film | Year | Director | Studio(s) | Primary  language | Worldwide gross |\n",
       "|---|---|---|---|---|---|---|---|\n",
       "| 1                                                                    | 1                                                                    | Dangal                                                               | 2016                                                                 | Nitesh Tiwari                                                        | Aamir Khan Productions UTV Motion Pictures Walt Disney Studios India | Hindi                                                                | <U+20B9>2,024 crore (US$287 million)                                 |\n",
       "| 2                                                                    | 1                                                                    | Baahubali 2: The Conclusion                                          | 2017                                                                 | S. S. Rajamouli                                                      | Arka Media Works                                                     | TeluguTamil                                                          | <U+20B9>1,810 crore (US$257 million)                                 |\n",
       "| 3                                                                    | 3                                                                    | Bajrangi Bhaijaan                                                    | 2015                                                                 | Kabir Khan                                                           | Salman Khan Films Kabir Khan Films Eros International                | Hindi                                                                | <U+20B9>969.06 crore (US$150 million)                                |\n",
       "| 4                                                                    | 3                                                                    | Secret Superstar                                                     | 2017                                                                 | Advait Chandan                                                       | Aamir Khan Productions                                               | Hindi                                                                | <U+20B9>966.86 crore (US$154 million)                                |\n",
       "| 5                                                                    | 1                                                                    | PK                                                                   | 2014                                                                 | Rajkumar Hirani                                                      | Vinod Chopra Films Rajkumar Hirani Films                             | Hindi                                                                | <U+20B9>832 crore (US$120 million)                                   |\n",
       "| 6                                                                    | 5                                                                    | 2.0                                                                  | 2018                                                                 | S.Shankar                                                            | Lyca Productions                                                     | Tamil                                                                | <U+20B9>800 crore (US$114 million)                                   |\n",
       "\n"
      ],
      "text/plain": [
       "  Rank Peak Film                        Year Director       \n",
       "1 1    1    Dangal                      2016 Nitesh Tiwari  \n",
       "2 2    1    Baahubali 2: The Conclusion 2017 S. S. Rajamouli\n",
       "3 3    3    Bajrangi Bhaijaan           2015 Kabir Khan     \n",
       "4 4    3    Secret Superstar            2017 Advait Chandan \n",
       "5 5    1    PK                          2014 Rajkumar Hirani\n",
       "6 6    5    2.0                         2018 S.Shankar      \n",
       "  Studio(s)                                                           \n",
       "1 Aamir Khan Productions UTV Motion Pictures Walt Disney Studios India\n",
       "2 Arka Media Works                                                    \n",
       "3 Salman Khan Films Kabir Khan Films Eros International               \n",
       "4 Aamir Khan Productions                                              \n",
       "5 Vinod Chopra Films Rajkumar Hirani Films                            \n",
       "6 Lyca Productions                                                    \n",
       "  Primary  language Worldwide gross                      \n",
       "1 Hindi             <U+20B9>2,024 crore (US$287 million) \n",
       "2 TeluguTamil       <U+20B9>1,810 crore (US$257 million) \n",
       "3 Hindi             <U+20B9>969.06 crore (US$150 million)\n",
       "4 Hindi             <U+20B9>966.86 crore (US$154 million)\n",
       "5 Hindi             <U+20B9>832 crore (US$120 million)   \n",
       "6 Tamil             <U+20B9>800 crore (US$114 million)   "
      ]
     },
     "metadata": {},
     "output_type": "display_data"
    }
   ],
   "source": [
    "head(table1)"
   ]
  },
  {
   "cell_type": "code",
   "execution_count": 23,
   "id": "71ac0053",
   "metadata": {},
   "outputs": [
    {
     "data": {
      "text/html": [
       "<table>\n",
       "<thead><tr><th scope=col>Rank</th><th scope=col>Film</th><th scope=col>Year</th><th scope=col>Director</th><th scope=col>Studio(s)</th><th scope=col>Worldwide gross</th></tr></thead>\n",
       "<tbody>\n",
       "\t<tr><td>1                                                                                    </td><td><span style=white-space:pre-wrap>Dangal           </span>                            </td><td>2016                                                                                 </td><td><span style=white-space:pre-wrap>Nitesh Tiwari  </span>                              </td><td>Aamir Khan Productions UTV Motion Pictures Walt Disney Studios India                 </td><td><span style=white-space:pre-wrap>&lt;U+20B9&gt;2,024 crore (US$311 million)   </span></td></tr>\n",
       "\t<tr><td>2                                                                                                           </td><td>Bajrangi Bhaijaan                                                                                           </td><td>2015                                                                                                        </td><td><span style=white-space:pre-wrap>Kabir Khan     </span>                                                     </td><td><span style=white-space:pre-wrap>Salman Khan Films Kabir Khan Films Eros International               </span></td><td><span style=white-space:pre-wrap>&lt;U+20B9&gt;969.06 crore (US$150 million)  </span>                       </td></tr>\n",
       "\t<tr><td>3                                                                                                           </td><td>Secret Superstar                                                                                            </td><td>2017                                                                                                        </td><td>Advait Chandan                                                                                              </td><td><span style=white-space:pre-wrap>Aamir Khan Productions                                              </span></td><td><span style=white-space:pre-wrap>&lt;U+20B9&gt;966.86 crore (US$154 million)  </span>                       </td></tr>\n",
       "\t<tr><td>4                                                                                                           </td><td><span style=white-space:pre-wrap>PK               </span>                                                   </td><td>2014                                                                                                        </td><td>Rajkumar Hirani                                                                                             </td><td><span style=white-space:pre-wrap>Vinod Chopra Films Rajkumar Hirani Films                            </span></td><td><span style=white-space:pre-wrap>&lt;U+20B9&gt;832 crore (US$140 million)     </span>                       </td></tr>\n",
       "\t<tr><td>5                                                                                                           </td><td><span style=white-space:pre-wrap>Sultan           </span>                                                   </td><td>2016                                                                                                        </td><td>Ali Abbas Zafar                                                                                             </td><td><span style=white-space:pre-wrap>Yash Raj Films                                                      </span></td><td><span style=white-space:pre-wrap>&lt;U+20B9&gt;623.33 crore (US$89 million)   </span>                       </td></tr>\n",
       "\t<tr><td>6                                                                                                           </td><td><span style=white-space:pre-wrap>Sanju            </span>                                                   </td><td>2018                                                                                                        </td><td>Rajkumar Hirani                                                                                             </td><td><span style=white-space:pre-wrap>Rajkumar Hirani FilmsVinod Chopra Films                             </span></td><td>&lt;U+20B9&gt;586.85 crore (US$83.34 million)                                                               </td></tr>\n",
       "</tbody>\n",
       "</table>\n"
      ],
      "text/latex": [
       "\\begin{tabular}{r|llllll}\n",
       " Rank & Film & Year & Director & Studio(s) & Worldwide gross\\\\\n",
       "\\hline\n",
       "\t 1                                                                    & Dangal                                                               & 2016                                                                 & Nitesh Tiwari                                                        & Aamir Khan Productions UTV Motion Pictures Walt Disney Studios India & <U+20B9>2,024 crore (US\\$311 million)                              \\\\\n",
       "\t 2                                                                    & Bajrangi Bhaijaan                                                    & 2015                                                                 & Kabir Khan                                                           & Salman Khan Films Kabir Khan Films Eros International                & <U+20B9>969.06 crore (US\\$150 million)                             \\\\\n",
       "\t 3                                                                    & Secret Superstar                                                     & 2017                                                                 & Advait Chandan                                                       & Aamir Khan Productions                                               & <U+20B9>966.86 crore (US\\$154 million)                             \\\\\n",
       "\t 4                                                                    & PK                                                                   & 2014                                                                 & Rajkumar Hirani                                                      & Vinod Chopra Films Rajkumar Hirani Films                             & <U+20B9>832 crore (US\\$140 million)                                \\\\\n",
       "\t 5                                                                    & Sultan                                                               & 2016                                                                 & Ali Abbas Zafar                                                      & Yash Raj Films                                                       & <U+20B9>623.33 crore (US\\$89 million)                              \\\\\n",
       "\t 6                                                                    & Sanju                                                                & 2018                                                                 & Rajkumar Hirani                                                      & Rajkumar Hirani FilmsVinod Chopra Films                              & <U+20B9>586.85 crore (US\\$83.34 million)                           \\\\\n",
       "\\end{tabular}\n"
      ],
      "text/markdown": [
       "\n",
       "| Rank | Film | Year | Director | Studio(s) | Worldwide gross |\n",
       "|---|---|---|---|---|---|\n",
       "| 1                                                                    | Dangal                                                               | 2016                                                                 | Nitesh Tiwari                                                        | Aamir Khan Productions UTV Motion Pictures Walt Disney Studios India | <U+20B9>2,024 crore (US$311 million)                                 |\n",
       "| 2                                                                    | Bajrangi Bhaijaan                                                    | 2015                                                                 | Kabir Khan                                                           | Salman Khan Films Kabir Khan Films Eros International                | <U+20B9>969.06 crore (US$150 million)                                |\n",
       "| 3                                                                    | Secret Superstar                                                     | 2017                                                                 | Advait Chandan                                                       | Aamir Khan Productions                                               | <U+20B9>966.86 crore (US$154 million)                                |\n",
       "| 4                                                                    | PK                                                                   | 2014                                                                 | Rajkumar Hirani                                                      | Vinod Chopra Films Rajkumar Hirani Films                             | <U+20B9>832 crore (US$140 million)                                   |\n",
       "| 5                                                                    | Sultan                                                               | 2016                                                                 | Ali Abbas Zafar                                                      | Yash Raj Films                                                       | <U+20B9>623.33 crore (US$89 million)                                 |\n",
       "| 6                                                                    | Sanju                                                                | 2018                                                                 | Rajkumar Hirani                                                      | Rajkumar Hirani FilmsVinod Chopra Films                              | <U+20B9>586.85 crore (US$83.34 million)                              |\n",
       "\n"
      ],
      "text/plain": [
       "  Rank Film              Year Director       \n",
       "1 1    Dangal            2016 Nitesh Tiwari  \n",
       "2 2    Bajrangi Bhaijaan 2015 Kabir Khan     \n",
       "3 3    Secret Superstar  2017 Advait Chandan \n",
       "4 4    PK                2014 Rajkumar Hirani\n",
       "5 5    Sultan            2016 Ali Abbas Zafar\n",
       "6 6    Sanju             2018 Rajkumar Hirani\n",
       "  Studio(s)                                                           \n",
       "1 Aamir Khan Productions UTV Motion Pictures Walt Disney Studios India\n",
       "2 Salman Khan Films Kabir Khan Films Eros International               \n",
       "3 Aamir Khan Productions                                              \n",
       "4 Vinod Chopra Films Rajkumar Hirani Films                            \n",
       "5 Yash Raj Films                                                      \n",
       "6 Rajkumar Hirani FilmsVinod Chopra Films                             \n",
       "  Worldwide gross                        \n",
       "1 <U+20B9>2,024 crore (US$311 million)   \n",
       "2 <U+20B9>969.06 crore (US$150 million)  \n",
       "3 <U+20B9>966.86 crore (US$154 million)  \n",
       "4 <U+20B9>832 crore (US$140 million)     \n",
       "5 <U+20B9>623.33 crore (US$89 million)   \n",
       "6 <U+20B9>586.85 crore (US$83.34 million)"
      ]
     },
     "metadata": {},
     "output_type": "display_data"
    }
   ],
   "source": [
    "table2<-all_table[[11]]\n",
    "# remove Source column\n",
    "table2 <- table2[ -c(7) ]\n",
    "head(table2)"
   ]
  },
  {
   "cell_type": "markdown",
   "id": "185cb994",
   "metadata": {},
   "source": [
    "### 9.Read SPSS Files into R\n",
    "If you’re a user of SPSS software and you are looking to import your SPSS files into R, firstly install the haven package. After loading the package, run the read_sav() function that is contained within it ."
   ]
  },
  {
   "cell_type": "markdown",
   "id": "8694f973",
   "metadata": {},
   "source": [
    "#### install and Load packages:"
   ]
  },
  {
   "cell_type": "code",
   "execution_count": 1,
   "id": "61a094ee",
   "metadata": {},
   "outputs": [
    {
     "name": "stdout",
     "output_type": "stream",
     "text": [
      "\n",
      "  There is a binary version available but the source version is later:\n",
      "      binary source needs_compilation\n",
      "haven  2.4.1  2.4.3              TRUE\n",
      "\n",
      "  Binaries will be installed\n",
      "package 'haven' successfully unpacked and MD5 sums checked\n",
      "\n",
      "The downloaded binary packages are in\n",
      "\tC:\\Users\\91870\\AppData\\Local\\Temp\\RtmpQXN5fY\\downloaded_packages\n"
     ]
    }
   ],
   "source": [
    "# another package is foreign\n",
    "install.packages(\"haven\")                       \n"
   ]
  },
  {
   "cell_type": "code",
   "execution_count": 37,
   "id": "29da1329",
   "metadata": {},
   "outputs": [
    {
     "name": "stderr",
     "output_type": "stream",
     "text": [
      "Warning message:\n",
      "\"package 'foreign' is not available (for R version 3.6.1)\"\n"
     ]
    }
   ],
   "source": [
    "install.packages(\"foreign\") "
   ]
  },
  {
   "cell_type": "code",
   "execution_count": 2,
   "id": "f511c95d",
   "metadata": {},
   "outputs": [],
   "source": [
    "#remove.packages(\"haven\")"
   ]
  },
  {
   "cell_type": "code",
   "execution_count": 3,
   "id": "6385e8b7",
   "metadata": {},
   "outputs": [
    {
     "name": "stderr",
     "output_type": "stream",
     "text": [
      "Warning message:\n",
      "\"package 'haven' was built under R version 3.6.3\"\n"
     ]
    }
   ],
   "source": [
    "library(\"haven\")"
   ]
  },
  {
   "cell_type": "code",
   "execution_count": 12,
   "id": "53e236c9",
   "metadata": {},
   "outputs": [
    {
     "data": {
      "text/html": [
       "<table>\n",
       "<thead><tr><th scope=col>IDnumber</th><th scope=col>age</th><th scope=col>sex</th><th scope=col>workstat</th><th scope=col>increg</th><th scope=col>incmnth</th><th scope=col>incwk</th><th scope=col>housing</th><th scope=col>living</th><th scope=col>homepay</th><th scope=col>...</th><th scope=col>cvcondition</th><th scope=col>arthritis</th><th scope=col>osteop</th><th scope=col>diabetes</th><th scope=col>mtlstress</th><th scope=col>anxiety</th><th scope=col>depress</th><th scope=col>mtlother</th><th scope=col>mntlcond</th><th scope=col>mntlcurr</th></tr></thead>\n",
       "<tbody>\n",
       "\t<tr><td>20160186 </td><td>19       </td><td>2        </td><td>3        </td><td>1        </td><td>  0      </td><td>  0.00000</td><td>2        </td><td>1        </td><td>1        </td><td>...      </td><td>0        </td><td>0        </td><td>0        </td><td>0        </td><td>0        </td><td>0        </td><td>0        </td><td>0        </td><td>0        </td><td>99       </td></tr>\n",
       "\t<tr><td>20160011 </td><td>17       </td><td>2        </td><td>0        </td><td>0        </td><td>  0      </td><td>  0.00000</td><td>2        </td><td>1        </td><td>1        </td><td>...      </td><td>0        </td><td>0        </td><td>0        </td><td>0        </td><td>0        </td><td>1        </td><td>0        </td><td>0        </td><td>1        </td><td> 1       </td></tr>\n",
       "\t<tr><td>20160081 </td><td>18       </td><td>2        </td><td>3        </td><td>1        </td><td>300      </td><td> 69.23077</td><td>2        </td><td>1        </td><td>1        </td><td>...      </td><td>0        </td><td>0        </td><td>0        </td><td>0        </td><td>0        </td><td>0        </td><td>0        </td><td>0        </td><td>0        </td><td>99       </td></tr>\n",
       "\t<tr><td>20160155 </td><td>18       </td><td>2        </td><td>0        </td><td>0        </td><td>  0      </td><td>  0.00000</td><td>2        </td><td>1        </td><td>1        </td><td>...      </td><td>0        </td><td>0        </td><td>0        </td><td>0        </td><td>0        </td><td>0        </td><td>0        </td><td>0        </td><td>0        </td><td> 0       </td></tr>\n",
       "\t<tr><td>20160182 </td><td>19       </td><td>2        </td><td>0        </td><td>1        </td><td>600      </td><td>138.46154</td><td>2        </td><td>1        </td><td>4        </td><td>...      </td><td>0        </td><td>0        </td><td>0        </td><td>0        </td><td>0        </td><td>0        </td><td>0        </td><td>0        </td><td>0        </td><td> 0       </td></tr>\n",
       "\t<tr><td>20160027 </td><td>17       </td><td>2        </td><td>0        </td><td>0        </td><td>  0      </td><td>  0.00000</td><td>2        </td><td>1        </td><td>4        </td><td>...      </td><td>0        </td><td>0        </td><td>0        </td><td>0        </td><td>0        </td><td>0        </td><td>0        </td><td>0        </td><td>0        </td><td> 0       </td></tr>\n",
       "</tbody>\n",
       "</table>\n"
      ],
      "text/latex": [
       "\\begin{tabular}{r|lllllllllllllllllllllllllllllllllllllllllllllllllllllllllll}\n",
       " IDnumber & age & sex & workstat & increg & incmnth & incwk & housing & living & homepay & ... & cvcondition & arthritis & osteop & diabetes & mtlstress & anxiety & depress & mtlother & mntlcond & mntlcurr\\\\\n",
       "\\hline\n",
       "\t 20160186  & 19        & 2         & 3         & 1         &   0       &   0.00000 & 2         & 1         & 1         & ...       & 0         & 0         & 0         & 0         & 0         & 0         & 0         & 0         & 0         & 99       \\\\\n",
       "\t 20160011  & 17        & 2         & 0         & 0         &   0       &   0.00000 & 2         & 1         & 1         & ...       & 0         & 0         & 0         & 0         & 0         & 1         & 0         & 0         & 1         &  1       \\\\\n",
       "\t 20160081  & 18        & 2         & 3         & 1         & 300       &  69.23077 & 2         & 1         & 1         & ...       & 0         & 0         & 0         & 0         & 0         & 0         & 0         & 0         & 0         & 99       \\\\\n",
       "\t 20160155  & 18        & 2         & 0         & 0         &   0       &   0.00000 & 2         & 1         & 1         & ...       & 0         & 0         & 0         & 0         & 0         & 0         & 0         & 0         & 0         &  0       \\\\\n",
       "\t 20160182  & 19        & 2         & 0         & 1         & 600       & 138.46154 & 2         & 1         & 4         & ...       & 0         & 0         & 0         & 0         & 0         & 0         & 0         & 0         & 0         &  0       \\\\\n",
       "\t 20160027  & 17        & 2         & 0         & 0         &   0       &   0.00000 & 2         & 1         & 4         & ...       & 0         & 0         & 0         & 0         & 0         & 0         & 0         & 0         & 0         &  0       \\\\\n",
       "\\end{tabular}\n"
      ],
      "text/markdown": [
       "\n",
       "| IDnumber | age | sex | workstat | increg | incmnth | incwk | housing | living | homepay | ... | cvcondition | arthritis | osteop | diabetes | mtlstress | anxiety | depress | mtlother | mntlcond | mntlcurr |\n",
       "|---|---|---|---|---|---|---|---|---|---|---|---|---|---|---|---|---|---|---|---|---|\n",
       "| 20160186  | 19        | 2         | 3         | 1         |   0       |   0.00000 | 2         | 1         | 1         | ...       | 0         | 0         | 0         | 0         | 0         | 0         | 0         | 0         | 0         | 99        |\n",
       "| 20160011  | 17        | 2         | 0         | 0         |   0       |   0.00000 | 2         | 1         | 1         | ...       | 0         | 0         | 0         | 0         | 0         | 1         | 0         | 0         | 1         |  1        |\n",
       "| 20160081  | 18        | 2         | 3         | 1         | 300       |  69.23077 | 2         | 1         | 1         | ...       | 0         | 0         | 0         | 0         | 0         | 0         | 0         | 0         | 0         | 99        |\n",
       "| 20160155  | 18        | 2         | 0         | 0         |   0       |   0.00000 | 2         | 1         | 1         | ...       | 0         | 0         | 0         | 0         | 0         | 0         | 0         | 0         | 0         |  0        |\n",
       "| 20160182  | 19        | 2         | 0         | 1         | 600       | 138.46154 | 2         | 1         | 4         | ...       | 0         | 0         | 0         | 0         | 0         | 0         | 0         | 0         | 0         |  0        |\n",
       "| 20160027  | 17        | 2         | 0         | 0         |   0       |   0.00000 | 2         | 1         | 4         | ...       | 0         | 0         | 0         | 0         | 0         | 0         | 0         | 0         | 0         |  0        |\n",
       "\n"
      ],
      "text/plain": [
       "  IDnumber age sex workstat increg incmnth incwk     housing living homepay ...\n",
       "1 20160186 19  2   3        1        0       0.00000 2       1      1       ...\n",
       "2 20160011 17  2   0        0        0       0.00000 2       1      1       ...\n",
       "3 20160081 18  2   3        1      300      69.23077 2       1      1       ...\n",
       "4 20160155 18  2   0        0        0       0.00000 2       1      1       ...\n",
       "5 20160182 19  2   0        1      600     138.46154 2       1      4       ...\n",
       "6 20160027 17  2   0        0        0       0.00000 2       1      4       ...\n",
       "  cvcondition arthritis osteop diabetes mtlstress anxiety depress mtlother\n",
       "1 0           0         0      0        0         0       0       0       \n",
       "2 0           0         0      0        0         1       0       0       \n",
       "3 0           0         0      0        0         0       0       0       \n",
       "4 0           0         0      0        0         0       0       0       \n",
       "5 0           0         0      0        0         0       0       0       \n",
       "6 0           0         0      0        0         0       0       0       \n",
       "  mntlcond mntlcurr\n",
       "1 0        99      \n",
       "2 1         1      \n",
       "3 0        99      \n",
       "4 0         0      \n",
       "5 0         0      \n",
       "6 0         0      "
      ]
     },
     "metadata": {},
     "output_type": "display_data"
    }
   ],
   "source": [
    "data2 <- read_sav(\"HLTH1025_2016.sav\")  # Reading data\n",
    "head(data2)"
   ]
  },
  {
   "cell_type": "markdown",
   "id": "b26577d6",
   "metadata": {},
   "source": [
    "### 10. Read SAS Files into R"
   ]
  },
  {
   "cell_type": "markdown",
   "id": "c9836a15",
   "metadata": {},
   "source": [
    "For users that also want to import SAS files into R, it’s quite simple! For starters, install the sas7bdat package. Load it, and then invoke the read.sas7bdat() function contained within the package and you are good to go!"
   ]
  },
  {
   "cell_type": "markdown",
   "id": "aa918599",
   "metadata": {},
   "source": [
    "#### install and Load packages:"
   ]
  },
  {
   "cell_type": "code",
   "execution_count": null,
   "id": "046f9a50",
   "metadata": {},
   "outputs": [],
   "source": [
    "install.packages(\"sas7bdat\")"
   ]
  },
  {
   "cell_type": "code",
   "execution_count": 30,
   "id": "df7d5293",
   "metadata": {},
   "outputs": [],
   "source": [
    "library(\"sas7bdat\")"
   ]
  },
  {
   "cell_type": "code",
   "execution_count": 31,
   "id": "ca5537c7",
   "metadata": {},
   "outputs": [
    {
     "data": {
      "text/html": [
       "<table>\n",
       "<thead><tr><th scope=col>YEAR</th><th scope=col>Y</th><th scope=col>W</th><th scope=col>R</th><th scope=col>L</th><th scope=col>K</th></tr></thead>\n",
       "<tbody>\n",
       "\t<tr><td>1948  </td><td> 1.214</td><td>0.243 </td><td>0.1454</td><td>1.415 </td><td>0.612 </td></tr>\n",
       "\t<tr><td>1949  </td><td> 1.354</td><td>0.260 </td><td>0.2181</td><td>1.384 </td><td>0.559 </td></tr>\n",
       "\t<tr><td>1950  </td><td> 1.569</td><td>0.278 </td><td>0.3157</td><td>1.388 </td><td>0.573 </td></tr>\n",
       "\t<tr><td>1951  </td><td> 1.948</td><td>0.297 </td><td>0.3940</td><td>1.550 </td><td>0.564 </td></tr>\n",
       "\t<tr><td>1952  </td><td> 2.265</td><td>0.310 </td><td>0.3559</td><td>1.802 </td><td>0.574 </td></tr>\n",
       "\t<tr><td>1953  </td><td> 2.731</td><td>0.322 </td><td>0.3593</td><td>1.926 </td><td>0.711 </td></tr>\n",
       "\t<tr><td>1954  </td><td> 3.025</td><td>0.335 </td><td>0.4025</td><td>1.964 </td><td>0.776 </td></tr>\n",
       "\t<tr><td>1955  </td><td> 3.562</td><td>0.350 </td><td>0.3961</td><td>2.116 </td><td>0.827 </td></tr>\n",
       "\t<tr><td>1956  </td><td> 3.979</td><td>0.361 </td><td>0.3822</td><td>2.435 </td><td>0.800 </td></tr>\n",
       "\t<tr><td>1957  </td><td> 4.420</td><td>0.379 </td><td>0.3045</td><td>2.707 </td><td>0.921 </td></tr>\n",
       "\t<tr><td>1958  </td><td> 4.563</td><td>0.391 </td><td>0.3284</td><td>2.706 </td><td>1.067 </td></tr>\n",
       "\t<tr><td>1959  </td><td> 5.385</td><td>0.426 </td><td>0.3856</td><td>2.846 </td><td>1.083 </td></tr>\n",
       "\t<tr><td>1960  </td><td> 5.554</td><td>0.441 </td><td>0.3193</td><td>3.089 </td><td>1.481 </td></tr>\n",
       "\t<tr><td>1961  </td><td> 5.465</td><td>0.460 </td><td>0.3079</td><td>3.122 </td><td>1.736 </td></tr>\n",
       "\t<tr><td>1962  </td><td> 5.825</td><td>0.485 </td><td>0.3783</td><td>3.184 </td><td>1.926 </td></tr>\n",
       "\t<tr><td>1963  </td><td> 6.876</td><td>0.506 </td><td>0.4180</td><td>3.263 </td><td>2.041 </td></tr>\n",
       "\t<tr><td>1964  </td><td> 7.823</td><td>0.538 </td><td>0.5163</td><td>3.412 </td><td>1.997 </td></tr>\n",
       "\t<tr><td>1965  </td><td> 9.120</td><td>0.564 </td><td>0.5879</td><td>3.623 </td><td>2.257 </td></tr>\n",
       "\t<tr><td>1966  </td><td>10.512</td><td>0.586 </td><td>0.5369</td><td>4.074 </td><td>2.742 </td></tr>\n",
       "\t<tr><td>1967  </td><td>13.020</td><td>0.622 </td><td>0.4443</td><td>4.710 </td><td>3.564 </td></tr>\n",
       "\t<tr><td>1968  </td><td>15.261</td><td>0.666 </td><td>0.3052</td><td>5.217 </td><td>4.767 </td></tr>\n",
       "\t<tr><td>1969  </td><td>16.313</td><td>0.731 </td><td>0.2332</td><td>5.569 </td><td>6.511 </td></tr>\n",
       "\t<tr><td>1970  </td><td>16.002</td><td>0.831 </td><td>0.1883</td><td>5.495 </td><td>7.627 </td></tr>\n",
       "\t<tr><td>1971  </td><td>15.876</td><td>0.906 </td><td>0.2023</td><td>5.334 </td><td>8.673 </td></tr>\n",
       "\t<tr><td>1972  </td><td>16.662</td><td>1.000 </td><td>0.2506</td><td>5.345 </td><td>8.331 </td></tr>\n",
       "\t<tr><td>1973  </td><td>17.014</td><td>1.056 </td><td>0.2668</td><td>5.662 </td><td>8.557 </td></tr>\n",
       "\t<tr><td>1974  </td><td>19.305</td><td>1.131 </td><td>0.2664</td><td>5.729 </td><td>9.508 </td></tr>\n",
       "\t<tr><td>1975  </td><td>18.721</td><td>1.247 </td><td>0.2301</td><td>5.722 </td><td>9.062 </td></tr>\n",
       "\t<tr><td>1976  </td><td>19.250</td><td>1.375 </td><td>0.3452</td><td>5.762 </td><td>8.262 </td></tr>\n",
       "\t<tr><td>1977  </td><td>20.647</td><td>1.544 </td><td>0.4508</td><td>5.877 </td><td>7.474 </td></tr>\n",
       "\t<tr><td>1978  </td><td>22.726</td><td>1.703 </td><td>0.5877</td><td>6.108 </td><td>7.104 </td></tr>\n",
       "\t<tr><td>1979  </td><td>23.619</td><td>1.779 </td><td>0.5346</td><td>6.852 </td><td>6.874 </td></tr>\n",
       "</tbody>\n",
       "</table>\n"
      ],
      "text/latex": [
       "\\begin{tabular}{r|llllll}\n",
       " YEAR & Y & W & R & L & K\\\\\n",
       "\\hline\n",
       "\t 1948   &  1.214 & 0.243  & 0.1454 & 1.415  & 0.612 \\\\\n",
       "\t 1949   &  1.354 & 0.260  & 0.2181 & 1.384  & 0.559 \\\\\n",
       "\t 1950   &  1.569 & 0.278  & 0.3157 & 1.388  & 0.573 \\\\\n",
       "\t 1951   &  1.948 & 0.297  & 0.3940 & 1.550  & 0.564 \\\\\n",
       "\t 1952   &  2.265 & 0.310  & 0.3559 & 1.802  & 0.574 \\\\\n",
       "\t 1953   &  2.731 & 0.322  & 0.3593 & 1.926  & 0.711 \\\\\n",
       "\t 1954   &  3.025 & 0.335  & 0.4025 & 1.964  & 0.776 \\\\\n",
       "\t 1955   &  3.562 & 0.350  & 0.3961 & 2.116  & 0.827 \\\\\n",
       "\t 1956   &  3.979 & 0.361  & 0.3822 & 2.435  & 0.800 \\\\\n",
       "\t 1957   &  4.420 & 0.379  & 0.3045 & 2.707  & 0.921 \\\\\n",
       "\t 1958   &  4.563 & 0.391  & 0.3284 & 2.706  & 1.067 \\\\\n",
       "\t 1959   &  5.385 & 0.426  & 0.3856 & 2.846  & 1.083 \\\\\n",
       "\t 1960   &  5.554 & 0.441  & 0.3193 & 3.089  & 1.481 \\\\\n",
       "\t 1961   &  5.465 & 0.460  & 0.3079 & 3.122  & 1.736 \\\\\n",
       "\t 1962   &  5.825 & 0.485  & 0.3783 & 3.184  & 1.926 \\\\\n",
       "\t 1963   &  6.876 & 0.506  & 0.4180 & 3.263  & 2.041 \\\\\n",
       "\t 1964   &  7.823 & 0.538  & 0.5163 & 3.412  & 1.997 \\\\\n",
       "\t 1965   &  9.120 & 0.564  & 0.5879 & 3.623  & 2.257 \\\\\n",
       "\t 1966   & 10.512 & 0.586  & 0.5369 & 4.074  & 2.742 \\\\\n",
       "\t 1967   & 13.020 & 0.622  & 0.4443 & 4.710  & 3.564 \\\\\n",
       "\t 1968   & 15.261 & 0.666  & 0.3052 & 5.217  & 4.767 \\\\\n",
       "\t 1969   & 16.313 & 0.731  & 0.2332 & 5.569  & 6.511 \\\\\n",
       "\t 1970   & 16.002 & 0.831  & 0.1883 & 5.495  & 7.627 \\\\\n",
       "\t 1971   & 15.876 & 0.906  & 0.2023 & 5.334  & 8.673 \\\\\n",
       "\t 1972   & 16.662 & 1.000  & 0.2506 & 5.345  & 8.331 \\\\\n",
       "\t 1973   & 17.014 & 1.056  & 0.2668 & 5.662  & 8.557 \\\\\n",
       "\t 1974   & 19.305 & 1.131  & 0.2664 & 5.729  & 9.508 \\\\\n",
       "\t 1975   & 18.721 & 1.247  & 0.2301 & 5.722  & 9.062 \\\\\n",
       "\t 1976   & 19.250 & 1.375  & 0.3452 & 5.762  & 8.262 \\\\\n",
       "\t 1977   & 20.647 & 1.544  & 0.4508 & 5.877  & 7.474 \\\\\n",
       "\t 1978   & 22.726 & 1.703  & 0.5877 & 6.108  & 7.104 \\\\\n",
       "\t 1979   & 23.619 & 1.779  & 0.5346 & 6.852  & 6.874 \\\\\n",
       "\\end{tabular}\n"
      ],
      "text/markdown": [
       "\n",
       "| YEAR | Y | W | R | L | K |\n",
       "|---|---|---|---|---|---|\n",
       "| 1948   |  1.214 | 0.243  | 0.1454 | 1.415  | 0.612  |\n",
       "| 1949   |  1.354 | 0.260  | 0.2181 | 1.384  | 0.559  |\n",
       "| 1950   |  1.569 | 0.278  | 0.3157 | 1.388  | 0.573  |\n",
       "| 1951   |  1.948 | 0.297  | 0.3940 | 1.550  | 0.564  |\n",
       "| 1952   |  2.265 | 0.310  | 0.3559 | 1.802  | 0.574  |\n",
       "| 1953   |  2.731 | 0.322  | 0.3593 | 1.926  | 0.711  |\n",
       "| 1954   |  3.025 | 0.335  | 0.4025 | 1.964  | 0.776  |\n",
       "| 1955   |  3.562 | 0.350  | 0.3961 | 2.116  | 0.827  |\n",
       "| 1956   |  3.979 | 0.361  | 0.3822 | 2.435  | 0.800  |\n",
       "| 1957   |  4.420 | 0.379  | 0.3045 | 2.707  | 0.921  |\n",
       "| 1958   |  4.563 | 0.391  | 0.3284 | 2.706  | 1.067  |\n",
       "| 1959   |  5.385 | 0.426  | 0.3856 | 2.846  | 1.083  |\n",
       "| 1960   |  5.554 | 0.441  | 0.3193 | 3.089  | 1.481  |\n",
       "| 1961   |  5.465 | 0.460  | 0.3079 | 3.122  | 1.736  |\n",
       "| 1962   |  5.825 | 0.485  | 0.3783 | 3.184  | 1.926  |\n",
       "| 1963   |  6.876 | 0.506  | 0.4180 | 3.263  | 2.041  |\n",
       "| 1964   |  7.823 | 0.538  | 0.5163 | 3.412  | 1.997  |\n",
       "| 1965   |  9.120 | 0.564  | 0.5879 | 3.623  | 2.257  |\n",
       "| 1966   | 10.512 | 0.586  | 0.5369 | 4.074  | 2.742  |\n",
       "| 1967   | 13.020 | 0.622  | 0.4443 | 4.710  | 3.564  |\n",
       "| 1968   | 15.261 | 0.666  | 0.3052 | 5.217  | 4.767  |\n",
       "| 1969   | 16.313 | 0.731  | 0.2332 | 5.569  | 6.511  |\n",
       "| 1970   | 16.002 | 0.831  | 0.1883 | 5.495  | 7.627  |\n",
       "| 1971   | 15.876 | 0.906  | 0.2023 | 5.334  | 8.673  |\n",
       "| 1972   | 16.662 | 1.000  | 0.2506 | 5.345  | 8.331  |\n",
       "| 1973   | 17.014 | 1.056  | 0.2668 | 5.662  | 8.557  |\n",
       "| 1974   | 19.305 | 1.131  | 0.2664 | 5.729  | 9.508  |\n",
       "| 1975   | 18.721 | 1.247  | 0.2301 | 5.722  | 9.062  |\n",
       "| 1976   | 19.250 | 1.375  | 0.3452 | 5.762  | 8.262  |\n",
       "| 1977   | 20.647 | 1.544  | 0.4508 | 5.877  | 7.474  |\n",
       "| 1978   | 22.726 | 1.703  | 0.5877 | 6.108  | 7.104  |\n",
       "| 1979   | 23.619 | 1.779  | 0.5346 | 6.852  | 6.874  |\n",
       "\n"
      ],
      "text/plain": [
       "   YEAR Y      W     R      L     K    \n",
       "1  1948  1.214 0.243 0.1454 1.415 0.612\n",
       "2  1949  1.354 0.260 0.2181 1.384 0.559\n",
       "3  1950  1.569 0.278 0.3157 1.388 0.573\n",
       "4  1951  1.948 0.297 0.3940 1.550 0.564\n",
       "5  1952  2.265 0.310 0.3559 1.802 0.574\n",
       "6  1953  2.731 0.322 0.3593 1.926 0.711\n",
       "7  1954  3.025 0.335 0.4025 1.964 0.776\n",
       "8  1955  3.562 0.350 0.3961 2.116 0.827\n",
       "9  1956  3.979 0.361 0.3822 2.435 0.800\n",
       "10 1957  4.420 0.379 0.3045 2.707 0.921\n",
       "11 1958  4.563 0.391 0.3284 2.706 1.067\n",
       "12 1959  5.385 0.426 0.3856 2.846 1.083\n",
       "13 1960  5.554 0.441 0.3193 3.089 1.481\n",
       "14 1961  5.465 0.460 0.3079 3.122 1.736\n",
       "15 1962  5.825 0.485 0.3783 3.184 1.926\n",
       "16 1963  6.876 0.506 0.4180 3.263 2.041\n",
       "17 1964  7.823 0.538 0.5163 3.412 1.997\n",
       "18 1965  9.120 0.564 0.5879 3.623 2.257\n",
       "19 1966 10.512 0.586 0.5369 4.074 2.742\n",
       "20 1967 13.020 0.622 0.4443 4.710 3.564\n",
       "21 1968 15.261 0.666 0.3052 5.217 4.767\n",
       "22 1969 16.313 0.731 0.2332 5.569 6.511\n",
       "23 1970 16.002 0.831 0.1883 5.495 7.627\n",
       "24 1971 15.876 0.906 0.2023 5.334 8.673\n",
       "25 1972 16.662 1.000 0.2506 5.345 8.331\n",
       "26 1973 17.014 1.056 0.2668 5.662 8.557\n",
       "27 1974 19.305 1.131 0.2664 5.729 9.508\n",
       "28 1975 18.721 1.247 0.2301 5.722 9.062\n",
       "29 1976 19.250 1.375 0.3452 5.762 8.262\n",
       "30 1977 20.647 1.544 0.4508 5.877 7.474\n",
       "31 1978 22.726 1.703 0.5877 6.108 7.104\n",
       "32 1979 23.619 1.779 0.5346 6.852 6.874"
      ]
     },
     "metadata": {},
     "output_type": "display_data"
    }
   ],
   "source": [
    "# Read in the SAS data\n",
    "mySASData <- read.sas7bdat(\"airline.sas7bdat\")\n",
    "View(mySASData )"
   ]
  },
  {
   "cell_type": "markdown",
   "id": "486b0034",
   "metadata": {},
   "source": [
    "### 11. MYSQL DATABASE"
   ]
  },
  {
   "cell_type": "code",
   "execution_count": null,
   "id": "4b759209",
   "metadata": {},
   "outputs": [],
   "source": [
    "install.packages(\"RMySQL\")"
   ]
  },
  {
   "cell_type": "code",
   "execution_count": 1,
   "id": "4c4f46cc",
   "metadata": {},
   "outputs": [
    {
     "name": "stderr",
     "output_type": "stream",
     "text": [
      "Warning message:\n",
      "\"package 'RMySQL' was built under R version 3.6.3\"\n",
      "Loading required package: DBI\n",
      "\n"
     ]
    }
   ],
   "source": [
    "library(\"RMySQL\")"
   ]
  },
  {
   "cell_type": "markdown",
   "id": "3f1ab916",
   "metadata": {},
   "source": [
    "#### Connecting to MySQL:"
   ]
  },
  {
   "cell_type": "code",
   "execution_count": 2,
   "id": "a67827d0",
   "metadata": {},
   "outputs": [],
   "source": [
    "mysqlconnection = dbConnect(MySQL(), user='root', password='', dbname='College', host='localhost')"
   ]
  },
  {
   "cell_type": "code",
   "execution_count": 3,
   "id": "87f18994",
   "metadata": {},
   "outputs": [
    {
     "data": {
      "text/plain": [
       "<MySQLConnection:0,0>"
      ]
     },
     "metadata": {},
     "output_type": "display_data"
    }
   ],
   "source": [
    "mysqlconnection"
   ]
  },
  {
   "cell_type": "code",
   "execution_count": 4,
   "id": "edcd9163",
   "metadata": {},
   "outputs": [
    {
     "data": {
      "text/html": [
       "<ol class=list-inline>\n",
       "\t<li>'droptest'</li>\n",
       "\t<li>'student'</li>\n",
       "</ol>\n"
      ],
      "text/latex": [
       "\\begin{enumerate*}\n",
       "\\item 'droptest'\n",
       "\\item 'student'\n",
       "\\end{enumerate*}\n"
      ],
      "text/markdown": [
       "1. 'droptest'\n",
       "2. 'student'\n",
       "\n",
       "\n"
      ],
      "text/plain": [
       "[1] \"droptest\" \"student\" "
      ]
     },
     "metadata": {},
     "output_type": "display_data"
    }
   ],
   "source": [
    "# List the tables available in this database.\n",
    " dbListTables(mysqlconnection)"
   ]
  },
  {
   "cell_type": "markdown",
   "id": "1fd84c3d",
   "metadata": {},
   "source": [
    "#### Querying the Tables:"
   ]
  },
  {
   "cell_type": "code",
   "execution_count": 23,
   "id": "4042199f",
   "metadata": {},
   "outputs": [
    {
     "data": {
      "text/html": [
       "TRUE"
      ],
      "text/latex": [
       "TRUE"
      ],
      "text/markdown": [
       "TRUE"
      ],
      "text/plain": [
       "[1] TRUE"
      ]
     },
     "metadata": {},
     "output_type": "display_data"
    }
   ],
   "source": [
    "dbClearResult(result)"
   ]
  },
  {
   "cell_type": "code",
   "execution_count": 41,
   "id": "d5692afa",
   "metadata": {},
   "outputs": [],
   "source": [
    "result = dbSendQuery(mysqlconnection, \"select * from student\")\n",
    "\n",
    "# Fetch all the records(with n = -1) and store it as a data frame.\n",
    "data.frame = fetch(result, n = -1)\n"
   ]
  },
  {
   "cell_type": "code",
   "execution_count": 42,
   "id": "07ba5348",
   "metadata": {},
   "outputs": [
    {
     "name": "stdout",
     "output_type": "stream",
     "text": [
      "   ID   NAME AGE BRANCH    Contact\n",
      "1 101 ADITYA  20    EEE 1234566865\n",
      "2 102   AMAN  18    CSE 8562746598\n"
     ]
    }
   ],
   "source": [
    "print(data.frame)"
   ]
  },
  {
   "cell_type": "code",
   "execution_count": 7,
   "id": "857ef785",
   "metadata": {},
   "outputs": [],
   "source": [
    "#dbDisconnect(mysqlconnection)"
   ]
  },
  {
   "cell_type": "code",
   "execution_count": 50,
   "id": "fa871df1",
   "metadata": {},
   "outputs": [
    {
     "data": {
      "text/html": [
       "TRUE"
      ],
      "text/latex": [
       "TRUE"
      ],
      "text/markdown": [
       "TRUE"
      ],
      "text/plain": [
       "[1] TRUE"
      ]
     },
     "metadata": {},
     "output_type": "display_data"
    }
   ],
   "source": [
    "dbClearResult(result)"
   ]
  },
  {
   "cell_type": "markdown",
   "id": "d24aba1e",
   "metadata": {},
   "source": [
    "#### Query with Filter Clause"
   ]
  },
  {
   "cell_type": "code",
   "execution_count": 53,
   "id": "26d96219",
   "metadata": {},
   "outputs": [
    {
     "name": "stdout",
     "output_type": "stream",
     "text": [
      "   ID   NAME AGE BRANCH    Contact\n",
      "1 102   AMAN  18    CSE 8562746598\n",
      "2 103 RAJEEV  21    CSE 7865232310\n",
      "3 106  ROHAN  24    CSE 9958647521\n"
     ]
    }
   ],
   "source": [
    "result = dbSendQuery(mysqlconnection, \"select * from student where BRANCH = 'CSE'\")\n",
    "\n",
    "# Fetch all the records(with n = -1) and store it as a data frame.\n",
    "data.frame = fetch(result,n=-1)\n",
    "print(data.frame)"
   ]
  },
  {
   "cell_type": "code",
   "execution_count": 55,
   "id": "54e37912",
   "metadata": {},
   "outputs": [
    {
     "data": {
      "text/html": [
       "<table>\n",
       "<thead><tr><th scope=col>ID</th><th scope=col>NAME</th><th scope=col>AGE</th><th scope=col>BRANCH</th><th scope=col>Contact</th></tr></thead>\n",
       "<tbody>\n",
       "</tbody>\n",
       "</table>\n"
      ],
      "text/latex": [
       "\\begin{tabular}{r|lllll}\n",
       " ID & NAME & AGE & BRANCH & Contact\\\\\n",
       "\\hline\n",
       "\\end{tabular}\n"
      ],
      "text/markdown": [
       "\n",
       "| ID | NAME | AGE | BRANCH | Contact |\n",
       "|---|---|---|---|---|\n",
       "\n"
      ],
      "text/plain": [
       "     ID NAME AGE BRANCH Contact"
      ]
     },
     "metadata": {},
     "output_type": "display_data"
    }
   ],
   "source": [
    " fetch(result,n=-1)"
   ]
  },
  {
   "cell_type": "markdown",
   "id": "42a4f88d",
   "metadata": {},
   "source": [
    "#### Updating Rows in the Tables"
   ]
  },
  {
   "cell_type": "code",
   "execution_count": 17,
   "id": "dc0f038f",
   "metadata": {},
   "outputs": [
    {
     "data": {
      "text/plain": [
       "<MySQLResult:696237888,0,3>"
      ]
     },
     "metadata": {},
     "output_type": "display_data"
    }
   ],
   "source": [
    "dbSendQuery(mysqlconnection, \"update student set BRANCH = 'EEE' where id = '101'\")"
   ]
  },
  {
   "cell_type": "code",
   "execution_count": 19,
   "id": "14c99e1f",
   "metadata": {},
   "outputs": [
    {
     "data": {
      "text/html": [
       "TRUE"
      ],
      "text/latex": [
       "TRUE"
      ],
      "text/markdown": [
       "TRUE"
      ],
      "text/plain": [
       "[1] TRUE"
      ]
     },
     "metadata": {},
     "output_type": "display_data"
    }
   ],
   "source": [
    "dbClearResult(result)"
   ]
  },
  {
   "cell_type": "code",
   "execution_count": 20,
   "id": "2744a791",
   "metadata": {},
   "outputs": [
    {
     "data": {
      "text/plain": [
       "<MySQLResult:72039784,0,5>"
      ]
     },
     "metadata": {},
     "output_type": "display_data"
    }
   ],
   "source": [
    "dbSendQuery(mysqlconnection,\n",
    "   \"insert into student(ID,NAME,AGE,BRANCH,Contact)\n",
    "   values('106', 'ROHAN', 24, 'CSE', '9958647521')\"\n",
    ")"
   ]
  },
  {
   "cell_type": "code",
   "execution_count": 22,
   "id": "138a5fe9",
   "metadata": {},
   "outputs": [
    {
     "name": "stdout",
     "output_type": "stream",
     "text": [
      "   ID   NAME AGE BRANCH    Contact\n",
      "1 101 ADITYA  20    EEE 1234566865\n",
      "2 102   AMAN  18    CSE 8562746598\n",
      "3 103 RAJEEV  21    CSE 7865232310\n",
      "4 104  SURAJ  22    ECE 9952332310\n",
      "5 105 MANISH  23  CIVIL 8956563310\n",
      "6 106  ROHAN  24    CSE 9958647521\n"
     ]
    }
   ],
   "source": [
    "print(data.frame)"
   ]
  },
  {
   "cell_type": "code",
   "execution_count": null,
   "id": "0aad7277",
   "metadata": {},
   "outputs": [],
   "source": []
  }
 ],
 "metadata": {
  "kernelspec": {
   "display_name": "R 4.0.0",
   "language": "R",
   "name": "ir35"
  },
  "language_info": {
   "codemirror_mode": "r",
   "file_extension": ".r",
   "mimetype": "text/x-r-source",
   "name": "R",
   "pygments_lexer": "r",
   "version": "3.6.1"
  }
 },
 "nbformat": 4,
 "nbformat_minor": 5
}
